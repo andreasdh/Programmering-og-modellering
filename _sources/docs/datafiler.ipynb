{
 "cells": [
  {
   "cell_type": "markdown",
   "metadata": {},
   "source": [
    "# Datafiler\n",
    "\n",
    "[solflekker.txt](https://raw.githubusercontent.com/andreasdh/Programmering-og-modellering/master/docs/Datafiler/solflekker.txt)\n",
    "\n",
    "[temperatur.txt](https://raw.githubusercontent.com/andreasdh/Programmering-og-modellering/master/docs/Datafiler/temperatur.txt)\n",
    "\n",
    "[heistur.txt](https://raw.githubusercontent.com/andreasdh/programmering-i-kjemi/master/docs/datafiler/heistur_kjemi_fysikk.txt)\n",
    "\n",
    "[titrering.txt](https://www.uio.no/studier/emner/matnat/ifi/IN-KJM1900/h20/datafiler/titrering.txt)\n",
    "\n",
    "[vin.csv](https://www.uio.no/studier/emner/matnat/ifi/IN-KJM1900/h20/datafiler/vin.csv)\n",
    "\n",
    "[influensa.txt](https://www.uio.no/studier/emner/matnat/ifi/IN-KJM1900/h20/datafiler/influensa.txt)\n",
    "\n",
    "[covid19.csv](https://www.uio.no/studier/emner/matnat/ifi/IN-KJM1900/h20/datafiler/covid19.csv)\n",
    "\n",
    "[posisjon.txt](https://www.uio.no/studier/emner/matnat/ifi/IN-KJM1900/h20/datafiler/posisjon.txt)\n",
    "\n",
    "[vin.csv](https://www.uio.no/studier/emner/matnat/ifi/IN-KJM1900/h20/datafiler/vin.csv)\n",
    "\n",
    "[iris.csv](https://www.uio.no/studier/emner/matnat/natfag/NAT3000/h21/datafiler/iris.csv)\n",
    "\n",
    "[cars.txt](https://www.uio.no/studier/emner/matnat/natfag/NAT3000/h21/datafiler/mtcars.txt)\n",
    "\n",
    "[pingviner.txt](https://www.uio.no/studier/emner/matnat/ifi/IN-KJM1900/h21/datafiler/penguings.txt)\n",
    "\n",
    "[titanic.csv](https://raw.githubusercontent.com/andreasdh/Programmering-og-modellering/master/docs/Datafiler/titanic.csv)"
   ]
  }
 ],
 "metadata": {
  "kernelspec": {
   "display_name": "Python 3 (ipykernel)",
   "language": "python",
   "name": "python3"
  },
  "language_info": {
   "codemirror_mode": {
    "name": "ipython",
    "version": 3
   },
   "file_extension": ".py",
   "mimetype": "text/x-python",
   "name": "python",
   "nbconvert_exporter": "python",
   "pygments_lexer": "ipython3",
   "version": "3.9.7"
  }
 },
 "nbformat": 4,
 "nbformat_minor": 4
}
