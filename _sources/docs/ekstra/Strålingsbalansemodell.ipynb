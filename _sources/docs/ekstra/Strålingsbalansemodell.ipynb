{
 "cells": [
  {
   "cell_type": "markdown",
   "metadata": {},
   "source": [
    "# Modellering av jordas strålingsbalanse\n",
    "\n",
    "Når vi lager en modell for dette systemet, er det hovedsakelig to ting vi bør ha med:\n",
    "1. En modell for absorbert stråling (IR, synlig, UV) fra sola.\n",
    "2. En modell for emittert stråling (IR) fra jorda.\n",
    "\n",
    "Modellen bør være et uttrykk for endringen i overflatetemperaturen til jorda som funksjon av tida. Siden vi er interessert i endringen til enhver tid, kan vi benytte den deriverte (momentan endring).\n",
    "\n",
    "$$T'(t) = S_{inn} - S_{ut}$$\n",
    "\n",
    "der $S_{inn}$ er absorbert stråling og $S_{ut}$ er emittert stråling. La oss se på ulike modeller for dette.\n",
    "\n",
    "### Antakelser \n",
    "- Jorda modelleres med en statisk albedo (refleksjonsgrad), $\\alpha$. Dette begrenser tidsrommet modellen kan brukes i, da albedoen på jorda endres med tida. Mengden absorbert kortbølget stråling modelleres slik:\n",
    "\n",
    "$$\\frac{(1-\\alpha)S}{4}$$\n",
    "\n",
    "der $S \\approx 1361$ W/m$^2$ er gjennomsnittlig stråling motatt fra sola i løpet av et år og $\\alpha \\approx 0.32$ er albedoen til jorda.\n",
    "\n",
    "- Jorda modelleres som et svartlegeme med hensyn til utsending av stråling med lang bølgelengde, altså et legeme som absorberer all stråling som sendes mot den. Dermed følger emisjonen av langbølget stråling Stefan-Boltzmanns lov:\n",
    "\n",
    "$$F = \\epsilon \\cdot \\sigma \\cdot T^4$$\n",
    "\n",
    "der $\\epsilon$ er emissiviteten til legemet, altså et mål på hvor mye legemet oppfører seg som et svartlegeme. For et fullstendig svartlegeme er $\\epsilon = 1$, for et perfekt speil er $\\epsilon = 0$. Stefan-Boltzmann-konstanten $\\sigma = 5.67\\cdot 10^{-8}$ Wm$^{-2}$K$^-4$, og $T$ er den gjennomsnittlige temperaturen på overflaten til jorda.\n",
    "\n",
    "- Overflatetemperaturen blir tilnærmet som en planet med 70 % vann med gjennomsnittlig dybde på 70 meter. Varmekapasiteten til jorda kan da beregnes til å være $C = 2.08\\cdot 10^8$ JK$^{-1}$m$^{-2}$.\n",
    "\n",
    "### Totalmodell\n",
    "\n",
    "Vi ønsker å finne overflatetemperaturen til jorda som funksjon av tid, $T_s(t)$. Vi kan formulere en modell for *endringen* i overflatetemperatur ved hjelp av modellene vi har gjort rede for.\n",
    "\n",
    "$$T'(t) = S_{inn} - S_{ut} = \\frac{1}{C}\\left( \\frac{(1-\\alpha)S}{4} - \\epsilon \\cdot \\sigma \\cdot T^4 \\right)$$\n",
    "\n",
    "som er en differensiallikning der $T(t)$ er den ukjente.\n"
   ]
  },
  {
   "cell_type": "code",
   "execution_count": 4,
   "metadata": {},
   "outputs": [
    {
     "data": {
      "image/png": "[encoded data removed]",
      "text/plain": [
       "<Figure size 432x288 with 1 Axes>"
      ]
     },
     "metadata": {
      "needs_background": "light"
     },
     "output_type": "display_data"
    }
   ],
   "source": [
    "from pylab import *\n",
    "\n",
    "T0 = 240\n",
    "epsilon = 1\n",
    "sigma = 5.67E-8\n",
    "C = 2.08E8\n",
    "S = 1361\n",
    "alpha = 0.32\n",
    "\n",
    "#Tidsparametre\n",
    "tid = 1000 # år\n",
    "dt = 1E-3\n",
    "N = int(tid/dt)\n",
    "\n",
    "T = zeros(N+1)\n",
    "t = zeros(N+1)\n",
    "T[0] = T0\n",
    "\n",
    "for i in range(N):\n",
    "    Tder = (1/C)*((1-alpha)*S/4 - epsilon*sigma*T[i]**4)\n",
    "    T[i+1] = T[i] + Tder*dt\n",
    "    t[i+1] = t[i] + dt\n",
    "\n",
    "plot(t,T)\n",
    "show()"
   ]
  },
  {
   "cell_type": "code",
   "execution_count": null,
   "metadata": {},
   "outputs": [],
   "source": [
    "N = 100            #antall steg\n",
    "sigma = 5.67E-8    #Stefan-Boltzmanns konstant\n",
    "\n",
    "Rjord = 0.3    #andel reflektert av jorda\n",
    "Ratm = 0.4    #andel reflektert av atmosfæren tilbake til jorda\n",
    "\n",
    "UatmTrans = 340       #utstrålingstetthet fra sola transmittert gjennom atmosfæren, W/m^2\n",
    "UjordRef = zeros(N)   #utstrålingstetthet reflektert av jordoverflaten\n",
    "UjordEmit = zeros(N)  #utstrålingstetthet emittert av jordoverflaten pga temperatur\n",
    "UatmRef = zeros(N)    #utstrålingstetthet reflektert av atmosfæren tilbake til jorda\n",
    "UjordAbs = zeros(N)   #utstrålingstetthet absorbert av jordoverflaten\n",
    "\n",
    "T = zeros(N)        #jordas temperatur\n",
    "\n",
    "#startverdier: ingen drivhuseffekt\n",
    "UjordAbs[0] = UatmTrans*(1-Rjord)\n",
    "UjordEmit[0] = UjordAbs[0]\n",
    "T[0] = (UjordAbs[0]/sigma)**(1/4)\n",
    "\n",
    "for i in range(N-1):\n",
    "    #starter drivhuseffekten\n",
    "    UatmRef[i+1] = (UjordRef[i] + UjordEmit[i])*Ratm\n",
    "    UjordRef[i+1] = (UatmTrans + UatmRef[i])*Rjord\n",
    "    UjordAbs[i+1] = UatmTrans + UatmRef[i] - UjordRef[i+1]\n",
    "    UjordEmit[i+1] = UjordAbs[i]\n",
    "    \n",
    "    T[i+1] = (UjordAbs[i+1]/sigma)**(1/4)      #Stefan-Boltzmanns lov\n",
    "   \n",
    "    #lineær økning av atmosfærens reflektivitet i 10 steg\n",
    "    if i > 40 and i < 50:\n",
    "        Ratm += 0.005\n",
    "\n",
    "plot(T-273)\n",
    "plot(40,T[40]-273,'.')\n",
    "plot(50,T[50]-273,'.')\n",
    "legend(['global temperatur', 'starter utslipp', 'stopper utslipp'])\n",
    "xlabel('steg')\n",
    "ylabel('$^\\circ C$')\n",
    "title('Gjennomsnittlig global temperatur')\n"
   ]
  }
 ],
 "metadata": {
  "kernelspec": {
   "display_name": "Python 3",
   "language": "python",
   "name": "python3"
  },
  "language_info": {
   "codemirror_mode": {
    "name": "ipython",
    "version": 3
   },
   "file_extension": ".py",
   "mimetype": "text/x-python",
   "name": "python",
   "nbconvert_exporter": "python",
   "pygments_lexer": "ipython3",
   "version": "3.8.5"
  }
 },
 "nbformat": 4,
 "nbformat_minor": 4
}
