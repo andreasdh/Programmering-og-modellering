{
 "cells": [
  {
   "cell_type": "markdown",
   "metadata": {},
   "source": [
    "# Tema 4: Funksjoner"
   ]
  },
  {
   "cell_type": "code",
   "execution_count": 1,
   "metadata": {},
   "outputs": [
    {
     "name": "stdout",
     "output_type": "stream",
     "text": [
      "1 2.25\n"
     ]
    }
   ],
   "source": [
    "def f(x):\n",
    "    return x**2\n",
    "\n",
    "def G(t):\n",
    "    return t + 1/4\n",
    "\n",
    "print(f(1), G(2))"
   ]
  },
  {
   "cell_type": "code",
   "execution_count": 2,
   "metadata": {},
   "outputs": [
    {
     "data": {
      "image/png": "[encoded data removed]",
      "text/plain": [
       "<Figure size 432x288 with 1 Axes>"
      ]
     },
     "metadata": {
      "needs_background": "light"
     },
     "output_type": "display_data"
    }
   ],
   "source": [
    "from pylab import *\n",
    "\n",
    "funksjonsverdier = []\n",
    "tid = []\n",
    "\n",
    "def g(t):\n",
    "    return sqrt(t) + 2*log10(t)\n",
    "\n",
    "for t in range(1,100):\n",
    "    funksjonsverdier.append(g(t))\n",
    "    tid.append(t)\n",
    "    \n",
    "plot(tid,funksjonsverdier)\n",
    "show()"
   ]
  },
  {
   "cell_type": "code",
   "execution_count": 4,
   "metadata": {},
   "outputs": [
    {
     "name": "stdout",
     "output_type": "stream",
     "text": [
      "Gratulerer med dagen, Jesper\n",
      "Gratulerer med dagen, Jesper\n",
      "Gratulerer med dagen, Jesper\n",
      "Gratulerer med dagen, Jesper\n",
      "Gratulerer med dagen, Jesper\n",
      "Gratulerer med dagen, Jesper\n",
      "Gratulerer med dagen, Jesper\n",
      "Gratulerer med dagen, Jesper\n",
      "Gratulerer med dagen, Jesper\n",
      "Gratulerer med dagen, Jesper\n"
     ]
    }
   ],
   "source": [
    "def gratulerer(navn):\n",
    "    for i in range(10):\n",
    "        print(\"Gratulerer med dagen,\",navn)\n",
    "\n",
    "gratulerer('Jesper')"
   ]
  },
  {
   "cell_type": "code",
   "execution_count": null,
   "metadata": {},
   "outputs": [],
   "source": []
  }
 ],
 "metadata": {
  "kernelspec": {
   "display_name": "Python 3",
   "language": "python",
   "name": "python3"
  },
  "language_info": {
   "codemirror_mode": {
    "name": "ipython",
    "version": 3
   },
   "file_extension": ".py",
   "mimetype": "text/x-python",
   "name": "python",
   "nbconvert_exporter": "python",
   "pygments_lexer": "ipython3",
   "version": "3.8.3"
  }
 },
 "nbformat": 4,
 "nbformat_minor": 4
}
