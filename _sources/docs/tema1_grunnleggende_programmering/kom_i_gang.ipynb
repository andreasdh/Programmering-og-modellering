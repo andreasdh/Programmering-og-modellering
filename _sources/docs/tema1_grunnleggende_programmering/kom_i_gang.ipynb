{
 "cells": [
  {
   "cell_type": "markdown",
   "metadata": {},
   "source": [
    "# En første kodesnutt"
   ]
  },
  {
   "cell_type": "markdown",
   "metadata": {},
   "source": [
    "### Oppgaver for nybegynnere\n",
    "1. Lag et program som skriver ut summen og produktet av to tall.\n",
    "2. Definer tre variabler med hver sin datatype (streng, heltall og flyttall). Skriv så ut disse variablene.\n",
    "3. Lag et program som regner ut volumet til ei kule: $V_{kule} = \\frac{4}{3} \\pi r^3$\n",
    "4. Lag et program som regner ut radius til en sirkel med arealet 4.\n",
    "\n",
    "### Oppgaver for de som kan litt fra før\n",
    "1. Lag et program som avgjør om et tall er positivt, negativt eller null, gitt input fra brukeren av programmet.\n",
    "2. Lag et program som skriver ut alle partall fra og med 0 til 99.\n",
    "3. Lag et program som regner ut summen av de 499 første heltallene.\n",
    "4. Lag en funksjon som regner ut volumet av ei kule. Bruk funksjonen til å regne ut volumet til ei kule med radius 3 cm."
   ]
  },
  {
   "cell_type": "markdown",
   "metadata": {},
   "source": [
    "<iframe src=\"https://trinket.io/embed/python3/0a3e2ca03a\" width=\"100%\" height=\"600\" frameborder=\"0\" marginwidth=\"0\" marginheight=\"0\" allowfullscreen></iframe>"
   ]
  }
 ],
 "metadata": {
  "kernelspec": {
   "display_name": "Python 3",
   "language": "python",
   "name": "python3"
  },
  "language_info": {
   "codemirror_mode": {
    "name": "ipython",
    "version": 3
   },
   "file_extension": ".py",
   "mimetype": "text/x-python",
   "name": "python",
   "nbconvert_exporter": "python",
   "pygments_lexer": "ipython3",
   "version": "3.8.5"
  }
 },
 "nbformat": 4,
 "nbformat_minor": 4
}
