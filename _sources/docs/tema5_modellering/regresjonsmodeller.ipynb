{
 "cells": [
  {
   "cell_type": "markdown",
   "metadata": {},
   "source": [
    "# Regresjonsmodeller\n",
    "\n",
    "Regresjon er en form for modellering som brukes i mange ulike fagdisipliner, fra samfunnsvitenskap og økonomi til naturvitenskap og matematikk. Det betyr å finne en funksjon som er best tilpasset datasettet vårt. Regresjon tar ofte utgangspunkt i _minste kvadraters metode_, som gjør at vi får en modellfunksjon som gir minst mulig varians. Regresjonsmodeller passer derfor ofte ikke perfekt med alle, eller noen, av punktene. Modellene har heller et avvik fra gjennomsnittet av punktene (varians) som er så lite som mulig.\n",
    "\n",
    "## Lineær regresjon\n",
    "\n",
    "Vi har tidligere sett på enkel [polynomregresjon](https://andreasdh.github.io/NAT3000/docs/tema3_datahandtering/statistikk.html#regresjon) med funksjonen _polyfit_ fra numpy-biblioteket. Denne kan brukes dersom vi for eksempel ønsker å utføre lineær regresjon eller andregradsregresjon. Men hvis vi ønsker å tilpasse dataene våre til en vilkårlig modell, må vi bruke en annen funksjon. Funksjonen _curve\\_fit_ fra scipy-biblioteket har den funksjonaliteten vi ønsker. Da definerer vi en bestemt modell, i form av en Python-funksjon, som er utgangspunktet for regresjonen vår. Modellfunksjonen må ta som parameter en uavhengig variabel, i tillegg til koeffisientene/konstantene i uttrykket. Hvis vi for eksempel ønsker å gjøre en lineær regresjon, kan vi definere følgende funksjon:"
   ]
  },
  {
   "cell_type": "code",
   "execution_count": 1,
   "metadata": {},
   "outputs": [],
   "source": [
    "def modell(x, a, b):\n",
    "    return a*x + b"
   ]
  },
  {
   "cell_type": "markdown",
   "metadata": {},
   "source": [
    "Her ser vi at variabelen _x_ og konstantene _a_ og _b_ er gitt som parametre i funksjonen. La oss lage en lineær modell ut fra følgende data, som et eksempel:"
   ]
  },
  {
   "cell_type": "code",
   "execution_count": 2,
   "metadata": {},
   "outputs": [],
   "source": [
    "x = [1, 2, 3, 4, 5]\n",
    "y = [2.1, 3.9, 6.5, 7.1, 11.0]"
   ]
  },
  {
   "cell_type": "markdown",
   "metadata": {},
   "source": [
    "Først importerer vi funksjonen fra underbiblioteket _optimize_, som finnes i scipy-biblioteket. Deretter bruker vi funksjonen til å lage en lineær modell som passer best mulig med dataene våre. Funksjonen _curve_\\fit_ gir både koeffisientene _a_ og _b_, men også et mål på hvor godt modellen passer dataene våre som kalles _kovarians_. Dette skal vi ikke se på her, men vi må passe på å lagre koeffisientene og kovariansen i ulike variabler, slik at vi får ut riktige verdier for modellen vår. Parametrene i _curve\\_fit_ er modellfunksjonen vår og dataene vi vil beskrive med modellen vår (her _x_ og _y_): "
   ]
  },
  {
   "cell_type": "code",
   "execution_count": 3,
   "metadata": {},
   "outputs": [
    {
     "name": "stdout",
     "output_type": "stream",
     "text": [
      "Koeffisienter: [ 2.1  -0.18]\n",
      "Kovarians: [[ 0.06359996 -0.19079989]\n",
      " [-0.19079989  0.69959972]]\n"
     ]
    }
   ],
   "source": [
    "from scipy.optimize import curve_fit\n",
    "\n",
    "koeffisienter, kovarians = curve_fit(modell, x, y)\n",
    "print(\"Koeffisienter:\", koeffisienter)\n",
    "print(\"Kovarians:\", kovarians)"
   ]
  },
  {
   "cell_type": "markdown",
   "metadata": {},
   "source": [
    "Vi overser her de fire verdiene som utgjør kovariansen vår, og ser at vi har fått koeffisientene $a = 2,1$ og $b = -0,18$. Dette betyr at regresjonsmodellen har formen $y = 2,1x - 0,18$. Koeffisientene kommer i den rekkefølgen vi har gitt i modellfunksjonen vår. La oss derfor legge dem i hver sin variabel: "
   ]
  },
  {
   "cell_type": "code",
   "execution_count": 4,
   "metadata": {},
   "outputs": [],
   "source": [
    "a = koeffisienter[0]\n",
    "b = koeffisienter[1]"
   ]
  },
  {
   "cell_type": "markdown",
   "metadata": {},
   "source": [
    "Nå kan vi for eksempel plotte datapunktene og modellfunksjonen i samme koordinatsystem. Da genererer vi noen nye _x_-verdier som vi kan lage funksjonsverdier ut fra, og deretter bruker vi modellfunksjonen til å generere _y_-verdier:"
   ]
  },
  {
   "cell_type": "code",
   "execution_count": 5,
   "metadata": {},
   "outputs": [
    {
     "data": {
      "image/png": "[encoded data removed]",
      "text/plain": [
       "<Figure size 432x288 with 1 Axes>"
      ]
     },
     "metadata": {
      "needs_background": "light"
     },
     "output_type": "display_data"
    }
   ],
   "source": [
    "import matplotlib.pyplot as plt\n",
    "import numpy as np\n",
    "\n",
    "x_ny = np.linspace(0, 6, 1000)\n",
    "y_modell = modell(x_ny, a, b)\n",
    "\n",
    "plt.plot(x_ny, y_modell, color = \"cornflowerblue\", label = \"Tilpasset modell\")\n",
    "plt.scatter(x, y, color = \"navy\", label = \"Datapunkter\")\n",
    "plt.xlabel(\"x\")\n",
    "plt.ylabel(\"y\")\n",
    "plt.grid()\n",
    "plt.legend()\n",
    "plt.show()"
   ]
  },
  {
   "cell_type": "markdown",
   "metadata": {},
   "source": [
    "En måte å måle hvor godt modellen er tilpasset dataene våre, er å regne ut $R^2$. Da mater vi inn de originale _x_-verdiene i modellen vår, og sammenlikner dem med de originale _y_-verdiene:"
   ]
  },
  {
   "cell_type": "code",
   "execution_count": 6,
   "metadata": {},
   "outputs": [
    {
     "name": "stdout",
     "output_type": "stream",
     "text": [
      "R2 = 0.9585289514866979\n"
     ]
    }
   ],
   "source": [
    "from sklearn.metrics import r2_score\n",
    "\n",
    "x = np.array(x)\n",
    "y_predikert = modell(x,a,b)\n",
    "\n",
    "R2 = r2_score(y, y_predikert)\n",
    "print(\"R2 =\", R2)"
   ]
  },
  {
   "cell_type": "markdown",
   "metadata": {},
   "source": [
    "En $R^2$-score varierer mellom 0 og 1, der 1 er perfekt tilpasning til modellen, og 0 er ingen tilpasning. Desto høyere verdi $R^2$ har, desto bedre forklarer modellen de allerede eksisterende dataene (men ikke nødvendigvis data i framtiden!)."
   ]
  },
  {
   "cell_type": "markdown",
   "metadata": {},
   "source": [
    "## Andre regresjonsmodeller\n",
    "\n",
    "Hvis vi ønsker å bruke andre regresjonsmodeller, er det bare å endre modellfunksjonen vår. Dersom vi for eksempel ønsker å gjøre en logistisk regresjon av dataene våre ovenfor, kan vi definere en generell logistisk funksjon:\n",
    "\n",
    "$$f(x) = \\frac{c}{1 + a\\cdot e^{-bx}}$$\n",
    "\n",
    "Dette kan vi gjøre enkelt i Python, og vi kan gjenta den samme prosedyren med tilpasning og plotting som med lineær regresjon. Et fullstendig program vil kunne se slik ut:"
   ]
  },
  {
   "cell_type": "code",
   "execution_count": 18,
   "metadata": {},
   "outputs": [
    {
     "data": {
      "image/png": "[encoded data removed]",
      "text/plain": [
       "<Figure size 432x288 with 1 Axes>"
      ]
     },
     "metadata": {
      "needs_background": "light"
     },
     "output_type": "display_data"
    }
   ],
   "source": [
    "from scipy.optimize import curve_fit\n",
    "import matplotlib.pyplot as plt\n",
    "import numpy as np\n",
    "\n",
    "x = [1, 2, 3, 4, 5]\n",
    "y = [2.1, 3.9, 6.5, 7.1, 11.0]\n",
    "\n",
    "def modell_logistisk(x, a, b, c):\n",
    "    return c/(1 + a*np.exp(-b*x))\n",
    "\n",
    "koeffisienter, kovarians = curve_fit(modell_logistisk, x, y)\n",
    "\n",
    "a = koeffisienter[0]\n",
    "b = koeffisienter[1]\n",
    "c = koeffisienter[2]\n",
    "\n",
    "x_ny = np.linspace(0, 20, 1000)\n",
    "y_modell = modell_logistisk(x_ny, a, b, c)\n",
    "\n",
    "plt.plot(x_ny, y_modell, color = \"cornflowerblue\", label = \"Tilpasset modell\")\n",
    "plt.scatter(x, y, color = \"navy\", label = \"Datapunkter\")\n",
    "plt.xlabel(\"x\")\n",
    "plt.ylabel(\"y\")\n",
    "plt.grid()\n",
    "plt.legend()\n",
    "plt.show()"
   ]
  },
  {
   "cell_type": "markdown",
   "metadata": {},
   "source": [
    "```{admonition} Oppgave\n",
    ":class: tip\n",
    "1. Forklar hvordan programmet ovenfor fungerer.\n",
    "2. Lag en modell som beskriver dataene som beskriver [antall smittede som funksjon av tid](https://raw.githubusercontent.com/andreasdh/NAT3000/master/docs/datafiler/smitte_virus.csv).\n",
    "3. Tolk modellen og beskriv hva den kan fortelle oss.\n",
    "4. Regn ut $R^2$ for modellen og forklar hva dette sier oss.\n",
    "```"
   ]
  }
 ],
 "metadata": {
  "kernelspec": {
   "display_name": "Python 3 (ipykernel)",
   "language": "python",
   "name": "python3"
  },
  "language_info": {
   "codemirror_mode": {
    "name": "ipython",
    "version": 3
   },
   "file_extension": ".py",
   "mimetype": "text/x-python",
   "name": "python",
   "nbconvert_exporter": "python",
   "pygments_lexer": "ipython3",
   "version": "3.8.5"
  }
 },
 "nbformat": 4,
 "nbformat_minor": 4
}
