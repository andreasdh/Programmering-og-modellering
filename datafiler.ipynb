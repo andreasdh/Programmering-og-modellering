{
 "cells": [
  {
   "cell_type": "markdown",
   "metadata": {},
   "source": [
    "# Datafiler\n",
    "\n",
    "[titreringsdata.txt](https://www.uio.no/studier/emner/matnat/ifi/IN-KJM1900/h21/datafiler/titreringsdata.txt?vrtx=source)\n",
    "\n",
    "[alder_kjonn.txt](https://www.uio.no/studier/emner/matnat/natfag/NAT3000/h21/datafiler/alder_kjonn.txt)\n",
    "\n",
    "[antall-meldte-covid-19.txt](https://www.uio.no/studier/emner/matnat/natfag/NAT3000/h21/datafiler/antall-meldte-covid-19.txt)\n",
    "\n",
    "[D5_naringskjede_organisme.txt](https://www.uio.no/studier/emner/matnat/natfag/NAT3000/h21/datafiler/d5_naringskjede_organisme.txt)\n",
    "\n",
    "[D5_naringskjede_trofisk.txt](https://www.uio.no/studier/emner/matnat/natfag/NAT3000/h21/datafiler/d5_naringskjede_trofisk.txt)\n",
    "\n",
    "[vin.csv](https://www.uio.no/studier/emner/matnat/ifi/IN-KJM1900/h20/datafiler/vin.csv)\n",
    "\n",
    "[iris.csv](https://www.uio.no/studier/emner/matnat/natfag/NAT3000/h21/datafiler/iris.csv)\n",
    "\n",
    "[cars.txt](https://www.uio.no/studier/emner/matnat/natfag/NAT3000/h21/datafiler/mtcars.txt)\n",
    "\n",
    "[pingviner.txt](https://www.uio.no/studier/emner/matnat/ifi/IN-KJM1900/h21/datafiler/penguings.txt)"
   ]
  }
 ],
 "metadata": {
  "kernelspec": {
   "display_name": "Python 3",
   "language": "python",
   "name": "python3"
  },
  "language_info": {
   "codemirror_mode": {
    "name": "ipython",
    "version": 3
   },
   "file_extension": ".py",
   "mimetype": "text/x-python",
   "name": "python",
   "nbconvert_exporter": "python",
   "pygments_lexer": "ipython3",
   "version": "3.8.5"
  }
 },
 "nbformat": 4,
 "nbformat_minor": 4
}
