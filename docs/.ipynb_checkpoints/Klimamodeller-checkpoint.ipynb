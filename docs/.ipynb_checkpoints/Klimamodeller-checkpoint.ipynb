{
 "cells": [
  {
   "cell_type": "markdown",
   "metadata": {},
   "source": [
    "### 1. En enkel drivhusgassmodell\n",
    "\n",
    "Jorda modelleres som et svartlegeme med hensyn til utsending av stråling med lang bølgelengde, altså et legeme som absorberer all stråling som sendes mot den. Dermed følger emisjonen av langbølget stråling Stefan-Boltzmanns lov:\n",
    "\n",
    "$$M_{\\sigma} = \\epsilon \\cdot \\sigma \\cdot T^4$$\n",
    "\n",
    "der $\\epsilon$ er emissiviteten til legemet, altså et mål på hvor mye legemet oppfører seg som et svartlegeme. For et fullstendig svartlegeme er $\\epsilon = 1$, for et perfekt speil er $\\epsilon = 0$. Stefan-Boltzmann-konstanten $\\sigma = 5.67\\cdot 10^{-8}$ Wm$^{-2}$K$^-4$, og $T$ er den gjennomsnittlige temperaturen på overflaten til jorda. \n",
    "\n",
    "Per år er $M_{\\sigma} \\approx 238.5$ W/m$^2$. Sett inn"
   ]
  }
 ],
 "metadata": {
  "kernelspec": {
   "display_name": "Python 3",
   "language": "python",
   "name": "python3"
  },
  "language_info": {
   "codemirror_mode": {
    "name": "ipython",
    "version": 3
   },
   "file_extension": ".py",
   "mimetype": "text/x-python",
   "name": "python",
   "nbconvert_exporter": "python",
   "pygments_lexer": "ipython3",
   "version": "3.8.3"
  }
 },
 "nbformat": 4,
 "nbformat_minor": 4
}
