{
 "cells": [
  {
   "cell_type": "markdown",
   "metadata": {},
   "source": [
    "# Grunnleggende programmering\n",
    "Her er litt teori og oppgaver som kan hjelpe deg å komme i gang med det viktigste innen realfaglig programmering. Bruk gjerne de innebygde kodeboksene til å lage og kjøre programmer underveis.\n",
    "\n",
    "## 1. Variabler\n",
    "\n",
    "```{admonition} Variabel\n",
    "En programmeringsvariabel er en størrelse som lagrer en verdi i et program.\n",
    "```"
   ]
  },
  {
   "cell_type": "code",
   "execution_count": 3,
   "metadata": {},
   "outputs": [
    {
     "name": "stdout",
     "output_type": "stream",
     "text": [
      "Den kinetiske energien er: 4 J.\n"
     ]
    }
   ],
   "source": [
    "m = 1 # Masse\n",
    "v = 2 # Hastighet\n",
    "\n",
    "kinetisk_energi = m*v**2\n",
    "\n",
    "print(\"Den kinetiske energien er:\", kinetisk_energi, \"J.\")"
   ]
  },
  {
   "cell_type": "markdown",
   "metadata": {},
   "source": [
    "Vi kan også bruke matematiske funksjoner som kvadratrot og trigonometriske funksjoner. Da må vi importere et bibliotek som inneholder disse funksjonene. Det enkleste er å importere alt fra biblioteket pylab. Det gjør vi slik:"
   ]
  },
  {
   "cell_type": "code",
   "execution_count": 6,
   "metadata": {},
   "outputs": [
    {
     "name": "stdout",
     "output_type": "stream",
     "text": [
      "Kvadratrota av 4 er: 2.0 Sinus til 30 grader er: 0.49999999999999994\n"
     ]
    }
   ],
   "source": [
    "from pylab import *\n",
    "\n",
    "kvadratrot = sqrt(4)\n",
    "sinus = sin(radians(30))\n",
    "\n",
    "print(\"Kvadratrota av 4 er:\", kvadratrot, \"Sinus til 30 grader er:\", sinus)"
   ]
  },
  {
   "cell_type": "markdown",
   "metadata": {},
   "source": [
    "Merk at vi måtte gjøre om vinkelmålet til radianer (som er et vinkelmål man lærer om i R-matte) til grader. Det samme prinsippet gjelder for øvrig i GeoGebra."
   ]
  },
  {
   "cell_type": "markdown",
   "metadata": {},
   "source": [
    "```{admonition} Oppgave 1.1\n",
    ":class: tip\n",
    "Bruk kodeboksen nedenfor til å lage relevante variabler slik at programmet regner ut arealet av en trekant med grunnlinje 4 og høyde 2. Programmet inneholder litt kode fra før til å hjelpe deg på vei.\n",
    "```\n",
    "\n",
    "```{admonition} Oppgave 1.2\n",
    ":class: tip\n",
    "Lag et program som regner ut radius til en sirkel med arealet 4.\n",
    "```\n",
    "\n",
    "```{admonition} Ekstra: Oppgave 1.3\n",
    ":class: tip\n",
    "For å ta input fra brukeren av programmet istedenfor å skrive variabelverdier rett inn i programmet, kan vi bruke input-funksjonen til Python.\n",
    "\n",
    "tall = float(input(\"Skriv et tall: \"))\n",
    "\n",
    "Lag et program som bruker en formel fra matematikken til å regne ut noe. Bruk input-funksjonen til å hente variabelverdier fra brukeren. Hvis du lurer på hva \"float\"-kommandoen foran _input_ gjør, kan du lese mer om det i 1.1 nedenfor.\n",
    "```\n",
    "\n",
    "<iframe src=\"https://trinket.io/embed/python3/201ecb4ca2\" width=\"100%\" height=\"300\" frameborder=\"0\" marginwidth=\"0\" marginheight=\"0\" allowfullscreen></iframe>"
   ]
  },
  {
   "cell_type": "markdown",
   "metadata": {},
   "source": [
    "#### 1.1 Variabeltyper\n",
    "I matematikk har vi ulike tallmengder, som _reelle tall_, _irrasjonale tall_, _rasjonale tall_, _naturlige tall_, _hele tall_ og _komplekse tall_. Disse tallmengdene er uendelig store, som betyr at de ikke kan eksistere på en datamaskin. Vi har derfor en del andre tallmengder og variabeltyper. For eksempel heter desimaltall _float_ fordi ikke alle desimaltall er representert på en datamaskin. Det er altså en annen tallmengde. De viktigste variabeltypene ser du her:\n",
    "\n",
    "| Datatype | Forklaring            |Eksempel |\n",
    "|--------|----------------------|-------------|\n",
    "| Heltall (int)      | Hele tall       | 42 |\n",
    "| Flyttall (float)      | Desimaltall | 3.1415     |\n",
    "| Streng (str)     | Tekst           | \"Hei!\"|\n",
    "| Boolsk     | Sannhet       |True eller False  |\n",
    "\n",
    "Når vi ønsker input fra en bruker av et program, må vi spesifisere hvilken variabeltype vi ønsker at inputen skal bli tolket som. Standard er tekst, men hvis vi for eksempel \"adderer\" teksten \"4\" med \"2\", får vi \"42\", mens tallet 4 + tallet 2 gir tallet 6. Eksempelet nedenfor illustrerer dette."
   ]
  },
  {
   "cell_type": "code",
   "execution_count": 3,
   "metadata": {},
   "outputs": [
    {
     "name": "stdout",
     "output_type": "stream",
     "text": [
      "Skriv et tall: 4\n",
      "Skriv et tall til: 2\n",
      "Summen av teksten er: 42 og summen av tallene er: 6.0\n"
     ]
    }
   ],
   "source": [
    "tekst1 = input(\"Skriv et tall: \")\n",
    "tekst2 = input(\"Skriv et tall til: \")\n",
    "\n",
    "tall1 = float(tekst1)\n",
    "tall2 = float(tekst2)\n",
    "\n",
    "tullsvar = tekst1 + tekst2\n",
    "tallsvar = tall1 + tall2\n",
    "\n",
    "print(\"Summen av teksten er:\", tullsvar, \"og summen av tallene er:\", tallsvar)"
   ]
  },
  {
   "cell_type": "markdown",
   "metadata": {},
   "source": [
    "Input er ikke nødvendig for annet enn å lage et mer interaktivt program. Men hvis du lager et program med input, bør du legge til input helt til slutt. Start med å gi variablene verdier, og test at programmet fungerer. Deretter kan du bruke input på de variablene du ønsker. Dette er for å unngå å måtte taste inn input-verdier hver gang du kjører programmet ditt, spesielt hvis det inneholder feil du må rette opp!"
   ]
  },
  {
   "cell_type": "markdown",
   "metadata": {},
   "source": [
    "## 2. Vilkår (if-tester)"
   ]
  },
  {
   "cell_type": "markdown",
   "metadata": {},
   "source": [
    "```{admonition} Vilkår (if-test)\n",
    "Et vilkår, eller en betingelse, er en logisk test for å sjekke om et kriterium er oppfylt. Dersom kriteriet er oppfylt, utføres det en handling. Dersom kriteriet ikke er oppfylt, blir ikke handlingen utført.\n",
    "```"
   ]
  },
  {
   "cell_type": "code",
   "execution_count": 7,
   "metadata": {},
   "outputs": [
    {
     "name": "stdout",
     "output_type": "stream",
     "text": [
      "Tallet er passe stort.\n"
     ]
    }
   ],
   "source": [
    "tall = 42\n",
    "\n",
    "if tall < 5:\n",
    "    print(\"Tallet er veldig lite.\")\n",
    "elif tall < 20:\n",
    "    print(\"Tallet er ganske lite.\")   \n",
    "elif tall < 50:\n",
    "    print(\"Tallet er passe stort.\")\n",
    "elif tall < 100:\n",
    "    print(\"Tallet er ganske stort.\")\n",
    "else:\n",
    "    print(\"Tallet er enormt!\")\n"
   ]
  },
  {
   "cell_type": "markdown",
   "metadata": {},
   "source": [
    "Det er noen ting å huske på her:\n",
    "- Alt som er rykket inn utføres kun hvis if-testen ovenfor er sann. Innrykk er derfor viktig for strukturen.\n",
    "- \"elif\" står for \"else if\", og sjekker noe nytt, mens \"else\" brukes for å gjøre noe dersom ingen av kriteriene under \"if\" og \"elif\" er sanne.\n",
    "- Det er den første if-testen som er sann i en serie av if-elif-else som utføres. Alle andre overses. Dersom vi skriver \"if\" en gang til, begynner vi på en ny serie med if-elif-else.\n",
    "- Vi _må_ begynne med \"if\", mens \"elif\" og \"else\" er valgfritt.\n",
    "- De logiske operatorene vi kan velge mellom, er:\n",
    "\n",
    "| Symbol | Betydning            |\n",
    "|--------|----------------------|\n",
    "| >      | større enn           |\n",
    "| <      | mindre enn           |\n",
    "| ==     | lik                  |\n",
    "| !=     | ikke lik             |\n",
    "| <=     | mindre enn eller lik |\n",
    "| >=     | større enn eller lik |"
   ]
  },
  {
   "cell_type": "markdown",
   "metadata": {},
   "source": [
    "```{admonition} Oppgave 2.1\n",
    ":class: tip\n",
    "Lag et program der du sjekker om et tall er positivt, negativt eller null, og skriver ut relevante setninger. Du kan ta utgangspunkt i programkoden i kodeboksen her:\n",
    "```\n",
    "<iframe src=\"https://trinket.io/embed/python3/12af96f83e\" width=\"100%\" height=\"300\" frameborder=\"0\" marginwidth=\"0\" marginheight=\"0\" allowfullscreen></iframe>\n",
    "\n",
    "```{admonition} Oppgave 2.2\n",
    ":class: tip\n",
    "Lag et program med en variabel kalt pH. Programmet skal skrive ut om løsningen med denne pH-en er sur, basisk eller nøytral.\n",
    "```\n",
    "\n",
    "```{admonition} Oppgave 2.3\n",
    ":class: tip\n",
    "Forklar hvorfor de to ulike programmene nedenfor gir ulike output.\n",
    "```"
   ]
  },
  {
   "cell_type": "code",
   "execution_count": 15,
   "metadata": {},
   "outputs": [
    {
     "name": "stdout",
     "output_type": "stream",
     "text": [
      "17\n"
     ]
    }
   ],
   "source": [
    "a = 10\n",
    "if a > 5:\n",
    "    a = a + 5\n",
    "a = a + 2\n",
    "print(a)"
   ]
  },
  {
   "cell_type": "code",
   "execution_count": 16,
   "metadata": {},
   "outputs": [
    {
     "name": "stdout",
     "output_type": "stream",
     "text": [
      "15\n"
     ]
    }
   ],
   "source": [
    "a = 10\n",
    "if a > 5:\n",
    "    a = a + 5\n",
    "else:\n",
    "    a = a + 2\n",
    "print(a)"
   ]
  },
  {
   "cell_type": "markdown",
   "metadata": {},
   "source": [
    "```{admonition} Oppgave 2.4\n",
    ":class: tip\n",
    "I et programmeringspuslespill skal du bruke ferdige kodeblokker til å pusle sammen et program. [Dette puslespillet](http://parsons.problemsolving.io/puzzle/6e30d3320c8e4ba69b61a0e302754a3c) skal bli et program som skal regne ut hvor mange løsninger en andregradslikning på formen $ax^2 + bx + c = 0$ har. Prøv å sette sammen puslespillet. Pass på innrykk og rekkefølge! Hvis du blir fort ferdig, kan du prøve [denne varianten](http://parsons.problemsolving.io/puzzle/a56e0f5a917a4079aadffb571c3d411e). Hvis du har mer tid til overs, kan du jo prøve å lage programmet selv!\n",
    "```"
   ]
  },
  {
   "cell_type": "markdown",
   "metadata": {},
   "source": [
    "## 3. Løkker\n",
    "\n",
    "Den kanskje viktigste strukturen i programmering er løkker. De lar datamaskinen gjenta en operasjon så mange ganger vi vil. Det er dette som er datamaskinens styrke.\n",
    "\n",
    "```{admonition} Løkker\n",
    "En løkke er en struktur som gjør at vi kan gjenta kode. Ofte skiller vi mellom en _telleløkke_, som gjentar noe et visst antall ganger, og en _tilstandsløkke_, som gjentar så lenge noe er sant. I Python heter disse henholdsvis _for_-løkke og _while_-løkke.\n",
    "```"
   ]
  },
  {
   "cell_type": "code",
   "execution_count": 11,
   "metadata": {},
   "outputs": [
    {
     "name": "stdout",
     "output_type": "stream",
     "text": [
      "2\n",
      "4\n",
      "6\n",
      "8\n",
      "10\n"
     ]
    }
   ],
   "source": [
    "partall = 0\n",
    "\n",
    "for i in range(5): # Gjenta 5 ganger (i går igjennom intervallet [0, 1, 2, 3, 4])\n",
    "    partall = partall + 2\n",
    "    print(partall)"
   ]
  },
  {
   "cell_type": "code",
   "execution_count": 1,
   "metadata": {},
   "outputs": [
    {
     "name": "stdout",
     "output_type": "stream",
     "text": [
      "2\n",
      "4\n",
      "6\n",
      "8\n",
      "10\n"
     ]
    }
   ],
   "source": [
    "partall = 0\n",
    "\n",
    "while partall < 10:       # Gjenta så lenge partall er mindre enn 10\n",
    "    partall = partall + 2 # Øk partallsvariabelen med 2\n",
    "    print(partall)        "
   ]
  },
  {
   "cell_type": "markdown",
   "metadata": {},
   "source": [
    "Studer løkkene og prøv å forstå hvordan de virker. Legg merke til at alt som er rykket inn til høyre, tilhører løkka og gjentas hver gang løkka kjører.\n",
    "\n",
    "Det er viktig å forstå hvordan løkkene fungerer. For å illustrere dette, kan vi sette opp en _løkketabell_ som viser verdien til de ulike variablene i ei løkke. La oss bruke følgende program som utgangspunkt:"
   ]
  },
  {
   "cell_type": "code",
   "execution_count": 5,
   "metadata": {},
   "outputs": [],
   "source": [
    "a = 0\n",
    "\n",
    "for i in range(5):\n",
    "    a = a + 1\n",
    "    b = a*i"
   ]
  },
  {
   "cell_type": "markdown",
   "metadata": {},
   "source": [
    "En løkketabell som beskriver hva verdien til alle variabelene er før og underveis i løkka, er gitt nedenfor. Bruk løkka og tabellen og prøv å forstå hva som skjer!\n",
    "\n",
    "| Løkkerunde | i | a | b |\n",
    "|------------|---|---|---|\n",
    "| Startverdi | - | 0 | - |\n",
    "| 1          | 0 | 1 | 0 |\n",
    "| 2          | 1 | 2 | 2 |\n",
    "| 3          | 2 | 3 | 6 |\n",
    "| 4          | 3 | 4 | 12|\n",
    "| 5          | 4 | 5 | 20|\n",
    "\n",
    "Vi kan printe ut variablene underveis i løkka og se at vi faktisk får det samme (husk at kategorien \"løkkerunde\" ikke er en variabel):"
   ]
  },
  {
   "cell_type": "code",
   "execution_count": 10,
   "metadata": {},
   "outputs": [
    {
     "name": "stdout",
     "output_type": "stream",
     "text": [
      "i | a | b\n",
      "0 | 1 | 0\n",
      "1 | 2 | 2\n",
      "2 | 3 | 6\n",
      "3 | 4 | 12\n",
      "4 | 5 | 20\n"
     ]
    }
   ],
   "source": [
    "a = 0\n",
    "print(\"i | a | b\") # Printer kun én gang\n",
    "\n",
    "for i in range(5):\n",
    "    a = a + 1\n",
    "    b = a*i\n",
    "    \n",
    "    print(i,\"|\", a,\"|\", b) # Printer hver gang i løkka"
   ]
  },
  {
   "cell_type": "markdown",
   "metadata": {},
   "source": [
    "```{admonition} Oppgave 3.1\n",
    ":class: tip\n",
    "Lag et program som skriver ut \"Du er flink til å programmere!\" tusen ganger. Hvilken funksjon har \"tellevariabelen\" (_i_) her?\n",
    "```\n",
    "\n",
    "```{admonition} Oppgave 3.2\n",
    ":class: tip\n",
    "Programmet nedenfor skal finne summen av de 100 første tallene i en tallfølge der hvert ledd er den dobbelte av det forrige. Forklar hvordan programmet fungerer. Endre gjerne på ulike variabler og test hva utfallet blir for å forstå hvordan programmet fungerer.\n",
    "```\n",
    "\n",
    "<iframe src=\"https://trinket.io/embed/python3/51f01c11f8\" width=\"100%\" height=\"300\" frameborder=\"0\" marginwidth=\"0\" marginheight=\"0\" allowfullscreen></iframe>\n",
    "\n",
    "\n",
    "```{admonition} Oppgave 3.3\n",
    ":class: tip\n",
    "Skriv om programmet ovenfor slik at du benytter en while-løkke istedenfor en for-løkke.\n",
    "```\n",
    "\n",
    "```{admonition} Oppgave 3.4\n",
    ":class: tip\n",
    "Skriv om programmet ovenfor slik at du benytter en while-løkke istedenfor en for-løkke.\n",
    "```\n",
    "\n",
    "```{admonition} Oppgave 3.5\n",
    ":class: tip\n",
    "Lag en løkketabell av programmet nedenfor:\n",
    "```"
   ]
  },
  {
   "cell_type": "code",
   "execution_count": 11,
   "metadata": {},
   "outputs": [],
   "source": [
    "a = 0\n",
    "\n",
    "for i in range(5):\n",
    "    b = a*i\n",
    "    a = a + 1"
   ]
  },
  {
   "cell_type": "markdown",
   "metadata": {},
   "source": [
    "```{admonition} Oppgave 3.6\n",
    ":class: tip\n",
    "Hva skrives ut i følgende program? Prøv å undersøke dette for hånd. Til slutt kan du sjekke ved å kopiere programmet inn i en editor og kjøre det.\n",
    "```"
   ]
  },
  {
   "cell_type": "code",
   "execution_count": null,
   "metadata": {},
   "outputs": [],
   "source": [
    "a = 0\n",
    "\n",
    "for i in range(5):\n",
    "    b = a*i\n",
    "    print(b)\n",
    "    a = a + 1\n",
    "print(a)"
   ]
  },
  {
   "cell_type": "markdown",
   "metadata": {},
   "source": [
    "```{admonition} Oppgave 3.7\n",
    ":class: tip\n",
    "Programmene nedenfor skal regne ut hvor lang tid det tar før du har doblet beløpet ditt i banken gitt en årlig rente på 5 \\% og en startkapital på 5000 kroner, men programmet fungerer ikke som det skal. Hva er feil? Rett opp programmet slik at det fungerer.\n",
    "```\n",
    "\n",
    "<iframe src=\"https://trinket.io/embed/python3/156cd31940\" width=\"100%\" height=\"300\" frameborder=\"0\" marginwidth=\"0\" marginheight=\"0\" allowfullscreen></iframe>"
   ]
  },
  {
   "cell_type": "markdown",
   "metadata": {},
   "source": [
    "#### 3.1 Løkker og lister\n",
    "Lister er en datastruktur i Python som lar oss spare på ulike verdier i samme variabel. Eksempel på hvordan lister kan brukes, er slik:"
   ]
  },
  {
   "cell_type": "code",
   "execution_count": null,
   "metadata": {},
   "outputs": [],
   "source": [
    "tom_liste = []                           # Lager en tom liste\n",
    "tall = [1, 2, 3.5]                       # Liste med tre tall\n",
    "dyr = [\"Stumpneseape\", \"Lemur\", \"Sjøku\"] # Liste med tre dyr (tekststrenger)\n",
    "\n",
    "tom_liste.append(24)\n",
    "print(\"Append-funksjonen legger til elementer i lista. Vi får:\", tom_liste)"
   ]
  },
  {
   "cell_type": "markdown",
   "metadata": {},
   "source": [
    "Lister er en god kombinasjon med løkker, siden løkker kan generere ulike tallverdier som vi kan spare på i listene. For eksempel slik:"
   ]
  },
  {
   "cell_type": "code",
   "execution_count": 12,
   "metadata": {},
   "outputs": [],
   "source": [
    "startkapital = 5000\n",
    "penger = startkapital\n",
    "år = 0\n",
    "rente = 0.01\n",
    "år_liste = [0]\n",
    "penger_liste = [startkapital]\n",
    "\n",
    "while penger < startkapital*2:\n",
    "    penger = penger + penger*rente\n",
    "    år = år + 1\n",
    "    år_liste.append(år)\n",
    "    penger_liste.append(penger)"
   ]
  },
  {
   "cell_type": "markdown",
   "metadata": {},
   "source": [
    "```{admonition} Oppgave 3.8\n",
    ":class: tip\n",
    "Forklar hvordan programmet ovenfor fungerer. \n",
    "```\n",
    "\n",
    "Siden vi nå har en variabel som inneholder pengene ved et hvert år, er det en gyllen mulighet til å visualisere hvordan pengeutviklingen er. Da må vi først se litt på hvordan vi kan plotte."
   ]
  },
  {
   "cell_type": "markdown",
   "metadata": {},
   "source": [
    "## 4. Plotting\n",
    "Vi kan enkelt plotte lister med data på denne måten:"
   ]
  },
  {
   "cell_type": "code",
   "execution_count": 22,
   "metadata": {},
   "outputs": [
    {
     "data": {
      "image/png": "[encoded data removed]",
      "text/plain": [
       "<Figure size 432x288 with 1 Axes>"
      ]
     },
     "metadata": {
      "needs_background": "light"
     },
     "output_type": "display_data"
    }
   ],
   "source": [
    "from pylab import * # Importerer relevante plotteverktøy\n",
    "\n",
    "tid = [0, 2, 4, 6, 8, 10, 12, 14] # dager\n",
    "plantehøyde = [0, 1, 4.2, 7.9, 12.5, 13, 13.7, 13.9] # cm\n",
    "\n",
    "plot(tid, plantehøyde)\n",
    "title(\"Forsøk: Plantevekst\")\n",
    "xlabel(\"Tid (dager)\")\n",
    "ylabel(\"Plantens høyde (cm)\")\n",
    "show()"
   ]
  },
  {
   "cell_type": "markdown",
   "metadata": {},
   "source": [
    "Det finnes utrolig mange måter å modifisere et plott på. Programmet nedenfor plotter miljøgifter i ulike organismer i to innsjøer. Studer programmet og eksperimenter med ulike verdier. Du kan finne verdier for farger, linjestiler, markører og liknende ved å google «python plotting colors» og tilsvarende. Biblioteket som inneholder plotting, heter matplotlib, noe du kan se av søkeresultatene dine. Du må bruke internett flittig når du lurer på noe i programmering!\n",
    "\n",
    "<iframe src=\"https://trinket.io/embed/python3/0390c06b61\" width=\"100%\" height=\"300\" frameborder=\"0\" marginwidth=\"0\" marginheight=\"0\" allowfullscreen></iframe>\n",
    "\n",
    "Vi kan også plotte funksjoner. Da må vi spesifisere hvilke verdier av _x_ vi ønsker å plotte for. Disse x-verdiene kan vi generere enkelt ved å bruke en kommando som heter _linspace(a, b, n)_. Denne genererer et intervall fra _a_ til _b_ med _n_ punkter. Test programmet nedenfor og prøv for eksempel med _n_ = 4 (altså at antall _x_-verdier er 4). Hva skjer da, og hvorfor?\n",
    "\n",
    "<iframe src=\"https://trinket.io/embed/python3/ece4bbc539\" width=\"100%\" height=\"300\" frameborder=\"0\" marginwidth=\"0\" marginheight=\"0\" allowfullscreen></iframe>\n",
    "\n",
    "```{admonition} Oppgave 4.1\n",
    ":class: tip\n",
    "Prøv å plotte verdiene fra renteprogrammet nedenfor. Eksperimenter med ulike verdier av startkapital og rente, og se hvordan utviklingen endrer seg.\n",
    "```\n",
    "\n",
    "<iframe src=\"https://trinket.io/embed/python3/c855ddd704\" width=\"100%\" height=\"300\" frameborder=\"0\" marginwidth=\"0\" marginheight=\"0\" allowfullscreen></iframe>"
   ]
  },
  {
   "cell_type": "markdown",
   "metadata": {},
   "source": [
    "## *5. Funksjoner\n",
    "\n",
    "Funksjoner er å regne som en grunnstruktur i programmering, men det er ikke en _nødvendig_ grunnstruktur for å lage enkel kode for å utforske matematikk og naturfag. Til tross for dette er funksjoner nyttig å kunne, men husk at det er mer en kodeteknisk ferdighet enn en ferdighet vi kan bruke for å forstå realfag.\n",
    "\n",
    "Det er viktig å vite at funksjoner i programmering ikke er det samme som funksjoner i matematikk. De KAN ha samme virkemåte, men trenger ikke det. La oss representere den matematiske funskjonen $f(x) = 2x^2 - x + 1$ som en Python-funksjon:"
   ]
  },
  {
   "cell_type": "code",
   "execution_count": 13,
   "metadata": {},
   "outputs": [],
   "source": [
    "def f(x):\n",
    "    return 2*x**2 - x + 1"
   ]
  },
  {
   "cell_type": "markdown",
   "metadata": {},
   "source": [
    "Vi definerer en funksjon med kodeordet _def_ og gir den et funksjonsnavn, her _f_. Deretter spesifiserer hva inn-verdien/variabelen til funksjonen skal hete. Her kaller vi den _x_. I programmering kaller vi en slik størrelse for en _parameter_. Gitt én verdi av _x_, skal funksjonen _returnere_ (spesifisert ved _return_-kommandoen) en funksjonsverdi.\n",
    "\n",
    "Her har vi bare _definert_ funksjonen. Vi har ikke brukt den enda, så vi får ikke noe output her. La oss bruke funksjonen:"
   ]
  },
  {
   "cell_type": "code",
   "execution_count": 14,
   "metadata": {},
   "outputs": [
    {
     "name": "stdout",
     "output_type": "stream",
     "text": [
      "2\n"
     ]
    }
   ],
   "source": [
    "print(f(1))"
   ]
  },
  {
   "cell_type": "markdown",
   "metadata": {},
   "source": [
    "Som vi ser, får vi funksjonsverdien til f(1). Nå har vi brukt funksjonen vi tidligere har definert. Dette heter å \"kalle på\" funksjonen. \n",
    "\n",
    "Poenget med funksjoner er i hovedsak to ting:\n",
    "- Kodestrukturering.\n",
    "- Gjenbruk av kode.\n",
    "\n",
    "Det er spesielt sistnevnte poeng som er sentralt. Ved å definere en funksjon kan vi bruke denne funksjonen flere ganger i programmet vårt, for eksempel slik:"
   ]
  },
  {
   "cell_type": "code",
   "execution_count": 16,
   "metadata": {},
   "outputs": [
    {
     "name": "stdout",
     "output_type": "stream",
     "text": [
      "6 -2\n",
      "1\n",
      "2\n",
      "3\n",
      "4\n",
      "5\n"
     ]
    }
   ],
   "source": [
    "def f(x):\n",
    "    return x + 1\n",
    "\n",
    "addisjon = f(1) + f(3)\n",
    "subtraksjon = f(1) - f(3)\n",
    "\n",
    "print(addisjon, subtraksjon)\n",
    "\n",
    "for x in range(5):\n",
    "    print(f(x))"
   ]
  },
  {
   "cell_type": "markdown",
   "metadata": {},
   "source": [
    "```{admonition} Oppgave 5.1\n",
    ":class: tip\n",
    "Forklar hvordan programmet ovenfor fungerer.\n",
    "```\n",
    "\n",
    "```{admonition} Oppgave 5.2\n",
    ":class: tip\n",
    "I programmet nedenfor definerer vi en funksjon som regner ut volumet til en sylinder. Lag en annen funksjon i samme program som regner ut volumet til ei kule.\n",
    "```\n",
    "($V_{kule} = \\frac{4}{3}\\pi r^3$)\n",
    "\n",
    "<iframe src=\"https://trinket.io/embed/python3/030617648f\" width=\"100%\" height=\"300\" frameborder=\"0\" marginwidth=\"0\" marginheight=\"0\" allowfullscreen></iframe>"
   ]
  },
  {
   "cell_type": "code",
   "execution_count": null,
   "metadata": {},
   "outputs": [],
   "source": []
  }
 ],
 "metadata": {
  "celltoolbar": "Edit Metadata",
  "kernelspec": {
   "display_name": "Python 3",
   "language": "python",
   "name": "python3"
  },
  "language_info": {
   "codemirror_mode": {
    "name": "ipython",
    "version": 3
   },
   "file_extension": ".py",
   "mimetype": "text/x-python",
   "name": "python",
   "nbconvert_exporter": "python",
   "pygments_lexer": "ipython3",
   "version": "3.8.5"
  }
 },
 "nbformat": 4,
 "nbformat_minor": 4
}
