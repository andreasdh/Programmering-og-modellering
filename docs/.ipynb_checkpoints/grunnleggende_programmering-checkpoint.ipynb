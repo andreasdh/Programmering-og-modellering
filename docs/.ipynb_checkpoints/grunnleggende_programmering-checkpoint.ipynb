{
 "cells": [
  {
   "cell_type": "markdown",
   "metadata": {},
   "source": [
    "# Grunnleggende programmering\n",
    "Her er litt teori og oppgaver som kan hjelpe deg å komme i gang med det viktigste innen realfaglig programmering. Bruk gjerne de innebygde kodeboksene til å lage og kjøre programmer underveis.\n",
    "\n",
    "## 1. Variabler\n",
    "\n",
    "```{admonition} Variabel\n",
    "En programmeringsvariabel er en størrelse som lagrer en verdi i et program.\n",
    "```"
   ]
  },
  {
   "cell_type": "code",
   "execution_count": 3,
   "metadata": {},
   "outputs": [
    {
     "name": "stdout",
     "output_type": "stream",
     "text": [
      "Den kinetiske energien er: 4 J.\n"
     ]
    }
   ],
   "source": [
    "m = 1 # Masse\n",
    "v = 2 # Hastighet\n",
    "\n",
    "kinetisk_energi = m*v**2\n",
    "\n",
    "print(\"Den kinetiske energien er:\", kinetisk_energi, \"J.\")"
   ]
  },
  {
   "cell_type": "markdown",
   "metadata": {},
   "source": [
    "Vi kan også bruke matematiske funksjoner som kvadratrot og trigonometriske funksjoner. Da må vi importere et bibliotek som inneholder disse funksjonene. Det enkleste er å importere alt fra biblioteket pylab. Det gjør vi slik:"
   ]
  },
  {
   "cell_type": "code",
   "execution_count": 6,
   "metadata": {},
   "outputs": [
    {
     "name": "stdout",
     "output_type": "stream",
     "text": [
      "Kvadratrota av 4 er: 2.0 Sinus til 30 grader er: 0.49999999999999994\n"
     ]
    }
   ],
   "source": [
    "from pylab import *\n",
    "\n",
    "kvadratrot = sqrt(4)\n",
    "sinus = sin(radians(30))\n",
    "\n",
    "print(\"Kvadratrota av 4 er:\", kvadratrot, \"Sinus til 30 grader er:\", sinus)"
   ]
  },
  {
   "cell_type": "markdown",
   "metadata": {},
   "source": [
    "Merk at vi må gjøre om vinkelmålet til radianer (som er et vinkelmål man lærer om i R-matte) til grader. Det samme prinsippet gjelder for øvrig i GeoGebra."
   ]
  },
  {
   "cell_type": "markdown",
   "metadata": {},
   "source": [
    "```{admonition} Oppgave 1.1\n",
    ":class: tip\n",
    "Bruk kodeboksen nedenfor til å lage relevante variabler slik at programmet regner ut arealet av en trekant med grunnlinje 4 og høyde 2. Programmet inneholder litt kode fra før til å hjelpe deg på vei.\n",
    "```\n",
    "\n",
    "```{admonition} Oppgave 1.2\n",
    ":class: tip\n",
    "Lag et program som regner ut radius til en sirkel med arealet 4.\n",
    "```\n",
    "\n",
    "```{admonition} Ekstra: Oppgave 1.3\n",
    ":class: tip\n",
    "For å ta input fra brukeren av programmet istedenfor å skrive variabelverdier rett inn i programmet, kan vi bruke input-funksjonen til Python.\n",
    "\n",
    "tall = float(input(\"Skriv et tall: \"))\n",
    "\n",
    "Lag et program som bruker en formel fra matematikken til å regne ut noe. Bruk input-funksjonen til å hente variabelverdier fra brukeren.\n",
    "```\n",
    "\n",
    "<iframe src=\"https://trinket.io/embed/python3/201ecb4ca2\" width=\"100%\" height=\"600\" frameborder=\"0\" marginwidth=\"0\" marginheight=\"0\" allowfullscreen></iframe>"
   ]
  },
  {
   "cell_type": "markdown",
   "metadata": {},
   "source": [
    "## 2. Vilkår (if-tester)"
   ]
  },
  {
   "cell_type": "markdown",
   "metadata": {},
   "source": [
    "```{admonition} Vilkår (if-test)\n",
    "Et vilkår, eller en betingelse, er en logisk test for å sjekke om et kriterium er oppfylt. Dersom kriteriet er oppfylt, utføres det en handling. Dersom kriteriet ikke er oppfylt, blir ikke handlingen utført.```"
   ]
  },
  {
   "cell_type": "code",
   "execution_count": 7,
   "metadata": {},
   "outputs": [
    {
     "name": "stdout",
     "output_type": "stream",
     "text": [
      "Tallet er passe stort.\n"
     ]
    }
   ],
   "source": [
    "tall = 42\n",
    "\n",
    "if tall < 5:\n",
    "    print(\"Tallet er veldig lite.\")\n",
    "elif tall < 20:\n",
    "    print(\"Tallet er ganske lite.\")   \n",
    "elif tall < 50:\n",
    "    print(\"Tallet er passe stort.\")\n",
    "elif tall < 100:\n",
    "    print(\"Tallet er ganske stort.\")\n",
    "else:\n",
    "    print(\"Tallet er enormt!\")\n"
   ]
  },
  {
   "cell_type": "markdown",
   "metadata": {},
   "source": [
    "Det er noen ting å huske på her:\n",
    "- Alt som er rykket inn utføres kun hvis if-testen ovenfor er sann. Innrykk er derfor viktig for strukturen.\n",
    "- \"elif\" står for \"else if\", og sjekker noe nytt, mens \"else\" brukes for å gjøre noe dersom ingen av kriteriene under \"if\" og \"elif\" er sanne.\n",
    "- Det er den første if-testen som er sann i en serie av if-elif-else som utføres. Alle andre overses. Dersom vi skriver \"if\" en gang til, begynner vi på en ny serie med if-elif-else.\n",
    "- Vi _må_ begynne med \"if\", mens \"elif\" og \"else\" er valgfritt.\n",
    "- De logiske operatorene vi kan velge mellom, er:\n",
    "\n",
    "| Symbol | Betydning            |\n",
    "|--------|----------------------|\n",
    "| >      | større enn           |\n",
    "| <      | mindre enn           |\n",
    "| ==     | lik                  |\n",
    "| !=     | ikke lik             |\n",
    "| <=     | mindre enn eller lik |\n",
    "| >=     | større enn eller lik |"
   ]
  },
  {
   "cell_type": "markdown",
   "metadata": {},
   "source": [
    "```{admonition} Oppgave 2.1\n",
    ":class: tip\n",
    "Lag et program der du sjekker om et tall er positivt, negativt eller null, og skriver ut relevante setninger. Du kan ta utgangspunkt i programkoden i kodeboksen nedenfor.\n",
    "```\n",
    "\n",
    "```{admonition} Oppgave 2.2\n",
    ":class: tip\n",
    "Lag et program med en variabel kalt pH. Programmet skal skrive ut om løsningen med denne pH-en er sur, basisk eller nøytral.\n",
    "```\n",
    "\n",
    "```{admonition} Oppgave 2.3\n",
    ":class: tip\n",
    "Forklar hvorfor de to ulike programmene nedenfor gir ulike output.\n",
    "```"
   ]
  },
  {
   "cell_type": "code",
   "execution_count": 15,
   "metadata": {},
   "outputs": [
    {
     "name": "stdout",
     "output_type": "stream",
     "text": [
      "17\n"
     ]
    }
   ],
   "source": [
    "a = 10\n",
    "if a > 5:\n",
    "    a = a + 5\n",
    "a = a + 2\n",
    "print(a)"
   ]
  },
  {
   "cell_type": "code",
   "execution_count": 16,
   "metadata": {},
   "outputs": [
    {
     "name": "stdout",
     "output_type": "stream",
     "text": [
      "15\n"
     ]
    }
   ],
   "source": [
    "a = 10\n",
    "if a > 5:\n",
    "    a = a + 5\n",
    "else:\n",
    "    a = a + 2\n",
    "print(a)"
   ]
  },
  {
   "cell_type": "markdown",
   "metadata": {},
   "source": [
    "```{admonition} Oppgave 2.4\n",
    ":class: tip\n",
    "I et programmeringspuslespill skal du bruke ferdige kodeblokker til å pusle sammen et program. [Dette puslespillet](http://parsons.problemsolving.io/puzzle/6e30d3320c8e4ba69b61a0e302754a3c) skal bli et program som skal regne ut hvor mange løsninger en andregradslikning på formen $ax^2 + bx + c = 0$ har. Prøv å sette sammen puslespillet. Pass på innrykk og rekkefølge! Hvis du blir fort ferdig, kan du prøve [denne varianten](http://parsons.problemsolving.io/puzzle/a56e0f5a917a4079aadffb571c3d411e). Hvis du har mer tid til overs, kan du jo prøve å lage programmet selv!\n",
    "```\n",
    "\n",
    "<iframe src=\"https://trinket.io/embed/python3/12af96f83e\" width=\"100%\" height=\"600\" frameborder=\"0\" marginwidth=\"0\" marginheight=\"0\" allowfullscreen></iframe>"
   ]
  },
  {
   "cell_type": "markdown",
   "metadata": {},
   "source": [
    "## 3. Løkker\n",
    "\n",
    "Den kanskje viktigste strukturen i programmering er løkker. De lar datamaskinen gjenta en operasjon så mange ganger vi vil. Det er dette som er datamaskinens styrke.\n",
    "\n",
    "```{admonition} Løkker\n",
    "En løkke er en struktur som gjør at vi kan gjenta kode. Ofte skiller vi mellom en _telleløkke_, som gjentar noe et visst antall ganger, og en _tilstandsløkke_, som gjentar så lenge noe er sant. I Python heter disse henholdsvis _for_-løkke og _while_-løkke.\n",
    "```"
   ]
  },
  {
   "cell_type": "code",
   "execution_count": 11,
   "metadata": {},
   "outputs": [
    {
     "name": "stdout",
     "output_type": "stream",
     "text": [
      "2\n",
      "4\n",
      "6\n",
      "8\n",
      "10\n"
     ]
    }
   ],
   "source": [
    "partall = 0\n",
    "\n",
    "for i in range(5): # Gjenta 5 ganger\n",
    "    partall = partall + 2\n",
    "    print(partall)"
   ]
  },
  {
   "cell_type": "code",
   "execution_count": 13,
   "metadata": {},
   "outputs": [
    {
     "name": "stdout",
     "output_type": "stream",
     "text": [
      "2\n",
      "4\n",
      "6\n",
      "8\n",
      "10\n"
     ]
    }
   ],
   "source": [
    "partall = 0\n",
    "\n",
    "while partall < 10:\n",
    "    partall = partall + 2\n",
    "    print(partall)"
   ]
  },
  {
   "cell_type": "markdown",
   "metadata": {},
   "source": [
    "```{admonition} Oppgave 3.1\n",
    ":class: tip\n",
    "Lag et program som skriver ut \"Du er flink til å programmere!\" tusen ganger.\n",
    "```\n",
    "\n",
    "```{admonition} Oppgave 3.2\n",
    ":class: tip\n",
    "Programmet nedenfor skal finne tall nr. 100 i en tallfølge der hvert ledd er den dobbelte av det forrige. Forklar hvordan programmet fungerer. Endre gjerne på ulike variabler og test hva utfallet blir for å forstå hvordan programmet fungerer.\n",
    "```\n",
    "\n",
    "<iframe src=\"https://trinket.io/embed/python3/51f01c11f8\" width=\"100%\" height=\"600\" frameborder=\"0\" marginwidth=\"0\" marginheight=\"0\" allowfullscreen></iframe>\n",
    "\n",
    "\n",
    "```{admonition} Oppgave 3.3\n",
    ":class: tip\n",
    "Skriv om programmet ovenfor slik at du benytter en while-løkke enn en for-løkke.\n",
    "```\n",
    "\n",
    "```{admonition} Oppgave 3.4\n",
    ":class: tip\n",
    "Programmene nedenfor skal regne ut hvor lang tid det tar før du har doblet beløpet ditt i banken gitt en bestemt rente, men det fungerer ikke som det skal. Hva er feil? Rett opp programmet slik at det fungerer.\n",
    "```\n",
    "\n"
   ]
  }
 ],
 "metadata": {
  "celltoolbar": "Edit Metadata",
  "kernelspec": {
   "display_name": "Python 3",
   "language": "python",
   "name": "python3"
  },
  "language_info": {
   "codemirror_mode": {
    "name": "ipython",
    "version": 3
   },
   "file_extension": ".py",
   "mimetype": "text/x-python",
   "name": "python",
   "nbconvert_exporter": "python",
   "pygments_lexer": "ipython3",
   "version": "3.8.5"
  }
 },
 "nbformat": 4,
 "nbformat_minor": 4
}
