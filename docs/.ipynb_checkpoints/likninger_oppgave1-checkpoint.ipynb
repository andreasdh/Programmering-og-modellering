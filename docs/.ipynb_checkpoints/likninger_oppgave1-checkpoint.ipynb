{
 "cells": [
  {
   "cell_type": "markdown",
   "id": "sweet-provider",
   "metadata": {},
   "source": [
    "# Numerisk løsning av likninger\n",
    "Gå sammen i grupper på ca. fire personer og diskuter oppgavene nedenfor.\n",
    "\n",
    "## Oppgave 1\n",
    "a)Diskuter følgende spørsmål parvis i gruppa:\n",
    "1.\tHva er en likning?\n",
    "2.\tHva betyr det å løse en likning?\n",
    "3.\tHva er felles for alle nullpunkter?\n",
    "\n",
    "b)Se på grafen til funksjonen f(x) nedenfor. Du kjenner ikke funksjonsuttrykket til denne grafen. Hvilke av følgende intervaller finnes nullpunktet i?\n",
    "\n",
    "[-1, 0.5], [-1, 2], [0, 1], [0.5, 1], [1, 2], [-1, 2]\n",
    "\n",
    " \n",
    "c)Hva er forskjellen mellom funksjonsverdien til funksjonen i randpunktene på de intervallene som inneholder nullpunktene og de som ikke gjør det? Er det noen systematisk sammenheng her?\n",
    "\n",
    "d)Ta utgangspunkt i intervallet [0, 2]. Hvordan kan du justere dette intervallet systematisk for å komme nærmere og nærmere nullpunktet? Prøv å anvende generaliseringen om funksjonsverdiene ovenfor.\n",
    "\n",
    "e)Prøv å formulere en enkel systematisk algoritme for å finne nullpunktet gitt et intervall.\n",
    "\n",
    "f)Dere får utdelt noen grafer. En på gruppa får se grafene. Denne personen kan kun oppgi funksjonsverdier, mens de andre kan teste algoritmen dere lagde ovenfor ved å systematisk oppgi ulike x-verdier. Fungerte metoden på alle grafene?"
   ]
  },
  {
   "cell_type": "markdown",
   "id": "signal-debate",
   "metadata": {},
   "source": [
    "## Oppgave 2\n",
    "Følgende funksjon blei gitt på eksamen i 2009:\n",
    "\n",
    "$$f(x)=2\\ln⁡\\left((x^4+4)-\\frac{1}{2}x\\right)$$\n",
    "\n",
    "a) Prøv å løse likninga $f(x) = 0$ for hånd. Hvor langt kommer du med det? Dette kaller vi analytisk løsning av likninger, og vi ender opp med et eksakt svar hvis vi får det til.\n",
    "\n",
    "b) Tegn grafen for funksjonen ovenfor og bruk metoden dere formulerte i oppgave 1 til å finne en tilnærma løsning. Dette kaller vi numerisk løsning av likninger."
   ]
  }
 ],
 "metadata": {
  "kernelspec": {
   "display_name": "Python 3",
   "language": "python",
   "name": "python3"
  },
  "language_info": {
   "codemirror_mode": {
    "name": "ipython",
    "version": 3
   },
   "file_extension": ".py",
   "mimetype": "text/x-python",
   "name": "python",
   "nbconvert_exporter": "python",
   "pygments_lexer": "ipython3",
   "version": "3.8.5"
  }
 },
 "nbformat": 4,
 "nbformat_minor": 5
}
