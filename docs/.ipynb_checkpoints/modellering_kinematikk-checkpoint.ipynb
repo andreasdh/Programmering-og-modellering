{
 "cells": [
  {
   "cell_type": "markdown",
   "metadata": {},
   "source": [
    "# Modelleringsoppgave: Kinematikk (fysikk)\n",
    "\n",
    "## Del 1 – Kinematikk: Diskrete modeller\n",
    "I fysikken jobber vi ofte med forenklede modeller fordi vi er begrenset av matematikken. Vi kan fort ende opp med uttrykk som er svært vanskelige eller umulige å løse for hånd. Med programmering kan vi øke modellkompleksiteten og dermed utforske mer virkelighetsnære modeller.\n",
    "\n",
    "La oss begynne med en enkel modell for fritt fall av en kule. Modellen kan løses med penn og papir, så det er en god indikasjon på om framgangsmåten vår stemmer.\n",
    "\n",
    "For en kule i fritt fall kan vi modellere bevegelsen ved å ta hensyn til kun gravitasjonskreftene. Vi tar utgangspunkt i Newtons 2. lov:\n",
    "\n",
    "$$\\sum F = ma$$\n",
    "\n",
    "Her er summen av kreftene kun gravitasjonskraften:\n",
    "\n",
    "$$G = ma$$\n",
    "\n",
    "Vi trenger nå en modell for gravitasjonskraften *G*. Vi kjenner fra fysikk at vi ofte uttrykker *G* slik:\n",
    "\n",
    "$$G = mg$$\n",
    "\n",
    "der $g = 9.8$ m/s$^2$ er tyngdeakselerasjonen ved havnivå på jorda og $m$ er massen til legemet på jorda. Dette er en modell som kan utledes fra Newtons gravitasjonslov.\n",
    "\n",
    "a) Klikk på boksen nedenfor for å se begrunnelsen for modellen for gravitasjonskrefter. Prøv deretter å forklare for hverandre med ord hvordan $G = mg$ utledes og hvilke forutsetninger denne modellen har.\n",
    "\n",
    "```{admonition} Hint 1\n",
    ":class: dropdown\n",
    "Gravitasjonskreftene beskrives av Newtons gravitasjonslov:\n",
    "\n",
    "$$G = k_G \\frac{m_1m_2}{r^2}$$\n",
    "\n",
    "der $F_G$ er gravitasjonskreftene som virker mellom to legemer med henholdsvis masse $m_1$ og $m_2$ med avstand $r$ mellom hverandres tyngdesentre. $k_G$ er gravitasjonskonstanten ($k_G = 6,674\\cdot 10^{-11} N\\cdot (m/kg)^2$).\n",
    "\n",
    "En forenkling vi kan gjøre for legemer på jorda, er å løse Newtons gravitasjonslov ved å bruke massen til jorda ($5,972\\cdot 10^{24} kg$) og avstanden fra jordas massesenter til legemet. Dette gjør vi fordi vi kan si at gravitasjonskraften virker fra masssesenteret til et legeme. Avstanden fra jordas massesenter til overflaten, er 6371 km. Så for et punktlegeme som står på overflaten av jorda, får vi da:\n",
    "\n",
    "$$G = 6,674\\cdot 10^{-11} \\frac{m_1 \\cdot 5,972\\cdot 10^{24}}{6371000^2} \\approx m_1 \\cdot 9,8$$\n",
    "\n",
    "Dette kjenner vi igjen som tyngdeakselerasjonen $g$ multiplisert med massen til legemet: $G = mg$. Siden vi regner fra jordas overflate, varierer selvsagt $g$ med avstanden legemet befinner seg fra jorda.\n",
    "\n",
    "```\n",
    "I *diskrete* modeller tar vi utgangspunkt i et endelig steg, f.eks. tidssteg, mellom hver verdi. Vi skal her operere med konstant akselerasjon og anta at farten og posisjonen også er konstante innenfor et lite tidsrom *dt*. For konstant posisjon har vi at:\n",
    "\n",
    "$$s_{t+dt} = s_t + v_t\\cdot dt$$\n",
    "\n",
    "som du kanskje kjenner igjen som \"formelen\" $s = v\\cdot t$. Tilsvarende kan vi anta for hastigheten:\n",
    "\n",
    "$$v_{t+dt} = v_t + a_t\\cdot dt$$\n",
    "\n",
    "b) Lag et program som regner ut hvor langt ballen har falt etter en viss tid. Velg startverdier og tid selv. Du kan ta utgangspunkt i dette programmet, eller lage et helt fra scratch:\n",
    "\n",
    "<iframe src=\"https://trinket.io/embed/python3/3c6a2d6edc\" width=\"100%\" height=\"356\" frameborder=\"0\" marginwidth=\"0\" marginheight=\"0\" allowfullscreen></iframe>\n",
    "\n",
    "c) Hvilke antakelser har vi tatt og hvilke forutsetninger tar modellene våre utgangspunkt i? Kommenter både hvordan vi regner ut posisjon og fart, i tillegg til modellen for gravitasjon.\n",
    "\n",
    "d) Utvid programmet slik at det plotter posisjonen som funksjon av tid.\n",
    "\n",
    "La oss nå utvide programmet ved å ta hensyn til flere krefter, for eksempel luftmotstand. Vi har mange ulike modeller for luftmotstand, avhengig av hva slags legeme vi har med å gjøre og hvor stor hastighet legemet faller. Følgende modell er mye brukt:\n",
    "\n",
    "$$L = k\\cdot v^2$$\n",
    "\n",
    "e) Diskuter hva som menes med parameteren $k$. Hvordan finner man slike parametere? Hvorfor er $v$ kvadrert?\n",
    "\n",
    "Vi kan nå sette denne modellen inn i Newtons andre lov sammen med gravitasjonskreftene. Vi velger positiv retning nedover, så *G* får positivt fortegn og *L* får negativt fortegn.\n",
    "\n",
    "f) Lag et program som plotter både hastighet og posisjon for et legeme på 1,0 kg som faller. Bruk $k = 0.1$.\n",
    "\n",
    "g) Lag et program som finner ut *når* et legeme treffer bakken gitt en starthøyde $s_0$.\n",
    "\n",
    "En alternativ måte å lagre verdier på, er å bruke arrayer.\n",
    "\n",
    "f) Løs [dette programmeringspuslespillet](http://parsons.problemsolving.io/puzzle/638e48fe2d594c77a29f347591cd9e80). Puslespillet beregner akselerasjon, hastighet og posisjon til et legeme som faller med luftmotstand. Noen steder er rekkefølgen angitt som kommentar. Når rekkefølgen ikke er entydig, skal du angi $a$, $v$, $s$ og $t$ i denne rekkefølgen.\n",
    "\n",
    "g) Eksperimenter med modellene i programmet ditt ved å systematisk variere $k$, endre på luftmotstandsmodellen eller tilsvarende. Redegjør for resultatene dine og drøft det du ser.\n",
    "\n",
    "h) La legemet bli kastet oppover med en startfart istedenfor at den slippes. Fungerer programmet nå? Hva må du ta hensyn til når du beregner luftmotstanden? Hint: Tegn en tegning som viser kreftene på en ball når den faller nedover og når den er på vei oppover.\n",
    "\n",
    "### Differenslikninger\n",
    "\n",
    "Når vi bruker sammenhenger som $s_{t+dt} = s_t + v_t\\cdot dt$, formulerer vi sammenhengene mellom ulike størrelser som _differenslikninger_. En differenslikning er en likning der verdien til en størrelse (f.eks. posisjon) avhenger av den forrige verdien til størrelsen (f.eks. posisjonen ved forrige tidssteg). Et annet eksempel på dette er tallfølger. Se videoen nedenfor for en liten innføring i numerisk løsing av differenslikninger."
   ]
  },
  {
   "cell_type": "code",
   "execution_count": 2,
   "metadata": {
    "tags": [
     "remove-input"
    ]
   },
   "outputs": [
    {
     "data": {
      "text/html": [
       "<iframe width=\"950\" height=\"600\" src=\"https://www.youtube.com/embed/u6wgr0GRoLM? autoplay=0&rel=0\" frameborder=\"0\" allow=\"accelerometer; autoplay; encrypted-media; gyroscope; picture-in-picture\" allowfullscreen></iframe>"
      ],
      "text/plain": [
       "<IPython.core.display.HTML object>"
      ]
     },
     "execution_count": 2,
     "metadata": {},
     "output_type": "execute_result"
    }
   ],
   "source": [
    "from IPython.display import HTML\n",
    "# Youtube\n",
    "HTML('<iframe width=\"950\" height=\"600\" src=\"https://www.youtube.com/embed/u6wgr0GRoLM? autoplay=0&rel=0\" frameborder=\"0\" allow=\"accelerometer; autoplay; encrypted-media; gyroscope; picture-in-picture\" allowfullscreen></iframe>')"
   ]
  },
  {
   "cell_type": "markdown",
   "metadata": {},
   "source": [
    "## Del 2 – Kinematikk: Kontinuerlig modeller\n",
    "\n",
    "Newtons 2. lov kan også formuleres som en *differensiallikning* fordi den beskriver den momentane endringen i posisjon og fart, det vil si den deriverte, som funksjon av tid. Dette er fordi $a(t) = v'(t) = s''(t)$. Da går vi fra en *diskret* modell til en *kontinuerlig* modell med et tidssteg som i utgangspunktet er så lite som mulig:\n",
    "\n",
    "$$a(t) = v'(t) = g - \\frac{kv(t)}{g}$$\n",
    "\n",
    "En differensiallikning er en likning som inneholder den deriverte av en funksjon, $f'(x)$. I de fleste praktiske situasjoner beskriver slike likninger sammenhengen mellom endringen, $f'(t)$, og tilstanden, $f(t)$, til et system ved tida $t$.\n",
    "\n",
    "Vi har altså en differensiallikning som beskriver endringen i systemet $v'(t)$, men ingen informasjon om selve farten $v(t)$. Vi ønsker med andre ord å finne farten (og etterpå posisjonen) ved enhver tid gitt en eller annen startbetingelse (startfart og startposisjon). Det er det samme som å si at vi ønsker å finne funksjonsverdien $v(t + dt)$ for hvert tidssteg $dt$.\n",
    "\n",
    "I teorien er ingen modeller kontinuerlige på en datamaskin, men vi gjør modellene \"mindre diskrete\" ved å velge tidssteg som er små.\n",
    "\n",
    "### Newtons 2. lov som differensiallikning\n",
    "\n",
    "Vi formulerer nå Newtons 2. lov slik:\n",
    "\n",
    "$$\\sum F = ma(t) = mv'(t) = ms''(t)$$\n",
    "\n",
    "det betyr at:\n",
    "\n",
    "$$v'(t) = \\frac{\\sum F}{m}$$\n",
    "\n",
    "$$s''(t) = \\frac{\\sum F}{m}$$\n",
    "\n",
    "Programmene våre blir egentlig ikke noe annerledes fra slik vi lagde dem da vi hadde diskrete modeller. Det er kun _graden_ av _diskretisering_ som skiller modellene. For kontinuerlige modeller må vi bare passe på å velge en *dt* som er liten nok.\n",
    "\n",
    "### En metode for løsing av differensiallikninger\n",
    "Nå vi skal løse en differensiallikning, har vi en initalbetingelse $y_0$ og et uttrykk for den deriverte $y'$. Vi ønsker derfor å finne $y_1$ og alle andre funksjonsverider.\n",
    "\n",
    "Du kjenner faktisk allerede til et uttrykk som inneholder en funksjon og dens deriverte, nemlig definisjonen av den deriverte! Vi bruker den numeriske definisjonen der vi tilnærmer grenseverdiene med en _dx_ ($\\Delta x$) som er så liten som mulig:\n",
    "\n",
    "$$f'(x) \\approx \\frac{f(x+dx) - f(x)}{dx}$$\n",
    "\n",
    "Til å begynne med kjenner vi $f(x)$ ($v(t)$), altså $f(x_0)$. Dette er initialbetingelsen, for eksempel startfarten $v(t_0)$. Vi kjenner også et uttrykk for den deriverte av farten (akselerasjonen) gjennom Newtons 2. lov. I tillegg bestemmer vi selv tidssteget, _dx_ (_dt_), men husk at det verken bør være for lite eller for stort. Den eneste ukjente i likningen ovenfor er altså $f(x+dx)$, og det er jo nettopp dette vi prøver å finne. Med litt enkel algebra får vi omformet uttrykket slik at det blir et uttrykk for $f(x+dx)$. Vi ganger først med $dx$ på begge sider:\n",
    "\n",
    "$$f'(x)\\cdot dx \\approx f(x+dx) - f(x)$$\n",
    "\n",
    "Deretter får vi $f(x+dx)$ aleine på høyre side og ender opp med følgende likning:\n",
    "\n",
    "$$f(x+dx) \\approx f(x) + f'(x)\\cdot dx$$\n",
    "\n",
    "Dette kalles _Eulers metode_. Den  brukes til å løse differensiallikninger, det vil si å integrere den deriverte slik at vi finner funksjonsverdiene. Siden vi ofte har med funksjoner av tid å gjøre, kaller vi gjerne _dx_ for _dt_.\n",
    "\n",
    "i) Forklar hva en differensiallikning er. Hvorfor er Newtons 2. lov en differensiallikning?\n",
    "\n",
    "j) Er det noen forskjell på å bruke Eulers metode og bevegelseslikningene vi brukte i programmene våre ($v = v_0 + at$ og $s = s_0 + vt$)?\n",
    "\n",
    "k) __Frivillig (Fysikk 2):__ Lag et program som simulerer todimensjonalt kast av ball. Ta hensyn til luftmotstand og gravitasjon."
   ]
  }
 ],
 "metadata": {
  "celltoolbar": "Edit Metadata",
  "kernelspec": {
   "display_name": "Python 3",
   "language": "python",
   "name": "python3"
  },
  "language_info": {
   "codemirror_mode": {
    "name": "ipython",
    "version": 3
   },
   "file_extension": ".py",
   "mimetype": "text/x-python",
   "name": "python",
   "nbconvert_exporter": "python",
   "pygments_lexer": "ipython3",
   "version": "3.8.5"
  }
 },
 "nbformat": 4,
 "nbformat_minor": 4
}
