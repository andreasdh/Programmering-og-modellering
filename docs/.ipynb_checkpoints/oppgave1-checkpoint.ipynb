{
 "cells": [
  {
   "cell_type": "markdown",
   "metadata": {},
   "source": [
    "# Modelleringsoppgave I\n",
    "## Smittespredning\n",
    "\n",
    "Vi utforsker her en modelle for smittesprendning av sykdommer. Vi kan tenke oss at antall smittede indivier *I* (\"Inceptibles\") utvikler seg slik:\n",
    "\n",
    "$$I_{t+1} = I_n + aI_n$$\n",
    "\n",
    "Bildet nedenfor viser spike-proteinet som ligger på overflaten til coronaviruset, og som gir viruset dets karakteristiske form:"
   ]
  },
  {
   "cell_type": "code",
   "execution_count": 2,
   "metadata": {
    "tags": [
     "remove-input"
    ]
   },
   "outputs": [
    {
     "data": {
      "application/3dmoljs_load.v0": "<div id=\"3dmolviewer_16068959667639062\"  style=\"position: relative; width: 640px; height: 480px\">\n        <p id=\"3dmolwarning_16068959667639062\" style=\"background-color:#ffcccc;color:black\">You appear to be running in JupyterLab (or JavaScript failed to load for some other reason).  You need to install the 3dmol extension: <br>\n        <tt>jupyter labextension install jupyterlab_3dmol</tt></p>\n        </div>\n<script>\n\nvar loadScriptAsync = function(uri){\n  return new Promise((resolve, reject) => {\n    var tag = document.createElement('script');\n    tag.src = uri;\n    tag.async = true;\n    tag.onload = () => {\n      resolve();\n    };\n  var firstScriptTag = document.getElementsByTagName('script')[0];\n  firstScriptTag.parentNode.insertBefore(tag, firstScriptTag);\n});\n};\n\nif(typeof $3Dmolpromise === 'undefined') {\n$3Dmolpromise = null;\n  $3Dmolpromise = loadScriptAsync('https://3dmol.org/build/3Dmol.js');\n}\n\nvar viewer_16068959667639062 = null;\nvar warn = document.getElementById(\"3dmolwarning_16068959667639062\");\nif(warn) {\n    warn.parentNode.removeChild(warn);\n}\n$3Dmolpromise.then(function() {\nviewer_16068959667639062 = $3Dmol.createViewer($(\"#3dmolviewer_16068959667639062\"),{backgroundColor:\"white\"});\n$3Dmol.download(\"pdb:6B7N\", viewer_16068959667639062, {}, function() {\n\tviewer_16068959667639062.setStyle({\"cartoon\": {\"color\": \"spectrum\"}});\nviewer_16068959667639062.zoomTo();\nviewer_16068959667639062.render();\n})\n});\n</script>",
      "text/html": [
       "<div id=\"3dmolviewer_16068959667639062\"  style=\"position: relative; width: 640px; height: 480px\">\n",
       "        <p id=\"3dmolwarning_16068959667639062\" style=\"background-color:#ffcccc;color:black\">You appear to be running in JupyterLab (or JavaScript failed to load for some other reason).  You need to install the 3dmol extension: <br>\n",
       "        <tt>jupyter labextension install jupyterlab_3dmol</tt></p>\n",
       "        </div>\n",
       "<script>\n",
       "\n",
       "var loadScriptAsync = function(uri){\n",
       "  return new Promise((resolve, reject) => {\n",
       "    var tag = document.createElement('script');\n",
       "    tag.src = uri;\n",
       "    tag.async = true;\n",
       "    tag.onload = () => {\n",
       "      resolve();\n",
       "    };\n",
       "  var firstScriptTag = document.getElementsByTagName('script')[0];\n",
       "  firstScriptTag.parentNode.insertBefore(tag, firstScriptTag);\n",
       "});\n",
       "};\n",
       "\n",
       "if(typeof $3Dmolpromise === 'undefined') {\n",
       "$3Dmolpromise = null;\n",
       "  $3Dmolpromise = loadScriptAsync('https://3dmol.org/build/3Dmol.js');\n",
       "}\n",
       "\n",
       "var viewer_16068959667639062 = null;\n",
       "var warn = document.getElementById(\"3dmolwarning_16068959667639062\");\n",
       "if(warn) {\n",
       "    warn.parentNode.removeChild(warn);\n",
       "}\n",
       "$3Dmolpromise.then(function() {\n",
       "viewer_16068959667639062 = $3Dmol.createViewer($(\"#3dmolviewer_16068959667639062\"),{backgroundColor:\"white\"});\n",
       "$3Dmol.download(\"pdb:6B7N\", viewer_16068959667639062, {}, function() {\n",
       "\tviewer_16068959667639062.setStyle({\"cartoon\": {\"color\": \"spectrum\"}});\n",
       "viewer_16068959667639062.zoomTo();\n",
       "viewer_16068959667639062.render();\n",
       "})\n",
       "});\n",
       "</script>"
      ]
     },
     "metadata": {},
     "output_type": "display_data"
    },
    {
     "data": {
      "text/plain": [
       "<py3Dmol.view at 0x242166663a0>"
      ]
     },
     "execution_count": 2,
     "metadata": {},
     "output_type": "execute_result"
    }
   ],
   "source": [
    "import py3Dmol\n",
    "\n",
    "spike_prot = py3Dmol.view(query='pdb:6B7N')\n",
    "spike_prot.setStyle({'cartoon':{'color':'spectrum'}})"
   ]
  },
  {
   "cell_type": "markdown",
   "metadata": {},
   "source": [
    "### Oppgave 1\n",
    "\n",
    "- Forklar for hverandre med ord hva modellen sier. Hva betyr de ulike symbolene i likningen?\n",
    "- I hvilke sammenhenger kan det være hensiktsmessig å bruke en slik modell? Hvilke begrensninger har modellen?\n",
    "- Lag et program som simulerer smitteutviklingen over 48 uker i en populasjon med 157759 individer, en kontaktrate på 0.2 per uke og . Hvis du trenger hjelp, kan du trykke på hintet nedenfor.\n",
    "\n",
    "```{admonition} Hint 1\n",
    ":class: dropdown\n",
    "En pseudokode for programmet er:\n",
    "\n",
    "# Sett opp startverdier\n",
    "populasjonsstørrelse, kontaktrate og slutt-tid\n",
    "antall smittede\n",
    "\n",
    "# Lag lister for å spare på verdiene\n",
    "\n",
    "smittede = []\n",
    "\n",
    "tid []\n",
    "\n",
    "gjenta til tid = tid_slutt:\n",
    "    # Beregn antall smittede vha. modellen\n",
    "    # Legg verdiene i lister\n",
    "    \n",
    "plott antall smittede mot t\n",
    "```\n",
    "- Beskriv utviklingen. Varier systematisk *a* og antall smittede til å begynne med. Kommenter hva som skjer.\n",
    "- Hvorfor er det viktig at kontaktraten har en *enhet* (her: uker)?\n",
    "\n",
    "### Oppgave 2\n",
    "Vi utvider modellen ved å innføre en kategori for de som er *mottakelige*, *S* (\"susceptibles\"). Det vil si at de som allerede er smittet, ikke kan bli smittet igjen. Vi modifiserer da modellen for de smittede, slik at den også tar hensyn til den nye kategorien:\n",
    "\n",
    "$$I_{t+1} = I_n + aI_nS_n$$\n",
    "\n",
    "- Forklar hva som er endret i modellen. Hvorfor kan vi gjøre dette?\n",
    "- Lag en modell for *S* (mottakelige) basert på modellen for *I*. Hint: Når en person er smittet, hva skjer med antall mottakelige?\n",
    "- Utvid programmet ditt til å beregne og plotte antall mottakelige og smittede i samme koordinatsystem. Bruk merkelapper (labels og legend) slik at vi ser hvilken kurve som beskriver hva. Beskriv grafen med ord.\n",
    "- Varier systematisk *a* og antall smittede til å begynne med. Kommenter hva som skjer.\n",
    "- I hvilke sammenhenger kan det være hensiktsmessig å bruke en slik modell? Hvilke begrensninger har modellen?\n",
    "\n",
    "### Oppgave 3\n",
    "Vi legger nå til muligheten for å bli frisk (hurra!). Da trenger vi også å innføre en *bedringsrate*, *b*. Et uttrykk for antall smittede kan nå være:\n",
    "\n",
    "$$I_{t+1} = I_n + aI_nS_n - bI_n$$\n",
    "\n",
    "- Forklar alle leddene i modellen for smittede. Hva er betydningen til *b*? Hva kan være en ok størrelse for b i dette tilfellet? Diskuter.\n",
    "- Lag en modell for antall friske med utgangspunkt i modellen ovenfor.\n",
    "- Simuler og plott utviklingen. Hvis grafen ikke ser fornutftig ut, bør du eksperimentere med andre verdier av *b*.\n",
    "- Beskriv grafen med ord.\n",
    "- I hvilke sammenhenger kan det være hensiktsmessig å bruke en slik modell? Hvilke begrensninger har modellen?\n",
    "\n",
    "Det er vanskelig å fastsette parametrene *a* og *b*. Ofte fastsettes de ved å løpende sammenlikne modellene med reelle data fra observasjoner eller eksperimenter. I fila 'influensa.txt' (se \"Datafiler\" i sidemenyen) finner du en oversikt over antall smittede av influensaviruset H3N2 i en populasjon med 157 759 personer. \n",
    "\n",
    "- Les av fila og plott dataene sammen med modellen og prøv å variere *a* og *b* slik at modellen stemmer så godt som mulig med dataene.\n",
    "- Diskuter om modellen kan si noe mer generelt om smittespredning enn akkurat dette tilfellet.\n",
    "\n",
    "### Ekstra: Oppgave 4\n",
    "Vaksiner kan redusere antall mottakelige betraktelig.\n",
    "- Hvordan kan du utvide modellen slik at den tar hensyn til vaksinering?\n",
    "- Lag et program der du utforsker effekten av ulike grader av vaksinasjon (i %).\n",
    "\n",
    "### Rapport\n",
    "Skriv en rapport i Jupyter notebook der du redegjør gradvis for de ulike modellene dine. Lag også en konklusjon."
   ]
  },
  {
   "cell_type": "code",
   "execution_count": null,
   "metadata": {},
   "outputs": [],
   "source": []
  }
 ],
 "metadata": {
  "celltoolbar": "Edit Metadata",
  "kernelspec": {
   "display_name": "Python 3",
   "language": "python",
   "name": "python3"
  },
  "language_info": {
   "codemirror_mode": {
    "name": "ipython",
    "version": 3
   },
   "file_extension": ".py",
   "mimetype": "text/x-python",
   "name": "python",
   "nbconvert_exporter": "python",
   "pygments_lexer": "ipython3",
   "version": "3.8.5"
  }
 },
 "nbformat": 4,
 "nbformat_minor": 4
}
