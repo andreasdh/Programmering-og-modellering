{
 "cells": [
  {
   "cell_type": "markdown",
   "metadata": {},
   "source": [
    "\n",
    "Antakelser:\n",
    "- Jorda modelleres med en statisk albedo (refleksjonsgrad), $\\alpha$. Dette begrenser tidsrommet modellen kan brukes i, da albedoen på jorda endres med tida. Mengden absorbert kortbølget stråling modelleres slik:\n",
    "\n",
    "$$\\frac{(1-\\alpha)S}{4}$$\n",
    "\n",
    "der $S \\approx 1370$ W/m$^2$\n",
    "\n",
    "- Jorda modelleres som et svartlegeme med hensyn til stråling med lang bølgelengde, altså et legeme som absorberer all stråling som sendes mot den. Dermed følger emisjonen av langbølget stråling Stefan-Boltzmanns lov:\n",
    "\n",
    "$$F = \\epsilon \\cdot \\sigma \\cdot T_s^4\n",
    "\n",
    "der $\\epsilon$ er emissiviteten til legemet, altså et mål på hvor mye legemet oppfører seg som et svartlegeme. For et fullstendig svartlegeme er $\\epsilon = 1$, for et perfekt speil er $\\epsilon = 0$. Stefan-Boltzmann-konstanten $\\sigma = 5.67\\cdot 10^{-8}$ Wm$^{-2}$K$^-4$, og $T_s$ er den gjennomsnittlige temperaturen på overflaten til jorda.\n",
    "\n",
    "\n",
    "\n"
   ]
  }
 ],
 "metadata": {
  "kernelspec": {
   "display_name": "Python 3",
   "language": "python",
   "name": "python3"
  },
  "language_info": {
   "codemirror_mode": {
    "name": "ipython",
    "version": 3
   },
   "file_extension": ".py",
   "mimetype": "text/x-python",
   "name": "python",
   "nbconvert_exporter": "python",
   "pygments_lexer": "ipython3",
   "version": "3.8.3"
  }
 },
 "nbformat": 4,
 "nbformat_minor": 4
}
