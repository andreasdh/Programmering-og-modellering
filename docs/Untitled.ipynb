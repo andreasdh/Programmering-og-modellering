{
 "cells": [
  {
   "cell_type": "markdown",
   "id": "aa971f04",
   "metadata": {},
   "source": [
    "# Oblig 7\n",
    "Andreas Haraldsrud\n",
    "\n",
    "## 7.1\n",
    "Vi gjør en regresjon av ulike målinger av... og finner konsentrasjonen ..."
   ]
  },
  {
   "cell_type": "code",
   "execution_count": null,
   "id": "8909946d",
   "metadata": {},
   "outputs": [],
   "source": []
  },
  {
   "cell_type": "markdown",
   "id": "bba4c56a",
   "metadata": {},
   "source": [
    "Vi ser at modellen vår gir en konsentrasjon på XX mol/L."
   ]
  }
 ],
 "metadata": {
  "kernelspec": {
   "display_name": "Python 3",
   "language": "python",
   "name": "python3"
  },
  "language_info": {
   "codemirror_mode": {
    "name": "ipython",
    "version": 3
   },
   "file_extension": ".py",
   "mimetype": "text/x-python",
   "name": "python",
   "nbconvert_exporter": "python",
   "pygments_lexer": "ipython3",
   "version": "3.8.8"
  }
 },
 "nbformat": 4,
 "nbformat_minor": 5
}
