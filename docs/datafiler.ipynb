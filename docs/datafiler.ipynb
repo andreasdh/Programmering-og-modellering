{
 "cells": [
  {
   "cell_type": "markdown",
   "metadata": {},
   "source": [
    "# Datafiler\n",
    "\n",
    "[solflekker.txt](https://www.uio.no/studier/emner/matnat/ifi/IN-KJM1900/h20/datafiler/solflekker.txt)\n",
    "\n",
    "[temperatur.txt](https://www.uio.no/studier/emner/matnat/ifi/IN-KJM1900/h20/datafiler/temperatur.txt)\n",
    "\n",
    "[heistur.csv](https://www.uio.no/studier/emner/matnat/ifi/IN-KJM1900/h20/datafiler/heistur.csv)\n",
    "\n",
    "[titrering.txt](https://www.uio.no/studier/emner/matnat/ifi/IN-KJM1900/h20/datafiler/titrering.txt)\n",
    "\n",
    "[vin.csv](https://www.uio.no/studier/emner/matnat/ifi/IN-KJM1900/h20/datafiler/vin.csv)\n",
    "\n",
    "[influensa.txt](https://www.uio.no/studier/emner/matnat/ifi/IN-KJM1900/h20/datafiler/influensa.txt)\n",
    "\n",
    "[covid19.csv](https://www.uio.no/studier/emner/matnat/ifi/IN-KJM1900/h20/datafiler/covid19.csv)\n",
    "\n",
    "[posisjon.txt](https://www.uio.no/studier/emner/matnat/ifi/IN-KJM1900/h20/datafiler/posisjon.txt)"
   ]
  },
  {
   "cell_type": "code",
   "execution_count": null,
   "metadata": {},
   "outputs": [],
   "source": []
  }
 ],
 "metadata": {
  "kernelspec": {
   "display_name": "Python 3",
   "language": "python",
   "name": "python3"
  },
  "language_info": {
   "codemirror_mode": {
    "name": "ipython",
    "version": 3
   },
   "file_extension": ".py",
   "mimetype": "text/x-python",
   "name": "python",
   "nbconvert_exporter": "python",
   "pygments_lexer": "ipython3",
   "version": "3.8.5"
  }
 },
 "nbformat": 4,
 "nbformat_minor": 4
}
