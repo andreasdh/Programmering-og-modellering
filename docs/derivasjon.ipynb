{
 "cells": [
  {
   "cell_type": "markdown",
   "metadata": {},
   "source": [
    "# 8. Numerisk derivasjon\n",
    "Derivasjon handler om endring. Den deriverte beskriver stigningen og foranding i et forløp. Nærmere bestemt handler det om momentan endring, altså endringen mellom to tilstander som er så nære hverandre (typisk i tid) som overhodet mulig. Vi har derfor nytte av derivasjon i mange tilfeller der vi ønsker å beskrive en utvikling, og det er ikke sjeldent. Vi kan derimot ikke alltid derivere analytisk for hånd, så det er en stor verdi i å beherske numerisk derivasjon.\n",
    "\n",
    "Her skal vi se på metoder for å tilnærme den deriverte numerisk.\n",
    "\n",
    "```{admonition} Læringsutbytte\n",
    "Etter å ha arbeidet med dette temaet, skal du kunne:\n",
    "1. Forklare den teoretisk bakgrunnen for numerisk derivasjon, og forskjellen på numerisk og analytisk derivasjon.\n",
    "2. Implementere framoverdifferansen, bakoverdifferansen og sentraldifferansen for numerisk derivasjon.\n",
    "3. Derivere funksjoner og eksperimentelle data.\n",
    "```"
   ]
  },
  {
   "cell_type": "code",
   "execution_count": 4,
   "metadata": {
    "tags": [
     "remove-input"
    ]
   },
   "outputs": [
    {
     "data": {
      "text/html": [
       "<iframe width=\"950\" height=\"600\" src=\"https://www.youtube.com/embed/SDZTPkbZCi4? autoplay=0&rel=0\" frameborder=\"0\" allow=\"accelerometer; autoplay; encrypted-media; gyroscope; picture-in-picture\" allowfullscreen></iframe>"
      ],
      "text/plain": [
       "<IPython.core.display.HTML object>"
      ]
     },
     "execution_count": 4,
     "metadata": {},
     "output_type": "execute_result"
    }
   ],
   "source": [
    "from IPython.display import HTML\n",
    "# Youtube\n",
    "HTML('<iframe width=\"950\" height=\"600\" src=\"https://www.youtube.com/embed/SDZTPkbZCi4? autoplay=0&rel=0\" frameborder=\"0\" allow=\"accelerometer; autoplay; encrypted-media; gyroscope; picture-in-picture\" allowfullscreen></iframe>')"
   ]
  },
  {
   "cell_type": "markdown",
   "metadata": {},
   "source": [
    "Når du har sett videoen, kan du gjøre følgende oppgaver for å sjekke om du forstår innholdet:\n",
    "\n",
    "```{admonition} Underveisoppgave: Derivasjon av funksjoner\n",
    ":class: tip\n",
    "Vi har $f(x) = x^2 + 2$. Finn $f'(1)$ ved hjelp av numerisk derivasjon.\n",
    "```\n",
    "\n",
    "\n",
    "```{admonition} Underveisoppgave: Derivasjon av diskrete data\n",
    ":class: tip\n",
    "Fila titrering.txt inneholder pH i en løsning av eddiksyre som funksjon av tilsatt volum NaOH (i mL). Les av fildataene og plott pH som funksjon av volum tilsatt NaOH. Deriver så dataene og plott dette i samme koordinatsystem. Hva sier den deriverte grafen deg?\n",
    "```\n",
    "\n",
    "\n",
    "<iframe src=\"https://trinket.io/embed/python3/646cc16cf1\" width=\"100%\" height=\"356\" frameborder=\"0\" marginwidth=\"0\" marginheight=\"0\" allowfullscreen></iframe>"
   ]
  },
  {
   "cell_type": "code",
   "execution_count": null,
   "metadata": {},
   "outputs": [],
   "source": []
  }
 ],
 "metadata": {
  "celltoolbar": "Edit Metadata",
  "kernelspec": {
   "display_name": "Python 3",
   "language": "python",
   "name": "python3"
  },
  "language_info": {
   "codemirror_mode": {
    "name": "ipython",
    "version": 3
   },
   "file_extension": ".py",
   "mimetype": "text/x-python",
   "name": "python",
   "nbconvert_exporter": "python",
   "pygments_lexer": "ipython3",
   "version": "3.7.5"
  }
 },
 "nbformat": 4,
 "nbformat_minor": 4
}
