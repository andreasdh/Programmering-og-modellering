{
 "cells": [
  {
   "cell_type": "markdown",
   "metadata": {},
   "source": [
    "# Prosjekt i databehandling\n",
    "\n",
    "Å kunne automatisere behandlingen av store mengder informasjon er en viktig del av programmering. I dette prosjektet skal dere prøve å knytte programmet deres til større databaser med informasjon, og trekke informasjonen ut av disse databasene. Deretter skal programmene deres tolke informasjonen og behandle dataene.  \n",
    "\n",
    "Dere skal jobbe i grupper på 2–4 personer, og alle skal bidra til det ferdige produktet. Det er veldig vanlig å jobbe i grupper når en skal programmere i yrkeslivet, og det er nyttig å få litt innblikk i hvordan en slik prosess fungerer allerede nå. Det er viktig at dere fordeler oppgaver på en hensiktsmessig måte mellom dere. Dere velger først en prosjektleder som kan ha det overordna ansvaret for at alt skal henge sammen til slutt, og som delegerer oppgaver som trengs å gjøres. For at det skal være enkelt å fordele oppgaver, kan det være lurt å lage ulike funksjoner som gjør forskjellige operasjoner. Dere kan eventuelt sitte sammen og gjøre all programmeringa felles. Prosjektet skal munne ut i et ferdig program og en rapport fra prosjektarbeidet. \n",
    "\n",
    "Dere kan velge mellom tre naturvitenskapelige problemstillinger, men dere står også fritt til å lage et eget prosjekt, dersom dere har noen gode idéer. Snakk med læreren når dere har fått en idé som dere tror lar seg gjennomføre. Under evaluering av prosjektet blir det lagt vekt på:\n",
    "\n",
    "- God og strukturert kode\n",
    "- Kreativ og velreflektert løsningsstrategi\n",
    "- Realfaglig forståelse\n",
    "- Grad av samarbeid\n",
    "\n",
    "Det kan være lurt å bruke Github for å samarbeide, og dere skal bruke Jupyter Notebook som leveringsformat, der dere skal lage en rapport med programmene integrert i rapporten. Rapporten skal inneholde:\n",
    "- Nødvendig faglig matematisk/naturvitenskapelig teori.\n",
    "- Litt teori rundt noe av det programmeringstekniske (som statistik behandling av data eller regresjon, dersom du bruker det).\n",
    "- Drøfting av dataene og analysen dere har gjort.\n",
    "\n",
    "Nedenfor er forslag til oppgaver som dere kan fordype dere i."
   ]
  },
  {
   "cell_type": "markdown",
   "metadata": {},
   "source": [
    "## _Oppgave 1: Kjernefysiske reaksjoner (fysikk)_\n",
    "\n",
    "<img src=\"https://i.imgur.com/q8Qfiyo.png\" width=\"30%\">\n",
    "\n",
    "\n",
    "### Teori \n",
    "\n",
    "Kjernefysiske prosesser blir stadig viktigere i vårt energikrevende samfunn, og det diskuteres stadig om kjernekraft er en av løsningene på miljø- og energiutfordringene vi står overfor i samfunnet vårt i dag. Prinsippet bak fisjonsreaktorer er at atomkjerner som er tyngre enn jern, spaltes opp ved å skyte nøytroner på dem. Da omdannes noe masse til energi ifølge Einsteins berømte masse-energilov: \n",
    "\n",
    "$E=mc^2$\n",
    "\n",
    "For å regne ut energien som frigjøres i en kjernefysisk prosess, regner en ut forskjellen i masse før og etter en kjernefysisk reaksjon, og ganger så denne massen med kvadratet av lysets hastighet. Det er slitsom og kjedelig å slå opp alle disse nuklidemassene i en tabell hver gang en skal gjøre beregninger, og da er det nyttig med et program som kan gjøre dette for oss! \n",
    "\n",
    "### Oppgave \n",
    "\n",
    "Lag et program som regner ut energien som frigjøres i en kjernefysisk reaksjon valgt av brukeren. Det kan være både fisjon, fusjon og radioaktive prosesser. Brukeren skal gi input for hvilke grunnstoffer hun har på høyre og venstre side av reaksjonspila. Fila som programmet skal hente informasjon fra, ligger [her](https://github.com/andreasdh/Programmering-og-modellering/blob/master/Prosjekter/Filer/Nuklider.txt)."
   ]
  },
  {
   "cell_type": "markdown",
   "metadata": {},
   "source": [
    "## _Oppgave 2: Lineær regresjon (matematikk)_\n",
    "\n",
    "<img src=\"https://i.imgur.com/0IWSKhS.png\" width=\"40%\">\n",
    "\n",
    "\n",
    "### Teori \n",
    "\n",
    "I matematikk 1T diskuterer man at hvis man gjør målinger/observasjoner og plotter dette som punkter i et koordinatsystem, da kan man bruke *regresjon* for å finne en kurve som passer best til punktene. Helt konkret, i matematikk 1T brukte man GeoGebra til å finne en lineær funksjon, $f(x)=ax+b$, som passet best til punktene. Men, hva betyr 'best'? Hvordan finner man egentlig denne funksjonen? Hvor sikker kan vi være på funksjonsuttrykket vårt? Sagt på en annen måte, hva pokker er lineær regresjon og hva er matematikken bak det?\n",
    "\n",
    "Anta man har f.eks. tre punkter $(x_1,y_1), (x_2,y_2), (x_3,y_3)$ som ikke ligger på en linje. Hvis vi ønsker å finne en linje som passer 'best'  til disse så kan man tenke seg at avstanden fra linja til punktene skal være minst mulig. Det betyr at hvis man kan lage et uttrykk for avstanden så bør man kunne derivere uttrykket for å finne et uttrykk for linja sammen med litt matematikk. \n",
    "\n",
    "\n",
    "### Oppgave \n",
    "\n",
    "1. Finn ut hvordan man gjør lineær regresjon for tre punkter i planet ved å lage et uttrykk for avstanden/feilen og minimere med derivasjon.\n",
    "2. Hva hadde skjedd hvis man hadde hatt flere enn tre punkter?\n",
    "3. Lag et program et program der brukeren kan taste inn $n$ punkter og programmet gjør lineær regresjon.\n",
    "4. Bruk programmet deres på et egnet stort datasett.\n",
    "5. Sammenlignn lineær regresjonsbiblioteker i Python med deres eget program."
   ]
  },
  {
   "cell_type": "markdown",
   "metadata": {},
   "source": [
    "## _Oppgave 3: Klassifisering av irisblomster (biologi)_\n",
    "\n",
    "<img src=\"https://s3.amazonaws.com/assets.datacamp.com/blog_assets/Machine+Learning+R/iris-machinelearning.png\" width=\"60%\">\n",
    "\n",
    "### Teori \n",
    "Irisblomster er en slekt av opp mot 300 arter innenfor sverdliljefamilien. I 1936 klassifiserte genetikeren Ronald Fischer tre varieteter av irisblomster i denne slekten (se bildet ovenfor). Det ble da også samlet inn data for ulike individer av disse varietetene, spesielt lengde og bredde på begerblad (sepal) og  kronblad (petal). Fila som programmet skal hente informasjon fra, ligger [her](https://github.com/andreasdh/Programmering-og-modellering/blob/master/Prosjekter/Filer/Iris.csv).\n",
    "\n",
    "### Oppgave \n",
    "\n",
    "- Les av og undersøk irisblomstdatasettet. \n",
    "- Lag flere plott av ulike variabler mot hverandre og beskriv sammenhengen mellom dataene. Eksperimenter med farger og ulike typer plott (histogram, boksplott, linjeplott, punktplott osv.).\n",
    "- Finn ut hvordan du kan utføre regresjon på datasettene. \n",
    "- Gjør en passende regresjon med ulike variabler og forklar sammenhengen."
   ]
  },
  {
   "cell_type": "markdown",
   "metadata": {},
   "source": [
    "## _Oppgave 4: Eulers totientfunksjon (matematikk)_\n",
    "\n",
    "<img src=\"https://encrypted-tbn0.gstatic.com/images?q=tbn:ANd9GcQXE2VOPkhg2UFq1NHqcGbHK6MxlY4wRnI2Lw3JKoOYHMKr3RjJ\" width=\"30%\">\n",
    "\n",
    "\n",
    "### Teori \n",
    "\n",
    "To naturlige tall (heltall$\\geq 1$) er *innbyrdes primiske* hvis største fellesdivisor mellom tallene er 1. For eksempel, $6$ og $25$ er innbyrdes primiske fordi $1$ er de største heltallet som deler både $6$ og $25$. Gitt, et naturlig tall $n$ kan man spørre hvor mange tall er innbyrdes primiske med $n$ og mindre enn $n$? Et svar på dette er *Eulers totientfunksjon* $\\varphi(n)$ som angir antall naturlige tall innbyrdes primiske tall med $n$ mindre enn $n$. Denne funksjonen er relevant innen kryptering.\n",
    "\n",
    "I denne oppgaven skal du lage et datasett ved å lese informasjon fra et nettsted. Deretter skal du bruke datasettet ditt til å utforske egenskaper med funksjonen, og så skal du produsere et stort datasett med verdier og annen informasjon om funksjonen.\n",
    "\n",
    "\n",
    "### Oppgave \n",
    "\n",
    "1. Bruk Python til å lese informasjonen fra nettsiden http://primefan.tripod.com/Phi500.html til en `csv`-fil.\n",
    "2. Rydd opp i `csv`-filen og lag hensiktsmessige kolonner.\n",
    "3. Bruk datasettet ditt til å utforske funksjonen og lag hypoteser om funksjonen (f.eks. hva kan man si om $\\varphi(p)$ når $p$ er et primtall?)\n",
    "4. Avgjør om hypotesene dine stemmer eller ei.\n",
    "5. Utvid datasettet ditt på en hensiktsmessig måte og produser resultatet til en `csv`-fil."
   ]
  },
  {
   "cell_type": "markdown",
   "metadata": {},
   "source": [
    "## _Oppgave 5: Rødvinskvalitet (kjemi)_\n",
    "\n",
    "<img src=\"https://i.imgur.com/WzbuKds.jpg\" width=\"40%\">\n",
    "\n",
    "### Teori \n",
    "Rødvinskvalitet er en subjektiv vitenskap, men kjemi er objektivt! Vi kan utforske ulike faktorer i vin for å bedømme hvilke kriterier som vinkjennere faktisk kjenner igjen. Datasettet vi skal se på ([her](https://github.com/andreasdh/Programmering-og-modellering/blob/master/Prosjekter/Filer/vin.csv), inneholder noen verdier som trenger forklaring:\n",
    "\n",
    "- Fixed and volatile acidity: Mengden syre og flyktig syre (gasser) i g/L.\n",
    "- Citric acid: Mengden sitronsyre i g/L.\n",
    "- Residual sugar: Mengden sukker etter endt fermentering av vinen i g/L.\n",
    "- Sulphur dioxide: Mengde svoveldioksid tilsatt i vinen i mg/L.\n",
    "\n",
    "### Oppgave\n",
    "- Les av fila og undersøk dataene.\n",
    "- Finn gjennomsnitt med standardavvik (finn ut hva det er!) av de ulike verdiene og lag en tabell med disse statistiske dataene.\n",
    "- Hvilken funksjon har svoveldioksid og sulfater i vin? Hva menes med fritt og bundet svoveldioksid?\n",
    "- Plott ulike data mot hverandre.\n",
    "- Finn ut hvilke faktorer som korrelerer med rødvinskvaliteten. Diskuter om korrelasjon nødvendigvis betyr kausalitet."
   ]
  },
  {
   "cell_type": "markdown",
   "metadata": {},
   "source": [
    "## Oppgave 6: Lemurer (biologi)\n",
    "\n",
    "<img src=\"https://upload.wikimedia.org/wikipedia/commons/c/c7/Sifaka_in_Madagascar.jpg\" width=\"40%\">\n",
    "\n",
    "Dette prosjektet er spesielt for de som har vært med på å samle inn data på Madagaskar i 2018. Datasettet \"Lemurer\" inneholder populasjonsdata fra 2015 til i dag. Spør Andreas om datasettet hvis du velger dette prosjektet.\n",
    "\n",
    "### Oppgave\n",
    "- Les av fila og undersøk dataene.\n",
    "- Finn flere måter å representere dataene på. Se f.eks. på utvikling over tid eller lemurtyper sortert etter tidspunkt på dagen.\n",
    "- Er det noe forskjell på lemurforekomsten i Mariarano og Matsedroy?\n",
    "- Drøft framstillingene. Hva kan de si oss om lemurpopulasjonen i dette området?"
   ]
  },
  {
   "cell_type": "code",
   "execution_count": null,
   "metadata": {},
   "outputs": [],
   "source": []
  }
 ],
 "metadata": {
  "kernelspec": {
   "display_name": "Python 3",
   "language": "python",
   "name": "python3"
  },
  "language_info": {
   "codemirror_mode": {
    "name": "ipython",
    "version": 3
   },
   "file_extension": ".py",
   "mimetype": "text/x-python",
   "name": "python",
   "nbconvert_exporter": "python",
   "pygments_lexer": "ipython3",
   "version": "3.8.5"
  }
 },
 "nbformat": 4,
 "nbformat_minor": 2
}
