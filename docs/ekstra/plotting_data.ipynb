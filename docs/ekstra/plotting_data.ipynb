{
 "cells": [
  {
   "cell_type": "markdown",
   "metadata": {},
   "source": [
    "# Plotting og behandling av eksperimentelle data\n",
    "En viktig del av kjemi som et eksperimentelt fag er å kunne representere og\n",
    "behandle data på en hensiktsmessig måte.\n",
    "\n",
    "```{admonition} Læringsutbytte\n",
    "Etter å ha arbeidet med denne delen av emnet, skal du kunne:\n",
    "1. Plotte funksjoner.\n",
    "2. Plotte data fra lister/arrayer.\n",
    "3. Lese filer med *read* og *loadtxt*.\n",
    "4. Utføre interpolasjon og regresjon. Vurdere når dette kan være nyttig.\n",
    "5. Bruke ferdiglagde og lage egne statistikkmoduler.\n",
    "```\n",
    "\n",
    "## Plotting av funksjoner\n",
    "I videoen nedenfor vises plotting av funksjoner i Python. Legg merke til at kortversjonen *from pylab import ** brukes her. Du bør bruke *import matplotlib.pyplot as plt* og *import numpy as np*."
   ]
  },
  {
   "cell_type": "code",
   "execution_count": 7,
   "metadata": {
    "tags": [
     "remove-input"
    ]
   },
   "outputs": [
    {
     "data": {
      "text/html": [
       "<iframe width=\"950\" height=\"600\" src=\"https://www.youtube.com/embed/il7cjJKF8CY? play=0&rel=0\" frameborder=\"0\" allow=\"accelerometer; autoplay; encrypted-media; gyroscope; picture-in-picture\" allowfullscreen></iframe>"
      ],
      "text/plain": [
       "<IPython.core.display.HTML object>"
      ]
     },
     "execution_count": 7,
     "metadata": {},
     "output_type": "execute_result"
    }
   ],
   "source": [
    "from IPython.display import HTML\n",
    "# Youtube\n",
    "HTML('<iframe width=\"950\" height=\"600\" src=\"https://www.youtube.com/embed/il7cjJKF8CY? play=0&rel=0\" frameborder=\"0\" allow=\"accelerometer; autoplay; encrypted-media; gyroscope; picture-in-picture\" allowfullscreen></iframe>')"
   ]
  },
  {
   "cell_type": "markdown",
   "metadata": {},
   "source": [
    "Når du har sett videoen, kan du gjøre følgende oppgave for å sjekke om du forstår innholdet:\n",
    "\n",
    "```{admonition} Underveisoppgave\n",
    ":class: tip\n",
    "Plott funksjonen $f(x) = e^{x} - 2$ for $x \\in [0,5]$. Bruk matplotlib og numpy.\n",
    "```\n",
    "\n",
    "## Lesing av fildata"
   ]
  },
  {
   "cell_type": "code",
   "execution_count": 2,
   "metadata": {
    "tags": [
     "remove-input"
    ]
   },
   "outputs": [
    {
     "data": {
      "text/html": [
       "<iframe width=\"950\" height=\"600\" src=\"https://www.youtube.com/embed/u3FCfxP9JWY? autoplay=0&rel=0\" frameborder=\"0\" allow=\"accelerometer; autoplay; encrypted-media; gyroscope; picture-in-picture\" allowfullscreen></iframe>"
      ],
      "text/plain": [
       "<IPython.core.display.HTML object>"
      ]
     },
     "execution_count": 2,
     "metadata": {},
     "output_type": "execute_result"
    }
   ],
   "source": [
    "from IPython.display import HTML\n",
    "# Youtube\n",
    "HTML('<iframe width=\"950\" height=\"600\" src=\"https://www.youtube.com/embed/u3FCfxP9JWY? autoplay=0&rel=0\" frameborder=\"0\" allow=\"accelerometer; autoplay; encrypted-media; gyroscope; picture-in-picture\" allowfullscreen></iframe>')"
   ]
  },
  {
   "cell_type": "markdown",
   "metadata": {},
   "source": [
    "\n",
    "```{admonition} Underveisoppgave\n",
    ":class: tip\n",
    "Les fila titrering.txt og plott titrerkurven. Bruk egnede aksetitler og pynt plottet.\n",
    "```"
   ]
  },
  {
   "cell_type": "markdown",
   "metadata": {},
   "source": [
    "<iframe src=\"https://trinket.io/embed/python3/ffb3dd6759?font=2em\" width=\"100%\" height=\"356\" frameborder=\"0\" marginwidth=\"0\" marginheight=\"0\" allowfullscreen></iframe>\n",
    "\n",
    "\n",
    "## Interpolasjon"
   ]
  },
  {
   "cell_type": "code",
   "execution_count": 30,
   "metadata": {
    "tags": [
     "remove-input"
    ]
   },
   "outputs": [
    {
     "data": {
      "text/html": [
       "<iframe width=\"950\" height=\"600\" src=\"https://www.youtube.com/embed/SKn0uF5GiE4? autoplay=0&rel=0\" frameborder=\"0\" allow=\"accelerometer; autoplay; encrypted-media; gyroscope; picture-in-picture\" allowfullscreen></iframe>"
      ],
      "text/plain": [
       "<IPython.core.display.HTML object>"
      ]
     },
     "execution_count": 30,
     "metadata": {},
     "output_type": "execute_result"
    }
   ],
   "source": [
    "from IPython.display import HTML\n",
    "# Youtube\n",
    "HTML('<iframe width=\"950\" height=\"600\" src=\"https://www.youtube.com/embed/SKn0uF5GiE4? autoplay=0&rel=0\" frameborder=\"0\" allow=\"accelerometer; autoplay; encrypted-media; gyroscope; picture-in-picture\" allowfullscreen></iframe>')"
   ]
  },
  {
   "cell_type": "markdown",
   "metadata": {},
   "source": [
    "```{admonition} Underveisoppgave\n",
    ":class: tip\n",
    "Bruk koderuta ovenfor og interpoler titreringsdataene over hele definisjonsområdet.\n",
    "```\n",
    "\n",
    "## Regresjon"
   ]
  },
  {
   "cell_type": "code",
   "execution_count": 37,
   "metadata": {
    "tags": [
     "remove-input"
    ]
   },
   "outputs": [
    {
     "data": {
      "text/html": [
       "<iframe width=\"950\" height=\"600\" src=\"https://www.youtube.com/embed/GrLWboUtL3A? autoplay=0&rel=0\" frameborder=\"0\" allow=\"accelerometer; autoplay; encrypted-media; gyroscope; picture-in-picture\" allowfullscreen></iframe>"
      ],
      "text/plain": [
       "<IPython.core.display.HTML object>"
      ]
     },
     "execution_count": 37,
     "metadata": {},
     "output_type": "execute_result"
    }
   ],
   "source": [
    "from IPython.display import HTML\n",
    "# Youtube\n",
    "HTML('<iframe width=\"950\" height=\"600\" src=\"https://www.youtube.com/embed/GrLWboUtL3A? autoplay=0&rel=0\" frameborder=\"0\" allow=\"accelerometer; autoplay; encrypted-media; gyroscope; picture-in-picture\" allowfullscreen></iframe>')"
   ]
  },
  {
   "cell_type": "markdown",
   "metadata": {
    "tags": [
     "remove-input"
    ]
   },
   "source": [
    "```{admonition} Underveisoppgave\n",
    ":class: tip\n",
    "Prøv å gjøre regresjon av 1., 2., 3. og 4. grad av listedataene i progammet nedenfor:\n",
    "```\n",
    "\n",
    "<iframe src=\"https://trinket.io/embed/python3/a3099a1761\" width=\"100%\" height=\"356\" frameborder=\"0\" marginwidth=\"0\" marginheight=\"0\" allowfullscreen></iframe>"
   ]
  }
 ],
 "metadata": {
  "celltoolbar": "Edit Metadata",
  "kernelspec": {
   "display_name": "Python 3",
   "language": "python",
   "name": "python3"
  },
  "language_info": {
   "codemirror_mode": {
    "name": "ipython",
    "version": 3
   },
   "file_extension": ".py",
   "mimetype": "text/x-python",
   "name": "python",
   "nbconvert_exporter": "python",
   "pygments_lexer": "ipython3",
   "version": "3.8.5"
  }
 },
 "nbformat": 4,
 "nbformat_minor": 4
}
