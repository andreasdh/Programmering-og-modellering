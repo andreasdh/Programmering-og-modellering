{
 "cells": [
  {
   "cell_type": "markdown",
   "metadata": {},
   "source": [
    "# Tema 10: Derivasjon og integrasjon"
   ]
  },
  {
   "cell_type": "markdown",
   "metadata": {},
   "source": [
    "## Derivasjon\n",
    "\n",
    "#### 1. Derivasjon av funksjoner:"
   ]
  },
  {
   "cell_type": "code",
   "execution_count": 11,
   "metadata": {},
   "outputs": [
    {
     "name": "stdout",
     "output_type": "stream",
     "text": [
      "For dx lik 0.1 er feilen 0.10000000000000187\n",
      "For dx lik 0.01 er feilen 0.010000000000000675\n",
      "For dx lik 0.001 er feilen 0.0009999999996974651\n",
      "For dx lik 0.0001 er feilen 9.999999917198465e-05\n",
      "For dx lik 1e-05 er feilen 1.0000013929811757e-05\n",
      "For dx lik 1e-06 er feilen 9.999243673064484e-07\n",
      "For dx lik 1e-07 er feilen 1.0108780656992167e-07\n",
      "For dx lik 1e-08 er feilen 1.21549419418443e-08\n",
      "For dx lik 1e-09 er feilen 1.6548074199818075e-07\n",
      "For dx lik 1e-10 er feilen 1.6548074199818075e-07\n",
      "For dx lik 1e-11 er feilen 1.6548074199818075e-07\n",
      "For dx lik 1e-12 er feilen 0.00017780116468202323\n",
      "For dx lik 1e-13 er feilen 0.0015985556747182272\n",
      "For dx lik 1e-14 er feilen 0.0015985556747182272\n",
      "For dx lik 1e-15 er feilen 0.22044604925031308\n",
      "For dx lik 1e-16 er feilen 2.0\n"
     ]
    }
   ],
   "source": [
    "def f(x):\n",
    "    return x**2\n",
    "\n",
    "def derivert(f, x, dx):\n",
    "    fder = (f(x + dx) - f(x))/dx\n",
    "    return fder\n",
    "\n",
    "x = 1\n",
    "analytisk = 2\n",
    "for i in range(1, 17):\n",
    "    dx = 10**(-i)\n",
    "    numerisk = derivert(f,x,dx)\n",
    "    print(f\"For dx lik {dx} er feilen {abs(numerisk-analytisk)}\")"
   ]
  },
  {
   "cell_type": "markdown",
   "metadata": {},
   "source": [
    "#### 2. Derivasjon av diskrete data (punkter)\n",
    "\n",
    "[Puslespill](http://parsons.problemsolving.io/puzzle/ced223639e5d45a5a22bbfc1ee521478)"
   ]
  },
  {
   "cell_type": "code",
   "execution_count": 6,
   "metadata": {},
   "outputs": [
    {
     "data": {
      "image/png": "[encoded data removed]",
      "text/plain": [
       "<Figure size 432x288 with 1 Axes>"
      ]
     },
     "metadata": {
      "needs_background": "light"
     },
     "output_type": "display_data"
    },
    {
     "name": "stdout",
     "output_type": "stream",
     "text": [
      "[  0.          -0.41530332  -1.27245747  -2.10837905  -2.89006706\n",
      "  -3.79347005  -4.52289161  -5.27799927  -6.08854176  -6.94216878\n",
      "  -7.86617154  -8.66880686  -9.53207626 -10.30728764 -11.17164433\n",
      " -11.97476839 -12.62386432 -13.38963929 -14.14735903 -15.07900081\n",
      " -15.69402869 -15.95216465 -16.02847067 -16.13767422 -16.22191004]\n"
     ]
    },
    {
     "data": {
      "text/plain": [
       "25"
      ]
     },
     "execution_count": 6,
     "metadata": {},
     "output_type": "execute_result"
    }
   ],
   "source": [
    "from pylab import *\n",
    "\n",
    "data = loadtxt(\"datafiler/heistur.csv\", skiprows = 1, delimiter = \",\")\n",
    "tid = data[:,0]\n",
    "posisjon = data[:,2]\n",
    "\n",
    "plot(tid,posisjon)\n",
    "show()\n",
    "print(posisjon)\n",
    "len(posisjon)"
   ]
  },
  {
   "cell_type": "code",
   "execution_count": 19,
   "metadata": {},
   "outputs": [],
   "source": [
    "fart = []\n",
    "for i in range(len(tid)-1):\n",
    "    dy = posisjon[i+1] - posisjon[i]\n",
    "    dx = tid[i+1] - tid[i]\n",
    "    der = dy/dx\n",
    "    fart.append(der)"
   ]
  },
  {
   "cell_type": "code",
   "execution_count": 21,
   "metadata": {},
   "outputs": [
    {
     "data": {
      "image/png": "[encoded data removed]",
      "text/plain": [
       "<Figure size 432x288 with 1 Axes>"
      ]
     },
     "metadata": {
      "needs_background": "light"
     },
     "output_type": "display_data"
    }
   ],
   "source": [
    "plot(tid[:-1], fart)\n",
    "show()"
   ]
  },
  {
   "cell_type": "markdown",
   "metadata": {},
   "source": [
    "## Integrasjon\n",
    "\n",
    "### 1. Rektangelmetoden"
   ]
  },
  {
   "cell_type": "code",
   "execution_count": 1,
   "metadata": {},
   "outputs": [
    {
     "name": "stdout",
     "output_type": "stream",
     "text": [
      "Integralet av f(x) mellom 1 og 4 er: 12.0\n",
      "Integralet av f(x) mellom 1 og 4 er 12.0.\n"
     ]
    }
   ],
   "source": [
    "def f(x):\n",
    "    return x + 2\n",
    "\n",
    "a = 1 # x_0 = 1\n",
    "b = 4 # x_N = 4\n",
    "\n",
    "# Hva er integralet av f(x) mellom 1 og 4?\n",
    "\n",
    "A = 0\n",
    "N = 3\n",
    "dx = (b - a)/N # dx = (4-1)/3 = 1\n",
    "\n",
    "for i in range(N):\n",
    "    A = A + f(a + i*dx)*dx\n",
    "\n",
    "print(\"Integralet av f(x) mellom\", a, \"og\", b, \"er:\", A)\n",
    "print(f\"Integralet av f(x) mellom {a} og {b} er {A}.\")\n",
    "\n",
    "# Lag en funksjon: def rektangelmetoden(...)"
   ]
  },
  {
   "cell_type": "code",
   "execution_count": 10,
   "metadata": {},
   "outputs": [
    {
     "name": "stdout",
     "output_type": "stream",
     "text": [
      "13.5\n"
     ]
    }
   ],
   "source": [
    "def f(x):\n",
    "    return x + 2\n",
    "\n",
    "def trapesmetoden(f, a, b, N):\n",
    "    dx = (b-a)/N\n",
    "    A = (f(a) + f(b))/2\n",
    "    for i in range(1,N):\n",
    "        A = A + f(a + i*dx)\n",
    "    return A*dx\n",
    "\n",
    "itsatrap = trapesmetoden(f, 1, 4, 1)\n",
    "print(itsatrap)"
   ]
  },
  {
   "cell_type": "code",
   "execution_count": 12,
   "metadata": {},
   "outputs": [
    {
     "name": "stdout",
     "output_type": "stream",
     "text": [
      "13.5\n",
      "13.500000000000002\n",
      "(13.5, 1.4988010832439613e-13)\n"
     ]
    }
   ],
   "source": [
    "from scipy.integrate import simps, trapz, quad\n",
    "from scipy.misc import derivative\n",
    "from pylab import *\n",
    "\n",
    "def f(x):\n",
    "    return x + 2\n",
    "\n",
    "x = linspace(1,4,100000)\n",
    "y = f(x)\n",
    "\n",
    "simpson = simps(y,x)\n",
    "trapes = trapz(y,x)\n",
    "kvadd = quad(f, 1, 4)\n",
    "der = derivative(f, 1)\n",
    "\n",
    "print(simpson)\n",
    "print(trapes)\n",
    "print(kvadd)"
   ]
  },
  {
   "cell_type": "code",
   "execution_count": null,
   "metadata": {},
   "outputs": [],
   "source": []
  }
 ],
 "metadata": {
  "kernelspec": {
   "display_name": "Python 3",
   "language": "python",
   "name": "python3"
  },
  "language_info": {
   "codemirror_mode": {
    "name": "ipython",
    "version": 3
   },
   "file_extension": ".py",
   "mimetype": "text/x-python",
   "name": "python",
   "nbconvert_exporter": "python",
   "pygments_lexer": "ipython3",
   "version": "3.8.5"
  }
 },
 "nbformat": 4,
 "nbformat_minor": 4
}
