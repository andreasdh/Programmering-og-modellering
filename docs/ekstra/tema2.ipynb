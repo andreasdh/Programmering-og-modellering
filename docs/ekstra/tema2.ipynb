{
 "cells": [
  {
   "cell_type": "markdown",
   "metadata": {},
   "source": [
    "# Tema 2: Beslutninger"
   ]
  },
  {
   "cell_type": "code",
   "execution_count": 2,
   "metadata": {},
   "outputs": [
    {
     "name": "stdout",
     "output_type": "stream",
     "text": [
      "Tall: 5\n",
      "Tallet er positivt.\n"
     ]
    }
   ],
   "source": [
    "tall = float(input(\"Tall: \"))\n",
    "\n",
    "if tall < 0:\n",
    "    print(\"Tallet er negativt.\")\n",
    "elif tall > 0:\n",
    "    print(\"Tallet er positivt.\")\n",
    "elif tall == 0:\n",
    "    print(\"Tallet er null!\")"
   ]
  },
  {
   "cell_type": "code",
   "execution_count": 1,
   "metadata": {},
   "outputs": [
    {
     "name": "stdout",
     "output_type": "stream",
     "text": [
      "[H3O+] i mol/L: 0.1\n",
      "pH-en i løsninga er: 1.0\n",
      "Løsninga er sur\n"
     ]
    }
   ],
   "source": [
    "from pylab import *\n",
    "\n",
    "oksonium = input(\"[H3O+] i mol/L: \") # mol/L\n",
    "oksonium = float(oksonium)\n",
    "pH = -log10(oksonium)\n",
    "\n",
    "print(\"pH-en i løsninga er:\", round(pH,2))\n",
    "\n",
    "if pH > 7:\n",
    "    print(\"Løsninga er basisk\")\n",
    "elif pH < 7:\n",
    "    print(\"Løsninga er sur\")\n",
    "else:\n",
    "    print(\"Løsninga er nøytral.\")\n"
   ]
  }
 ],
 "metadata": {
  "kernelspec": {
   "display_name": "Python 3",
   "language": "python",
   "name": "python3"
  },
  "language_info": {
   "codemirror_mode": {
    "name": "ipython",
    "version": 3
   },
   "file_extension": ".py",
   "mimetype": "text/x-python",
   "name": "python",
   "nbconvert_exporter": "python",
   "pygments_lexer": "ipython3",
   "version": "3.7.6"
  }
 },
 "nbformat": 4,
 "nbformat_minor": 4
}
