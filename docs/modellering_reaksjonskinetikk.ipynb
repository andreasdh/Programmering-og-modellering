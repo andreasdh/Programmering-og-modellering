{
 "cells": [
  {
   "cell_type": "markdown",
   "metadata": {},
   "source": [
    "# Modelleringsoppgave IIc: Reaksjonskinetikk (kjemi)\n",
    "\n",
    "## Reaksjonsfart\n",
    "_Kinetikk_ er et område av kjemien som handler om reaksjonsfart, det vil si hvor fort reaksjoner skjer. Gjennom eksperimenter kan vi finne ut hva forholdet mellom reaktanter og produkter er ved en gitt tid, og vi kan formulere matematiske modeller som viser denne sammenhengen. Denne sammenhengen er altså i utgangspunktet _empirisk_. Det vil si at vi modellerer sammenhengen basert på reelle data, ikke på matematiske utledninger.\n",
    "\n",
    "Reaksjonsraten til et produkt eller en reaktant kan defineres som endringa i konsentrasjonen til dette produktet eller denne reaktanten i løpet av en viss tid. Når vi reduserer denne tida til å være så liten som mulig, får vi den deriverte av konsentrasjonen, siden den deriverte handler om _momentan_ endring: $c'(t)$. Sammenhengen mellom den deriverte av konsentrasjonen og konsentrasjonene til de ulike stoffene som deltar i reaksjonen, kaller vi en _ratelov_. \n",
    "\n",
    "Vi tar et eksempel: Konsentrasjonen mellom hydrogengass og jod i gassfase har en relativt enkel ratelov. Merk derimot at ratelovene i utgangspunktet ikke har noen sammenheng med det støkiometriske forholdet mellom reaktanter og produkter. Egentlig er reaksjonen en likevektsreaksjon, men vi kan forenkle og skrive den slik (som en irreversibel reaksjon), noe som stemmer ved relativt lave temperaturer:\n",
    "\n",
    "$$H_2 (g) + I_2 (g) \\rightarrow 2HI (g)$$\n",
    "\n",
    "Rateloven for denne reaksjonen er som følger:\n",
    "\n",
    "$$v = c'(t) = k_r[H_2][I_2]$$\n",
    "\n",
    "a) Prøv å forklare hva rateloven ovenfor forteller oss, og hva de ulike faktorene betyr.\n",
    "\n",
    "```{admonition} Forklaring\n",
    ":class: dropdown\n",
    "Symbolet _v_ betyr farten på reaksjonen, og det er det samme som den deriverte av konsentrasjonen til produktet vårt (her HI). Farten avhenger av produktet av konsentrasjonen til både $H_2$ og $I_2$, i tillegg til en konstant $k_r$. Konstanten $k_r$ kalles _ratekonstanten_ for reaksjonen, og den kan vi finne ved å gjøre eksperimenter.\n",
    "```\n",
    "\n",
    "Ratelovene er eksempler på _differensiallikninger_, det vil si likninger som inneholder den deriverte (endringen av en tilstand). Uttrykket beskriver endringen i systemet $c'(t)$, men ingen informasjon om selve systemet, altså konsentrasjonen, $c_{HI}(t)$. Vi ønsker med andre ord å finne konsentrasjonen ved enhver tid gitt en eller annen startbetingelse (konsentrasjoner av produkter og reaktanter ved t = 0). Det er det samme som å si at vi ønsker å finne en funksjonsverdi $f(t + dt)$ for hvert tidssteg $dt$.\n",
    "\n",
    "b) Forklar hva en differensiallikning er. Hvorfor er ratelover differensiallikninger?\n",
    "\n",
    "### En metode for løsing av differensiallikninger\n",
    "Nå vi skal løse en differensiallikning, har vi en initalbetingelse $y_0$ og et uttrykk for den deriverte $y'$. Vi ønsker derfor å finne $y_1$ og alle andre funksjonsverider.\n",
    "\n",
    "Du kjenner faktisk allerede til et uttrykk som inneholder en funksjon og dens deriverte, nemlig definisjonen av den deriverte! Vi bruker den numeriske definisjonen der vi tilnærmer grenseverdiene med en _dx_ ($\\Delta x$) som er så liten som mulig:\n",
    "\n",
    "$$f'(x) \\approx \\frac{f(x+dx) - f(x)}{dx}$$\n",
    "\n",
    "Til å begynne med kjenner vi $f(x)$ ($v(t)$), altså $f(x_0)$. Dette er initialbetingelsen, for eksempel startfarten $v(t_0)$. Vi kjenner også et uttrykk for den deriverte av farten (akselerasjonen) gjennom Newtons 2. lov. I tillegg bestemmer vi selv tidssteget, _dx_ (_dt_), men husk at det verken bør være for lite eller for stort. Den eneste ukjente i likningen ovenfor er altså $f(x+dx)$, og det er jo nettopp dette vi prøver å finne. Med litt enkel algebra får vi omformet uttrykket slik at det blir et uttrykk for $f(x+dx)$. Vi ganger først med $dx$ på begge sider:\n",
    "\n",
    "$$f'(x)\\cdot dx \\approx f(x+dx) - f(x)$$\n",
    "\n",
    "Deretter får vi $f(x+dx)$ aleine på høyre side og ender opp med følgende likning:\n",
    "\n",
    "$$f(x+dx) \\approx f(x) + f'(x)\\cdot dx$$\n",
    "\n",
    "Dette kalles _Eulers metode_. Den  brukes til å løse differensiallikninger, det vil si å integrere den deriverte slik at vi finner funksjonsverdiene. Siden vi ofte har med funksjoner av *tid* å gjøre, kaller vi gjerne _dx_ for _dt_.\n",
    "\n",
    "c) Implementer modellen ovenfor og bruk Eulers metode til å simulere utviklingen av konsentrasjonene til $I_2$, $H_2$ og $HI$. For denne reaksjonen er ratekonstanten for dannelse av HI $k_r = 4.84 \\cdot 10^{-2}$ ved 400 grader Celsius. Du kan ta utgangspunkt i programmet nedenfor eller lage et helt nytt et. Eksperimenter med ulike verdier av $k$. Hvis du ikke lager programmet fra grunnen av, må du forklare hva som skjer på de ulike linjene.\n",
    "\n",
    "<iframe src=\"https://trinket.io/embed/python3/d29bc28718\" width=\"100%\" height=\"356\" frameborder=\"0\" marginwidth=\"0\" marginheight=\"0\" allowfullscreen></iframe>\n",
    "\n",
    "d) Prøv å simulere reaksjonen for 750 sekunder. Beskriv hva som skjer i reaksjonen.\n",
    "\n",
    "Ved høye temperaturer vil flere og flere HI-molekyler kollidere og rives løs igjen til $I_2$ og $H_2$. Reaksjonen er derfor egentlig reversibel, selv om vi har gjort en forenkling og beskrevet den som irreversibel ovenfor. Det viser seg at den motsatte reaksjonen følger denne rateloven:\n",
    "\n",
    "$$c'(t) = k_{bakover}[HI]^2$$\n",
    "\n",
    "Reaksjonen er altså andreordens med hensyn på konsentrasjonen av hydrogenjodid. Den totale rateloven for hydrogenjodid blir derfor:\n",
    "\n",
    "$$c'(t) = k_{framover}[H_2][I_2] - k_{bakover}[HI]^2$$\n",
    "\n",
    "Dersom vi kjenner likevektskonstanten $K$ ved den gitte temperaturen, kan vi finne $k_{bakover}$ ved å benytte følgende sammenheng:\n",
    "\n",
    "$$K = \\frac{k_{framover}}{k_{bakover}}$$\n",
    "\n",
    "\n",
    "e) Lag et program som simulerer reaksjonen mellom $I_2$ og $H_2$ ved 450$^\\circ$C. Sett likevektskontstanten til å være 100 og $k_{framover}$ til å være $4.8\\cdot 10^{-2}$. Lag et plott som viser konsentrasjonen som funksjon av tid, og et plott som viser reaksjonsraten/reaksjonshastigheten som funksjon av tid. Kommenter plottene. Stemmer dette med det du kan om likevekter?"
   ]
  },
  {
   "cell_type": "markdown",
   "metadata": {},
   "source": [
    "### Rapport\n",
    "Skriv en rapport i Jupyter notebook der du redegjør gradvis for de ulike modellene dine. Lag også en konklusjon."
   ]
  },
  {
   "cell_type": "code",
   "execution_count": null,
   "metadata": {},
   "outputs": [],
   "source": []
  }
 ],
 "metadata": {
  "kernelspec": {
   "display_name": "Python 3",
   "language": "python",
   "name": "python3"
  },
  "language_info": {
   "codemirror_mode": {
    "name": "ipython",
    "version": 3
   },
   "file_extension": ".py",
   "mimetype": "text/x-python",
   "name": "python",
   "nbconvert_exporter": "python",
   "pygments_lexer": "ipython3",
   "version": "3.8.3"
  }
 },
 "nbformat": 4,
 "nbformat_minor": 4
}
