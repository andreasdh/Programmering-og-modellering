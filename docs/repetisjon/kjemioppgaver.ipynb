{
 "cells": [
  {
   "cell_type": "markdown",
   "id": "fc226795",
   "metadata": {},
   "source": [
    "# Repetisjon I: Kjemioppgaver\n",
    "\n",
    "```{admonition} Læringsutbytte\n",
    "Oppgavene nedenfor er ment å fungere som en repetisjon av grunnleggende programmering, samtidig som du må anvende dette på nye problemstillinger. Når du setter deg inn i et nytt problem, må du, bevisst eller ubevisst:\n",
    "\n",
    "1. Dekomponere: Hvilke deler består problemet av? Hva er målet med å løse problemet?\n",
    "2. Analysere: Hvordan henger delene sammen?\n",
    "3. Vurdere I: Hvordan kan jeg bruke det jeg kan til å løse problemet, og hva trenger jeg å finne ut av? \n",
    "4. Syntetisere: Sette sammen en løsning.\n",
    "5. Vurdere II: Løste jeg problemet på en god måte? Finnes det andre måter å løse problemet på? Kan jeg gjøre det mer effektivt eller enklere?\n",
    "```\n",
    "\n",
    "Her skal vi se på ulike problemet knyttet til kjemi, uavhengig av om du har kjemi som programfag eller ikke. Vi skal benytte to biblioteker som heter \"mendeleev\" og \"chemlib\", så du kan starte med å installere disse."
   ]
  },
  {
   "cell_type": "markdown",
   "id": "cd4698a5",
   "metadata": {},
   "source": [
    "## Oppgave 1: Periodiske trender I\n",
    "Vi starter med et enkelt eksempel for å bli kjent med Mendeleev-biblioteket."
   ]
  },
  {
   "cell_type": "code",
   "execution_count": 11,
   "id": "730f9b83",
   "metadata": {},
   "outputs": [
    {
     "name": "stdout",
     "output_type": "stream",
     "text": [
      "Atomnummer: 10 --Navn: Neon --Symbol: Ne --Gruppe: 18\n"
     ]
    }
   ],
   "source": [
    "from mendeleev import element\n",
    "\n",
    "Z = 10\n",
    "grunnstoff = element(Z)\n",
    "\n",
    "navn = grunnstoff.name\n",
    "symbol = grunnstoff.symbol\n",
    "gruppe = grunnstoff.group_id\n",
    "\n",
    "print(\"Atomnummer:\", Z, \"--Navn:\", navn, \"--Symbol:\", symbol, \"--Gruppe:\", gruppe)"
   ]
  },
  {
   "cell_type": "markdown",
   "id": "51121500",
   "metadata": {},
   "source": [
    "```{admonition} Oppgave\n",
    ":class: tip\n",
    "1. Forklar hva programmet ovenfor gjør. Hva slags struktur er \"element\", og hva er da \"grunnstoff\" i programmet ovenfor?\n",
    "2. Utvid programmet slik at det også skriver ut periodenummeret. Du kan enten tippe på hva kommandoen for periode er, eller du kan slå det opp i [dokumentasjonen til mendeleev-biblioteket](https://mendeleev.readthedocs.io/en/stable/).\n",
    "3. Modifiser programmet slik at det skriver ut informasjon om de 18 letteste grunnstoffene.\n",
    "```"
   ]
  },
  {
   "cell_type": "markdown",
   "id": "689b3e04",
   "metadata": {},
   "source": [
    "La oss kombinere mendeleev-biblioteket med løkker og lister slik at vi kan finne informasjon om flere grunnstoffer, i tillegg til at vi kan plotte ulike sammenhenger."
   ]
  },
  {
   "cell_type": "code",
   "execution_count": 41,
   "id": "eb37f734",
   "metadata": {},
   "outputs": [],
   "source": [
    "from pylab import *\n",
    "from mendeleev import element\n",
    "\n",
    "atomnummer = []\n",
    "elektronegativitet = []\n",
    "\n",
    "for i in range(1, 119):\n",
    "    grunnstoff = element(i)\n",
    "    atomnummer.append(grunnstoff.atomic_number)\n",
    "    elektronegativitet.append(grunnstoff.electronegativity())"
   ]
  },
  {
   "cell_type": "markdown",
   "id": "be4190e9",
   "metadata": {},
   "source": [
    "````{admonition} Oppgave\n",
    ":class: tip\n",
    "1. Forklar hva programmet ovenfor gjør. \n",
    "2. Kjør programmet og print ut lista med atomnummer og lista med elektronegativitet. Gjorde programmet det du tenkte?\n",
    "3. Istedenfor å bare printe ut listene, prøv å plotte listene mot hverandre (atomnummer på _x_-aksen og elektronegativitet på _y_aksen). Bruk gjerne _scatter_ istedenfor _plot_, slik at vi får punkter og ikke linjer.\n",
    "4. Modifiser programmet slik at det kun plotter grunnstoffene i andre periode. Beskriv trenden.\n",
    "\n",
    "    Vi kan gjennomgå hvert element i ei liste slik:\n",
    "\n",
    "    ```{code-block} Python\n",
    "    navneliste = [\"Arne\", \"Bjarne\", \"Mia\", \"Pia\"]\n",
    "\n",
    "    for navn in navneliste:\n",
    "        print(navn)\n",
    "    ```\n",
    "\n",
    "5. Bruk denne måten å gjennomgå lister på til å modifisere programmet slik at det kun plotter grunnstoffene i første gruppe. Beskriv trenden. Gjør det samme for gruppe 18 og beskriv denne trenden også.\n",
    "\n",
    "6. Lag et program som skriver ut eller plotter kokepunktet til alle halogenene. Beskriv og forklar trenden i kokepunkt.\n",
    "````"
   ]
  },
  {
   "attachments": {},
   "cell_type": "markdown",
   "id": "e2030db6",
   "metadata": {},
   "source": [
    "## Oppgave 2: Periodiske trender II\n",
    "\n",
    "a) Bruk mendeleev og plott året grunnstoffet er oppdaget (discovery_year) som funksjon av\n",
    "atomnummer. Hvorfor tror du utviklingen ser slik ut? Prøv å beskrive ulike trender i plottet.\n",
    "\n",
    "b) Forklar hva plottet nedenfor beskriver. Prøv å lage et program som lager dette plottet.\n",
    "\n",
    "<img src=\"../bilder/periodiske_trender1.png\" alt=\"periodiske trender\" width = 50%/>\n",
    "\n",
    "c) Når vi kjenner atomradius til et stoff, kan vi finne ut mye om elektronegativiteten, ioniseringsenergien og elektronaffiniteten til stoffet.\n",
    "- Plott elektronegativitet som funksjon av atomradius. Beskriv det du ser.\n",
    "- Utforsk trender i ioniseringsenergi (ionenergies) og elektronaffinitet (electron_affinity) ved hjelp av programmering. Du velger selv framgangsmåte, og om du vil skrive ut informasjonen eller lage illustrerende plott. Legg merke til at funksjonen _ionenergies_ skriver ut en liste med energiene som kreves for å fjerne opp til alle elektronene i grunnstoffet, ikke bare det første."
   ]
  },
  {
   "cell_type": "markdown",
   "id": "a1da622e",
   "metadata": {},
   "source": [
    "## Oppgave 3: \n",
    "\n",
    "Ved hjelp av biblioteket _chemlib_ kan vi også definere kjemiske forbindelser og gjøre støkiometriske beregninger på dem. Her er noen eksempler på hva du kan gjøre:"
   ]
  },
  {
   "cell_type": "code",
   "execution_count": 1,
   "id": "cbb9b1b2",
   "metadata": {
    "scrolled": false
   },
   "outputs": [
    {
     "name": "stdout",
     "output_type": "stream",
     "text": [
      "{'grams': 2, 'molecules': 1.6243271319293604e+22, 'moles': 0.026982178271251833}\n",
      "13.599017848710924\n",
      "{'moles': 1, 'grams': 142.04099999999997, 'molecules': 6.02e+23}\n",
      "{'molecules': 1e+24, 'moles': 1.6611295681063123, 'grams': 28.290697674418603}\n"
     ]
    }
   ],
   "source": [
    "from chemlib import Compound\n",
    "\n",
    "butan1ol = Compound(\"C4H9OH\") # Definerer forbindelsen\n",
    "# Regner fra gram til mol og molekyler\n",
    "print(butan1ol.get_amounts(grams=2))\n",
    "# Finner prosentvis masse hydrogen i ammoniakk\n",
    "print(butan1ol.percentage_by_mass(\"H\"))\n",
    "\n",
    "natriumsulfat = Compound(\"Na2SO4\")\n",
    "# Fra mol til gram og formelenheter\n",
    "print(natriumsulfat.get_amounts(moles=1))\n",
    "\n",
    "ammoniakk = Compound(\"NH3\")\n",
    "# Fra molekyler til mol og gram\n",
    "print(ammoniakk.get_amounts(molecules=1E24))"
   ]
  },
  {
   "cell_type": "markdown",
   "id": "a25db70b",
   "metadata": {},
   "source": [
    "1. Hva gjør programmet ovenfor?\n",
    "2. Finn antall gram i 2 mol NaCl.\n",
    "3. Finn antall molekyler i 2 g metanol.\n",
    "4. Finn antall mol HCl-molekyler i 2 g HCl."
   ]
  },
  {
   "cell_type": "markdown",
   "id": "2ae81c42",
   "metadata": {},
   "source": [
    "Vi kan også sjekke om kjemiske reaksjoner er balansert, og vi kan balansere dem med chemlib:"
   ]
  },
  {
   "cell_type": "code",
   "execution_count": 3,
   "id": "725a9ba3",
   "metadata": {},
   "outputs": [
    {
     "name": "stdout",
     "output_type": "stream",
     "text": [
      "1H₂ + 1I₂ --> 1H₁I₁\n",
      "False\n",
      "1H₂ + 1I₂ --> 2H₁I₁\n",
      "True\n"
     ]
    }
   ],
   "source": [
    "from chemlib import Compound, Reaction\n",
    "\n",
    "# Definerer forbindelser\n",
    "H2 = Compound(\"H2\")\n",
    "I2 = Compound(\"I2\")\n",
    "HI = Compound(\"HI\")\n",
    "\n",
    "# Definerer reaksjon som en liste med reaktanter og en med produkter\n",
    "reaksjon = Reaction([H2, I2], [HI])\n",
    "print(reaksjon.formula)     # Printer reaksjonslikningen\n",
    "print(reaksjon.is_balanced) # Sjekker om reaksjonen er balansert\n",
    "\n",
    "reaksjon.balance()          # Balanserer reaksjonen\n",
    "print(reaksjon.formula)\n",
    "print(reaksjon.is_balanced)"
   ]
  },
  {
   "cell_type": "markdown",
   "id": "4827eb8d",
   "metadata": {},
   "source": [
    "1. Forklar hvordan klassen _Reaction_ fungerer (helt overordna). Skriv reaksjonslikningen vi har definert her.\n",
    "2. Forklar hva resten av programmet gjør.\n",
    "3. Lag et program som balanserer følgende reaksjonslikninger:\n",
    "\n",
    "$$C_2H_6(g) + O_2(g) \\rightarrow CO_2(g) + H_2O(l)$$\n",
    "\n",
    "$$NH_3(g) + O_2(g) \\rightarrow NO(g) + H_2O(g)$$\n",
    "\n",
    "$$Mg(s) + N_2(g) \\rightarrow Mg_3N_2(s)$$"
   ]
  },
  {
   "cell_type": "markdown",
   "id": "7d4a324e",
   "metadata": {},
   "source": [
    "## Oppgave 4: Titrering (utfordring)\n",
    "\n",
    "Titrering er en kvantitativ analysemetode der vi bestemmer konsentrasjonen av et ukjent stoff (_analytten_) ved å tilsette et stoff med kjent konsentrasjon (_titranten_). Titranten tilsettes ofte fra en byrette, og vi kan notere oss pH i analytten underveis ettersom vi tilsetter et visst volum titrant. Her er en titreringskurve for titrering av en svak syre med en sterk base.\n",
    "\n",
    "![titreringskurve](https://github.com/andreasdh/programmering-i-kjemi/blob/master/docs/bilder/titrering.png?raw=true)\n",
    "\n",
    "Ved ekvivalenspunktet er grafen brattest, og her er stoffmengdene av syre og base _ekvivalente_ (og dermed like hvis forholdet er 1:1 i reaksjonslikningen). Dette kan vi bruke til å finne konsentrasjonen av analytten. Vi skal se på noen metoder for å finne ekvivalenspunktet og pH-en ved ekvivalenspunktet i en slik titrering.\n",
    "\n",
    "a) Les og plott dataene fra fila [titreringsdata.txt](https://raw.githubusercontent.com/andreasdh/programmering-i-kjemi/master/docs/datafiler/titreringsdata.txt), som viser titreringsdata for titrering av glykolsyre med NaOH. Sørg for at datapunktene vises i plottet.\n",
    "\n",
    "b) Deriver pH-en numerisk med hensyn på volumet og legg den deriverte pH-en i ei ny liste. Forklar hva den deriverte av pH-en kan fortelle oss.\n",
    "\n",
    "c) Lag en funksjon som finner den største deriverte i lista med de deriverte verdiene. Sammenlikn gjerne med numpy-funksjonen _max_. La programmet skrive ut hvilket volum dette tilsvarer. Dette er volumet sterk base som er tilsatt ved ekvivalenspunktet. Finn også pH ved ekvivalenspunktet ved hjelp av programmet ditt."
   ]
  }
 ],
 "metadata": {
  "kernelspec": {
   "display_name": "Python 3 (ipykernel)",
   "language": "python",
   "name": "python3"
  },
  "language_info": {
   "codemirror_mode": {
    "name": "ipython",
    "version": 3
   },
   "file_extension": ".py",
   "mimetype": "text/x-python",
   "name": "python",
   "nbconvert_exporter": "python",
   "pygments_lexer": "ipython3",
   "version": "3.9.12"
  }
 },
 "nbformat": 4,
 "nbformat_minor": 5
}
