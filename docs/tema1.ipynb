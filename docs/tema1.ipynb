{
 "cells": [
  {
   "cell_type": "markdown",
   "metadata": {},
   "source": [
    "# Tema 1: Tall og variabler"
   ]
  },
  {
   "cell_type": "code",
   "execution_count": 1,
   "metadata": {},
   "outputs": [
    {
     "name": "stdout",
     "output_type": "stream",
     "text": [
      "Summen er: 9.14\n"
     ]
    }
   ],
   "source": [
    "# Variabeltyper\n",
    "heltall = 4 # Kommentar\n",
    "flyttall = 2.2\n",
    "streng = \"Hei på deg!\"\n",
    "\n",
    "# Output\n",
    "a = 2\n",
    "pi = 3.14\n",
    "summen = heltall + a + pi\n",
    "\n",
    "print(\"Summen er:\", summen)"
   ]
  },
  {
   "cell_type": "markdown",
   "metadata": {},
   "source": [
    "## Input"
   ]
  },
  {
   "cell_type": "code",
   "execution_count": 2,
   "metadata": {},
   "outputs": [
    {
     "name": "stdout",
     "output_type": "stream",
     "text": [
      "Masse:2\n",
      "Energien til et legeme med masse 2.0 kg er 1.8e+17 J.\n"
     ]
    }
   ],
   "source": [
    "#m = 0.2 # masse i kg\n",
    "c = 3E8 # lyshastighet i vakuum i m/s\n",
    "m = input(\"Masse:\")\n",
    "m = float(m)       # Kan gjøres i linja over, men denne metoden er kanskje mer oversiktlig\n",
    "E = m*c**2\n",
    "\n",
    "print(\"Energien til et legeme med masse\",\n",
    "      m,\"kg er\",E, \"J.\")"
   ]
  },
  {
   "cell_type": "markdown",
   "metadata": {},
   "source": [
    "## Matematiske biblioteker"
   ]
  },
  {
   "cell_type": "code",
   "execution_count": 1,
   "metadata": {},
   "outputs": [
    {
     "name": "stdout",
     "output_type": "stream",
     "text": [
      "[H3O+] i mol/L: 0.1\n",
      "pH-en i løsninga er: 1.0\n"
     ]
    }
   ],
   "source": [
    "from pylab import *\n",
    "\n",
    "oksonium = input(\"[H3O+] i mol/L: \") # mol/L\n",
    "oksonium = float(oksonium)\n",
    "pH = -log10(oksonium)\n",
    "\n",
    "print(\"pH-en i løsninga er:\", round(pH,2))"
   ]
  },
  {
   "cell_type": "code",
   "execution_count": null,
   "metadata": {},
   "outputs": [],
   "source": []
  }
 ],
 "metadata": {
  "kernelspec": {
   "display_name": "Python 3",
   "language": "python",
   "name": "python3"
  },
  "language_info": {
   "codemirror_mode": {
    "name": "ipython",
    "version": 3
   },
   "file_extension": ".py",
   "mimetype": "text/x-python",
   "name": "python",
   "nbconvert_exporter": "python",
   "pygments_lexer": "ipython3",
   "version": "3.7.7"
  }
 },
 "nbformat": 4,
 "nbformat_minor": 4
}
