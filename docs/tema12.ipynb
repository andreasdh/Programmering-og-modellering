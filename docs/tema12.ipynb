{
 "cells": [
  {
   "cell_type": "markdown",
   "metadata": {},
   "source": [
    "# Tema 12: Differensiallikninger"
   ]
  },
  {
   "cell_type": "markdown",
   "metadata": {},
   "source": [
    "## Newtons 2. lov\n",
    "\n",
    "Vi kan forstå sammenhengen mellom akselerasjon, fart og posisjon ved å bruke kinematikklikningene for konstant akselerasjon og forenkle ved å la akselerasjonen være konstant i et svært lite tidsrom dt. Eller vi kan formulere Newtons 2. lov som en differensiallikning og simulere bevegelsen ved Eulers metode. Vi skal se at dette er en ekvivalent framgangsmåte!"
   ]
  },
  {
   "cell_type": "code",
   "execution_count": 8,
   "metadata": {},
   "outputs": [
    {
     "name": "stdout",
     "output_type": "stream",
     "text": [
      "Ballen treffer bakken etter 2.425710000007424 sekunder\n"
     ]
    }
   ],
   "source": [
    "# Startbetingelser og konstanter\n",
    "v0 = 0   # startfart m/s\n",
    "s0 = 20  # startposisjon m\n",
    "t0 = 0   # starttid i s\n",
    "dt = 1E-5   # tidssteg i s \n",
    "\n",
    "m = 1    # kg\n",
    "g = 9.8  # tyngdeakselerasjon m/s^2\n",
    "k = 0.5  # luftmotstandskoeffisienten\n",
    "\n",
    "v = v0\n",
    "s = s0\n",
    "t = t0\n",
    "\n",
    "while s >= 0:\n",
    "    a = -g - k*v/m # Modell utleda fra N2\n",
    "    v = v + a*dt   # Eulers metode (men også kinematikklikning!)\n",
    "    s = s + v*dt   # Eulers metode\n",
    "    t = t + dt\n",
    "    \n",
    "print(\"Ballen treffer bakken etter\", t, \"sekunder\")"
   ]
  },
  {
   "cell_type": "markdown",
   "metadata": {},
   "source": [
    "# Smittemodellering fortsettelse\n",
    "\n",
    "- Ga en diskret smittemodellering noen urealistiske resultater?\n",
    "- La oss se på en kontinuerlig modell der vi modellerer smitten ved hjelp av differensiallikninger.\n",
    "\n",
    "$$S'(t) = -aS(t)\\cdot I(t)$$\n",
    "$$I'(t) = aS(t)\\cdot I(t) - bI(t)$$\n",
    "$$R'(t) = -bI(t)$$"
   ]
  },
  {
   "cell_type": "code",
   "execution_count": 28,
   "metadata": {},
   "outputs": [
    {
     "data": {
      "image/png": "[encoded data removed]",
      "text/plain": [
       "<Figure size 432x288 with 1 Axes>"
      ]
     },
     "metadata": {
      "needs_background": "light"
     },
     "output_type": "display_data"
    }
   ],
   "source": [
    "from pylab import *\n",
    "\n",
    "# Konstanter og startbetingelser\n",
    "N = 100000        # Antall mennesker\n",
    "I0 = 15           # Antall smittede ved t0\n",
    "S0 = (N - I0)*0.5 # Antall disponerte ved t0\n",
    "R0 = 0            # Antall friskmeldte ved t0\n",
    "a = 0.122/N*10\n",
    "b = 0.1\n",
    "\n",
    "I = I0\n",
    "S = S0\n",
    "R = R0\n",
    "\n",
    "# Tidsparametre\n",
    "dt = 1E-2\n",
    "t0 = 0\n",
    "t = 0\n",
    "tid_slutt = 100 # dager\n",
    "n = 0\n",
    "\n",
    "# Lister\n",
    "smittede = [I0]\n",
    "mottakelige = [S0]\n",
    "friske = [R0]\n",
    "tid = [t0]\n",
    "\n",
    "# Simuleringsløkke\n",
    "while t <= tid_slutt:\n",
    "    Sder = -a*S*I\n",
    "    Ider = a*S*I - b*I\n",
    "    Rder = b*I\n",
    "    # Eulers metode\n",
    "    S = S + Sder*dt\n",
    "    I = I + Ider*dt\n",
    "    R = R + Rder*dt\n",
    "    t = t + dt\n",
    "    smittede.append(I)\n",
    "    mottakelige.append(S)\n",
    "    friske.append(R)\n",
    "    tid.append(t)\n",
    "    n = n + 1\n",
    "    \n",
    "plot(tid, friske)\n",
    "plot(tid, mottakelige)\n",
    "plot(tid, friske)\n",
    "show()\n"
   ]
  },
  {
   "cell_type": "code",
   "execution_count": 21,
   "metadata": {},
   "outputs": [
    {
     "data": {
      "text/plain": [
       "100000"
      ]
     },
     "execution_count": 21,
     "metadata": {},
     "output_type": "execute_result"
    }
   ],
   "source": [
    "n"
   ]
  },
  {
   "cell_type": "code",
   "execution_count": null,
   "metadata": {},
   "outputs": [],
   "source": []
  }
 ],
 "metadata": {
  "kernelspec": {
   "display_name": "Python 3",
   "language": "python",
   "name": "python3"
  },
  "language_info": {
   "codemirror_mode": {
    "name": "ipython",
    "version": 3
   },
   "file_extension": ".py",
   "mimetype": "text/x-python",
   "name": "python",
   "nbconvert_exporter": "python",
   "pygments_lexer": "ipython3",
   "version": "3.8.5"
  }
 },
 "nbformat": 4,
 "nbformat_minor": 4
}
