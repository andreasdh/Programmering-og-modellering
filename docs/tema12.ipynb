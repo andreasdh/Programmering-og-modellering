{
 "cells": [
  {
   "cell_type": "markdown",
   "metadata": {},
   "source": [
    "# Tema 12: Differensiallikninger"
   ]
  },
  {
   "cell_type": "markdown",
   "metadata": {},
   "source": [
    "## Newtons 2. lov\n",
    "\n",
    "Vi kan forstå sammenhengen mellom akselerasjon, fart og posisjon ved å bruke kinematikklikningene for konstant akselerasjon og forenkle ved å la akselerasjonen være konstant i et svært lite tidsrom dt. Eller vi kan formulere Newtons 2. lov som en differensiallikning og simulere bevegelsen ved Eulers metode. Vi skal se at dette er en ekvivalent framgangsmåte!"
   ]
  },
  {
   "cell_type": "code",
   "execution_count": 8,
   "metadata": {},
   "outputs": [
    {
     "name": "stdout",
     "output_type": "stream",
     "text": [
      "Ballen treffer bakken etter 2.425710000007424 sekunder\n"
     ]
    }
   ],
   "source": [
    "# Startbetingelser og konstanter\n",
    "v0 = 0   # startfart m/s\n",
    "s0 = 20  # startposisjon m\n",
    "t0 = 0   # starttid i s\n",
    "dt = 1E-5   # tidssteg i s \n",
    "\n",
    "m = 1    # kg\n",
    "g = 9.8  # tyngdeakselerasjon m/s^2\n",
    "k = 0.5  # luftmotstandskoeffisienten\n",
    "\n",
    "v = v0\n",
    "s = s0\n",
    "t = t0\n",
    "\n",
    "while s >= 0:\n",
    "    a = -g - k*v/m # Modell utleda fra N2\n",
    "    v = v + a*dt   # Eulers metode (men også kinematikklikning!)\n",
    "    s = s + v*dt   # Eulers metode\n",
    "    t = t + dt\n",
    "    \n",
    "print(\"Ballen treffer bakken etter\", t, \"sekunder\")"
   ]
  },
  {
   "cell_type": "code",
   "execution_count": null,
   "metadata": {},
   "outputs": [],
   "source": []
  }
 ],
 "metadata": {
  "kernelspec": {
   "display_name": "Python 3",
   "language": "python",
   "name": "python3"
  },
  "language_info": {
   "codemirror_mode": {
    "name": "ipython",
    "version": 3
   },
   "file_extension": ".py",
   "mimetype": "text/x-python",
   "name": "python",
   "nbconvert_exporter": "python",
   "pygments_lexer": "ipython3",
   "version": "3.8.5"
  }
 },
 "nbformat": 4,
 "nbformat_minor": 4
}
