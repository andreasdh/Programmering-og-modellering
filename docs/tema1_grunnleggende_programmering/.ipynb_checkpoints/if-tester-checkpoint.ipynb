{
 "cells": [
  {
   "cell_type": "markdown",
   "metadata": {},
   "source": [
    "# Vilkår (if-tester)\n",
    "\n",
    "```{admonition} Læringsutbytte\n",
    "Etter å ha arbeidet med dette temaet, skal du kunne:\n",
    "1. bruke vilkår til å systematisere valg i programkoden\n",
    "2. illustrere og løse matematiske og naturvitenskapelige problemstillinger med sammensatt kode der vilkår inngår\n",
    "```\n",
    "\n",
    "## Definisjon\n",
    "\n",
    "```{admonition} Vilkår\n",
    "Et vilkår, eller en betingelse, er en logisk test for å sjekke om et kriterium er oppfylt. Dersom kriteriet er oppfylt, utføres det en handling. Dersom kriteriet ikke er oppfylt, blir ikke handlingen utført. Vilkår beskrives ofte i programmering som en «hvis-setning» («if» i Python).\n",
    "```\n",
    "Vilkår er sentrale i programmering, men også sentrale i hverdagen. Vi kan lage et enkelt eksempel ut fra billettpriser på bussen. Hvis du er under 18 år, blir prisen 31 kroner. Hvis ikke, regnes du som voksen, og må betale 62 kroner. Vi kan beskrive dette med følgende pseudokode:\n",
    "\n",
    "```{code-block} text\n",
    "if alder < 18:\n",
    "    pris = 31\n",
    "else: \n",
    "    pris = 62\n",
    "```\n",
    "\n",
    "Dersom vi oversetter denne pseudokoden til Python-kode, ser vi at logikken og strukturen er ganske lik:\n",
    "\n",
    "```{code-block} Python\n",
    "if alder < 18:\n",
    "    pris = 31\n",
    "else: \n",
    "    pris = 62\n",
    "```\n",
    "\n",
    "```{admonition} Underveisoppgave\n",
    ":class: tip\n",
    "Vi kan illustrere hvordan vilkår fungerer med et puslespill. Puslespillet nedenfor er basert på billettpriseksempelet. Løs puslespillet nedenfor uten å se på Python-koden ovenfor. Pass på at innrykkene er riktig! Hva tror du innrykk betyr?\n",
    "```"
   ]
  },
  {
   "cell_type": "code",
   "execution_count": 9,
   "metadata": {
    "tags": [
     "remove-input"
    ]
   },
   "outputs": [
    {
     "data": {
      "text/html": [
       "\n",
       "        <iframe\n",
       "            width=\"1000\"\n",
       "            height=\"450\"\n",
       "            src=\"https://parsons.herokuapp.com/puzzle/1a01c8b7115240199d88a732d06317b1\"\n",
       "            frameborder=\"0\"\n",
       "            allowfullscreen\n",
       "        ></iframe>\n",
       "        "
      ],
      "text/plain": [
       "<IPython.lib.display.IFrame at 0x1fad942a100>"
      ]
     },
     "execution_count": 9,
     "metadata": {},
     "output_type": "execute_result"
    }
   ],
   "source": [
    "from IPython.display import IFrame\n",
    "IFrame('https://parsons.herokuapp.com/puzzle/1a01c8b7115240199d88a732d06317b1', width=1000, height=450)"
   ]
  },
  {
   "cell_type": "markdown",
   "metadata": {},
   "source": [
    "## Vilkår i Python\n",
    "La oss se på et eksempel der\n",
    "\n",
    "```{code-block} Python\n",
    "tall = float(input(\"Tast inn et tall: \"))\n",
    "if tall > 1:\n",
    "\tprint(\"Hurra, tallet er større enn 1!\")\n",
    "```\n",
    "\n",
    "Programmet på forrige side ber brukeren om å taste inn et vilkårlig tall som deretter konverteres til flyttall. Vilkåret starter med _if_, etterfulgt av variabelnavnet. Deretter gir vi et kriterium som skal sjekkes. Her tester vi om tallet er større enn 1. Dersom det er større enn 1, skrives det ut en beskjed. Vi må ha et kolon etter første linje, og innrykk på alt som hører til det spesifikke kriteriet. Dersom kriteriet ikke er oppfylt, skjer det ingen ting. Dersom vi vil at det skal skje noe selv om kriteriet ikke er oppfylt, kan vi legge til _else_-kommandoen:\n",
    "\n",
    "```{code-block} Python\n",
    "tall = float(input(\"Tast inn et tall: \"))\n",
    "if tall > 1:\n",
    "\tprint(\"Hurra, tallet er større enn 1!\")\n",
    "else:\n",
    "\tprint(\"Tallet er ikke større enn 1.\")\n",
    "```\n",
    "Dersom kriteriet (tall > 1) ikke er sant, blir beskjeden etter _else_ skrevet ut. Vi kan legge til enda flere kriterier ved å bruke _elif_ (forkortelse for _else if_):\n",
    "\n",
    "```{code-block} Python\n",
    "tall = float(input(\"Tast inn et tall: \"))\n",
    "if tall > 1:\n",
    "\tprint(\"Hurra, tallet er større enn 1!\")\n",
    "elif tall < 1:\n",
    "\tprint(\"Tallet er mindre enn 1!\")\n",
    "else:\n",
    "\tprint(\"Tallet er 1!\")\n",
    "```\n",
    "\n",
    "Det er en logisk konklusjon at tallet _er_ 1 dersom det verken er større eller mindre enn 1. For å være helt sikre, kan vi erstatte else-kommandoen med nok en elif-kommando:\n",
    "\n",
    "```{code-block} Python\n",
    "tall = float(input(\"Tast inn et tall: \"))\n",
    "if tall > 1:\n",
    "\tprint(\"Hurra, tallet er større enn 1!\")\n",
    "elif tall < 1:\n",
    "\tprint(\"Tallet er mindre enn 1!\")\n",
    "elif tall == 1:\n",
    "\tprint(\"Tallet er 1!\")\n",
    "```\n",
    "\n",
    "Legg merke til at symbolet _==_ brukes for å teste om tallet er lik 1. Dersom vi bruker enkel likhetstegn (=) tror Python at vi prøver å tilordne en variabel. Da får vi en feilmelding. De ulike symbolene som brukes i vilkår, er oppsummert i tabellen nedenfor.\n",
    "\n",
    "| Symbol | Betydning |\n",
    "| ------ | --------- |\n",
    "| > | Større enn |\n",
    "| < | Mindre enn |\n",
    "| == | Er lik |\n",
    "| <= | Mindre enn eller lik |\n",
    "| >= | Større enn eller lik |\n",
    "| != | Ikke lik |\n",
    "\n",
    "Det er noen ting å passe spesielt på når vi programmerer med vilkår:\n",
    "- Alt som er rykket inn utføres kun hvis if-testen ovenfor er sann. Innrykk er derfor viktig for strukturen.\n",
    "- \"elif\" står for \"else if\", og sjekker noe nytt, mens \"else\" brukes for å gjøre noe dersom ingen av kriteriene under \"if\" og \"elif\" er sanne.\n",
    "- Det er den første if-testen som er sann i en serie av if-elif-else som utføres. Alle andre overses. Dersom vi skriver \"if\" en gang til, begynner vi på en ny serie med if-elif-else.\n",
    "- Vi _må_ begynne med \"if\", mens \"elif\" og \"else\" er valgfritt.\n",
    "- De logiske operatorene vi kan velge mellom, er:\n",
    "\n",
    "```{admonition} Underveisoppgave\n",
    ":class: tip\n",
    "Lag et program der du sjekker om et tall er positivt, negativt eller null, og skriver ut relevante setninger når de ulike kriteriene er nådd. Du kan ta utgangspunkt i programkoden i kodeboksen her:\n",
    "```\n",
    "<iframe src=\"https://trinket.io/embed/python3/12af96f83e?font=1.5em\" width=\"100%\" height=\"500\" frameborder=\"0\" marginwidth=\"0\" marginheight=\"0\" allowfullscreen></iframe>"
   ]
  },
  {
   "cell_type": "markdown",
   "metadata": {},
   "source": [
    "## Oppgaver\n",
    "```{admonition} Oppgave 3.1\n",
    ":class: tip\n",
    "Forklar hvorfor de to ulike programmene nedenfor gir ulike output.\n",
    "```"
   ]
  },
  {
   "cell_type": "code",
   "execution_count": null,
   "metadata": {},
   "outputs": [],
   "source": [
    "a = 10\n",
    "if a > 5:\n",
    "    a = a + 5\n",
    "a = a + 2\n",
    "print(a)"
   ]
  },
  {
   "cell_type": "code",
   "execution_count": null,
   "metadata": {},
   "outputs": [],
   "source": [
    "a = 10\n",
    "if a > 5:\n",
    "    a = a + 5\n",
    "else:\n",
    "    a = a + 2\n",
    "print(a)"
   ]
  },
  {
   "cell_type": "markdown",
   "metadata": {},
   "source": [
    "```{admonition} Oppgave 3.2\n",
    ":class: tip\n",
    "Lag et program som spør brukeren om alderen til brukeren. Skriv ut en kommentar som avhenger av om alderen er under eller over 17. Utvid programmet til å skille mellom flere aldre.\n",
    "```\n",
    "\n",
    "```{admonition} Oppgave 3.3\n",
    ":class: tip\n",
    "Lag et program som tar en poengsum som input. Programmet skal finne ut hvilken karakter du får dersom maks poengsum er 60 poeng. Finn på karaktergrenser selv.\n",
    "\n",
    "Utvid programmet til å ta maks poengsum som et tilleggsargument. Programmet skal benytte prosenter av denne makssummen til å regne ut sluttkarakteren. Lag prosentgrensene selv.\n",
    "```\n",
    "\n",
    "```{admonition} Oppgave 3.4\n",
    ":class: tip\n",
    "Lag et program som tar to tall som input. Programmet skal skrive ut hvilket av de to tallene som er størst.\n",
    "```\n",
    "\n",
    "```{admonition} Oppgave 3.5\n",
    ":class: tip\n",
    "Puslespillet nedenfor skal bli et program som skal regne ut hvor mange løsninger en andregradslikning på formen $ax^2 + bx + c = 0$ har. Prøv å sette sammen puslespillet. Hvis du blir fort ferdig eller trenger en ekstra utfordring, kan du prøve [denne varianten](http://parsons.problemsolving.io/puzzle/a56e0f5a917a4079aadffb571c3d411e).\n",
    "```"
   ]
  },
  {
   "cell_type": "code",
   "execution_count": 1,
   "metadata": {
    "tags": [
     "remove-input"
    ]
   },
   "outputs": [
    {
     "data": {
      "text/html": [
       "\n",
       "        <iframe\n",
       "            width=\"600\"\n",
       "            height=\"600\"\n",
       "            src=\"https://parsons.herokuapp.com/puzzle/6e30d3320c8e4ba69b61a0e302754a3c\"\n",
       "            frameborder=\"0\"\n",
       "            allowfullscreen\n",
       "        ></iframe>\n",
       "        "
      ],
      "text/plain": [
       "<IPython.lib.display.IFrame at 0x1eef3fd7ac0>"
      ]
     },
     "execution_count": 1,
     "metadata": {},
     "output_type": "execute_result"
    }
   ],
   "source": [
    "from IPython.display import IFrame\n",
    "IFrame('https://parsons.herokuapp.com/puzzle/6e30d3320c8e4ba69b61a0e302754a3c', width=1000, height=600)"
   ]
  },
  {
   "cell_type": "markdown",
   "metadata": {},
   "source": [
    "```{admonition} Oppgave 3.6\n",
    ":class: tip\n",
    "Modifiser programmet i puslespillet ovenfor slik at det også regner ut hva løsningene er.\n",
    "```\n",
    "\n",
    "```{admonition} Oppgave 3.7\n",
    ":class: tip\n",
    "Lag en kalkulator der brukeren må taste inn to tall og en regneoperasjon. Du bestemmer selv hvor mange regneoperasjoner programmet skal håndtere.\n",
    "```\n",
    "\n",
    "```{admonition} Fysikkoppgave\n",
    ":class: tip\n",
    "Lag et program der du kan taste inn bølgelengden til synlig lys i nm og få ut hvilken farge lyset har. Utvid eventuelt prorammet med andre deler av det elektromagnetiske spekteret.\n",
    "```\n",
    "\n",
    "```{admonition} Kjemioppgave\n",
    ":class: tip\n",
    "Lag et program med en variabel kalt pH. Programmet skal skrive ut om løsningen med denne pH-en er sur, basisk eller nøytral.\n",
    "\n",
    "$$pH = -log([H_3O^+])$$\n",
    "\n",
    "Her står $[H_3O^+]$ for konsentrasjonen av $H_3O^+$-ioner. Test programmet med $[H_3O^+] = 1\\cdot 10^{-7}$. Dette bør gi nøytral løsning.\n",
    "```\n",
    "\n",
    "```{admonition} Biologioppgave\n",
    ":class: tip\n",
    "Vi skal se på en populasjon av mennesker og ser på et gen som finnes i to varianter: $a$ og $A$. Andelen av populasjonen som har variant $a$ kan vi kalle for $p$ og andelen av populasjonen som har variant $A$ kan vi kalle for $q$. Verdiene til $p$ og $q$ må være mellom 0 og 1. \n",
    "Siden alle i populasjonen vil ha enten $a$ eller $A$ (eller begge), må $p + q = 1$.\n",
    "\n",
    "Populasjonen sies å være i _Hardy-Weinberg-likevekt_ dersom verdiene til $p$ og $q$ ikke forandrer seg under forutsetningen at det foregår tilfeldig paring, ingen mutasjoner, ingen naturlig seleksjon og ingen evolusjon i populasjonen.\n",
    "\n",
    "Dersom populasjonen er i Hardy-Weinberg-likevekt kan en finne andelen til de tre mulige genotypene til menneskene i populasjonen:\n",
    "- $AA$ : $p^2$ \n",
    "- $Aa$ : $2pq$\n",
    "- $aa$ : $q^2$\n",
    "\n",
    "Lag et program som ber brukeren om verdien til $p$ og $q$.\n",
    "Programmet skal så teste om $ p + q = 1$. Hvis summen er 1, skal programmet regne ut andelene til de tre mulige genotypene, og skrive dem ut. Hvis summen ikke er 1, skal programmet skrive en feilmelding.\n",
    "```\n",
    "\n",
    "```{admonition} Matematikkoppgave\n",
    ":class: tip\n",
    "Lag et program som regner ut funksjonen $g(x) = 3x^4 + 5x^3 + 7x^2 + x - 3.0625$ for en verdi av $x$ gitt av brukeren. Programmet skal skrive ut en melding om $x - x$-verdien fra brukeren er en faktor i $g$ eller ikke.\n",
    "\n",
    "Sjekk om programmet ditt gir at $x - \\dfrac{1}{2}$ er en faktor i polynomet. \n",
    "```\n",
    "\n",
    "```{admonition} Sammensatt oppgave\n",
    ":class:tip\n",
    "Lag et lite eventyrspill der spilleren får ulike valg underveis, og historien formes av valgene spilleren tar. Du kan gjerne bruke input-funksjonen for å gi spilleren ulike valg. Det blir gjerne mange if-tester inni if-tester, så hold styr på innrykkene dine.\n",
    "```"
   ]
  },
  {
   "cell_type": "markdown",
   "metadata": {},
   "source": [
    "## Video\n",
    "Se videoen nedenfor for å få en gjennomgang av det viktigste når vi skal programmere if-tester i Python:\n",
    "\n",
    "<iframe width=\"900\" height=\"600\" src=\"https://www.youtube.com/embed/XkDoYa7aGwc\" title=\"YouTube video player\" frameborder=\"0\" allow=\"accelerometer; autoplay; clipboard-write; encrypted-media; gyroscope; picture-in-picture\" allowfullscreen></iframe>"
   ]
  }
 ],
 "metadata": {
  "celltoolbar": "Edit Metadata",
  "kernelspec": {
   "display_name": "Python 3 (ipykernel)",
   "language": "python",
   "name": "python3"
  },
  "language_info": {
   "codemirror_mode": {
    "name": "ipython",
    "version": 3
   },
   "file_extension": ".py",
   "mimetype": "text/x-python",
   "name": "python",
   "nbconvert_exporter": "python",
   "pygments_lexer": "ipython3",
   "version": "3.8.10"
  }
 },
 "nbformat": 4,
 "nbformat_minor": 4
}
