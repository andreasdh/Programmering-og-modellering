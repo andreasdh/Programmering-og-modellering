{
 "cells": [
  {
   "cell_type": "markdown",
   "metadata": {},
   "source": [
    "# Løkker\n",
    "\n",
    "```{admonition} Læringsutbytte\n",
    "Etter å ha arbeidet med dette temaet, skal du kunne:\n",
    "1. bruke while- og for-løkker til å gjenta kode\n",
    "2. tegne geometriske mønstre med turtle-grafikk\n",
    "3. beregne rekkesummer\n",
    "4. løse naturvitenskapelige problemer med løkker\n",
    "```\n",
    "\n",
    "## Definisjon\n",
    "\n",
    "Den kanskje viktigste strukturen i programmering er løkker. De lar datamaskinen gjenta en operasjon så mange ganger vi vil. Det er dette som er datamaskinens styrke.\n",
    "\n",
    "```{admonition} Løkker\n",
    "En løkke er en struktur som gjør at vi kan gjenta kode. Ofte skiller vi mellom en _telleløkke_, som gjentar noe et visst antall ganger, og en _tilstandsløkke_, som gjentar så lenge noe er sant. I Python heter disse henholdsvis _for_-løkke og _while_-løkke.\n",
    "```\n",
    "\n",
    "## Skilpaddegrafikk\n",
    "Vi skal se hvordan løkker fungerer ved å introdusere deg til en skilpadde. Han heter Gunnar. Her er han:\n",
    "\n",
    "<iframe src=\"https://trinket.io/embed/python/e00b86de83\" width=\"100%\" height=\"356\" frameborder=\"0\" marginwidth=\"0\" marginheight=\"0\" allowfullscreen></iframe>\n",
    "\n",
    "Gunnar følger enkle kommandoer, som \"forward\", \"backward\", \"right\" og \"left\".\n",
    "\n",
    "```{admonition} Underveisoppgave\n",
    ":class: tip\n",
    "Endre programmet ovenfor slik at Gunnar tegner en trekant. Hva er sammenhengen mellom vinkelen som skilpadden snur og vinklene i trekanten?\n",
    "```\n",
    "\n",
    "## Skilpadder i løkker\n",
    "Å tegne en trekant krever få linjer kode, men hva hvis du vil tegne en åttekant, en førtitokant, eller en nittisekskant? Det er slitsomt og kjedelig å skrive samme kommando hundervis av ganger. Og det er totalt unøvdendig. Vi bruker nemlig løkker til å gjenta kode, for eksempel slik:\n",
    "\n",
    "<iframe src=\"https://trinket.io/embed/python/f047f7a36d\" width=\"100%\" height=\"600\" frameborder=\"0\" marginwidth=\"0\" marginheight=\"0\" allowfullscreen></iframe>\n",
    "\n",
    "```{admonition} Underveisoppgave\n",
    ":class: tip\n",
    "Prøv å forklare hvordan programmet ovenfor fungerer. Hva tror du \"for i in range(n)\" betyr? Hva tror du _i_ er?\n",
    "```\n",
    "\n",
    "```{admonition} Løsning\n",
    ":class: tip, dropdown\n",
    "Helt enkelt kan vi si at løkka repeterer alt som står rykket inn (med tab) _n_ ganger. Vi kan forklare det litt grundigere med at \"for i in range(n)\" betyr at for hver verdi av en variabel _i_, skal løkka gjentas. Variabelen _i_ får hver verdi i intervallet [0, 1, 2, 3, ..., n-1], som lages med funksjonen _range_. Det betyr at første gang løkka kjører, er $i = 0$, andre gang $i = 1$ og så videre. Løkka gjentas helt til $i = n - 1$, altså til, men ikke med verdien _n_.\n",
    "```\n",
    "\n",
    "```{admonition} Underveisoppgave\n",
    ":class: tip\n",
    "Modifiser programmet ovenfor slik at skilpadden tegner en 96-kant.\n",
    "```\n",
    "\n",
    "```{admonition} *Ekstraoppgave*\n",
    ":class: tip\n",
    "Få Gunnar til å tegne en blomst!\n",
    "```"
   ]
  },
  {
   "cell_type": "markdown",
   "metadata": {},
   "source": [
    "## While-løkker\n",
    "Vi har to typer løkker i Python: while-løkker (tilstandsløkker) og for-løkker (telleløkker). While-løkker gjentar noe helt til et kriterium er nådd. Her er et eksempel:\n",
    "\n",
    "<iframe src=\"https://trinket.io/embed/python3/aae1a3f582\" width=\"100%\" height=\"600\" frameborder=\"0\" marginwidth=\"0\" marginheight=\"0\" allowfullscreen></iframe>\n",
    "\n",
    "Programmet kjører så lenge variabelen _partall_ har en verdi som er mindre enn eller lik 10. Alt som er rykket inn, gjentas hver gang løkka går. Programmet skriver derfor ut alle positive partall (og 0) som er mindre enn eller lik 10.\n",
    "\n",
    "```{admonition}\n",
    ":class: tip\n",
    "Modifiser programmet ovenfor slik at programmet skriver ut alle positive _oddetall_ under 10.\n",
    "```"
   ]
  },
  {
   "cell_type": "markdown",
   "metadata": {},
   "source": [
    "## For-løkker\n",
    "I for-løkker lager vi en _teller_ eller _tellevariabel_ som går igjennom en slags liste med tall. Dette listeliknende intervallet kan vi lage med funksjonen _range_. Her er noen eksempler:\n",
    "\n",
    "| kommando | liste |\n",
    "| -------- | --------- |\n",
    "| range(3) | [0, 1, 2] |\n",
    "| range(2,4) | [2, 3] |\n",
    "| range(1,8,2) | [1, 3, 5, 7] |\n",
    "\n",
    "```{admonition} Underveisoppgave\n",
    ":class: tip\n",
    "Forklar hvordan _range_-funksjonen fungerer med utgangspunkt i eksemplene ovenfor.\n",
    "```\n",
    "```{admonition} Løsningsforslag\n",
    ":class: tip, dropdown\n",
    "Vi kan skrive en generell range-kommando slik: range(fra og med, til, steglengde). Vi kaller de tre tallene i range-funksjonen for _argumenter_. Dersom vi kun bruker ett argument, for eksempel _range(3)_, går intervallet automatisk fra 0 til, men ikke med, 3 (som er spesifisert), med steglengde 1, altså er hvert heltall med. Dersom vi bruker to argumenter, som i _range(2,4)_, går intervallet fra 2 til, men ikke med, 4, med en automatisk steglengde på 1. Dersom vi bruker tre argumenter, gir vi også steglengden, for eksempel hvert andre tall mellom 1 og 8, som i _range(1,8,2)_.\n",
    "```\n",
    "\n",
    "Et eksempel på en for-løkke er slik:\n",
    "\n",
    "\n",
    "\n",
    "I for-løkker kaller vi ofte tellevariabelen for _i_, _j_, _k_ eller liknende, men den kan egentlig hete hva som helst. \n",
    "\n",
    "``For i in range(0,n)'' kan løst oversettes til ``kjør denne løkka for alle tall \\textit{i} fra 0 til \\textit{n}''. Tellevariabelen \\textit{i} er en heltallsvariabel som oppdaterer seg selv med 1 (``steglengden'') for hver runde i løkka. Vi kan justere steglengden slik:\n",
    "\n",
    "\\begin{lstlisting}\n",
    "for i in range(0,n,2):\n",
    "\tprint(i)\n",
    "\\end{lstlisting}\n",
    "\n",
    "\\noindent Her går programmet fra 0 til \\textit{n}, og \\textit{i} oppdaterer seg med 2 hver gang (det vil si at \\mbox{i = 0, 2, 4, ..., n)}. Vi kan også gå baklengs ved å angi negativ tellevariabel, for eksempel slik:\n",
    "\n",
    "\\begin{lstlisting}\n",
    "for i in range(n, 2, -1)\n",
    "\tprint(i)\n",
    "\\end{lstlisting}\n",
    "\n",
    "\\noindent Dersom vi ønsker at tellevariabelen skal starte på 0, kan vi droppe det første \\mbox{argumentet} fordi 0 er standard startverdi:\n",
    "\n",
    "\\begin{lstlisting}\n",
    "for i in range(n):\n",
    "\tprint(i)\n",
    "\\end{lstlisting}\n",
    "\n",
    "\\noindent Dette programmet skriver ut alle tall fra og med 0 (standard start) til \\textit{n} med steglengde 1 (standard steglengde). Merk at jeg ikke skriver ``til og med \\textit{n}'', men ``til \\textit{n}''. Det betyr at \\textit{n} ikke er med i utskriften. Det er en ganske vanlig kilde til feil hvis en egentlig skulle hatt med \\textit{n} -- vi kaller det ``feilindeksering'', et fenomen som antakelig ikke havner øverst på vennelista di. Dersom vi vil ha med \\textit{n}, kan vi for eksempel gjøre slik:\n",
    "\n",
    "\\begin{lstlisting}\n",
    "n = 3\n",
    "for i in range(n+1):\n",
    "\tprint(i)\n",
    "\\end{lstlisting}\n",
    "\n",
    "\\noindent Dette programmet skriver ut tallene 0, 1, 2 og 3. Lille \\textit{n} angir her \\textit{antall iterasjoner}, det vil si hvor mange ganger løkka går, og \\textit{i} er \\textit{tellevariabelen} som øker med 1 i verdi hver gang løkka går. Syntaksen for for-løkker er altså kort oppsummert slik:\n",
    "\n",
    "\\begin{lstlisting}\n",
    "\n",
    "# argument 1 og 3 kan sløyfes\n",
    "\\end{lstlisting}"
   ]
  },
  {
   "cell_type": "code",
   "execution_count": null,
   "metadata": {},
   "outputs": [],
   "source": []
  },
  {
   "cell_type": "markdown",
   "metadata": {},
   "source": [
    "## Oppgaver\n",
    "```{admonition} Oppgave 3.1\n",
    ":class: tip\n",
    "Forklar hvorfor de to ulike programmene nedenfor gir ulike output.\n",
    "```"
   ]
  },
  {
   "cell_type": "code",
   "execution_count": null,
   "metadata": {},
   "outputs": [],
   "source": [
    "a = 10\n",
    "if a > 5:\n",
    "    a = a + 5\n",
    "a = a + 2\n",
    "print(a)"
   ]
  },
  {
   "cell_type": "code",
   "execution_count": null,
   "metadata": {},
   "outputs": [],
   "source": [
    "a = 10\n",
    "if a > 5:\n",
    "    a = a + 5\n",
    "else:\n",
    "    a = a + 2\n",
    "print(a)"
   ]
  },
  {
   "cell_type": "markdown",
   "metadata": {},
   "source": [
    "```{admonition} Oppgave 3.2\n",
    ":class: tip\n",
    "Lag et program som spør brukeren om alderen til brukeren. Skriv ut en kommentar som avhenger av om alderen er under eller over 17. Utvid programmet til å skille mellom flere aldre.\n",
    "```\n",
    "\n",
    "```{admonition} Oppgave 3.3\n",
    ":class: tip\n",
    "Lag et program som tar en poengsum som input. Programmet skal finne ut hvilken karakter du får dersom maks poengsum er 60 poeng. Finn på karaktergrenser selv.\n",
    "\n",
    "Utvid programmet til å ta maks poengsum som et tilleggsargument. Programmet skal benytte prosenter av denne makssummen til å regne ut sluttkarakteren. Lag prosentgrensene selv.\n",
    "```\n",
    "\n",
    "```{admonition} Oppgave 3.4\n",
    ":class: tip\n",
    "Lag et program som tar to tall som input. Programmet skal skrive ut hvilket av de to tallene som er størst.\n",
    "```\n",
    "\n",
    "```{admonition} Oppgave 3.5\n",
    ":class: tip\n",
    "Puslespillet nedenfor skal bli et program som skal regne ut hvor mange løsninger en andregradslikning på formen $ax^2 + bx + c = 0$ har. Prøv å sette sammen puslespillet. Hvis du blir fort ferdig eller trenger en ekstra utfordring, kan du prøve [denne varianten](http://parsons.problemsolving.io/puzzle/a56e0f5a917a4079aadffb571c3d411e).\n",
    "```"
   ]
  },
  {
   "cell_type": "code",
   "execution_count": 1,
   "metadata": {
    "tags": [
     "remove-input"
    ]
   },
   "outputs": [
    {
     "data": {
      "text/html": [
       "\n",
       "        <iframe\n",
       "            width=\"600\"\n",
       "            height=\"600\"\n",
       "            src=\"https://parsons.herokuapp.com/puzzle/6e30d3320c8e4ba69b61a0e302754a3c\"\n",
       "            frameborder=\"0\"\n",
       "            allowfullscreen\n",
       "        ></iframe>\n",
       "        "
      ],
      "text/plain": [
       "<IPython.lib.display.IFrame at 0x1eef3fd7ac0>"
      ]
     },
     "execution_count": 1,
     "metadata": {},
     "output_type": "execute_result"
    }
   ],
   "source": [
    "from IPython.display import IFrame\n",
    "IFrame('https://parsons.herokuapp.com/puzzle/6e30d3320c8e4ba69b61a0e302754a3c', width=1000, height=600)"
   ]
  },
  {
   "cell_type": "markdown",
   "metadata": {},
   "source": [
    "```{admonition} Oppgave 3.6\n",
    ":class: tip\n",
    "Modifiser programmet i puslespillet ovenfor slik at det også regner ut hva løsningene er.\n",
    "```\n",
    "\n",
    "```{admonition} Oppgave 3.7\n",
    ":class: tip\n",
    "Lag en kalkulator der brukeren må taste inn to tall og en regneoperasjon. Du bestemmer selv hvor mange regneoperasjoner programmet skal håndtere.\n",
    "```\n",
    "\n",
    "```{admonition} Fysikkoppgave\n",
    ":class: tip\n",
    "Lag et program der du kan taste inn bølgelengden til synlig lys i nm og få ut hvilken farge lyset har. Utvid eventuelt prorammet med andre deler av det elektromagnetiske spekteret.\n",
    "```\n",
    "\n",
    "```{admonition} Kjemioppgave\n",
    ":class: tip\n",
    "Lag et program med en variabel kalt pH. Programmet skal skrive ut om løsningen med denne pH-en er sur, basisk eller nøytral.\n",
    "\n",
    "$$pH = -log([H_3O^+])$$\n",
    "\n",
    "Her står $[H_3O^+]$ for konsentrasjonen av $H_3O^+$-ioner. Test programmet med $[H_3O^+] = 1\\cdot 10^{-7}$. Dette bør gi nøytral løsning.\n",
    "```\n",
    "\n",
    "```{admonition} Biologioppgave\n",
    ":class: tip\n",
    "Vi skal se på en populasjon av mennesker og ser på et gen som finnes i to varianter: $a$ og $A$. Andelen av populasjonen som har variant $a$ kan vi kalle for $p$ og andelen av populasjonen som har variant $A$ kan vi kalle for $q$. Verdiene til $p$ og $q$ må være mellom 0 og 1. \n",
    "Siden alle i populasjonen vil ha enten $a$ eller $A$ (eller begge), må $p + q = 1$.\n",
    "\n",
    "Populasjonen sies å være i _Hardy-Weinberg-likevekt_ dersom verdiene til $p$ og $q$ ikke forandrer seg under forutsetningen at det foregår tilfeldig paring, ingen mutasjoner, ingen naturlig seleksjon og ingen evolusjon i populasjonen.\n",
    "\n",
    "Dersom populasjonen er i Hardy-Weinberg-likevekt kan en finne andelen til de tre mulige genotypene til menneskene i populasjonen:\n",
    "- $AA$ : $p^2$ \n",
    "- $Aa$ : $2pq$\n",
    "- $aa$ : $q^2$\n",
    "\n",
    "Lag et program som ber brukeren om verdien til $p$ og $q$.\n",
    "Programmet skal så teste om $ p + q = 1$. Hvis summen er 1, skal programmet regne ut andelene til de tre mulige genotypene, og skrive dem ut. Hvis summen ikke er 1, skal programmet skrive en feilmelding.\n",
    "```\n",
    "\n",
    "```{admonition} Matematikkoppgave\n",
    ":class: tip\n",
    "Lag et program som regner ut funksjonen $g(x) = 3x^4 + 5x^3 + 7x^2 + x - 3.0625$ for en verdi av $x$ gitt av brukeren. Programmet skal skrive ut en melding om $x - x$-verdien fra brukeren er en faktor i $g$ eller ikke.\n",
    "\n",
    "Sjekk om programmet ditt gir at $x - \\dfrac{1}{2}$ er en faktor i polynomet. \n",
    "```\n",
    "\n",
    "```{admonition} Sammensatt oppgave\n",
    ":class:tip\n",
    "Lag et lite eventyrspill der spilleren får ulike valg underveis, og historien formes av valgene spilleren tar. Du kan gjerne bruke input-funksjonen for å gi spilleren ulike valg. Det blir gjerne mange if-tester inni if-tester, så hold styr på innrykkene dine.\n",
    "```"
   ]
  },
  {
   "cell_type": "markdown",
   "metadata": {},
   "source": [
    "## Video\n",
    "Se videoen nedenfor for å få en gjennomgang av det viktigste når vi skal programmere if-tester i Python:\n",
    "\n",
    "<iframe width=\"900\" height=\"600\" src=\"https://www.youtube.com/embed/XkDoYa7aGwc\" title=\"YouTube video player\" frameborder=\"0\" allow=\"accelerometer; autoplay; clipboard-write; encrypted-media; gyroscope; picture-in-picture\" allowfullscreen></iframe>"
   ]
  }
 ],
 "metadata": {
  "celltoolbar": "Edit Metadata",
  "kernelspec": {
   "display_name": "Python 3 (ipykernel)",
   "language": "python",
   "name": "python3"
  },
  "language_info": {
   "codemirror_mode": {
    "name": "ipython",
    "version": 3
   },
   "file_extension": ".py",
   "mimetype": "text/x-python",
   "name": "python",
   "nbconvert_exporter": "python",
   "pygments_lexer": "ipython3",
   "version": "3.8.10"
  }
 },
 "nbformat": 4,
 "nbformat_minor": 4
}
