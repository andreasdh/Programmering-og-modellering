{
 "cells": [
  {
   "cell_type": "markdown",
   "id": "c2ad6468",
   "metadata": {},
   "source": [
    "# Datasamlinger\n",
    "\n",
    "```{admonition} Læringsutbytte\n",
    "Etter å ha arbeidet med dette temaet, skal du kunne:\n",
    "1. opprette ulike arrayer\n",
    "2. gjøre vektoroperasjoner med arrayer\n",
    "3. gjøre rede for hva tupler er\n",
    "4. opprette og bruke dictionarier\n",
    "```\n",
    "\n",
    "Vi har flere måter å organisere data på i Python. Her er en kort oversikt over de viktigste datasamlingene:\n",
    "1. Lister (fleksible samlinger av like eller ulike data)\n",
    "2. Arrayer (samlinger av tall som kan opereres på som vektorer).\n",
    "3. Tupler (statiske lister som ikke kan endres)\n",
    "4. Dictionarier (lister med strenger, ikke tall, som nøkler)\n",
    "\n",
    "Vi har allerede sett hvordan lister fungerer. La oss se på de tre andre datatypene.\n",
    "\n",
    "## Arrayer\n",
    "Vi begynner med et eksempel som illustrerer forskjellen mellom lister og arrayer. For å kunne bruke arrayer, må vi først importere _numpy_ eller _pylab_."
   ]
  },
  {
   "cell_type": "code",
   "execution_count": 2,
   "id": "8e25c3ce",
   "metadata": {},
   "outputs": [
    {
     "name": "stdout",
     "output_type": "stream",
     "text": [
      "listesum: [1, 2, 3, 2, 3, 1]\n",
      "arraysum: [3 5 4]\n"
     ]
    }
   ],
   "source": [
    "import numpy as np\n",
    "\n",
    "liste1 = [1, 2, 3]\n",
    "liste2 = [2, 3, 1]\n",
    "\n",
    "print(\"listesum:\", liste1 + liste2)\n",
    "\n",
    "array1 = np.array(liste1)\n",
    "array2 = np.array(liste2)\n",
    "\n",
    "print(\"arraysum:\", array1 + array2)"
   ]
  },
  {
   "cell_type": "markdown",
   "id": "920d624d",
   "metadata": {},
   "source": [
    "```{admonition} Underveisoppgave\n",
    ":class: tip\n",
    "Bruk koden ovenfor til å forklare forskjellen mellom listeaddisjon og arrayaddisjon.\n",
    "```\n",
    "```{admonition} Løsningsforslag\n",
    ":class: tip, dropdown\n",
    "Når to lister adderes, legges den ene lista til slutten på den andre. Når to arrayer adderes, får vi komponentvis addisjon av elementene: [1+2, 2+3, 3+1]. Dette er det samme som vektoraddisjon.\n",
    "```\n",
    "\n",
    "### Opprette arrayer\n",
    "Vi kan opprette arrayer på flere måter:\n",
    "\n",
    "<iframe src=\"https://trinket.io/embed/python3/33741d423e\" width=\"100%\" height=\"600\" frameborder=\"0\" marginwidth=\"0\" marginheight=\"0\" allowfullscreen></iframe>\n",
    "\n",
    "```{admonition} Underveisoppgave\n",
    ":class: tip\n",
    "Forklar de ulike måtene å opprette arrayer på ved å endre på forskjellige parametre i programmet ovenfor.\n",
    "```\n",
    "\n",
    "```{admonition} Løsningsforslag\n",
    ":class: tip, dropdown\n",
    "Vi kan oppsummere måter å opprette arrayer på slik:\n",
    "| Operasjon | Forklaring |\n",
    "| --------- | ---------- |\n",
    "| array([x1,x2,x3,...]) | gjør om en liste med tall til en array |\n",
    "| arange(a,b,c) | lager en array med tallene a til, men ikke med, b, der c er steglengden |\n",
    "| linspace(a,b,c) | lager en array med c elementer fra a til og med b |\n",
    "| zeros(n) | lager en array med _n_ nuller |\n",
    "| ones(n) | lager en array med _n_ enere |\n",
    "```\n",
    "\n",
    "<iframe src=\"https://trinket.io/embed/python3/40c6ef7e3e\" width=\"100%\" height=\"600\" frameborder=\"0\" marginwidth=\"0\" marginheight=\"0\" allowfullscreen></iframe>\n",
    "\n",
    "### Behandle arraydata\n",
    "I motsetning til med lister, kan vi ikke bruke listeoperasjoner som _append_, _remove_ og liknende når vi opererer med arrayer. Vi kan derimot få tilgang til elementene ved indekser, akkurat som med lister.\n",
    "\n",
    "```{admonition} Underveisoppgave\n",
    ":class: tip\n",
    "1. Forklar hva koden nedenfor gjør.\n",
    "2. Kjør koden og se om det stemmer med slik du hadde tenkt. Hvis ikke, hva er forskjellen?\n",
    "3. \n",
    "```\n",
    "\n",
    "<iframe src=\"https://trinket.io/embed/python3/40c6ef7e3e\" width=\"100%\" height=\"600\" frameborder=\"0\" marginwidth=\"0\" marginheight=\"0\" allowfullscreen></iframe>"
   ]
  },
  {
   "cell_type": "code",
   "execution_count": 10,
   "id": "36418758",
   "metadata": {},
   "outputs": [],
   "source": []
  },
  {
   "cell_type": "code",
   "execution_count": 11,
   "id": "8a6912f9",
   "metadata": {},
   "outputs": [
    {
     "data": {
      "text/plain": [
       "array([1, 2, 3])"
      ]
     },
     "execution_count": 11,
     "metadata": {},
     "output_type": "execute_result"
    }
   ],
   "source": [
    "array2"
   ]
  }
 ],
 "metadata": {
  "kernelspec": {
   "display_name": "Python 3 (ipykernel)",
   "language": "python",
   "name": "python3"
  },
  "language_info": {
   "codemirror_mode": {
    "name": "ipython",
    "version": 3
   },
   "file_extension": ".py",
   "mimetype": "text/x-python",
   "name": "python",
   "nbconvert_exporter": "python",
   "pygments_lexer": "ipython3",
   "version": "3.8.10"
  }
 },
 "nbformat": 4,
 "nbformat_minor": 5
}
