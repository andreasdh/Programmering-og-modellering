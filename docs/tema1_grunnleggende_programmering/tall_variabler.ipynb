{
 "cells": [
  {
   "cell_type": "markdown",
   "metadata": {},
   "source": [
    "# Tall og variabler (teori)\n",
    "\n",
    "```{admonition} Læringsutbytte\n",
    "Etter å ha arbeidet med dette temaet, skal du kunne:\n",
    "1. Kjøre enkle programmer med en programmeringseditor.\n",
    "2. Definere og gjøre rede for ulike variabeltyper: heltall, flyttall og strenger.\n",
    "3. Skrive ut output ved å bruke print-funksjonen.\n",
    "4. Gjøre enkel aritmetikk i Python.\n",
    "5. Ta input fra brukeren av programmet.\n",
    "```\n",
    "\n",
    "## Variabler og output\n",
    "I videoen nedenfor forklares hvordan vi oppretter variabler og gir dem verdier. Du lærer også hvordan du håndterer output med print-funksjonen."
   ]
  },
  {
   "cell_type": "code",
   "execution_count": 1,
   "metadata": {
    "tags": [
     "remove-input"
    ]
   },
   "outputs": [
    {
     "data": {
      "text/html": [
       "\n",
       "        <iframe\n",
       "            width=\"800\"\n",
       "            height=\"600\"\n",
       "            src=\"https://www.youtube.com/embed/LF4JNPfNGgs? autoplay=0&rel=0\"\n",
       "            frameborder=\"0\"\n",
       "            allowfullscreen\n",
       "        ></iframe>\n",
       "        "
      ],
      "text/plain": [
       "<IPython.lib.display.IFrame at 0x1f1c8688280>"
      ]
     },
     "execution_count": 1,
     "metadata": {},
     "output_type": "execute_result"
    }
   ],
   "source": [
    "from IPython.display import IFrame\n",
    "IFrame(\"https://www.youtube.com/embed/LF4JNPfNGgs? autoplay=0&rel=0\", width=800, height=600)"
   ]
  },
  {
   "cell_type": "markdown",
   "metadata": {},
   "source": [
    "Når du har sett videoen, kan du gjøre følgende oppgave for å sjekke om du forstår innholdet:\n",
    "\n",
    "```{admonition} Underveisoppgave\n",
    ":class: tip\n",
    "Lag et program der du definerer to variabler *tall1* og *tall2* med hver sitt tall. Regn ut differansen i en egen variabel. Skriv ut \"Differansen mellom *tall1* og *tall2 er *differansen*\".\n",
    "```\n",
    "\n",
    "<iframe src=\"https://trinket.io/embed/python3/c16e9a9ea7\" width=\"100%\" height=\"356\" frameborder=\"0\" marginwidth=\"0\" marginheight=\"0\" allowfullscreen></iframe>\n",
    "\n",
    "## Aritmetikk\n",
    "Her skal vi se på hvordan vi utfører enkel matematikk som addisjon, subtraksjon, divisjon og multiplikasjon i Python."
   ]
  },
  {
   "cell_type": "code",
   "execution_count": 2,
   "metadata": {
    "tags": [
     "remove-input"
    ]
   },
   "outputs": [
    {
     "data": {
      "text/html": [
       "\n",
       "        <iframe\n",
       "            width=\"800\"\n",
       "            height=\"600\"\n",
       "            src=\"https://www.youtube.com/embed/BASO7iHDV54? autoplay=0&rel=0\"\n",
       "            frameborder=\"0\"\n",
       "            allowfullscreen\n",
       "        ></iframe>\n",
       "        "
      ],
      "text/plain": [
       "<IPython.lib.display.IFrame at 0x1f1c86881f0>"
      ]
     },
     "execution_count": 2,
     "metadata": {},
     "output_type": "execute_result"
    }
   ],
   "source": [
    "from IPython.display import IFrame\n",
    "IFrame(\"https://www.youtube.com/embed/BASO7iHDV54? autoplay=0&rel=0\", width=800, height=600)"
   ]
  },
  {
   "cell_type": "markdown",
   "metadata": {},
   "source": [
    "Når du har sett videoen, kan du gjøre følgende oppgave for å sjekke om du forstår innholdet:\n",
    "\n",
    "```{admonition} Underveisoppgave\n",
    ":class: tip\n",
    "Lag et program der du definerer massen til et legeme i en variabel, regner ut energien ved hjelp av formelen $E = mc^2$ og skriver dette ut.\n",
    "```\n",
    "\n",
    "<iframe src=\"https://trinket.io/embed/python3/8e4b3a9f07\" width=\"100%\" height=\"356\" frameborder=\"0\" marginwidth=\"0\" marginheight=\"0\" allowfullscreen></iframe>\n",
    "\n",
    "## Matematiske operasjoner\n",
    "I denne videoen skal vi gjennomgå import av biblioteker og flere matematiske operasjoner som logaritmer, trigonometriske funksjoner og røtter."
   ]
  },
  {
   "cell_type": "code",
   "execution_count": 3,
   "metadata": {
    "tags": [
     "remove-input"
    ]
   },
   "outputs": [
    {
     "data": {
      "text/html": [
       "\n",
       "        <iframe\n",
       "            width=\"800\"\n",
       "            height=\"600\"\n",
       "            src=\"https://www.youtube.com/embed/VnFNYt2D2Ng? autoplay=0&rel=0\"\n",
       "            frameborder=\"0\"\n",
       "            allowfullscreen\n",
       "        ></iframe>\n",
       "        "
      ],
      "text/plain": [
       "<IPython.lib.display.IFrame at 0x1f1c8688d00>"
      ]
     },
     "execution_count": 3,
     "metadata": {},
     "output_type": "execute_result"
    }
   ],
   "source": [
    "from IPython.display import IFrame\n",
    "IFrame(\"https://www.youtube.com/embed/VnFNYt2D2Ng? autoplay=0&rel=0\", width=800, height=600)"
   ]
  },
  {
   "cell_type": "markdown",
   "metadata": {},
   "source": [
    "Når du har sett videoen, kan du gjøre følgende oppgave for å sjekke om du forstår innholdet:\n",
    "\n",
    "```{admonition} Underveisoppgave\n",
    ":class: tip\n",
    "Lag et program regner ut pH-en i en løsning gitt $[H_3O^+]$.\n",
    "```\n",
    "\n",
    "<iframe src=\"https://trinket.io/embed/python3/b8f775f773\" width=\"100%\" height=\"356\" frameborder=\"0\" marginwidth=\"0\" marginheight=\"0\" allowfullscreen></iframe>\n",
    "\n",
    "\n",
    "## Input\n",
    "Her skal vi se hvordan du kan ta input fra brukeren av programmet."
   ]
  },
  {
   "cell_type": "code",
   "execution_count": 4,
   "metadata": {
    "tags": [
     "remove-input"
    ]
   },
   "outputs": [
    {
     "data": {
      "text/html": [
       "\n",
       "        <iframe\n",
       "            width=\"800\"\n",
       "            height=\"600\"\n",
       "            src=\"https://www.youtube.com/embed/nwncCwwcV4s? autoplay=0&rel=0\"\n",
       "            frameborder=\"0\"\n",
       "            allowfullscreen\n",
       "        ></iframe>\n",
       "        "
      ],
      "text/plain": [
       "<IPython.lib.display.IFrame at 0x1f1c8688e20>"
      ]
     },
     "execution_count": 4,
     "metadata": {},
     "output_type": "execute_result"
    }
   ],
   "source": [
    "from IPython.display import IFrame\n",
    "IFrame(\"https://www.youtube.com/embed/nwncCwwcV4s? autoplay=0&rel=0\", width=800, height=600)"
   ]
  },
  {
   "cell_type": "markdown",
   "metadata": {},
   "source": [
    "Når du har sett videoen, kan du gjøre følgende oppgave for å sjekke om du forstår innholdet:\n",
    "\n",
    "```{admonition} Underveisoppgave\n",
    ":class: tip\n",
    "Lag et program som tar masse og hastighet som input, og som regner ut kinetisk energi vha. formelen $E_k = \\frac{1}{2}mv^2$.\n",
    "```\n",
    "\n",
    "<iframe src=\"https://trinket.io/embed/python3/07702bed1b\" width=\"100%\" height=\"356\" frameborder=\"0\" marginwidth=\"0\" marginheight=\"0\" allowfullscreen></iframe>"
   ]
  }
 ],
 "metadata": {
  "celltoolbar": "Edit Metadata",
  "kernelspec": {
   "display_name": "Python 3",
   "language": "python",
   "name": "python3"
  },
  "language_info": {
   "codemirror_mode": {
    "name": "ipython",
    "version": 3
   },
   "file_extension": ".py",
   "mimetype": "text/x-python",
   "name": "python",
   "nbconvert_exporter": "python",
   "pygments_lexer": "ipython3",
   "version": "3.8.5"
  }
 },
 "nbformat": 4,
 "nbformat_minor": 4
}
