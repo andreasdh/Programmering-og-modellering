{
 "cells": [
  {
   "cell_type": "markdown",
   "metadata": {},
   "source": [
    "# Variabler og datatyper\n",
    "\n",
    "## Variabler\n",
    "\n",
    "```{admonition} Variabel\n",
    "En programmeringsvariabel er en størrelse som lagrer en verdi i et program.\n",
    "```\n",
    "\n",
    "Variabler er spesielt nyttig når vi skal bruke samme verdi flere ganger, eller når vi skal oppdatere en verdi underveis i programmet. Et enkelt eksempel er hvis vi ønsker å finne ti tall i en bestemt tallrekke. Dette kan vi beskrive slik med en pseudokode:\n",
    "\n",
    "```{code-block} text\n",
    "tall = 0\n",
    "gjenta 10 ganger:\n",
    "    tall = tall + 3\n",
    "    vis tall på skjermen\n",
    "```\n",
    "\n",
    "Du kan tenke på en variabel som en boks vi kan putte ting i, og som vi kan modifisere, endre og hente informasjon fra underveis.\n",
    "\n",
    "```{admonition} Hva er en pseudokode?\n",
    ":class: tip, dropdown\n",
    "En pseudokode er en beskrivelse av en algoritme uten å bruke et bestemt programmeringsspråk. Pseudokode kan skrives på mange måter og kan beskrives med ord, bilder og symboler.\n",
    "```\n",
    "\n",
    "**Oppgave:** Nedenfor er et eksempel på en programkode i Python der vi beregner gjennomsnittshastigheten i m/s for ulike legemer som har beveget seg henholdsvis 3, 4.5, 7 og 14 meter i løpet av 3 sekunder. Hva er fordelen med å bruke variablen _t_ her?"
   ]
  },
  {
   "cell_type": "code",
   "execution_count": 1,
   "metadata": {},
   "outputs": [],
   "source": [
    "t = 3\n",
    "\n",
    "v1 = 3/t\n",
    "v2 = 4.5/t\n",
    "v3 = 7/t\n",
    "v4 = 14/t"
   ]
  },
  {
   "cell_type": "markdown",
   "metadata": {},
   "source": [
    "### Print-funksjonen\n",
    "For å få noe ut av programmet vårt, må vi be datamaskinen om å \"skrive ut\" noe. Dette gjør vi med funksjonen _print_. Dersom vi ønsker å skrive ut flere variabler, må vi skille dem med anførselstegn i print-funksjonen. Her ser du tre måter å bruke print-funksjonen på:"
   ]
  },
  {
   "cell_type": "code",
   "execution_count": 2,
   "metadata": {},
   "outputs": [
    {
     "name": "stdout",
     "output_type": "stream",
     "text": [
      "1.0\n",
      "1.0 1.5 2.3333333333333335 4.666666666666667\n",
      "Gjennomsnittsfarten for legeme 4 er:  4.666666666666667 m/s.\n"
     ]
    }
   ],
   "source": [
    "print(v1)\n",
    "print(v1, v2, v3, v4)\n",
    "print(\"Gjennomsnittsfarten for legeme 4 er: \", v4, \"m/s.\")"
   ]
  },
  {
   "cell_type": "markdown",
   "metadata": {},
   "source": [
    "**Oppgave:** Lag et program som regner ut arealet av et rektangel og skriver ut en svarsetning med enheter."
   ]
  },
  {
   "cell_type": "markdown",
   "metadata": {},
   "source": [
    "## Aritmetikk\n",
    "Vi kan bruke Python som en enkel kalkulator. Vi har blant annet følgende operatorer:\n",
    "\n",
    "|Operator | Forklaring |\n",
    "|---------|------------|\n",
    "| + | Addisjon (a + b) |\n",
    "| - | Subtraksjon (a - b) |\n",
    "| * |Multiplikasjon (a\\*b) |\n",
    "| / | Divisjon (a/b) |\n",
    "| ** | Eksponent (a\\*\\*b) |\n",
    "\n",
    "**Oppgave**: Det finnes også to spesielle operatorer: // og %. Finn ut hva disse operatorene gjør ved å prøve dere fram i koderuta nedenfor. Vi har lagt til fire linjer som du kan bruke som utgangspunkt.\n",
    "\n",
    "<h4><iframe src=\"https://trinket.io/embed/python3/1cdda2d57c?font=2em\" width=\"100%\" height=\"356\" allowfullscreen=\"allowfullscreen\"></iframe></h4>\n",
    "\n",
    "```{admonition} Løsning\n",
    ":class: tip, dropdown\n",
    "// utfører heltallsdivisjon, det vil si at operatoren finner det høyeste heltallet divisjonen går opp i. 24 // 5 = 4 fordi 4 * 5 = 20, som er det nærmeste vi kommer 24 i 5-gangen uten å overskride 24. Resten etter denne divisjonen er 4. Det får vi fram ved å bruke «modulusoperatoren» %, som ikke har noe med prosent å gjøre. 24 % 5 er altså 4.\n",
    "```\n",
    "\n",
    "### Biblioteker\n",
    "De fleste matematiske operatorer og funksjoner finnes ikke i standard Python. For å få tilgang til mer avansert matematikk, må vi importere _biblioteker_ (eller _moduler_) inn i Python-programmet vårt. Et bibliotek er en pakke med ekstra kommandoer og funksjoner som vi kan bruke, som _sqrt_, _cos_, _log_ og så videre. Det finnes ulike måter å importere på. Her er noen måter vi kan importere det svært nyttige _nympy_-biblioteket (**num**erical **py**thon):"
   ]
  },
  {
   "cell_type": "code",
   "execution_count": 3,
   "metadata": {},
   "outputs": [],
   "source": [
    "# Første metode: Importerer kun funksjonene du trenger\n",
    "from numpy import log10\n",
    "\n",
    "pH = -log10(1E-7)\n",
    "\n",
    "# Andre metode: Importere hele biblioteket\n",
    "import numpy\n",
    "\n",
    "A = 2 \n",
    "radius = numpy.sqrt(A/numpy.pi)\n",
    "\n",
    "# Third method: Importing the whole library with an alias. This is the most used import method.\n",
    "import numpy as np\n",
    "\n",
    "A = 2\n",
    "radius = np.sqrt(A/np.pi)\n",
    "\n",
    "# Fourth method: Importing everything from the library without specifying where the functions come from.\n",
    "# This can lead to trouble when importing several functions, but can be used as a pedagogical tool.\n",
    "from numpy import *\n",
    "\n",
    "angle = arccos(0.5)"
   ]
  },
  {
   "cell_type": "markdown",
   "metadata": {},
   "source": [
    "```{tabbed} Videotest\n",
    "<iframe width=\"560\" height=\"315\" src=\"https://www.youtube.com/embed/LF4JNPfNGgs\" title=\"YouTube video player\" frameborder=\"0\" allow=\"accelerometer; autoplay; clipboard-write; encrypted-media; gyroscope; picture-in-picture\" allowfullscreen></iframe>\n",
    "```\n",
    "```{tabbed} Fane 2\n",
    "Innhold!\n",
    "```"
   ]
  },
  {
   "cell_type": "code",
   "execution_count": null,
   "metadata": {},
   "outputs": [],
   "source": []
  }
 ],
 "metadata": {
  "kernelspec": {
   "display_name": "Python 3",
   "language": "python",
   "name": "python3"
  },
  "language_info": {
   "codemirror_mode": {
    "name": "ipython",
    "version": 3
   },
   "file_extension": ".py",
   "mimetype": "text/x-python",
   "name": "python",
   "nbconvert_exporter": "python",
   "pygments_lexer": "ipython3",
   "version": "3.8.5"
  }
 },
 "nbformat": 4,
 "nbformat_minor": 4
}
