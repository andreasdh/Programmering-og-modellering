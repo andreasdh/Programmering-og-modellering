{
 "cells": [
  {
   "cell_type": "markdown",
   "metadata": {},
   "source": [
    "# Tema 2: Beslutninger"
   ]
  },
  {
   "cell_type": "code",
   "execution_count": 2,
   "metadata": {},
   "outputs": [
    {
     "name": "stdout",
     "output_type": "stream",
     "text": [
      "Tall: 5\n",
      "Tallet er positivt.\n"
     ]
    }
   ],
   "source": [
    "tall = float(input(\"Tall: \"))\n",
    "\n",
    "if tall < 0:\n",
    "    print(\"Tallet er negativt.\")\n",
    "elif tall > 0:\n",
    "    print(\"Tallet er positivt.\")\n",
    "elif tall == 0:\n",
    "    print(\"Tallet er null!\")"
   ]
  },
  {
   "cell_type": "code",
   "execution_count": 1,
   "metadata": {},
   "outputs": [
    {
     "name": "stdout",
     "output_type": "stream",
     "text": [
      "[H3O+] i mol/L: 0.1\n",
      "pH-en i løsninga er: 1.0\n",
      "Løsninga er sur\n"
     ]
    }
   ],
   "source": [
    "from pylab import *\n",
    "\n",
    "oksonium = input(\"[H3O+] i mol/L: \") # mol/L\n",
    "oksonium = float(oksonium)\n",
    "pH = -log10(oksonium)\n",
    "\n",
    "print(\"pH-en i løsninga er:\", round(pH,2))\n",
    "\n",
    "if pH > 7:\n",
    "    print(\"Løsninga er basisk\")\n",
    "elif pH < 7:\n",
    "    print(\"Løsninga er sur\")\n",
    "else:\n",
    "    print(\"Løsninga er nøytral.\")\n"
   ]
  },
  {
   "cell_type": "markdown",
   "metadata": {},
   "source": [
    "# Løkker"
   ]
  },
  {
   "cell_type": "code",
   "execution_count": 1,
   "metadata": {},
   "outputs": [
    {
     "name": "stdout",
     "output_type": "stream",
     "text": [
      "Du er kul!\n",
      "Du er kul!\n",
      "Du er kul!\n",
      "Du er kul!\n",
      "Du er kul!\n"
     ]
    }
   ],
   "source": [
    "from time import sleep\n",
    "\n",
    "for i in range(5):\n",
    "    print(\"Du er kul!\")\n",
    "    sleep(1)\n",
    "\n",
    "# Time-funksjonen er ikke nødvendig her! Det er bare for å få en pause mellom hver utskrift."
   ]
  },
  {
   "cell_type": "code",
   "execution_count": 2,
   "metadata": {},
   "outputs": [
    {
     "name": "stdout",
     "output_type": "stream",
     "text": [
      "0\n",
      "2\n",
      "4\n",
      "6\n",
      "8\n",
      "10\n",
      "12\n",
      "14\n",
      "16\n",
      "18\n",
      "20\n",
      "22\n",
      "24\n",
      "26\n",
      "28\n",
      "30\n",
      "32\n",
      "34\n",
      "36\n",
      "38\n",
      "40\n",
      "42\n",
      "44\n",
      "46\n",
      "48\n",
      "50\n",
      "52\n",
      "54\n",
      "56\n",
      "58\n",
      "60\n",
      "62\n",
      "64\n",
      "66\n",
      "68\n",
      "70\n",
      "72\n",
      "74\n",
      "76\n",
      "78\n",
      "80\n",
      "82\n",
      "84\n",
      "86\n",
      "88\n",
      "90\n",
      "92\n",
      "94\n",
      "96\n",
      "98\n",
      "100\n",
      "102\n"
     ]
    }
   ],
   "source": [
    "partall = 0\n",
    "\n",
    "while partall <= 102:\n",
    "    print(partall)\n",
    "    partall = partall + 2"
   ]
  },
  {
   "cell_type": "code",
   "execution_count": 4,
   "metadata": {},
   "outputs": [
    {
     "name": "stdout",
     "output_type": "stream",
     "text": [
      "Feilen er: 0\n"
     ]
    }
   ],
   "source": [
    "from math import factorial\n",
    "\n",
    "fakultet = 1\n",
    "\n",
    "for i in range(2,43):\n",
    "    fakultet = fakultet*i\n",
    "\n",
    "print('Feilen er:', fakultet-factorial(42))"
   ]
  },
  {
   "cell_type": "code",
   "execution_count": null,
   "metadata": {},
   "outputs": [],
   "source": []
  }
 ],
 "metadata": {
  "kernelspec": {
   "display_name": "Python 3",
   "language": "python",
   "name": "python3"
  },
  "language_info": {
   "codemirror_mode": {
    "name": "ipython",
    "version": 3
   },
   "file_extension": ".py",
   "mimetype": "text/x-python",
   "name": "python",
   "nbconvert_exporter": "python",
   "pygments_lexer": "ipython3",
   "version": "3.7.6"
  }
 },
 "nbformat": 4,
 "nbformat_minor": 4
}
