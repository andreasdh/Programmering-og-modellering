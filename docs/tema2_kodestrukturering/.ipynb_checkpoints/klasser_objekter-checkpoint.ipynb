{
 "cells": [
  {
   "cell_type": "markdown",
   "metadata": {},
   "source": [
    "# Gjennomgang: Klasser og objekter\n",
    "En _klasse_ er en oppskrift på _objekter_. Et objekt er en _instans_ (utgave) av en klasse. Objekter er størrelser som har er definert via et sett med data (_attributter_). Objektene kan vi endre og manipulere ved å bruke klassens _metoder_. Metoder er funksjoner som virker på objektene.\n",
    "\n",
    "__Eksempel:__\n",
    "\n",
    "klasse = Integer\n",
    "\n",
    "objekt = 15\n",
    "\n",
    "metoder = +, -, *, /\n",
    "\n",
    "## Glassobjekter\n",
    "Vi starter med et enkelt eksempel der vi lager en klasse som definerer hvordan et glass-objekt skal være."
   ]
  },
  {
   "cell_type": "code",
   "execution_count": 5,
   "metadata": {},
   "outputs": [
    {
     "name": "stdout",
     "output_type": "stream",
     "text": [
      "0\n"
     ]
    }
   ],
   "source": [
    "class Glass:\n",
    "    def __init__(self):\n",
    "        self.innhold = 0\n",
    "            \n",
    "    def sjekkInnhold(self):\n",
    "        return self.innhold\n",
    "        \n",
    "vannglass = Glass()\n",
    "print(vannglass.sjekkInnhold())"
   ]
  },
  {
   "cell_type": "markdown",
   "metadata": {},
   "source": [
    "```{admonition} Underveisoppgave\n",
    ":class: tip\n",
    "Lag en metode \"fyll\" som legger til innhold i glasset. Test metoden ved å legge til 5 (dl) og sjekke innholdet.\n",
    "```"
   ]
  },
  {
   "cell_type": "code",
   "execution_count": 6,
   "metadata": {},
   "outputs": [
    {
     "name": "stdout",
     "output_type": "stream",
     "text": [
      "5\n"
     ]
    }
   ],
   "source": [
    "class Glass:\n",
    "    def __init__(self):\n",
    "        self.innhold = 0\n",
    "    \n",
    "    def fyll(self, mengde):\n",
    "        self.mengde = mengde\n",
    "        self.innhold += self.mengde\n",
    "            \n",
    "    def sjekkInnhold(self):\n",
    "        return self.innhold\n",
    "        \n",
    "vannglass = Glass()\n",
    "vannglass.fyll(5)\n",
    "print(vannglass.sjekkInnhold())"
   ]
  },
  {
   "cell_type": "markdown",
   "metadata": {},
   "source": [
    "```{admonition} Underveisoppgave\n",
    ":class: tip\n",
    "Fyll ut det som mangler nedenfor. Metodene skal si fra om glasset er fullt eller tomt.\n",
    "```"
   ]
  },
  {
   "cell_type": "code",
   "execution_count": null,
   "metadata": {},
   "outputs": [],
   "source": [
    "class Glass:\n",
    "    def __init__(self, kapasitet):\n",
    "        self.kapasitet = kapasitet\n",
    "        self.innhold = 0\n",
    "    \n",
    "    def fyll(self, mengde):\n",
    "        self.mengde = mengde\n",
    "        self.innhold += self.mengde\n",
    "        if #...\n",
    "            \n",
    "    def tøm(self, mengde):\n",
    "        self.mengde = mengde\n",
    "        self.innhold -= self.mengde\n",
    "        if # ...\n",
    "        \n",
    "    def sjekkInnhold(self):\n",
    "        return self.innhold"
   ]
  },
  {
   "cell_type": "code",
   "execution_count": 12,
   "metadata": {},
   "outputs": [
    {
     "name": "stdout",
     "output_type": "stream",
     "text": [
      "Glasset er fullt!\n",
      "Glasset inneholder: 4 dl.\n"
     ]
    }
   ],
   "source": [
    "class Glass:\n",
    "    def __init__(self, kapasitet):\n",
    "        self.kapasitet = kapasitet\n",
    "        self.innhold = 0\n",
    "    \n",
    "    def fyll(self, mengde):\n",
    "        self.mengde = mengde\n",
    "        self.innhold += self.mengde\n",
    "        if self.innhold >= self.kapasitet:\n",
    "            print(\"Glasset er fullt!\")\n",
    "            self.innhold = self.kapasitet\n",
    "            \n",
    "    def tøm(self, mengde):\n",
    "        self.mengde = mengde\n",
    "        self.innhold -= self.mengde\n",
    "        if self.innhold <= 0:\n",
    "            print(\"Glasset er tomt!\")\n",
    "            self.innhold = 0\n",
    "            \n",
    "    def sjekkInnhold(self):\n",
    "        return self.innhold\n",
    "        \n",
    "mittGlass = Glass(5)\n",
    "mittGlass.fyll(6)\n",
    "mittGlass.tøm(1)\n",
    "mittGlass.sjekkInnhold()\n",
    "print(\"Glasset inneholder:\", mittGlass.sjekkInnhold(), \"dl.\")"
   ]
  },
  {
   "cell_type": "markdown",
   "metadata": {},
   "source": [
    "## Skilpaddeobjekter\n",
    "\n",
    "```{image} http://oyster.ignimgs.com/mediawiki/apis.ign.com/new-super-mario-bros-u/a/a5/New-Super-Mario-Bros.-Game-Character-Official-Artwork-Koopa-Troopa.jpeg\n",
    ":alt: koopa\n",
    ":class: bg-primary mb-1\n",
    ":width: 400px\n",
    ":align: center\n",
    "```"
   ]
  },
  {
   "cell_type": "code",
   "execution_count": 4,
   "metadata": {},
   "outputs": [
    {
     "name": "stdout",
     "output_type": "stream",
     "text": [
      "15\n",
      "8\n"
     ]
    }
   ],
   "source": [
    "class Skilpadde:\n",
    "    def __init__(self):\n",
    "        \"Data om skilpadder\"\n",
    "        self.artsnavn = \"Chelonia mydas\"\n",
    "        self.farge = \"green\"\n",
    "        if self.farge == \"green\":\n",
    "            self.hp = 15\n",
    "        elif self.farge == \"red\":\n",
    "            self.hp = 20\n",
    "    def harm(self, skade):\n",
    "        self.hp -= skade\n",
    "    def heal(self):\n",
    "        self.hp += 5\n",
    "\n",
    "skilpadde1 = Skilpadde()\n",
    "skilpadde1.farge = \"red\"\n",
    "\n",
    "print(skilpadde1.hp)\n",
    "skilpadde1.harm(12)\n",
    "skilpadde1.heal()\n",
    "print(skilpadde1.hp)"
   ]
  },
  {
   "cell_type": "markdown",
   "metadata": {},
   "source": [
    "## Vektorobjekt"
   ]
  },
  {
   "cell_type": "code",
   "execution_count": null,
   "metadata": {},
   "outputs": [],
   "source": [
    "class Vektor:\n",
    "    def __init__(self,x,y,z):\n",
    "        self.x = x\n",
    "        self.y = y\n",
    "        self.z = z\n",
    "        \n",
    "    def norm(self):\n",
    "        lengde = (self.x**2 + self.y**2 + self.z**2)**0.5\n",
    "        return lengde\n",
    "    \n",
    "    def add(self, vektor):\n",
    "        self.x = self.x + vektor.x\n",
    "        self.y = self.y + vektor.y\n",
    "        self.z = self.z + vektor.z        \n",
    "        \n",
    "A = Vektor(2,2,2)\n",
    "print(A.norm())\n",
    "B = Vektor(4,4,4)\n",
    "A.add(B)\n",
    "print(A.norm())\n",
    "print(B.norm())"
   ]
  },
  {
   "cell_type": "markdown",
   "metadata": {},
   "source": [
    "## Arv\n",
    "Hvis vi ønsker å lage en klasse som har alle egenskaper til en annen klasse, i tillegg til noen ekstra egenskaper, kan vi la klassen _arve_ egenskaper fra den andre klassen. La oss lage en termosklasse som arver fra glassklassen. Dette kaller vi da en _subklasse_."
   ]
  },
  {
   "cell_type": "code",
   "execution_count": 21,
   "metadata": {},
   "outputs": [
    {
     "name": "stdout",
     "output_type": "stream",
     "text": [
      "Glasset er fullt!\n",
      "62.0\n",
      "54.0\n",
      "46.0\n",
      "38.0\n",
      "30.0\n"
     ]
    },
    {
     "data": {
      "text/plain": [
       "5"
      ]
     },
     "execution_count": 21,
     "metadata": {},
     "output_type": "execute_result"
    }
   ],
   "source": [
    "class Termos(Glass):\n",
    "    def __init__(self, kapasitet, isolasjonsverdi, temperatur):\n",
    "        super().__init__(kapasitet)\n",
    "        self.isolasjonsverdi = isolasjonsverdi\n",
    "        self.temperatur = temperatur\n",
    "    def økTemperatur(self):\n",
    "        self.temperatur += 5/self.isolasjonsverdi\n",
    "    def senkTemperatur(self):\n",
    "        self.temperatur -= 10/self.isolasjonsverdi\n",
    "    def hentTemperatur(self):\n",
    "        print(self.temperatur)\n",
    "\n",
    "termos = Termos(10, 1.25, 70)\n",
    "termos.fyll(10)\n",
    "\n",
    "for timer in range(5):\n",
    "    termos.senkTemperatur()\n",
    "    termos.tøm(1)\n",
    "    termos.hentTemperatur()\n",
    "termos.sjekkInnhold()"
   ]
  },
  {
   "cell_type": "code",
   "execution_count": null,
   "metadata": {},
   "outputs": [],
   "source": []
  }
 ],
 "metadata": {
  "kernelspec": {
   "display_name": "Python 3",
   "language": "python",
   "name": "python3"
  },
  "language_info": {
   "codemirror_mode": {
    "name": "ipython",
    "version": 3
   },
   "file_extension": ".py",
   "mimetype": "text/x-python",
   "name": "python",
   "nbconvert_exporter": "python",
   "pygments_lexer": "ipython3",
   "version": "3.8.5"
  }
 },
 "nbformat": 4,
 "nbformat_minor": 4
}
