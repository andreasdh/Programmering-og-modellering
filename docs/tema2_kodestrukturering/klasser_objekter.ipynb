{
 "cells": [
  {
   "cell_type": "markdown",
   "metadata": {},
   "source": [
    "# Klasser og objekter\n",
    "Introtekst..."
   ]
  },
  {
   "cell_type": "code",
   "execution_count": 1,
   "metadata": {},
   "outputs": [
    {
     "name": "stdout",
     "output_type": "stream",
     "text": [
      "Glasset er fullt!\n",
      "Glasset inneholder: 4 dl.\n"
     ]
    }
   ],
   "source": [
    "class Glass:\n",
    "    def __init__(self, kapasitet):\n",
    "        self.kapasitet = kapasitet\n",
    "        self.innhold = 0\n",
    "    \n",
    "    def fyll(self, mengde):\n",
    "        self.mengde = mengde\n",
    "        self.innhold += self.mengde\n",
    "        if self.innhold >= self.kapasitet:\n",
    "            print(\"Glasset er fullt!\")\n",
    "            self.innhold = self.kapasitet\n",
    "            \n",
    "    def tøm(self, mengde):\n",
    "        self.mengde = mengde\n",
    "        self.innhold -= self.mengde\n",
    "        if self.innhold <= 0:\n",
    "            print(\"Glasset er tomt!\")\n",
    "            self.innhold = 0\n",
    "            \n",
    "    def sjekkInnhold(self):\n",
    "        return self.innhold\n",
    "        \n",
    "mittGlass = Glass(5)\n",
    "mittGlass.fyll(6)\n",
    "mittGlass.tøm(1)\n",
    "mittGlass.sjekkInnhold()\n",
    "print(\"Glasset inneholder:\", mittGlass.sjekkInnhold(), \"dl.\")"
   ]
  },
  {
   "cell_type": "code",
   "execution_count": 2,
   "metadata": {},
   "outputs": [
    {
     "name": "stdout",
     "output_type": "stream",
     "text": [
      "3.4641016151377544\n",
      "10.392304845413264\n",
      "6.928203230275509\n"
     ]
    }
   ],
   "source": [
    "class Vektor:\n",
    "    def __init__(self,x,y,z):\n",
    "        self.x = x\n",
    "        self.y = y\n",
    "        self.z = z\n",
    "        \n",
    "    def norm(self):\n",
    "        lengde = (self.x**2 + self.y**2 + self.z**2)**0.5\n",
    "        return lengde\n",
    "    \n",
    "    def add(self, vektor):\n",
    "        self.x = self.x + vektor.x\n",
    "        self.y = self.y + vektor.y\n",
    "        self.z = self.z + vektor.z        \n",
    "        \n",
    "A = Vektor(2,2,2)\n",
    "print(A.norm())\n",
    "B = Vektor(4,4,4)\n",
    "A.add(B)\n",
    "print(A.norm())\n",
    "print(B.norm())"
   ]
  },
  {
   "cell_type": "code",
   "execution_count": null,
   "metadata": {},
   "outputs": [],
   "source": []
  }
 ],
 "metadata": {
  "kernelspec": {
   "display_name": "Python 3",
   "language": "python",
   "name": "python3"
  },
  "language_info": {
   "codemirror_mode": {
    "name": "ipython",
    "version": 3
   },
   "file_extension": ".py",
   "mimetype": "text/x-python",
   "name": "python",
   "nbconvert_exporter": "python",
   "pygments_lexer": "ipython3",
   "version": "3.8.5"
  }
 },
 "nbformat": 4,
 "nbformat_minor": 4
}
