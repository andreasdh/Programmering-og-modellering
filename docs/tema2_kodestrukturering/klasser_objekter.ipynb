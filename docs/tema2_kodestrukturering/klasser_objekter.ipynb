{
 "cells": [
  {
   "cell_type": "markdown",
   "metadata": {},
   "source": [
    "# Klasser og objekter\n",
    "\n",
    "```{admonition} Læringsutbytte\n",
    "Etter å ha arbeidet med dette temaet, skal du kunne:\n",
    "1. gjøre rede for hva som menes med objektorientert programmering\n",
    "2. konstruere enkle klasser og objekter\n",
    "```\n",
    "\n",
    "Objektorientert programmering er en måte å organisere og gjenbruke kode på som er enda litt mer abstrakt og enda litt nyttigere enn funksjoner. Python er et objektorientert språk, så du har brukt objekter allerede uten å nødvendigvis vite om det. Det første objektorienterte programmeringsspråket i verden var _Simula_, som var utviklet av nordmennene Ole-Johan Dahl og Kristen Nygaard. I populære programmeringsspråk som Java og C++ er objektorientering så grunnleggende at vi ikke kan programmere i disse språkene uten å bruke det. I Python kan vi derimot velge om vi ønsker å bruke objektorientert kode eller ikke.\n",
    "\n",
    "Det er ikke sikkert du forstår meningen med objekter med det første. Koden blir ofte mer komplisert og teknisk, og det realfaglige innholdet kan noen ganger drukne litt i koden. Det viktigste er derimot at du får litt kjennskap til hva det er og hvordan det kan brukes, slik at du forstår når du faktisk bruker objekter og hvordan de fungerer. Om du vil bruke objektorientert programmering for å strukturere din egen kode eller ikke, kan du velge helt selv.\n",
    "\n",
    "Objektorientert programmering tar utgangspunkt i _klasser_, som er oppskrifter på _objekter_. Disse objektene har egenskaper gitt av denne klassen, og vi kan endre på objektene og gi dem nye egenskaper med funksjoner som vi kaller _metoder_.\n",
    "\n",
    "```{admonition} Læringsutbytte\n",
    ":class: caution\n",
    "En _klasse_ er en oppskrift på _objekter_. Et objekt er en _instans_ (utgave) av en klasse. Objekter er størrelser som  er definert via et sett med data (_attributter_), det vil si egenskaper ved objektene. Objektene kan vi endre og manipulere ved å bruke klassens _metoder_. Metoder er funksjoner som virker på objektene.\n",
    "```\n",
    "\n",
    "Et enkelt eksempel på et objekt, er heltallsobjekter. For eksempel er tallet 42 et objekt som tilhører klassen \"int\" (integer = heltall). Metodene du kan bruke på disse objektene, er blant annet addisjon og multiplikasjon.\n",
    "\n",
    "__Eksempel:__\n",
    "\n",
    "klasse = int\n",
    "\n",
    "objekt = 42\n",
    "\n",
    "metoder = +, -, *, /\n",
    "\n",
    "Vi kan se at 42 tilhører klassen _int_ ved å skrive ut typen til objektet:"
   ]
  },
  {
   "cell_type": "code",
   "execution_count": 1,
   "metadata": {},
   "outputs": [
    {
     "name": "stdout",
     "output_type": "stream",
     "text": [
      "<class 'int'>\n"
     ]
    }
   ],
   "source": [
    "print(type(42))"
   ]
  },
  {
   "cell_type": "markdown",
   "metadata": {},
   "source": [
    "## Skilpaddeobjekter\n",
    "Vi har allerede også håndtert objekter gjennom skilpaddegrafikk (turtle). Når vi lager en skilpadde som skal tegne noe, lager vi en instans (et objekt) av klassen \"Turtle\". Tidligere skreiv vi bare kommandoene \"forward\", \"left\" og så videre, så da er det kanskje ikke åpenbart at vi bruker metoder _på_ dette objektet. Det blir dermed litt enklere å se dersom vi faktisk kaller objektet noe. La oss returnere til en skilpadde som heter Rafael. Istedenfor å bare skrive kommandoene, lager vi nå et skilpaddeobjekt helt eksplisitt:\n",
    "\n",
    "<iframe src=\"https://trinket.io/embed/python/564893459b\" width=\"100%\" height=\"300\" frameborder=\"0\" marginwidth=\"0\" marginheight=\"0\" allowfullscreen></iframe>\n",
    "\n",
    "Her ser vi at vi bruker metodene på objektet ved å skrive \"objektnavn.metodenavn()\". Dette gjør også at vi kan lage flere skilpadder i samme kodevindu!\n",
    "\n",
    "```{admonition} Underveisoppgave\n",
    ":class: tip\n",
    "Lag en ny skilpadde som heter Leonardo. Skilpadden skal være blå, og den skal lage gå slik at den danner et rektangel (200 x 100) sammen med figuren som Rafael har tegna.\n",
    "```\n",
    "\n",
    "````{admonition} Løsningsforslag\n",
    ":class: tip, dropdown\n",
    "```{code-block} Python\n",
    "leonardo = Turtle()\n",
    "leonardo.shape(\"turtle\")\n",
    "leonardo.color(\"blue\")\n",
    "\n",
    "leonardo.backward(100)\n",
    "leonardo.left(90)\n",
    "leonardo.forward(100)\n",
    "leonardo.right(90)\n",
    "leonardo.forward(100)\n",
    "```\n",
    "````"
   ]
  },
  {
   "cell_type": "markdown",
   "metadata": {},
   "source": [
    "## Klasser\n",
    "La oss prøve å lage vår egen klasse med ulike egenskaper. Vi vil definere en klasse som lager objekter med egenskapene til et glass. Det er god skikk å lage klassenavnet med stor forbokstav, og det gjør vi slik:"
   ]
  },
  {
   "cell_type": "code",
   "execution_count": 2,
   "metadata": {
    "tags": [
     "remove-output"
    ]
   },
   "outputs": [],
   "source": [
    "class Glass:\n",
    "    def __init__(self):\n",
    "        self.innhold = 0"
   ]
  },
  {
   "cell_type": "markdown",
   "metadata": {},
   "source": [
    "Nå har vi definert klassen \"Glass\" og gitt det en egenskap (attributt) som heter \"innhold\", en vanlig egenskap ved de fleste glass. Metodene i en klasse defineres på samme måte som funksjoner. Den metoden vi har lagd her, \\_\\_init\\_\\_ (som står for \"initiering\"), er en spesiell metode som inneholder alle egenskaper som objekter av klassen Glass alltid får. Parameteren i denne funksjonen/metoden er \"self\". Dette er en litt merkelig konstruksjon. \"self\" brukes nemlig for å henvis til at dette er en egenskap ved objektet selv. Det tar litt tid å bli vant til at vi må henvise til objektet selv inni klassen som er oppskriften på objektene. Men når du har sett nok eksempler på hvordan klasser blir konstruert, får du antakelig en forståelse av det. La oss legge til en metode til, som sjekker innholdet i glasset:"
   ]
  },
  {
   "cell_type": "code",
   "execution_count": 3,
   "metadata": {},
   "outputs": [],
   "source": [
    "class Glass:\n",
    "    def __init__(self):\n",
    "        self.innhold = 0            \n",
    "    def sjekkInnhold(self):\n",
    "        return self.innhold"
   ]
  },
  {
   "cell_type": "markdown",
   "metadata": {},
   "source": [
    "La oss nå lage et glass-objekt og sjekke innholdet:"
   ]
  },
  {
   "cell_type": "code",
   "execution_count": 5,
   "metadata": {},
   "outputs": [
    {
     "name": "stdout",
     "output_type": "stream",
     "text": [
      "0\n"
     ]
    }
   ],
   "source": [
    "vannglass = Glass()              # laget et vannglass av typen \"Glass\"\n",
    "print(vannglass.sjekkInnhold())  # skriver ut innholdet i glasset"
   ]
  },
  {
   "cell_type": "markdown",
   "metadata": {},
   "source": [
    "```{admonition} Underveisoppgave\n",
    ":class: tip\n",
    "Lag en metode \"fyll\" som legger til innhold i glasset. Test metoden ved å legge til 5 (dl) og sjekke innholdet.\n",
    "```\n",
    "````{admonition} Løsningsforslag\n",
    ":class: tip, dropdown\n",
    "```{code-block} Python\n",
    "class Glass:\n",
    "    def __init__(self):\n",
    "        self.innhold = 0\n",
    "    \n",
    "    def fyll(self, mengde):\n",
    "        self.mengde = mengde\n",
    "        self.innhold += self.mengde\n",
    "            \n",
    "    def sjekkInnhold(self):\n",
    "        return self.innhold\n",
    "        \n",
    "vannglass = Glass()\n",
    "vannglass.fyll(5)\n",
    "print(vannglass.sjekkInnhold())\n",
    "```\n",
    "````"
   ]
  },
  {
   "cell_type": "markdown",
   "metadata": {
    "tags": [
     "hide-input",
     "remove-output"
    ]
   },
   "source": [
    "Når du har gjort oppgaven ovenfor, kan vi legge til enda en metode som tømmer glasset:\n",
    "\n",
    "<iframe src=\"https://trinket.io/embed/python3/e06da1af67\" width=\"100%\" height=\"300\" frameborder=\"0\" marginwidth=\"0\" marginheight=\"0\" allowfullscreen></iframe>\n",
    "\n",
    "Men hva skjer hvis glasset er fullt eller tomt? Prøv å løse dette problemet i oppgaven nedenfor:\n",
    "\n",
    "````{admonition} Underveisoppgave\n",
    ":class: tip\n",
    "Legg inn en ny egenskap ved glasset som du kaller \"kapasitet\". Denne egenskapen skal si noe om hvor mye volum glasset rommer. Fyll også ut det som mangler i metodene \"fyll\" og \"tøm\" nedenfor. Metodene skal si fra om glasset er fullt eller tomt. Dersom glasset er tomt, skal innholdet settes til 0, og dersom glasset er fullt, skal innholdet settes til kapasiteten til glasset. Skriv gjerne også ut en melding om at glasset er fullt eller tomt.\n",
    "\n",
    "```{code-block} Python\n",
    "    def fyll(self, mengde):\n",
    "        self.mengde = mengde\n",
    "        self.innhold += self.mengde\n",
    "        if #...\n",
    "            \n",
    "    def tøm(self, mengde):\n",
    "        self.mengde = mengde\n",
    "        self.innhold -= self.mengde\n",
    "        if # ...\n",
    "```\n",
    "````\n",
    "\n",
    "````{admonition} Løsningsforslag\n",
    ":class: tip, dropdown\n",
    "```{code-block} Python\n",
    "class Glass:\n",
    "    def __init__(self, kapasitet):\n",
    "        self.kapasitet = kapasitet\n",
    "        self.innhold = 0\n",
    "    \n",
    "    def fyll(self, mengde):\n",
    "        self.mengde = mengde\n",
    "        self.innhold += self.mengde\n",
    "        if self.innhold >= self.kapasitet:\n",
    "            print(\"Glasset er fullt!\")\n",
    "            self.innhold = self.kapasitet\n",
    "            \n",
    "    def tøm(self, mengde):\n",
    "        self.mengde = mengde\n",
    "        self.innhold -= self.mengde\n",
    "        if self.innhold <= 0:\n",
    "            print(\"Glasset er tomt!\")\n",
    "            self.innhold = 0\n",
    "            \n",
    "    def sjekkInnhold(self):\n",
    "        return self.innhold\n",
    "        \n",
    "mittGlass = Glass(5)\n",
    "mittGlass.fyll(6)\n",
    "mittGlass.tøm(1)\n",
    "mittGlass.sjekkInnhold()\n",
    "print(\"Glasset inneholder:\", mittGlass.sjekkInnhold(), \"dl.\")\n",
    "```\n",
    "````"
   ]
  },
  {
   "cell_type": "markdown",
   "metadata": {},
   "source": [
    "### Eksempel: Objekter i spill\n",
    "Moderne spill lages med objektorientert kode. En av årsakene er at vi lettere kan gjenbruke kode. Ta for eksempel skilpaddene i Mario. De har noen felles egenskaper, og det er derfor nyttig å kunne plassere dem rundt omkring ved å  lage nye objekter fra en klasse istedenfor å gjenta masse kode. Vi kan også ta hensyn til små variasjoner, som farge på skallet, evnen til å gjøre skade eller helsepoeng (HP).\n",
    "\n",
    "```{image} http://oyster.ignimgs.com/mediawiki/apis.ign.com/new-super-mario-bros-u/a/a5/New-Super-Mario-Bros.-Game-Character-Official-Artwork-Koopa-Troopa.jpeg\n",
    ":alt: koopa\n",
    ":class: bg-primary mb-1\n",
    ":width: 200px\n",
    ":align: center\n",
    "```\n",
    "\n",
    "I programmet nedenfor lager vi en skilpaddeklasse med noen egenskaper og to metoder, \"harm\" og \"heal\". Gå gjennom linje for linje og prøv å forstå hvordan programmet fungerer.\n",
    "\n",
    "<iframe src=\"https://trinket.io/embed/python3/49f9d244ff\" width=\"100%\" height=\"400\" frameborder=\"0\" marginwidth=\"0\" marginheight=\"0\" allowfullscreen></iframe>\n",
    "\n",
    "````{admonition} Underveisoppgave\n",
    ":class: tip\n",
    "Legg inn et vilkår i programmet ovenfor som skriver ut at skilpadden er død hvis den går under 0 i hp. Lag også en attributt/egenskap som sier noe om skilpadden lever eller ikke.\n",
    "````\n",
    "\n",
    "````{admonition} Løsningsforslag\n",
    ":class: tip, dropdown\n",
    "```{code-block} Python\n",
    "class Skilpadde:\n",
    "    def __init__(self):\n",
    "        self.artsnavn = \"Chelonia mydas\"\n",
    "        self.farge = \"green\"\n",
    "        self.levende = True\n",
    "        if self.farge == \"green\":\n",
    "            self.hp = 15\n",
    "        elif self.farge == \"red\":\n",
    "            self.hp = 20\n",
    "    def harm(self, skade):\n",
    "        self.hp -= skade\n",
    "        if self.hp <= 0:\n",
    "            self.levende = False\n",
    "            self.hp = 0\n",
    "            print(\"Skilpadden døde.\")\n",
    "    def heal(self):\n",
    "        self.hp += 5\n",
    "\n",
    "skilpadde1 = Skilpadde()\n",
    "skilpadde1.farge = \"green\"\n",
    "\n",
    "print(\"HP:\", skilpadde1.hp)\n",
    "skilpadde1.harm(13)\n",
    "print(\"HP:\", skilpadde1.hp)\n",
    "skilpadde1.harm(16)\n",
    "print(\"HP:\", skilpadde1.hp)\n",
    "```\n",
    "````"
   ]
  },
  {
   "cell_type": "markdown",
   "metadata": {},
   "source": [
    "### Eksempel: Vektorobjekt\n",
    "Her skal vi se på en klasse som lager et objekt med egenskapene til en matematisk vektor med tre komponenter: $\\vec{v} = [x, y, z]$. Vi ønsker at vi skal kunne regne ut lengden til denne vektoren, og at vi skal kunne addere vektoren med en annen vektor. Lengden av en vektor kalles også for _normen_ til vektoren, og er definert slik:\n",
    "\n",
    "$|\\vec{v}| = \\sqrt{x^2 + y^2 + z^2}$\n",
    "\n",
    "En vektorklasse med en metode for addisjon kan se slik ut:\n",
    "\n",
    "<iframe src=\"https://trinket.io/embed/python3/3e2385b77e\" width=\"100%\" height=\"600\" frameborder=\"0\" marginwidth=\"0\" marginheight=\"0\" allowfullscreen></iframe>\n",
    "\n",
    "\n",
    "```{admonition} Underveisoppgave\n",
    ":class: tip\n",
    "Legg en metode i vektorklassen ovenfor som returnerer lengden/normen til vektoren. Test ut ved å sjekke at normen til vektoren $\\vec{u} = [1, 2, 2]$ er 3.\n",
    "```\n",
    "````{admonition} Løsningsforslag\n",
    ":class: tip, dropdown\n",
    "```{code-block} Python\n",
    "class Vektor:\n",
    "    def __init__(self,x,y,z):\n",
    "        self.x = x\n",
    "        self.y = y\n",
    "        self.z = z\n",
    "        \n",
    "    def norm(self):\n",
    "        lengde = (self.x**2 + self.y**2 + self.z**2)**0.5\n",
    "        return lengde\n",
    "    \n",
    "    def add(self, vektor):\n",
    "        x = self.x + vektor.x\n",
    "        y = self.y + vektor.y\n",
    "        z = self.z + vektor.z\n",
    "        return [x, y, z]\n",
    "    \n",
    "u = Vektor(1,2,2)\n",
    "v = Vektor(4,4,4)\n",
    "print(u.norm())\n",
    "```\n",
    "````"
   ]
  },
  {
   "cell_type": "markdown",
   "metadata": {},
   "source": [
    "## Arv\n",
    "Hvis vi ønsker å lage en klasse som har alle egenskaper til en annen klasse, i tillegg til noen ekstra egenskaper, kan vi la klassen _arve_ egenskaper fra den andre klassen. La oss lage en termosklasse som arver fra glassklassen (kalt _superklasse_). Klassen som arver, kaller vi en _subklasse_."
   ]
  },
  {
   "cell_type": "code",
   "execution_count": 21,
   "metadata": {},
   "outputs": [
    {
     "name": "stdout",
     "output_type": "stream",
     "text": [
      "Glasset er fullt!\n",
      "62.0\n",
      "54.0\n",
      "46.0\n",
      "38.0\n",
      "30.0\n"
     ]
    },
    {
     "data": {
      "text/plain": [
       "5"
      ]
     },
     "execution_count": 21,
     "metadata": {},
     "output_type": "execute_result"
    }
   ],
   "source": [
    "class Termos(Glass):\n",
    "    def __init__(self, kapasitet, isolasjonsverdi, temperatur):\n",
    "        super().__init__(kapasitet) # Her arver termosen kapasitet fra klassen Glass (superklassen)\n",
    "        self.isolasjonsverdi = isolasjonsverdi\n",
    "        self.temperatur = temperatur\n",
    "    def økTemperatur(self):\n",
    "        self.temperatur += 5/self.isolasjonsverdi\n",
    "    def senkTemperatur(self):\n",
    "        self.temperatur -= 10/self.isolasjonsverdi\n",
    "    def hentTemperatur(self):\n",
    "        print(self.temperatur)\n",
    "\n",
    "termos = Termos(10, 1.25, 70)\n",
    "termos.fyll(10)\n",
    "\n",
    "for timer in range(5):\n",
    "    termos.senkTemperatur()\n",
    "    termos.tøm(1)\n",
    "    termos.hentTemperatur()\n",
    "termos.sjekkInnhold()"
   ]
  },
  {
   "cell_type": "markdown",
   "metadata": {},
   "source": [
    "```{admonition} Underveisoppgave\n",
    ":class: tip\n",
    "Forklar hvordan programmet ovenfor fungerer.\n",
    "```"
   ]
  }
 ],
 "metadata": {
  "celltoolbar": "Edit Metadata",
  "kernelspec": {
   "display_name": "Python 3",
   "language": "python",
   "name": "python3"
  },
  "language_info": {
   "codemirror_mode": {
    "name": "ipython",
    "version": 3
   },
   "file_extension": ".py",
   "mimetype": "text/x-python",
   "name": "python",
   "nbconvert_exporter": "python",
   "pygments_lexer": "ipython3",
   "version": "3.8.5"
  }
 },
 "nbformat": 4,
 "nbformat_minor": 4
}
