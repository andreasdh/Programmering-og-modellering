{
 "cells": [
  {
   "cell_type": "markdown",
   "metadata": {},
   "source": [
    "# Datasamlinger (teori)\n",
    "\n",
    "```{admonition} Læringsutbytte\n",
    "Etter å ha arbeidet med dette temaet, skal du kunne:\n",
    "1. Opprette og bruke lister, arrayer og dictionarier, og forklare forskjellen mellom dem.\n",
    "2. Utføre operasjoner på lister, arrayer og dictionarier.\n",
    "```\n",
    "\n",
    "## Lister\n",
    "I videoen nedenfor forklares hvordan du kan opprette og utføre operasjoner på lister."
   ]
  },
  {
   "cell_type": "code",
   "execution_count": 1,
   "metadata": {
    "tags": [
     "remove-input"
    ]
   },
   "outputs": [
    {
     "data": {
      "text/html": [
       "\n",
       "        <iframe\n",
       "            width=\"800\"\n",
       "            height=\"600\"\n",
       "            src=\"https://www.youtube.com/embed/1ZeRsnlxU4A? autoplay=0&rel=0\"\n",
       "            frameborder=\"0\"\n",
       "            allowfullscreen\n",
       "        ></iframe>\n",
       "        "
      ],
      "text/plain": [
       "<IPython.lib.display.IFrame at 0x25eb2b08280>"
      ]
     },
     "execution_count": 1,
     "metadata": {},
     "output_type": "execute_result"
    }
   ],
   "source": [
    "from IPython.display import IFrame\n",
    "IFrame(\"https://www.youtube.com/embed/1ZeRsnlxU4A? autoplay=0&rel=0\", width=800, height=600)"
   ]
  },
  {
   "cell_type": "markdown",
   "metadata": {},
   "source": [
    "Når du har sett videoen, kan du gjøre følgende oppgave for å sjekke om du forstår innholdet:\n",
    "\n",
    "```{admonition} Underveisoppgave\n",
    ":class: tip\n",
    "Lag ulike to lister med bøker, TV-serier, fotballspillere eller liknende. Listene bør ha minst 5 elementer hver, men gjerne flere.\n",
    "1. Legg sammen de to listene.\n",
    "2. Slett det første og tredje elementet i den sammenslåtte lista.\n",
    "3. Finn ut hvilken indeks ett av elementene har.\n",
    "4. Lag ei ny liste av element 2–5.\n",
    "5. Finn indeksen til et av elementene og slett dette elementet.\n",
    "6. Skriv ut lista til slutt.\n",
    "```\n",
    "\n",
    "<iframe src=\"https://trinket.io/embed/python3/9ba4aed039\" width=\"100%\" height=\"356\" frameborder=\"0\" marginwidth=\"0\" marginheight=\"0\" allowfullscreen></iframe>\n",
    "\n",
    "## Arrayer\n",
    "Her skal vi se hvordan vi kan opprette og utføre operasjoner på arrayer."
   ]
  },
  {
   "cell_type": "code",
   "execution_count": 3,
   "metadata": {
    "tags": [
     "remove-input"
    ]
   },
   "outputs": [
    {
     "data": {
      "text/html": [
       "\n",
       "        <iframe\n",
       "            width=\"800\"\n",
       "            height=\"600\"\n",
       "            src=\"https://www.youtube.com/embed/MCrjhPeEUWg? autoplay=0&rel=0\"\n",
       "            frameborder=\"0\"\n",
       "            allowfullscreen\n",
       "        ></iframe>\n",
       "        "
      ],
      "text/plain": [
       "<IPython.lib.display.IFrame at 0x25eb2b08c70>"
      ]
     },
     "execution_count": 3,
     "metadata": {},
     "output_type": "execute_result"
    }
   ],
   "source": [
    "from IPython.display import IFrame\n",
    "IFrame(\"https://www.youtube.com/embed/MCrjhPeEUWg? autoplay=0&rel=0\", width=800, height=600)"
   ]
  },
  {
   "cell_type": "markdown",
   "metadata": {},
   "source": [
    "Når du har sett videoen, kan du gjøre følgende oppgave for å sjekke om du forstår innholdet:\n",
    "\n",
    "```{admonition} Underveisoppgave\n",
    ":class: tip\n",
    "Et program skal regne ut *c = a + b* og *c = a * b*. Forklar hva c vil bli dersom\n",
    "- a = [1,2,3,4] og b = [1,2,3,4]\n",
    "- a = [1,2,3,4] og b = 2\n",
    "- a = array([1,2,3,4]) og b = array([1,2,3,4])\n",
    "- a = array([1,2,3,4]) og b = 2\n",
    "Beskriv hva som skjer i de ulike tilfellene.\n",
    "```\n",
    "\n",
    "<iframe src=\"https://trinket.io/embed/python3/d8f4d758ae\" width=\"100%\" height=\"356\" frameborder=\"0\" marginwidth=\"0\" marginheight=\"0\" allowfullscreen></iframe>"
   ]
  }
 ],
 "metadata": {
  "celltoolbar": "Edit Metadata",
  "kernelspec": {
   "display_name": "Python 3",
   "language": "python",
   "name": "python3"
  },
  "language_info": {
   "codemirror_mode": {
    "name": "ipython",
    "version": 3
   },
   "file_extension": ".py",
   "mimetype": "text/x-python",
   "name": "python",
   "nbconvert_exporter": "python",
   "pygments_lexer": "ipython3",
   "version": "3.8.5"
  }
 },
 "nbformat": 4,
 "nbformat_minor": 4
}
