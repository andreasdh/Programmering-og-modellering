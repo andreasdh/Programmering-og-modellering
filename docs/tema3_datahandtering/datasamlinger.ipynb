{
 "cells": [
  {
   "cell_type": "markdown",
   "metadata": {},
   "source": [
    "# Datasamlinger\n",
    "\n",
    "```{admonition} Læringsutbytte\n",
    "Etter å ha arbeidet med dette temaet, skal du kunne:\n",
    "1. opprette ulike arrayer\n",
    "2. gjøre vektoroperasjoner med arrayer\n",
    "3. gjøre rede for hva tupler er\n",
    "4. opprette og bruke dictionarier\n",
    "```\n",
    "\n",
    "Vi har flere måter å organisere data på i Python. Her er en kort oversikt over de viktigste datasamlingene:\n",
    "1. Lister (fleksible samlinger av like eller ulike data)\n",
    "2. Arrayer (samlinger av tall som kan opereres på som vektorer).\n",
    "3. Tupler (statiske lister som ikke kan endres)\n",
    "4. Dictionarier (lister med strenger, ikke tall, som nøkler)\n",
    "\n",
    "Vi har allerede sett hvordan lister fungerer. La oss se på de tre andre datatypene.\n",
    "\n",
    "## Arrayer\n",
    "Vi begynner med et eksempel som illustrerer forskjellen mellom lister og arrayer. For å kunne bruke arrayer, må vi først importere _numpy_ eller _pylab_."
   ]
  },
  {
   "cell_type": "code",
   "execution_count": 1,
   "metadata": {},
   "outputs": [
    {
     "name": "stdout",
     "output_type": "stream",
     "text": [
      "listesum: [1, 2, 3, 2, 3, 1]\n",
      "arraysum: [3 5 4]\n"
     ]
    }
   ],
   "source": [
    "import numpy as np\n",
    "\n",
    "liste1 = [1, 2, 3]\n",
    "liste2 = [2, 3, 1]\n",
    "\n",
    "print(\"listesum:\", liste1 + liste2)\n",
    "\n",
    "array1 = np.array(liste1)\n",
    "array2 = np.array(liste2)\n",
    "\n",
    "print(\"arraysum:\", array1 + array2)"
   ]
  },
  {
   "cell_type": "markdown",
   "metadata": {},
   "source": [
    "```{admonition} Underveisoppgave\n",
    ":class: tip\n",
    "Bruk koden ovenfor til å forklare forskjellen mellom listeaddisjon og arrayaddisjon.\n",
    "```\n",
    "```{admonition} Løsningsforslag\n",
    ":class: tip, dropdown\n",
    "Når to lister adderes, legges den ene lista til slutten på den andre. Når to arrayer adderes, får vi komponentvis addisjon av elementene: [1+2, 2+3, 3+1]. Dette er det samme som vektoraddisjon.\n",
    "```\n",
    "\n",
    "### Opprette arrayer\n",
    "Vi kan opprette arrayer på flere måter:\n",
    "\n",
    "<iframe src=\"https://trinket.io/embed/python3/33741d423e?font=1.2em\" width=\"100%\" height=\"300\" frameborder=\"0\" marginwidth=\"0\" marginheight=\"0\" allowfullscreen></iframe>\n",
    "\n",
    "```{admonition} Underveisoppgave\n",
    ":class: tip\n",
    "Forklar de ulike måtene å opprette arrayer på ved å endre på forskjellige parametre i programmet ovenfor.\n",
    "```\n",
    "\n",
    "```{admonition} Løsningsforslag\n",
    ":class: tip, dropdown\n",
    "Vi kan oppsummere måter å opprette arrayer på slik:\n",
    "| Operasjon | Forklaring |\n",
    "| --------- | ---------- |\n",
    "| array([x1,x2,x3,...]) | gjør om en liste med tall til en array |\n",
    "| arange(a,b,c) | lager en array med tallene a til, men ikke med, b, der c er steglengden |\n",
    "| linspace(a,b,c) | lager en array med c elementer fra a til og med b |\n",
    "| zeros(n) | lager en array med _n_ nuller |\n",
    "| ones(n) | lager en array med _n_ enere |\n",
    "```\n",
    "\n",
    "### Behandle arraydata\n",
    "I motsetning til med lister, kan vi ikke bruke listeoperasjoner som _append_, _remove_ og liknende når vi opererer med arrayer. Vi kan derimot få tilgang til elementene ved å bruke indekser, akkurat som med lister.\n",
    "\n",
    "```{admonition} Underveisoppgave\n",
    ":class: tip\n",
    "Hva tror du koden nedenfor skriver ut? Bruk det du husker om listeindeksering.\n",
    "```\n",
    "\n",
    "<iframe src=\"https://trinket.io/embed/python3/40c6ef7e3e?font=1.2em\" width=\"100%\" height=\"300\" frameborder=\"0\" marginwidth=\"0\" marginheight=\"0\" allowfullscreen></iframe>\n",
    "\n",
    "Vi kan også lage flerdimensjonale arrayer, ved å sette inn arrayer i arrayer. Dette kan i noen tilfeller ses på som tabeller med kolonner og rader, slik som nedenfor.\n",
    "\n",
    "```{admonition} Underveisoppgave\n",
    ":class: tip\n",
    "1. Prøv å forklare/forutse hva koden nedenfor gjør.\n",
    "2. Kjør koden og se om det stemmer med slik du hadde tenkt. Hvis ikke, hva er forskjellen?\n",
    "3. Undersøk hva du får som output når du endrer på tallene i print-kommandoene. Beskriv hva som skjer.\n",
    "4. Modifiser programmet slik at det kun skriver ut de fire første elementene i kolonne 2.\n",
    "5. Lag et program med en array som representerer dataene i tabellen nedenfor.\n",
    "Skriv så ut alt i kolonne nummer 3 (hvis vi teller fra 1) og elementet 6.7.\n",
    "```\n",
    "\n",
    "| Kolonne 1   | Kolonne 2   | Kolonne 3   | Kolonne 4  |\n",
    "|-----|-----|-----|-----|\n",
    "| 0   | 1   | 2   | 3   |\n",
    "| 2   | 9.1 | 2.2 | 4   |\n",
    "| 3.5 | 9.1 | 6.7 | 5.5 |\n",
    "| 1.1 | 0.2 | 8.9 | 7.8 |\n",
    "\n",
    "<iframe src=\"https://trinket.io/embed/python3/fb87ba613c?font=1.2em\" width=\"100%\" height=\"300\" frameborder=\"0\" marginwidth=\"0\" marginheight=\"0\" allowfullscreen></iframe>\n",
    "\n",
    "````{admonition} Løsningsforslag\n",
    "Vi har en array med to arrayer i, som vi kaller _data_. Vi kan plukke ut elementer fra denne arrayen slik:\n",
    "\n",
    "```{code-block} Python\n",
    "print(data[1,2]) # Printer element 2 (det tredje elementet) fra array 1 (den andre arrayen i arrayen)\n",
    "print(data[1,:]) # Printer alle elementer fra array 1 (den andre arrayen i arrayen)\n",
    "print(data[:,0]) # Printer element 0 (det første elementet) fra alle (begge) arrayene\n",
    "```\n",
    "````"
   ]
  },
  {
   "cell_type": "markdown",
   "metadata": {},
   "source": [
    "### Matematikk med arrayer\n",
    "Noe som er praktisk med arrayer, er at de kan opppføre seg matematisk som vektorer eller matriser. Eksempler på en matematiske vektor og en matrise er:\n",
    "\n",
    "$\\vec{v} = [1, 4, 5]$\n",
    "\n",
    "$M = \\begin{bmatrix}1\\ 2\\ 2\\\\0\\ 4\\ 5\\\\ 6\\ 1\\ 1\\end{bmatrix} = \\begin{bmatrix}\\vec{v} \\\\\\vec{u} \\\\ \\vec{w}\\end{bmatrix} $\n",
    "\n",
    "Vi skal ikke se så mye på matriser her, men det er nyttig å vite at det finnes matematiske størrelser som kan representeres som flerdimensjonale arrayer. Matriser kan også ses på som en samling vektorer.\n",
    "\n",
    "La oss se på de vanligste vektoroperasjonene gjennom et eksempelprogram:\n",
    "\n",
    "<iframe src=\"https://trinket.io/embed/python3/824f64f65b\" width=\"100%\" height=\"300\" frameborder=\"0\" marginwidth=\"0\" marginheight=\"0\" allowfullscreen></iframe>\n",
    "\n",
    "```{admonition} Underveisoppgave\n",
    ":class: tip\n",
    "Test programmet ovenfor og beskriv hvordan de ulike operasjonene fungerer.\n",
    "```"
   ]
  },
  {
   "cell_type": "markdown",
   "metadata": {},
   "source": [
    "### Vektorisering\n",
    "En annen ting som er svært nyttig med arrayer, er at de er svært raske å behandle. Vektorisering betyr å bruke arrayer istedenfor å bruke løkker til å repetere operasjoner. Arrayaddisjon er et eksempel på vektorisering. Vi kunne jo ha addert komponentene trinnvis i en løkke. Nedenfor ser du et eksempel på både ikke-vektorisert og vektorisert kode. For å illustrere forskjellen i tida det tar å gjøre de to ulike kodene har vi importert _time_-biblioteket. Det lar oss registrere start- og slutt-tida i programmet, og vi kan derfor beregne tida det tar å kjøre koden ved å ta differansen mellom disse.\n",
    "\n",
    "<iframe src=\"https://trinket.io/embed/python3/b8e8d3ead3\" width=\"100%\" height=\"600\" frameborder=\"0\" marginwidth=\"0\" marginheight=\"0\" allowfullscreen></iframe>\n",
    "\n",
    "```{admonition} Underveisoppgave\n",
    ":class: tip\n",
    "Forklar hva som foregår i programmet ovenfor. Test programmet ovenfor og beskriv hvordan de ulike operasjonene fungerer. Sjekk også forskjellen i tid mellom komponentvis multiplikasjon av arrayer i en løkke og vektorisert multiplikasjon.\n",
    "```"
   ]
  },
  {
   "cell_type": "markdown",
   "metadata": {},
   "source": [
    "## Tupler\n",
    "Tupler blir brukt til å lagre statisk innhold som ikke skal endres. Et typisk eksempel er når vi skal spesifisere en fargekode i RGB (rød, grønn, blå). Da angis intensiteten til rød, grønn og blå som et tall mellom 0 og 255. Dette kan vi beskrive i en liste, men lister kan endres og er derfor ikke så robuste som tupler. Vi bruker derfor tupler til å lagre slike data. Istedenfor klammeparenteser bruker vi runde parenteser når vi lager tupler:"
   ]
  },
  {
   "cell_type": "code",
   "execution_count": 1,
   "metadata": {},
   "outputs": [
    {
     "name": "stdout",
     "output_type": "stream",
     "text": [
      "(255, 0, 255)\n"
     ]
    }
   ],
   "source": [
    "svart = (0, 0, 0)\n",
    "hvit = (255, 255, 255)\n",
    "rød = (255, 0, 0)\n",
    "magenta = (255, 0, 255)\n",
    "\n",
    "print(magenta)"
   ]
  },
  {
   "cell_type": "markdown",
   "metadata": {},
   "source": [
    "## Dictionarier\n",
    "\n",
    "Dictionarier er en samling av data som indekseres med strenger istedenfor tall. Istedenfor klammeparenteser bruker vi krøllparenteser når vi lager dictionarier. Vi kaller indeksene i en dictionary for _nøkler_, og hver nøkkel har en _verdi_.\n",
    "\n",
    "```{code-block} Python\n",
    "dictionary = {\"nøkkel1\": verdi1, \"nøkkel2\": verdi2, \"nøkkel3\": verdi3, ...}\n",
    "```\n",
    "\n",
    "Dictionarier er spesielt nyttig når vi skal lagre informasjon om bestemte kategorier, som ulike arter, grunnstoffer eller radioaktive nuklider. Programsnutten nedenfor viser hvordan vi bruker en dictionary der vi oppgir atommassen til ulike grunnstoffer."
   ]
  },
  {
   "cell_type": "code",
   "execution_count": 3,
   "metadata": {},
   "outputs": [
    {
     "name": "stdout",
     "output_type": "stream",
     "text": [
      "6.94\n"
     ]
    }
   ],
   "source": [
    "atommasse = {\"H\": 1.01, \"He\": 4.00, \"Li\": 6.94, \"Be\": 9.01}\n",
    "\n",
    "print(atommasse[\"Li\"]) # Skriver ut atommassen til litium"
   ]
  },
  {
   "cell_type": "markdown",
   "metadata": {},
   "source": [
    "```{admonition} Underveisoppgave\n",
    ":class: tip\n",
    "Forklar forskjellen mellom hvordan vi får ut elementer fra en liste sammenliknet med en dictionary.\n",
    "```\n",
    "\n",
    "Dictionarier blir ekstra nyttige når vi forstår hvordan vi kan lagre dictionarier i dictionarier. Da kan vi for eksempel lagre høyde, bredde og vekt til en bestemt art, eller ulike egenskaper ved grunnstoffene. Programmet nedenfor viser hvordan du kan gjøre dette. Vi ser også at vi enkelt kan skrive ut alle nøkler og verdier i en dictionary\n",
    "\n",
    "<iframe src=\"https://trinket.io/embed/python3/b2e87a8abf?font=1.2em\" width=\"100%\" height=\"300\" frameborder=\"0\" marginwidth=\"0\" marginheight=\"0\" allowfullscreen></iframe>\n",
    "\n",
    "```{admonition} Underveisoppgave\n",
    ":class: tip\n",
    "Legg inn et ekstra valgfritt grunnstoff i programmet ovenfor i tillegg til hydrogen og vanadium. Legg også til kokepunkt for alle grunnstoffene. Skriv ut kokepunktet til det nye grunnstoffet.\n",
    "```"
   ]
  },
  {
   "cell_type": "markdown",
   "metadata": {},
   "source": [
    "## Oppgaver\n",
    "\n",
    "```{admonition} Oppgave 6.1\n",
    ":class: tip\n",
    "Lag to arrayer. Fyll den ene med oddetall fra 1 til 101 og den andre med partall fra 0 til og med 100. Legg sammen arrayene.\n",
    "```\n",
    "\n",
    "```{admonition} Oppgave 6.2\n",
    ":class: tip\n",
    "Et program skal regne ut $c = a + b$. Forklar hva $c$ vil bli dersom\n",
    "1. $a = [1,2,3,4]$ og $b = [1,2,3,4]$\n",
    "2. $a = [1,2,3,4]$ og $b = 1$\n",
    "3. $a = array([1,2,3,4])$ og $b = 1$\n",
    "4. $a = array([1,2,3,4])$ og $b = array([1,2,3,4])$\n",
    "```\n",
    "\n",
    "```{admonition} Oppgave 6.3\n",
    ":class: tip\n",
    "Et program skal regne ut $c = a * b$. Forklar hva $c$ vil bli dersom\n",
    "1. $a = [1,2,3,4]$ og $b = [1,2,3,4]$\n",
    "2. $a = [1,2,3,4]$ og $b = 4$\n",
    "3. $a = array([1,2,3,4])$ og $b = array([1,2,3,4])$\n",
    "```\n",
    "\n",
    "```{admonition} Oppgave 6.4\n",
    ":class: tip\n",
    "Lag en array med alle tall i 9-gangen opp til 1000. Skriv ut tallene til slutt\n",
    "```\n",
    "\n",
    "```{admonition} Oppgave 6.5 (kjemi)\n",
    ":class: tip\n",
    "Følgende kode regner ut pH i en løsning gitt ulike verdier av konsentrasjonen av oksoniumioner. Vektoriser koden.\n",
    "\n",
    "import numpy as np\n",
    "H3O = [1E-10, 2.4E-9, 1E-8, 3.5E-7, 7E-6, 1.2E-5, 1E-4, 1E-2, 1.2]\n",
    "\n",
    "def surhet(oksonium):\n",
    "    pH = -np.log10(oksonium)\n",
    "    return pH\n",
    "    \n",
    "pH = []\n",
    "\n",
    "for kons in H3O:\n",
    "    pH.append(surhet(kons))\n",
    "```\n",
    "\n",
    "```{admonition} Oppgave 6.6 (matematikk)\n",
    ":class: tip\n",
    "Vi har vektorene $\\vec{v} = [2, 2]$ og $\\vec{w} = [1, -3]$. Avgjør om vektorene er ortogonale ($\\vec{v}\\cdot \\vec{w} = 0$). Kontroller ved å regne ut for hånd.\n",
    "```\n",
    "\n",
    "```{admonition} Oppgave 6.7\n",
    ":class: tip\n",
    "Lise prøver å lage tre arrayer: én med alle partall fra og med 0 til og med 10, én med 1000 jevnt fordelte tall fra og med 0 til og med 10 og én med alle heltall fra og med 100 til og med 1 i synkende rekkefølge. Men programmet hennes gir feil output. Hva er feil? Rett opp programmet slik at Lise får gjort det hun ønsker.\n",
    "\n",
    "<iframe src=\"https://trinket.io/embed/python3/f68691cb51\" width=\"100%\" height=\"300\" frameborder=\"0\" marginwidth=\"0\" marginheight=\"0\" allowfullscreen></iframe>\n",
    "```\n",
    "\n",
    "````{admonition} Løsningsforslag\n",
    ":class: tip, dropdown\n",
    "```{code-block} Python\n",
    "import numpy as np\n",
    "\n",
    "partall = np.arange(0, 11, 2)\n",
    "mange_tall = np.linspace(0, 10, 1000)\n",
    "heltall_synkende = np.arange(100, 0, -1)\n",
    "\n",
    "print(\"Første array:\", partall)\n",
    "print(\"Andre array:\", mange_tall)\n",
    "print(\"Tredje array:\", heltall_synkende)\n",
    "```\n",
    "````\n",
    "\n",
    "```{admonition} Oppgave 6.8\n",
    ":class: tip\n",
    "Programmet nedenfor tegner fire sirkler, men sirklene trenger farge. Lag fire tupler som inneholder RGB-verdiene til fire valgfrie farger.\n",
    "\n",
    "<iframe src=\"https://trinket.io/embed/python/03c16c2d46\" width=\"100%\" height=\"600\" frameborder=\"0\" marginwidth=\"0\" marginheight=\"0\" allowfullscreen></iframe>\n",
    "```\n",
    "\n",
    "```{admonition} Oppgave 6.9\n",
    ":class: tip\n",
    "Lag en dictionary med farger som nøkler og RGB-verdier som verdier (som tupler). Lag minst fem farger og skriv ut \"RGB-koden for FARGE er: (R, G, B)\" for hver farge i dictionarien.\n",
    "```\n",
    "\n",
    "````{admonition} Oppgave 6.10\n",
    ":class: tip\n",
    "Følgende program har noen variabler som inneholder informasjon om noen elever som har en bestemt lærer. Legg dem inn i en dictionary isteden. Hva er fordelen med å bruke dictionarier her?\n",
    "```{code-block} Python\n",
    "elever = [\"Gunnar\", \"Marius\", \"Kristian\"]\n",
    "lærer = [\"Andreas\"]\n",
    "```\n",
    "````\n",
    "\n",
    "````{admonition} Oppgave 6.11 (biologi)\n",
    ":class: tip\n",
    "Lag en dictionary med ulike arter og forskjellige egenskaper til disse artene. Det bør være minst 3 ulike arter med 3 egenskaper hver.\n",
    "````"
   ]
  },
  {
   "cell_type": "markdown",
   "metadata": {},
   "source": [
    "## Filmer\n",
    "I videoene nedenfor kan du få en innføring eller repetisjon i den grunnleggende teorien bak arrayer og dictionarier:\n",
    "\n",
    "````{tabbed} Arrayer og tupler\n",
    "<iframe width=\"800\" height=\"600\" src=\"https://www.youtube.com/embed/MCrjhPeEUWg? autoplay=0&rel=0\" title=\"YouTube video player\" frameborder=\"0\" allow=\"accelerometer; autoplay; clipboard-write; encrypted-media; gyroscope; picture-in-picture\" allowfullscreen></iframe>\n",
    "````\n",
    "````{tabbed} Dictionarier\n",
    "<iframe width=\"800\" height=\"600\" src=\"https://www.youtube.com/embed/ji5WjVfs_hQ? autoplay=0&rel=0\" title=\"YouTube video player\" frameborder=\"0\" allow=\"accelerometer; autoplay; clipboard-write; encrypted-media; gyroscope; picture-in-picture\" allowfullscreen></iframe>\n",
    "````"
   ]
  }
 ],
 "metadata": {
  "kernelspec": {
   "display_name": "Python 3",
   "language": "python",
   "name": "python3"
  },
  "language_info": {
   "codemirror_mode": {
    "name": "ipython",
    "version": 3
   },
   "file_extension": ".py",
   "mimetype": "text/x-python",
   "name": "python",
   "nbconvert_exporter": "python",
   "pygments_lexer": "ipython3",
   "version": "3.8.8"
  }
 },
 "nbformat": 4,
 "nbformat_minor": 5
}
