{
 "cells": [
  {
   "cell_type": "markdown",
   "metadata": {},
   "source": [
    "# Datahåndering II: Statistikk\n",
    "\n",
    "```{admonition} Læringsutbytte\n",
    "Etter å ha arbeidet med dette temaet, skal du kunne:\n",
    "1. lese data fra fil\n",
    "2. skrive data til fil\n",
    "3. visualisere fildata\n",
    "```\n",
    "\n",
    "```{epigraph}\n",
    "If your experiment needs a statistician, you need a better experiment.\n",
    "\n",
    "-- Fysikeren Ernest Rutherford (1871–1937)\n",
    "```"
   ]
  },
  {
   "cell_type": "markdown",
   "metadata": {},
   "source": [
    "## Deskriptiv statistikk\n",
    "Vi kan bruke statistikk til å oppsummere, beskrive og tolke data. Vi skiller mellom to typer statistikk:\n",
    "1. Deskriptiv statistikk: oppsummere og beskrive data\n",
    "2. Statistisk interferens: trekke slutninger fra data\n",
    "\n",
    "Vi skal mest se på deskriptiv statistikk her. La oss vende tilbake til pingvindataene våre. Vi kan få en enkel statistisk oversikt over datasettet vårt ved å bruke funksjonen _describe_."
   ]
  },
  {
   "cell_type": "code",
   "execution_count": 3,
   "metadata": {},
   "outputs": [
    {
     "data": {
      "text/html": [
       "<div>\n",
       "<style scoped>\n",
       "    .dataframe tbody tr th:only-of-type {\n",
       "        vertical-align: middle;\n",
       "    }\n",
       "\n",
       "    .dataframe tbody tr th {\n",
       "        vertical-align: top;\n",
       "    }\n",
       "\n",
       "    .dataframe thead th {\n",
       "        text-align: right;\n",
       "    }\n",
       "</style>\n",
       "<table border=\"1\" class=\"dataframe\">\n",
       "  <thead>\n",
       "    <tr style=\"text-align: right;\">\n",
       "      <th></th>\n",
       "      <th>bill_length_mm</th>\n",
       "      <th>bill_depth_mm</th>\n",
       "      <th>flipper_length_mm</th>\n",
       "      <th>body_mass_g</th>\n",
       "    </tr>\n",
       "  </thead>\n",
       "  <tbody>\n",
       "    <tr>\n",
       "      <th>count</th>\n",
       "      <td>342.000000</td>\n",
       "      <td>342.000000</td>\n",
       "      <td>342.000000</td>\n",
       "      <td>342.000000</td>\n",
       "    </tr>\n",
       "    <tr>\n",
       "      <th>mean</th>\n",
       "      <td>43.921930</td>\n",
       "      <td>17.151170</td>\n",
       "      <td>200.915205</td>\n",
       "      <td>4201.754386</td>\n",
       "    </tr>\n",
       "    <tr>\n",
       "      <th>std</th>\n",
       "      <td>5.459584</td>\n",
       "      <td>1.974793</td>\n",
       "      <td>14.061714</td>\n",
       "      <td>801.954536</td>\n",
       "    </tr>\n",
       "    <tr>\n",
       "      <th>min</th>\n",
       "      <td>32.100000</td>\n",
       "      <td>13.100000</td>\n",
       "      <td>172.000000</td>\n",
       "      <td>2700.000000</td>\n",
       "    </tr>\n",
       "    <tr>\n",
       "      <th>25%</th>\n",
       "      <td>39.225000</td>\n",
       "      <td>15.600000</td>\n",
       "      <td>190.000000</td>\n",
       "      <td>3550.000000</td>\n",
       "    </tr>\n",
       "    <tr>\n",
       "      <th>50%</th>\n",
       "      <td>44.450000</td>\n",
       "      <td>17.300000</td>\n",
       "      <td>197.000000</td>\n",
       "      <td>4050.000000</td>\n",
       "    </tr>\n",
       "    <tr>\n",
       "      <th>75%</th>\n",
       "      <td>48.500000</td>\n",
       "      <td>18.700000</td>\n",
       "      <td>213.000000</td>\n",
       "      <td>4750.000000</td>\n",
       "    </tr>\n",
       "    <tr>\n",
       "      <th>max</th>\n",
       "      <td>59.600000</td>\n",
       "      <td>21.500000</td>\n",
       "      <td>231.000000</td>\n",
       "      <td>6300.000000</td>\n",
       "    </tr>\n",
       "  </tbody>\n",
       "</table>\n",
       "</div>"
      ],
      "text/plain": [
       "       bill_length_mm  bill_depth_mm  flipper_length_mm  body_mass_g\n",
       "count      342.000000     342.000000         342.000000   342.000000\n",
       "mean        43.921930      17.151170         200.915205  4201.754386\n",
       "std          5.459584       1.974793          14.061714   801.954536\n",
       "min         32.100000      13.100000         172.000000  2700.000000\n",
       "25%         39.225000      15.600000         190.000000  3550.000000\n",
       "50%         44.450000      17.300000         197.000000  4050.000000\n",
       "75%         48.500000      18.700000         213.000000  4750.000000\n",
       "max         59.600000      21.500000         231.000000  6300.000000"
      ]
     },
     "execution_count": 3,
     "metadata": {},
     "output_type": "execute_result"
    }
   ],
   "source": [
    "import pandas as pd\n",
    "\n",
    "pingvindata = pd.read_csv(\"data/penguins.txt\", delimiter = \",\")\n",
    "pingvindata.describe()"
   ]
  },
  {
   "cell_type": "markdown",
   "metadata": {},
   "source": [
    "Vi kan forklare disse størrelsene slik:\n",
    "- count = antall registrerte tilfeller\n",
    "- mean = gjennomsnittet for alle individer\n",
    "- std = standardavviket (dette skal vi se nærmere på seinere)\n",
    "- min = minste registrerte verdi\n",
    "- 25 % = \"nedre kvartil\". Her har 25 % av pingvinene for eksempel en kroppsmasse mellom 3550 og minste verdi (2700).\n",
    "- 50 % = \"midtre kvartil\". Her har 50 % av pingvinene for eksempel en kroppsmasse mellom 3550 og 4050.\n",
    "- 75 % = \"øvre kvartil\". Her har 75 % av pingvinene for eksempel en kroppsmasse på 4750 eller under. Det betyr også at 25 % har en kroppsmasse på 4750 til maksverdien 6300.\n",
    "- max = høyeste registrerte verdi\n",
    "\n",
    "Vi kan også finne mange av disse størrelsene ved å bruke ulike funksjoner:\n",
    "\n",
    "<iframe src=\"https://trinket.io/embed/python3/ca6c9fbddf\" width=\"100%\" height=\"300\" frameborder=\"0\" marginwidth=\"0\" marginheight=\"0\" allowfullscreen></iframe>\n",
    "\n",
    "```{admonition} Underveisoppgave\n",
    ":class: tip\n",
    "Prøv ut programmet ovenfor og utforsk de ulike variablene slik at du forstår hva alle de statistiske størrelsene betyr. Forklar begrepet kvartil.\n",
    "```\n",
    "\n",
    "### Mål på spredning\n",
    "Det finnes mange måter å beskrive spredningen i en variabel på. Vi skal se på følgende måter:\n",
    "- Variasjonsbredde\n",
    "- Interkvartilbredde\n",
    "- Varians og standardavvik\n",
    "\n",
    "Variasjonsbredde er et enkelt mål på spredning, nemlig differansen mellom største og minste verdi ($x_{maks} - x_{min}$. De to andre målene må vi se litt nøyere på.\n",
    "\n",
    "```{admonition} Underveisoppgave\n",
    ":class: tip\n",
    "Regn ut variasjonsbredden i nebbdybde hos pingvinene.\n",
    "```\n",
    "\n",
    "#### Interkvartilbredde\n",
    "Vi har sett hvordan vi kan regne ut kvartiler.\n",
    "\n",
    "```{admonition} Kvartiler og persentiler\n",
    "Kvartiler er fjerdedeler av et utvalg. For eksempel er nedre kvartil ($Q_1$) den høyeste verdien av en variabel som tilhører de 25 \\% minste verdiene innenfor en variabel. Midtre kvartil ($Q_2$) er verdien midt i datasettet, det vil si at 50 \\% av dataene ligger over og under dette punktet. Den midtre kvartilen kalles også for _medianen_. Tredje kvartil ($Q_3$) markerer verdien som 75 \\% av dataene ligger under (og de resterende 25 \\% av dataene ligger over).\n",
    "\n",
    "Dersom vi bruker en vilkårlig prosent som ikke representerer en fjerdedel, kaller vi det en _persentil_.\n",
    "```\n",
    "\n",
    "Differansen mellom første og tredje kvartil er et godt mål på spredning. Dette er et mål på spredningen til de 50 \\% midtre dataene, og påvirkes derfor ikke av data som ligger langt unna de andre dataene (såkalte \"uteliggere\"). Dette målet kalles _interkvartilbredde_ (_IQR_) eller bare _kvartilbredde_:\n",
    "\n",
    "$IQR = Q_3 - Q_1$\n",
    "\n",
    "Kvartiler kan visualiseres enkelt med et _boksplott_:"
   ]
  },
  {
   "cell_type": "code",
   "execution_count": 6,
   "metadata": {},
   "outputs": [
    {
     "data": {
      "text/plain": [
       "<AxesSubplot:xlabel='species', ylabel='bill_depth_mm'>"
      ]
     },
     "execution_count": 6,
     "metadata": {},
     "output_type": "execute_result"
    },
    {
     "data": {
      "image/png": "[encoded data removed]",
      "text/plain": [
       "<Figure size 432x288 with 1 Axes>"
      ]
     },
     "metadata": {
      "needs_background": "light"
     },
     "output_type": "display_data"
    }
   ],
   "source": [
    "import seaborn as sns\n",
    "\n",
    "sns.boxplot(data = pingvindata, x = \"species\", y = \"bill_depth_mm\")"
   ]
  },
  {
   "cell_type": "markdown",
   "metadata": {},
   "source": [
    "Vi kan forklare dette plottet slik:\n",
    "\n",
    "- Den svarte linja midt i boksene er medianen.\n",
    "- 50 \\% av verdiene ligger innenfor boksene. Boksene markerer altså interkvartilområdet, fra $Q_1$ til $Q_3$.\n",
    "- Vi har to utstikkere på hver side av boksen. De viser $IQR\\cdot1.5 = 1.5(Q_3 - Q_1)$ i begge retninger.\n",
    "- Verdier som ligger utenfor disse utstikkerne, kalles _uteliggere_. Dette er unormalt store eller små verdier. Dette kan si oss noe om vi har mange unormale verdier eller om vi har noen få som vi kanskje kan fjerne ved nærmere statistisk analyse. Vi ser kun én uteligger hos Adelie-pingvinene, med unormalt dypt nebb.\n",
    "\n",
    "```{admonition} Underveisoppgave\n",
    ":class: tip\n",
    "Lag et boksplott over kroppsmasse som funksjon av øya pingvinene er funnet på. Identifiser eventuelle uteliggere.\n",
    "```\n",
    "\n",
    "````{admonition} Underveisoppgave\n",
    ":class: tip, dropdown\n",
    "```{code-block} Python\n",
    "sns.boxplot(data = pingvindata, x = \"island\", y = \"body_mass_g\")\n",
    "```\n",
    "````"
   ]
  },
  {
   "cell_type": "markdown",
   "metadata": {},
   "source": [
    "Et alternativ til boksplott er fiolinplott. Prinsippet er ganske likt som med boksplott, men det viser i tillegg fordelingen av de ulike verdiene ved å angi \"tynne\" og \"tykke\" områder. Medianen markeres med en hvit prikk, og IQR med en tykk, svart linje. Uteliggere markeres ofte ikke i fiolinplott."
   ]
  },
  {
   "cell_type": "code",
   "execution_count": 7,
   "metadata": {},
   "outputs": [
    {
     "data": {
      "text/plain": [
       "<AxesSubplot:xlabel='species', ylabel='bill_depth_mm'>"
      ]
     },
     "execution_count": 7,
     "metadata": {},
     "output_type": "execute_result"
    },
    {
     "data": {
      "image/png": "[encoded data removed]",
      "text/plain": [
       "<Figure size 432x288 with 1 Axes>"
      ]
     },
     "metadata": {
      "needs_background": "light"
     },
     "output_type": "display_data"
    }
   ],
   "source": [
    "sns.violinplot(data=pingvindata, x='species', y='bill_depth_mm')"
   ]
  },
  {
   "cell_type": "markdown",
   "metadata": {},
   "source": [
    "## Varians og standardavvik\n",
    "\n",
    "I motsetning til IQR, som tar utgangspunkt i medianen, tar varians og standardavvik utgangspunkt i gjennomsnittet. Varians ($\\sigma^2$) er et mål på variasjonen i et datasett og skrives ofte som $\\sigma^2$. Det er definert som den gjennomsnittlige kvadrerte avstanden til gjennomsnittet av variabelen:\n",
    "\n",
    "$\\sigma^2  = \\frac{1}{n-1}\\sum_{i=1}^n(x_i-\\bar{x})^2$\n",
    "\n",
    "Her er _n_ totalt antall målinger, $x_i$ er hver måleverdi og $\\bar{x}$ er gjennomsnittet av alle måleverdier.\n",
    "Egentlig bør vi jo dele på $n$ når vi skal finne gjennomsnittet av denne differansen. Men vi deler på $n - 1$ istedenfor $n$ fordi datasettet vårt inneholder et utvalg måledata fra en tenkt fullstendig populasjon. Når vi deler på $n - 1$ får vi en større varians enn når vi deler på $n$. En forklaring på dette er at dersom vi hadde samlet inn data fra hele populasjonen, eller gjort tusenvis av målinger av den samme parameteren, ville spredningen (variansen) av målingene vært litt mindre sammenliknet med når vi har færre datapunkter. Vi kaller derfor variansen som er definert ovenfor, for _empirisk varians_.\n",
    "\n",
    "Siden vi kvadrerer avstanden mellom verdier og gjennomsnittet når vi regner ut varians, blir ofte variansen svært stor. I tillegg får den kvadrerte enheter (som $g^2$ og $mm^2$, og det er vanskelig å sammenlikne den med måledataene. Derfor er det vanligere å bruke _standardavvik_ som et mål på spredning. Det er definert som den posive kvadratrota av variansen:\n",
    "\n",
    "$\\sigma  = \\sqrt{\\frac{1}{n}\\sum_{i=1}^n(x_i-\\bar{x})^2}$\n",
    "\n",
    "Vi kan enkelt finne variansen og standardavviket med Pandas:"
   ]
  },
  {
   "cell_type": "code",
   "execution_count": 108,
   "metadata": {},
   "outputs": [],
   "source": [
    "varians = pingvindata[\"bill_depth_mm\"].var()\n",
    "standardavvik = pingvindata[\"bill_depth_mm\"].std()"
   ]
  },
  {
   "cell_type": "markdown",
   "metadata": {},
   "source": [
    "```{admonition} Underveisoppgave\n",
    "Forklar hva varians og standardavvik er. Lag to Python-funksjoner som regner ut henholdsvis gjennomsnitt og standardavvik. Funksjonene skal gi samme svar som _std_- og _mean_-funksjonen i Pandas.\n",
    "```"
   ]
  },
  {
   "cell_type": "markdown",
   "metadata": {},
   "source": [
    "## Regresjon"
   ]
  }
 ],
 "metadata": {
  "kernelspec": {
   "display_name": "Python 3",
   "language": "python",
   "name": "python3"
  },
  "language_info": {
   "codemirror_mode": {
    "name": "ipython",
    "version": 3
   },
   "file_extension": ".py",
   "mimetype": "text/x-python",
   "name": "python",
   "nbconvert_exporter": "python",
   "pygments_lexer": "ipython3",
   "version": "3.8.5"
  }
 },
 "nbformat": 4,
 "nbformat_minor": 4
}
