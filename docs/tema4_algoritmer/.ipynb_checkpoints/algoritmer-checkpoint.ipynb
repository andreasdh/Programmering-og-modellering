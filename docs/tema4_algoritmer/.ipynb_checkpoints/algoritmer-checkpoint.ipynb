{
 "cells": [
  {
   "cell_type": "markdown",
   "metadata": {},
   "source": [
    "# Algoritmer\n",
    "\n",
    "Vi skal her se på noen klassiske matematiske algoritmer. Først og fremst skal vi forstå hvordan algoritmene fungerer og hva de har blitt brukt til historisk sett. Vi skal også prøve å programmere noen av algoritmene.\n",
    "\n",
    "## Algoritme 1: Primtall med Eratosthenes sil\n",
    "\n",
    "Eratosthenes sil er en metode for å finne primtall som ble utviklet av den greske matematikeren Eratosthenes i ca. 200 f. Kr. Metoden er enkel og systematisk, og derfor programmerbar. Metoden fungerer slik:\n",
    "\n",
    "1.\tLag ei liste av påfølgende heltall fra 2 til 100 med ti tall på hver rad (bortsett fra den første). Se tabellen nedenfor.\n",
    "2.\tLa p til å begynne med være lik 2, det første primtallet.\n",
    "3.\tStryk ut alle multipler av p som er større enn eller lik p2.\n",
    "4.\tFinn det første tallet større enn p som står igjen på lista. Dette tallet er det neste primtallet. Sett p lik dette tallet.\n",
    "5.\tGjenta trinn 3 og 4 inntil p2 er større enn 100.\n",
    "6.\tAlle gjenværende tall på listen er primtall!\n",
    "\n",
    "\n",
    "|           |           |           |           |           |           |           |           |           |            |\n",
    "|-----------|-----------|-----------|-----------|-----------|-----------|-----------|-----------|-----------|------------|\n",
    "|           |     2     |     3     |     4     |     5     |     6     |     7     |     8     |     9     |     10     |\n",
    "|     11    |     12    |     13    |     14    |     15    |     16    |     17    |     18    |     19    |     20     |\n",
    "|     21    |     22    |     23    |     24    |     25    |     26    |     27    |     28    |     29    |     30     |\n",
    "|     31    |     32    |     33    |     34    |     35    |     36    |     37    |     38    |     39    |     40     |\n",
    "|     41    |     42    |     43    |     44    |     45    |     46    |     47    |     48    |     49    |     50     |\n",
    "|     51    |     52    |     53    |     54    |     55    |     56    |     57    |     58    |     59    |     60     |\n",
    "|     61    |     62    |     63    |     64    |     65    |     66    |     67    |     68    |     69    |     70     |\n",
    "|     71    |     72    |     73    |     74    |     75    |     76    |     77    |     78    |     79    |     80     |\n",
    "|     81    |     82    |     83    |     84    |     85    |     86    |     87    |     88    |     89    |     90     |\n",
    "|     91    |     92    |     93    |     94    |     95    |     96    |     97    |     98    |     99    |     100    |\n",
    "\n",
    "__Oppgave:__\n",
    "\n",
    "Utfør [algoritmen for hånd](https://view.officeapps.live.com/op/view.aspx?src=https%3A%2F%2Fraw.githubusercontent.com%2Fandreasdh%2FProgrammering-og-modellering%2Fmaster%2Fdocs%2Ftema4_algoritmer%2FEratosthenes_ark.docx&wdOrigin=BROWSELINK). Å programmere algoritmen er litt ufordrendende, men du kan prøve på det når du er ferdig med å gjøre algoritmen for hånd.\n",
    "\n",
    "## Algoritme 2: Kvadratrøtter med gammel babylonsk algoritme\n",
    "\n",
    "Vi kan finne kvadratrota av et tall ved hjelp av en gammel babylonsk algoritme som er godt over 2000 år gammel. Metoden er slik:\n",
    "\n",
    "Gjør en kvalifisert gjetning på hva $\\sqrt{a}$ er, og kall gjetningen $x_0$. Gjenta følgende algoritme $n$ ganger:\n",
    "\n",
    "$x_{n+1} = \\frac{1}{2}\\left(x_n+\\frac{a}{x_n}\\right)$\n",
    "\n",
    "Test algoritmen på $\\sqrt{12} \\approx 3.46410161514$. Regn ut feilen for hver iterasjon (gjentakelse i løkka). Eksperimenter med algoritmen på andre tall."
   ]
  },
  {
   "cell_type": "markdown",
   "metadata": {},
   "source": [
    "## Algoritme 3: Tilnærming av pi med Monte Carlo-metoder\n",
    "\n",
    "Selv om $\\pi$ er et bestemt tall, kan vi faktisk tilnærme $\\pi$ med tilfeldige tall. Når vi bruker tilfeldige tall til å simulere ulike utfall, sier vi at vi bruker en _Monte Carlo-_ metode. En Monte Carlo-algoritme for å estimere pi baserer seg på følgende:\n",
    "\n",
    "1. $A=\\pi r^2$, så hvis $r = 1$, er $A = \\pi$.\n",
    "2. Lag et kvadrat med sidelengder = 2 og en innskrevet sirkel med radius = 1:\n",
    "\n",
    "<img src=\"https://www.uio.no/studier/emner/matnat/natfag/NAT3000/h21/ressurser/pi.png\" width=500 height=100% />\n",
    "\n",
    "\n",
    "3. Trekk N tilfeldige tall av et _x_-koordinat og et _y_-koordinat. \n",
    "4. Sjekk om $(x, y)$ ligger inni eller på sirkelen ($x^2+y^2\\leq 1$).\n",
    "5. Sett M lik antall punkter som treffer sirkelen.\n",
    "6. Nå er $\\pi = A_{sirkel} = A_{kvadrat} \\cdot \\frac{M}{N}$\n",
    "7. Beregn $\\pi$ og regn avviket fra den «eksakte» verdien."
   ]
  },
  {
   "cell_type": "code",
   "execution_count": null,
   "metadata": {},
   "outputs": [],
   "source": []
  }
 ],
 "metadata": {
  "kernelspec": {
   "display_name": "Python 3",
   "language": "python",
   "name": "python3"
  },
  "language_info": {
   "codemirror_mode": {
    "name": "ipython",
    "version": 3
   },
   "file_extension": ".py",
   "mimetype": "text/x-python",
   "name": "python",
   "nbconvert_exporter": "python",
   "pygments_lexer": "ipython3",
   "version": "3.8.5"
  }
 },
 "nbformat": 4,
 "nbformat_minor": 5
}
