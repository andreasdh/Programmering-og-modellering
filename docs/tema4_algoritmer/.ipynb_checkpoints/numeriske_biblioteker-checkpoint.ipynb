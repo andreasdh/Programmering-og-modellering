{
 "cells": [
  {
   "cell_type": "markdown",
   "metadata": {},
   "source": [
    "# Numeriske biblioteker"
   ]
  },
  {
   "cell_type": "markdown",
   "metadata": {},
   "source": [
    "## 1. Løse likninger"
   ]
  },
  {
   "cell_type": "code",
   "execution_count": 19,
   "metadata": {},
   "outputs": [
    {
     "name": "stdout",
     "output_type": "stream",
     "text": [
      "      converged: True\n",
      "           flag: 'converged'\n",
      " function_calls: 44\n",
      "     iterations: 42\n",
      "           root: 1.9999999999993179\n",
      "-----------------------------------------\n",
      "      converged: True\n",
      "           flag: 'converged'\n",
      " function_calls: 14\n",
      "     iterations: 7\n",
      "           root: 2.0\n"
     ]
    }
   ],
   "source": [
    "from scipy.optimize import root_scalar\n",
    "\n",
    "def f(x):\n",
    "    return x**2 - 4\n",
    "\n",
    "def dfder(x):\n",
    "    return 2*x\n",
    "\n",
    "# Halveringsmetoden\n",
    "nullpunkt_halvering = root_scalar(f,method=\"bisect\",bracket=[0,5])\n",
    "nullpunkt_newton = root_scalar(f,method=\"newton\",fprime=dfder,x0=10)\n",
    "print(nullpunkt_halvering)\n",
    "print(\"-----------------------------------------\")\n",
    "print(nullpunkt_newton)"
   ]
  },
  {
   "cell_type": "markdown",
   "metadata": {},
   "source": [
    "## 2. Derivere"
   ]
  },
  {
   "cell_type": "code",
   "execution_count": 20,
   "metadata": {},
   "outputs": [
    {
     "name": "stdout",
     "output_type": "stream",
     "text": [
      "2.0\n"
     ]
    }
   ],
   "source": [
    "from scipy.misc import derivative\n",
    "import numpy as np\n",
    "\n",
    "derivert = derivative(f, 1)\n",
    "print(derivert)"
   ]
  },
  {
   "cell_type": "markdown",
   "metadata": {},
   "source": [
    "## 3. Integrere"
   ]
  },
  {
   "cell_type": "code",
   "execution_count": 21,
   "metadata": {},
   "outputs": [
    {
     "name": "stdout",
     "output_type": "stream",
     "text": [
      "-5.333331997329328\n",
      "-5.333333331995993\n"
     ]
    }
   ],
   "source": [
    "from scipy import integrate\n",
    "\n",
    "x = np.linspace(0,2,1000)\n",
    "y = f(x)\n",
    "\n",
    "trapes = integrate.trapz(y,x)\n",
    "print(trapes)\n",
    "\n",
    "simpsons = integrate.simps(y,x)\n",
    "print(simpsons)"
   ]
  },
  {
   "cell_type": "markdown",
   "metadata": {},
   "source": [
    "## 4. Løse difflikninger"
   ]
  },
  {
   "cell_type": "code",
   "execution_count": 22,
   "metadata": {},
   "outputs": [
    {
     "data": {
      "image/png": "[encoded data removed]",
      "text/plain": [
       "<Figure size 432x288 with 1 Axes>"
      ]
     },
     "metadata": {
      "needs_background": "light"
     },
     "output_type": "display_data"
    }
   ],
   "source": [
    "import numpy as np\n",
    "import matplotlib.pyplot as plt\n",
    "from scipy.integrate import solve_ivp\n",
    "\n",
    "def dy_dt(t, y):\n",
    "    return t - y\n",
    "\n",
    "a = 0\n",
    "b = 4\n",
    "t = np.linspace(a,b,1000)\n",
    "y0 = 1\n",
    "y_int = solve_ivp(dy_dt, [a,b], [1], t_eval=t)\n",
    "\n",
    "plt.xlabel(\"t\")\n",
    "plt.ylabel(\"y\")\n",
    "plt.plot(y_int.t, y_int.y[0])\n",
    "\n",
    "plt.show()"
   ]
  },
  {
   "cell_type": "markdown",
   "metadata": {},
   "source": [
    "## Multippel integrasjon** (for spesielt interesserte)\n",
    "\n",
    "Vi løser følgende multiple integraler:\n",
    "$$\\int_0^{\\frac{\\pi}{2}} \\int_{-1}^1  x \\sin(y) - y e^x \\ dx dy$$\n",
    "$$\\int_0^{3} \\int_{0}^2  \\int_{0}^1 xyz \\ dx dy dz$$"
   ]
  },
  {
   "cell_type": "code",
   "execution_count": 23,
   "metadata": {},
   "outputs": [
    {
     "name": "stdout",
     "output_type": "stream",
     "text": [
      "Numerisk verdi av dobbeltintegralet: -2.899692718238082\n",
      "Analytisk verdi av dobbeltintegralet: -2.8996927182380823\n",
      "Numerisk verdi av trippelintegralet: 4.5\n",
      "Analytisk verdi av trippelintegralet: 4.5\n"
     ]
    }
   ],
   "source": [
    "from scipy import integrate\n",
    "import numpy as np\n",
    "\n",
    "def f(y,x):\n",
    "    return x*np.sin(y) - y*np.exp(x)\n",
    "\n",
    "def g(z, y, x):\n",
    "    return x*y*z\n",
    "\n",
    "numerisk_dobbel = integrate.dblquad(f, -1, 1, 0, np.pi/2)\n",
    "numerisk_trippel = integrate.tplquad(g, 0, 1, 0, 2, 0, 3)\n",
    "\n",
    "analytisk_dobbel = np.pi**2/8 * (1/np.exp(1)-np.exp(1))\n",
    "analytisk_trippel = 9/2\n",
    "print(f'Numerisk verdi av dobbeltintegralet: {numerisk_dobbel[0]}')\n",
    "print(f'Analytisk verdi av dobbeltintegralet: {analytisk_dobbel}')\n",
    "\n",
    "print(f'Numerisk verdi av trippelintegralet: {numerisk_trippel[0]}')\n",
    "print(f'Analytisk verdi av trippelintegralet: {analytisk_trippel}')"
   ]
  }
 ],
 "metadata": {
  "kernelspec": {
   "display_name": "Python 3",
   "language": "python",
   "name": "python3"
  },
  "language_info": {
   "codemirror_mode": {
    "name": "ipython",
    "version": 3
   },
   "file_extension": ".py",
   "mimetype": "text/x-python",
   "name": "python",
   "nbconvert_exporter": "python",
   "pygments_lexer": "ipython3",
   "version": "3.8.5"
  }
 },
 "nbformat": 4,
 "nbformat_minor": 4
}
