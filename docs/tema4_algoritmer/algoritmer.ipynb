{
 "cells": [
  {
   "cell_type": "markdown",
   "id": "436d0a0d",
   "metadata": {},
   "source": [
    "# Algoritmer\n",
    "\n",
    "## Eratosthenes sil\n",
    "\n",
    "Vi kan finne primtall fra ei liste ved hjelp av følgende algoritme:\n",
    "1.\tLag ei liste av påfølgende heltall fra 2 til 100 med ti tall på hver rad (bortsett fra den første). Se tabellen nedenfor.\n",
    "2.\tLa p til å begynne med være lik 2, det første primtallet.\n",
    "3.\tStryk ut alle multipler av p som er større enn eller lik p2.\n",
    "4.\tFinn det første tallet større enn p som står igjen på lista. Dette tallet er det neste primtallet. Sett p lik dette tallet.\n",
    "5.\tGjenta trinn 3 og 4 inntil p2 er større enn 100.\n",
    "6.\tAlle gjenværende tall på listen er primtall!\n",
    "\n",
    "\n",
    "|           |           |           |           |           |           |           |           |           |            |\n",
    "|-----------|-----------|-----------|-----------|-----------|-----------|-----------|-----------|-----------|------------|\n",
    "|           |     2     |     3     |     4     |     5     |     6     |     7     |     8     |     9     |     10     |\n",
    "|     11    |     12    |     13    |     14    |     15    |     16    |     17    |     18    |     19    |     20     |\n",
    "|     21    |     22    |     23    |     24    |     25    |     26    |     27    |     28    |     29    |     30     |\n",
    "|     31    |     32    |     33    |     34    |     35    |     36    |     37    |     38    |     39    |     40     |\n",
    "|     41    |     42    |     43    |     44    |     45    |     46    |     47    |     48    |     49    |     50     |\n",
    "|     51    |     52    |     53    |     54    |     55    |     56    |     57    |     58    |     59    |     60     |\n",
    "|     61    |     62    |     63    |     64    |     65    |     66    |     67    |     68    |     69    |     70     |\n",
    "|     71    |     72    |     73    |     74    |     75    |     76    |     77    |     78    |     79    |     80     |\n",
    "|     81    |     82    |     83    |     84    |     85    |     86    |     87    |     88    |     89    |     90     |\n",
    "|     91    |     92    |     93    |     94    |     95    |     96    |     97    |     98    |     99    |     100    |\n",
    "\n",
    "## Kvadratrøtter\n",
    "\n",
    "Vi kan finne kvadratrota til et tall ved hjelp av følgende algoritme:\n",
    "\n",
    "Gjør en kvalifisert gjetning på hva $\\sqrt{a}$ er, og kall gjetningen $x_0$. Gjenta følgende algoritme $n$ ganger:\n",
    "\n",
    "$x_{n+1} = \\frac{1}{2}\\left(x_n+\\frac{a}{x_n}\\right)$\n",
    "\n",
    "Test algoritmen på $\\sqrt{12} \\approx 3.46410161514$. Regn ut feilen for hver iterasjon (gjentakelse i løkka).\n"
   ]
  },
  {
   "cell_type": "markdown",
   "id": "a7720424",
   "metadata": {},
   "source": [
    "## Tilnærming av pi\n",
    "\n",
    "Vi kan faktisk tilnærme $\\pi$ med tilfeldige tall. En algoritme for dette baserer seg på følgende:\n",
    "\n",
    "1. $A=\\pi r^2$, så hvis $r = 1$, er $A = \\pi$.\n",
    "2. Lag et kvadrat med sidelengder = 2 og en innskrevet sirkel med radius = 1:\n",
    "\n",
    "<img src=\"https://www.uio.no/studier/emner/matnat/natfag/NAT3000/h21/ressurser/pi.png\" width=600 height=600 />\n",
    "\n",
    "\n",
    "3. Trekk N tilfeldige tall av et _x_-koordinat og et _y_-koordinat. \n",
    "4. Sjekk om $(x, y)$ ligger inni eller på sirkelen ($x^2+y^2\\leq 1$).\n",
    "5. Sett M lik antall punkter som treffer sirkelen.\n",
    "6. Nå er $\\pi = A_{sirkel} = A_{kvadrat} \\cdot \\frac{M}{N}$\n",
    "7. Beregn $\\pi$ og regn avviket fra den «eksakte» verdien."
   ]
  }
 ],
 "metadata": {
  "kernelspec": {
   "display_name": "Python 3 (ipykernel)",
   "language": "python",
   "name": "python3"
  },
  "language_info": {
   "codemirror_mode": {
    "name": "ipython",
    "version": 3
   },
   "file_extension": ".py",
   "mimetype": "text/x-python",
   "name": "python",
   "nbconvert_exporter": "python",
   "pygments_lexer": "ipython3",
   "version": "3.8.10"
  }
 },
 "nbformat": 4,
 "nbformat_minor": 5
}
