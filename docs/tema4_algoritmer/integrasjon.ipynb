{
 "cells": [
  {
   "cell_type": "markdown",
   "metadata": {},
   "source": [
    "# Integrasjon\n",
    "\n",
    "```{admonition} Læringsutbytte\n",
    "Etter å ha arbeidet med dette temaet, skal du kunne:\n",
    "1. Forklare forskjellen på ulike tilnærminger til rektangelmetoden (venstre-, høyre- og midtpunktstilnærming).\n",
    "2. Forklare og utlede trapesmetoden.\n",
    "3. Implementere rektangelmetoden og trapesmetoden.\n",
    "4. Integrere funksjoner numerisk.\n",
    "```\n",
    "\n",
    "## Integrasjon\n",
    "Du kjenner kanskje integrasjon som en metode å regne ut arealet under en graf eller volumet til legemer på. I tillegg kjenner du antakelig til integrasjon som den motsatte operasjonen av derivasjon. At derivasjon og integrasjon er motsatte operasjoner, er bevist gjennom _analysens fundamentalteorem_. Termen _analyse_ brukes her om den greinen av matematikk som omhandler derivasjon og integrasjon (_kalkulus_). Siden datamaskinen kun kan operere med bestemte verdier, kan vi med numeriske algoritmer kun tilnærme _det bestemte integralet_. Vi antideriverer derfor ikke her.\n",
    "\n",
    "\n",
    "## Rektangelmetoden\n",
    "\n",
    "Vi kan enklest gjøre en tilnærming til det bestemte integralet ved å utnytte at det kan skrives som en grenseverdi av Riemann-summer. En Riemann-sum kan beskrives som en tilnærming til arealet under en graf ved hjelp av arealet til geometriske figurer. En vanlig tilnærming er å bruke rektangler:\n",
    "\n",
    "<img src=\"https://github.com/andreasdh/programmering-i-kjemi/blob/master/docs/bilder/rektangel10_utentall.png?raw=true\" width=\"500\"/>\n",
    "\n",
    "Her benyttes $N = 10$ rektangler for å tilnærme integralet av $f(x) = \\cos{(x)} +2$ for $x\\in[2,12]$. Bredden av rektanglene må være $(b-a)/N = (12-2)/10 = 1$. Vi ser også at høyden av hvert rektangel er $f(x_n)$ der $n\\in[2,11]$, det vil si at vi lar venstresiden av rektangelet gå opp til grafen. Dersom vi regner ut arealet til hver av disse rektanglene, får vi 18.046675645664006, noe som ligger et lite stykke unna den analytiske verdien ($(\\sin{(12)} + 2\\cdot 12)-(\\sin{(2)} + 2\\cdot 2) \\approx 18.554129655173885$. Dersom vi øker antall rektangler, her til 50, får vi naturlig nok et bedre estimat (her har vi inkludert resultatene i figuren):\n",
    "\n",
    "<img src=\"https://github.com/andreasdh/programmering-i-kjemi/blob/master/docs/bilder/rektangel_n=50.png?raw=true\" width=\"500\"/>\n",
    "\n",
    "Det er åpenbart, spesielt i den første figuren, at flere områder av rektanglene ligger utenfor grafen. De ligger både for langt over og under grafen flere steder. Men feilen blir ikke så stor som det kan se ut som fordi vi nettopp har områder både over og under grafen. Relativ feil er her ca. 2.7 \\% med 10 rektangler og 0.65 \\% med 50 rektangler. \n",
    "\n",
    "La oss illustrere feilen vi får med en lineær funksjon, $f(x) = 10x$:\n",
    "\n",
    "<img src=\"https://github.com/andreasdh/programmering-i-kjemi/blob/master/docs/bilder/rektangel_venstre_n=10.png?raw=true\" width=\"500\"/>\n",
    "\n",
    "Vi har i disse modellene målt rektangelhøyden på venstre ytterkant av rektangelet. Dette gir oss her en underestimering av integralet for hvert rektangel. Vi kan også måle høyden av rektanglene på høyre ytterkant. Da får vi en tilsvarende overestimering:\n",
    "\n",
    "<img src=\"https://github.com/andreasdh/programmering-i-kjemi/blob/master/docs/bilder/rektangel_h%C3%B8yre_n=10.png?raw=true\" width=\"500\"/>"
   ]
  },
  {
   "cell_type": "markdown",
   "metadata": {},
   "source": [
    "Vi ser her at vi får en stor underestimering med venstretilnærmingen og en stor overestimering med høyretilnærmingen, med en relativ feil på ca. 7.1 \\%. Det samme skjer for alle funksjoner i intervaller som er enten voksende eller synkende i hele intervallet. En måte å kompensere for dette, er å benytte høyden til rektangelet i midten istedenfor i endepunktet til venstre eller høyre:\n",
    "\n",
    "<img src=\"https://github.com/andreasdh/programmering-i-kjemi/blob/master/docs/bilder/rektangel_midt_n=10.png?raw=true\" width=\"500\"/>\n",
    "\n",
    "Det aller beste resultatet får vi altså med denne _midtpunktstilnærmingen_. For lineære funksjoner vil vi få en eksakt verdi (selv med ett rektangel!) fordi rektanglene er like store over og under grafen. Men midtpunktstilnærmingen er generelt bedre også på for eksempel polynomer av høyere grad og trigonometriske funksjoner. La oss nå se på implementering av metodene."
   ]
  },
  {
   "cell_type": "markdown",
   "metadata": {},
   "source": [
    "## Implementering av rektangelmetodene\n",
    "\n",
    "```{admonition} Rektangelmetoden (venstretilnærming)\n",
    "Det bestemte integralet til en funksjon $f(x)$ fra $x = a$ til $x = b$ kan tilnærmes ved arealet til $n$ rektangler med bredden $h = \\frac{b-a}{n}$:\n",
    "\n",
    "$$\\int_a^b f(x) \\ \\mathrm{d}x \\approx h \\sum_{k=1}^{n} f(x_k)$$\n",
    "```\n",
    "\n",
    "```{admonition} Underveisoppgave\n",
    ":class: tip\n",
    "Programmet nedenfor gir en funksjon som bruker venstretilnærmingen av rektangelmetoden til å beregne det bestemte integralet av en funksjon _f_ mellom _a_ og _b_. Fyll inn det som mangler i metoden.\n",
    "```\n",
    "\n",
    "<iframe src=\"https://trinket.io/embed/python3/9513da280a\" width=\"100%\" height=\"300\" frameborder=\"0\" marginwidth=\"0\" marginheight=\"0\" allowfullscreen></iframe>\n",
    "\n",
    "````{admonition} Løsningsforslag\n",
    ":class: tip, dropdown\n",
    "```{code-block} Python\n",
    "def f(x):\t\t\t\t#Definerer en funksjon som vi skal integrere.\n",
    "    return x**3\n",
    "    \n",
    "def f_analytisk(x):     #Definerer analytisk verdi for sammenlikning.\n",
    "    return (1/4)*x**4\n",
    "\n",
    "def rektangelmetoden(f, a, b, n):\n",
    "    A = 0.0\t\t\t\t\t\t\t   \n",
    "    h = (b-a)/n\t\t\t#Bredden til rektanglene\n",
    "    for k in range (n):\t\n",
    "        A = A + f(a + k*h)*h\n",
    "    return A\n",
    "    \n",
    "print(\"Numerisk verdi:\", rektangelmetoden(f, 0, 5, 1000))\n",
    "print(\"Analytisk verdi:\", f_analytisk(5)-f_analytisk(1))\n",
    "```\n",
    "````\n",
    "\n",
    "Tilsvarende kan vi beskrive høyretilnærmingen slik:\n",
    "\n",
    "```{admonition} Rektangelmetoden (høyretilnærming)\n",
    "Det bestemte integralet til en funksjon $f(x)$ fra $x = a$ til $x = b$ kan tilnærmes ved arealet til $n$ rektangler med bredden $h = \\frac{b-a}{n}$:\n",
    "\n",
    "$$\\int_a^b f(x) \\ \\mathrm{d}x \\approx h \\sum_{k=1}^{n} f(x_{k+1})$$\n",
    "```\n",
    "\n",
    "```{admonition} Underveisoppgave\n",
    ":class: tip\n",
    "Implementer algoritmen for høyretilnærmingen som en Python-funksjon. Test og sammenlikn med venstretilnærmingen på integralet $\\int_2^8 f(x) = x^2 - 2x + 4 \\ dx$.        \n",
    "```\n",
    "\n",
    "````{admonition} Løsningsforslag\n",
    ":class: tip, dropdown\n",
    "```{code-block} Python\n",
    "def rektangelmetoden_høyre(f, a, b, n):\n",
    "    A = 0.0\t\t\t\t\t\t\t   \n",
    "    h = (b-a)/n\n",
    "    for k in range (n-1):\t\n",
    "        A = A + f(a + (k+1)*h)*h\n",
    "    return A\n",
    "```\n",
    "````\n",
    "\n",
    "Den beste tilnærmingen med rektangler får vi med midtpunktstilnærmingen:\n",
    "\n",
    "```{admonition} Rektangelmetoden (midtpunktstilnærming)\n",
    "Det bestemte integralet til en funksjon $f(x)$ fra $x = a$ til $x = b$ kan tilnærmes ved arealet til $n$ rektangler med bredden $h = \\frac{b-a}{n}$:\n",
    "\n",
    "$$\\int_a^b f(x) \\ \\mathrm{d}x \\approx h \\sum_{k=1}^{n} f(x_{k+1})$$\n",
    "```\n",
    "\n",
    "```{admonition} Underveisoppgave\n",
    ":class: tip\n",
    "Implementer algoritmen for høyretilnærmingen som en Python-funksjon. Test og sammenlikn med venstretilnærmingen på integralet $\\int_2^8 f(x) = x^2 - 2x + 4 \\ dx$.        \n",
    "```\n",
    "\n",
    "````{admonition} Løsningsforslag\n",
    ":class: tip, dropdown\n",
    "```{code-block} Python\n",
    "def rektangelmetoden_midt(f, a, b, n):\n",
    "    A = 0.0\t\t\t\t\t\t\t   \n",
    "    h = (b-a)/n\n",
    "    for k in range (n):\t\n",
    "        A = A + f(a + (1+2*k)*(h/2))*h\n",
    "    return A\n",
    "```\n",
    "````\n",
    "\n",
    "Dersom vi har funksjoner med stor stor stigning eller minking ($|f'(x) >> 0|$), trenger vi mange rektangler for å få et godt resultat. Dette kan gi langsomme programmer dersom integrasjonen må gjentas flere ganger. Vi skal derfor nå se på noen forbedringer av rektangelmetoden."
   ]
  },
  {
   "cell_type": "markdown",
   "metadata": {},
   "source": [
    "## Trapesmetoden\n",
    "\n",
    "Vi kan legge merke til at toppstykket i et rektangel er ei rett, horisontal linje. Ei slik linje kan representeres som et polynom av nullte grad, $f(x) = ax^0 = a$, der $a$ er et reellt tall. La oss se på mulighetene for å bytte ut dette toppstykket med et polynom av første grad, $f(x) = ax^1 = ax$. Da får vi \\textit{trapeser} istedenfor rektangler. En algoritme for dette er litt mindre intuitiv og litt mer jobb å utlede, men vi spanderer på oss det. La oss ta utgangspunktet i trapesmetoden illustrert med ett trapes i intervallet $[a, b] = [2, 12]$ på $f(x) = cos(x) + 2$:\n",
    "\n",
    "<img src=\"https://github.com/andreasdh/programmering-i-kjemi/blob/master/docs/bilder/trapes_n=1.png?raw=true\" width=\"500\"/>\n",
    "\n",
    "La oss utlede en algoritme for trapesmetoden. Vi tar utgangspunkt i at arealet av et trapes er gitt ved følgende formel:\n",
    "\n",
    "$$A_{trapes} = \\frac{side 1+side 2}{2}\\cdot h$$\n",
    "\n",
    "De to sidene $x_1$ og $x_2$ er gitt ved henholdsvis $f(a)$ og $f(b)$. Høyden i trapeset blir stykket langs hele x-aksen, altså $b-a$. Arealet blir derfor:\n",
    "\n",
    "$$A = \\frac{f(a) + f(b)}{2}\\cdot(b-a)$$\n",
    "\n",
    "La oss nå utvide til $n$ trapeser. Da blir høyden av hvert trapes $h = (x_1+x_2)/n$, noe som gir dette arealet for hvert $i$-te trapes:\n",
    "\n",
    "$$A_i = \\frac{f(x_i) + f(x_i)}{2}\\cdot h$$\n",
    "\n",
    "Summen blir da slik for $n$ trapeser:\n",
    "\n",
    "$$\\frac{f(a)+f(a+h)}{2}h + \\frac{f(a+h)+f(a+2h)}{2}h + \\frac{f(a+2h)+f(a+3h)}{2}h + ... + \\frac{f(a+ih)+f(b)}{2}h$$\n",
    "\n",
    "Vi multipliserer så alle ledd med $h$ og dividerer dem på 2. Dette setter vi utenfor uttrykket:\n",
    "\n",
    "$$\\frac{h}{2}\\cdot (f(a)+f(a+h)+f(a+h)+f(a+2h)+f(a+2h)+ ... + f(a+ih) + f(b))$$\n",
    "\n",
    "Trekker vi sammen like ledd, får vi:\n",
    "\n",
    "$$\\frac{h}{2}\\cdot (f(a)+2f(a+h)+2f(a+2h)+2f(a+3h)+ ... + 2f(a+ih) + f(b))$$\n",
    "\n",
    "Siden det bare er $f(a)$ og $f(b)$ som ikke er multiplisert med 2, kan vi forenkle:\n",
    "\n",
    "$$h\\left(\\frac{f(a)+f(b)}{2} + (f(a+h)+f(a+2h)+f(a+3h)+ ... + f(a+ih))\\right)$$\n",
    "\n",
    "Den siste samlingen av ledd kan vi skrive som en sum. Da får vi trapesmetoden:\n",
    "\n",
    "\n",
    "```{admonition} Trapesmetoden\n",
    "Det bestemte integralet til en funksjon $f(x)$ fra $x = a$ til $x = b$ kan tilnærmes ved arealet til $n$ trapeser med bredden $h = \\frac{b-a}{n}$:\n",
    "\n",
    "$$\\int_a^b f(x) dx \\approx h\\left( \\frac{f(a)+f(b)}{2} + \\sum_{i=1}^{n-1} f(x_i) \\right)$$\n",
    "```\n",
    "\n",
    "```{admonition} Underveisoppgave\n",
    ":class: tip\n",
    "Implementer trapesmetoden og test den på funksjonene $f(x) = x^3 + 2x$ og $f(x) = \\sqrt(x)$ i intervallet $[2,4]$. Sammenlikn med resultatene du får fra rektangelmetoden (gjerne flere av dem!) med samme antall geometriske figurer.       \n",
    "```\n",
    "\n",
    "````{admonition} Løsningsforslag\n",
    ":class: tip, dropdown\n",
    "```{code-block} Python\n",
    "def trapesmetoden(f, a, b, n):\n",
    "    h = (b-a)/n\n",
    "    A = (f(a) + f(b))/2.0\n",
    "    for k in range(1, n):\n",
    "        A = A + f(a + k*h)\n",
    "    return A*h\n",
    "```\n",
    "````\n",
    "\n",
    "Dersom vi øker antallet trapeser, blir naturlig nok også tilnærmingen bedre, som vi kan se av denne figuren:\n",
    "\n",
    "<img src=\"https://github.com/andreasdh/programmering-i-kjemi/blob/master/docs/bilder/trapes10.png?raw=true\" width=\"500\"/>"
   ]
  },
  {
   "cell_type": "markdown",
   "metadata": {},
   "source": [
    "## Simpsons metode\n",
    "Vi har nå sett på to tilnærminger til integralet som bruker henholdsvis nullte- og førstegradspolynomer som toppstykke på de geometriske figurene som vi beregner arealet av. For å få en enda bedre tilnærming, spesielt til oscillerende funksjoner, kan vi bruke et toppstykke av et polynom med høyere grad enn 1. Alle disse metodene kan utledes ved hjelp av interpolasjon, men vi skal ikke gjøre det her. Her nøyer vi oss med å vise og implementere algoritmen for tredjegradstilnærmingen. Denne algoritmen kalles _Simpsons metode_:\n",
    "\n",
    "```{admonition} Trapesmetoden\n",
    "Det bestemte integralet til en funksjon $f(x)$ fra $x = a$ til $x = b$ kan tilnærmes med $n$ geometriske figurer, der $n$ er et partall:\n",
    "\n",
    "$$\\int_a^b f(x) dx \\approx \\frac{h}{3} \\left( f(a) + f(b) + 2\\sum_{k = 1}^{\\frac{n}{2} - 1} f(x_{2k}) + 4\\sum_{k=1}^{\\frac{n}{2}} f(x_{2k-1}) \\right)$$\n",
    "```\n",
    "\n",
    "Metoden kan implementeres slik:"
   ]
  },
  {
   "cell_type": "code",
   "execution_count": 2,
   "metadata": {},
   "outputs": [],
   "source": [
    "def simpsons(f, a, b, n):\n",
    "    h = (b-a)/n\n",
    "    total = f(a) + f(b)\n",
    "    for k in range(1,n,2):\n",
    "        A += 4 * f(a + k*h)\n",
    "    for k in range(2,n,2):\n",
    "        A += 2*f(a + k*h)\n",
    "    return A*h/3"
   ]
  },
  {
   "cell_type": "markdown",
   "metadata": {},
   "source": [
    "```{admonition} Oppgave\n",
    ":class: tip\n",
    "Studer koden ovenfor og prøv å finne igjen leddene i definisjonen av Simpsons metode.\n",
    "```\n",
    "\n",
    "Metodene vi har sett på, bygger på samme prinsipp, nemlig tilnærming av arealet under grafen ved hjelp av geometriske figurer med rektangelbase og et polynom av grad $n$ som toppstykke. Siden prinsippet er det samme, kaller vi dem en _familie_ av metoder (hyggelig, ikke sant?). Denne familien heter _Newton-Cotes_. Det vil si at for eksempel trapesregelen kalles en Newton-Cotes-metode av første grad, mens Simpsons metode er en Newton-Cotes-metode av andre grad. Det finnes mange andre metoder og familier innenfor numerisk integrasjon, men disse lar vi ligge foreløpig."
   ]
  },
  {
   "cell_type": "markdown",
   "metadata": {},
   "source": [
    "## Bruk av biblioteker for å integrere\n",
    "Vi vender tilbake til scipy-biblioteket, som også inneholder metoder for numerisk integrasjon. Vi kan bruke biblioteket slik:"
   ]
  },
  {
   "cell_type": "code",
   "execution_count": 3,
   "metadata": {},
   "outputs": [
    {
     "name": "stdout",
     "output_type": "stream",
     "text": [
      "Trapesmetoden: 151.2501565629694\n",
      "Simpsons metode: 151.25000015671972\n",
      "Gauss kvadratur: (151.25, 1.6959623319719519e-12)\n"
     ]
    }
   ],
   "source": [
    "from scipy import integrate\n",
    "import numpy as np\n",
    "\n",
    "def f(x):\n",
    "    return x**3 - 1\n",
    "\n",
    "n = 1000\n",
    "x = np.linspace(0,5,n)\n",
    "y = f(x)\n",
    "\n",
    "# Integrasjon\n",
    "trapes = integrate.trapz(y,x) # Trenger arrayer som parameter\n",
    "simpsons = integrate.simps(y,x) # Trenger arrayer som parameter\n",
    "gauss_kvadratur = integrate.quad(f,0,5) # Trenger funksjon som parameter\n",
    "print(\"Trapesmetoden:\",trapes)\n",
    "print(\"Simpsons metode:\",simpsons)\n",
    "print(\"Gauss kvadratur:\",gauss_kvadratur) #Skriver ut svar og absolutt feil med Gauss kvadratur, en metode vi ikke har sett på"
   ]
  },
  {
   "cell_type": "markdown",
   "metadata": {},
   "source": [
    "```{admonition} Underveisoppgave\n",
    ":class: tip\n",
    "Studer koden ovenfor. Hvordan fungerer de ulike funksjonene? Test gjerne ut funksjonene selv.\n",
    "```\n",
    "\n",
    "### Multippel integrasjon\n",
    "Multippel integrasjon kan også gjennomføres med scipy-biblioteket. La oss prøve å løse følgende integraler med funksjonene _dblquad_ og _tplquad_:\n",
    "\n",
    "$$\\int_0^{\\frac{\\pi}{2}} \\int_{-1}^1  x \\sin(y) - y e^x \\ dx dy$$\n",
    "\n",
    "$$\\int_0^{3} \\int_{0}^2  \\int_{0}^1 xyz \\ dx dy dz$$"
   ]
  },
  {
   "cell_type": "code",
   "execution_count": 4,
   "metadata": {},
   "outputs": [
    {
     "name": "stdout",
     "output_type": "stream",
     "text": [
      "Numerisk verdi av dobbeltintegralet: -2.899692718238082\n",
      "Analytisk verdi av dobbeltintegralet: -2.8996927182380823\n",
      "Numerisk verdi av trippelintegralet: 4.5\n",
      "Analytisk verdi av trippelintegralet: 4.5\n"
     ]
    }
   ],
   "source": [
    "from scipy import integrate\n",
    "import numpy as np\n",
    "\n",
    "def f(y,x):\n",
    "    return x*np.sin(y) - y*np.exp(x)\n",
    "\n",
    "def g(z, y, x):\n",
    "    return x*y*z\n",
    "\n",
    "numerisk_dobbel = integrate.dblquad(f, -1, 1, 0, np.pi/2)\n",
    "numerisk_trippel = integrate.tplquad(g, 0, 1, 0, 2, 0, 3)\n",
    "\n",
    "analytisk_dobbel = np.pi**2/8 * (1/np.exp(1)-np.exp(1))\n",
    "analytisk_trippel = 9/2\n",
    "print(f'Numerisk verdi av dobbeltintegralet: {numerisk_dobbel[0]}')\n",
    "print(f'Analytisk verdi av dobbeltintegralet: {analytisk_dobbel}')\n",
    "\n",
    "print(f'Numerisk verdi av trippelintegralet: {numerisk_trippel[0]}')\n",
    "print(f'Analytisk verdi av trippelintegralet: {analytisk_trippel}')"
   ]
  },
  {
   "cell_type": "markdown",
   "metadata": {},
   "source": [
    "## Oppgaver\n",
    "\n",
    "```{admonition} Oppgave 1\n",
    ":class: tip\n",
    "Løs puslespillet nedenfor. Programmet skal definere rektangelmetoden som en Python-funksjon.\n",
    "```"
   ]
  },
  {
   "cell_type": "code",
   "execution_count": 7,
   "metadata": {
    "tags": [
     "remove-input"
    ]
   },
   "outputs": [
    {
     "data": {
      "text/html": [
       "\n",
       "        <iframe\n",
       "            width=\"1000\"\n",
       "            height=\"550\"\n",
       "            src=\"https://parsons.herokuapp.com/puzzle/e6f9400da6d54c1389d6a1f7489eca36\"\n",
       "            frameborder=\"0\"\n",
       "            allowfullscreen\n",
       "        ></iframe>\n",
       "        "
      ],
      "text/plain": [
       "<IPython.lib.display.IFrame at 0x243c43bcd60>"
      ]
     },
     "execution_count": 7,
     "metadata": {},
     "output_type": "execute_result"
    }
   ],
   "source": [
    "from IPython.display import IFrame\n",
    "IFrame('https://parsons.herokuapp.com/puzzle/e6f9400da6d54c1389d6a1f7489eca36', width=1000, height=550)"
   ]
  },
  {
   "cell_type": "markdown",
   "metadata": {},
   "source": [
    "\n",
    "\n",
    "```{admonition} Oppgave 2\n",
    ":class: tip\n",
    "Implementer algoritmen for rektangelmetoden som en Python-funksjon. Test metoden på integralet \n",
    "\n",
    "$$\\int_2^8 f(x) = x^2 - 2x + 4 \\ dx$$\n",
    "```\n",
    "\n",
    "```{admonition} Oppgave 3\n",
    ":class: tip\n",
    "Implementer trapesmetoden og ulike tilnærmnger for rektangelmetoden som Python-funksjoner. Gjør en feilanalyse av metodene og sammenlikn svarene du får på integralet\n",
    "\n",
    "$$\\int_2^8 f(x) = x^2 - 2x + 4 \\ dx$$\n",
    "```\n",
    "\n",
    "```{admonition} Oppgave 4\n",
    ":class: tip\n",
    "Utled rektangelmetoden ved hjelp av definisjonen av integralet og en figur.\n",
    "```\n",
    "\n",
    "```{admonition} Oppgave 5\n",
    ":class: tip\n",
    "Utled trapesformelen med utgangspunkt i definisjon av det bestemte integralet og formelen for arealet av et trapes. Bruk gjerne en figur.\n",
    "```\n",
    "\n",
    "```{admonition} Oppgave 6\n",
    ":class: tip\n",
    "En _sannsynlighetsfordeling_ er en matematisk beskrivelse av hvor sannsynlig noe vil skje. Det finnes mange forskjellige sannsynlighetsfordelinger. I denne oppgava skal vi se på en fordeling $f(x)$ som kalles en _standard normalfordeling_. Den er definert ved:\n",
    "\n",
    "$$f(x) = \\frac{1}{\\sqrt{2\\pi}}\\cdot e^{-\\frac{x^2}{2}}$$\n",
    "\n",
    "Skriv et program som bruker trapes- eller rektangelmetoden for å integrere $f(x)$ i området mellom  $a = -k\\cdot\\sigma = -k$ og $b = k\\cdot\\sigma = k$ for $k \\in {1, 2, 3}$ og skriver ut resultatene. Du kan sette $\\sigma = 1$.\n",
    "\n",
    "For å forsikre deg om at du bruker en grei verdi for $n$, kan du se om resultatene blir omtrent lik 0.68, 0.95 og 0.997 for henholdsvis  $k \\in {1, 2, 3}$.  \n",
    "```\n",
    "\n",
    "```{admonition} Oppgave 7*\n",
    ":class: tip\n",
    "Noen funksjoner oppfører seg trøblete ved at de går mot minus eller pluss uendelig, eller ved at funksjonen varierer svært mye mot en bestemt verdi. La oss her ta denne funksjonen:\n",
    "\n",
    "$$f(x) = \\sin\\left(\\frac{1}{x}\\right)$$\n",
    "\n",
    "Funksjonen oppfører seg turbulent like ved 0. Plott funksjonen med \\(D_f = [-5, 0) \\cup (0,5]\\) og studer grafen. Prøv å derivere og integrere med ulike metoder i punkter et stykke fra 0 og deretter punkter nær 0. Sammenlikn ulike metoder med den analytiske løsninga og kommenter resultatene.\n",
    "```"
   ]
  },
  {
   "cell_type": "markdown",
   "metadata": {},
   "source": [
    "## Videoer\n",
    "Bruk videoene nedenfor som en innføring eller en reptisjon til numerisk integrasjon.\n",
    "\n",
    "````{tabbed} Integrasjon\n",
    "<iframe width=\"850\" height=\"450\" src=\"https://www.youtube.com/embed/XHahL9ER2wA\" title=\"YouTube video player\" frameborder=\"0\" allow=\"accelerometer; autoplay; clipboard-write; encrypted-media; gyroscope; picture-in-picture\" allowfullscreen></iframe>\n",
    "````\n",
    "\n",
    "````{tabbed} Ulike metoder\n",
    "<iframe width=\"850\" height=\"450\" src=\"https://www.youtube.com/embed/KOL92Jxp_Yk\" title=\"YouTube video player\" frameborder=\"0\" allow=\"accelerometer; autoplay; clipboard-write; encrypted-media; gyroscope; picture-in-picture\" allowfullscreen></iframe>\n",
    "````"
   ]
  }
 ],
 "metadata": {
  "celltoolbar": "Edit Metadata",
  "kernelspec": {
   "display_name": "Python 3",
   "language": "python",
   "name": "python3"
  },
  "language_info": {
   "codemirror_mode": {
    "name": "ipython",
    "version": 3
   },
   "file_extension": ".py",
   "mimetype": "text/x-python",
   "name": "python",
   "nbconvert_exporter": "python",
   "pygments_lexer": "ipython3",
   "version": "3.8.5"
  }
 },
 "nbformat": 4,
 "nbformat_minor": 4
}
