{
 "cells": [
  {
   "cell_type": "markdown",
   "metadata": {},
   "source": [
    "## Introduksjon"
   ]
  },
  {
   "cell_type": "code",
   "execution_count": 2,
   "metadata": {},
   "outputs": [],
   "source": [
    "from tkinter import *"
   ]
  },
  {
   "cell_type": "code",
   "execution_count": 1,
   "metadata": {},
   "outputs": [],
   "source": [
    "vindu = Tk()\n",
    "vindu.title(\"Simuleringsplattform\")\n",
    "# Lager Label-Widget.\n",
    " \n",
    "lb = Label(vindu, text=\"Hei på deg!\")\n",
    "lb.pack()\n",
    "\n",
    "vindu.mainloop()"
   ]
  },
  {
   "cell_type": "markdown",
   "metadata": {},
   "source": [
    "## Gridsystem (rutenettsystem - rad og kolonner)."
   ]
  },
  {
   "cell_type": "code",
   "execution_count": 4,
   "metadata": {},
   "outputs": [],
   "source": [
    "vindu = Tk()\n",
    "vindu.title(\"Simuleringsplattform\")\n",
    "# Lager Label-Widget.\n",
    " \n",
    "lb1 = Label(vindu, text=\"Hei på deg!\")\n",
    "lb2 = Label(vindu, text=\"Du er grei!\")\n",
    "lb1.grid(row=0, column=0)\n",
    "lb2.grid(row=1, column=1)\n",
    "\n",
    "vindu.mainloop()"
   ]
  },
  {
   "cell_type": "code",
   "execution_count": null,
   "metadata": {},
   "outputs": [],
   "source": []
  }
 ],
 "metadata": {
  "kernelspec": {
   "display_name": "Python 3",
   "language": "python",
   "name": "python3"
  },
  "language_info": {
   "codemirror_mode": {
    "name": "ipython",
    "version": 3
   },
   "file_extension": ".py",
   "mimetype": "text/x-python",
   "name": "python",
   "nbconvert_exporter": "python",
   "pygments_lexer": "ipython3",
   "version": "3.8.5"
  }
 },
 "nbformat": 4,
 "nbformat_minor": 4
}
