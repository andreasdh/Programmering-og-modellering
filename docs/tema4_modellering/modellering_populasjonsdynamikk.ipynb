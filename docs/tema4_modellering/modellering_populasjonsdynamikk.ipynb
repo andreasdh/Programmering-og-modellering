{
 "cells": [
  {
   "cell_type": "markdown",
   "metadata": {},
   "source": [
    "# Modelleringsoppgave IIb: Bevaringsbiologi (biologi)\n",
    "\n",
    "## Bevaringsbiologi\n",
    "\n",
    "I bevaringsbiologi forskes det på hvordan artsmangfoldet i spesielt utsatte økosystemer og populasjoner kan bevares. En viktig del av dette er å modellere hvordan en populasjon kan utvikle seg gitt ulike omstendigheter og tiltak. Vi skal se på en enkel modell for populasjonsdynamikk her.\n",
    "\n",
    "### Del 1 – Diskrete modeller\n",
    "En *diskret* populasjonsmodell er en modell som beskriver endringen i populasjonsstørrelse ved bestemte tidspunkter, men ikke alle tidspunkter. Slike modeller kan ofte formuleres som *differenslikninger* (ikke til å forveksle med *differensiallikninger*...). En differenslikning er en likning der neste verdi er avhengig av foregående verdi. For en populasjon er åpenbart endringen av antall individer ved en tid $t + \\Delta t$, avhengig av antall individer ved forrige tidspunkt $t$. Vi kan formulere en enkel modell slik:\n",
    "\n",
    "$$ \\Delta P = k\\cdot P_t$$\n",
    "$$ P_{t+\\Delta t} - P_t = k\\cdot P_t$$\n",
    "$$ P_{t+\\Delta t} = P_t + k\\cdot P_t$$\n",
    "\n",
    "der indeksen $t+\\Delta t$ viser til populasjonsstørrelsen ved neste tidssteg, mens indeksen $t$ viser til populasjonsstørrelsen ved nåværende tid.\n",
    "\n",
    "a) Forklar for hverandre hva modellen ovenfor beskriver. Hva er $k$, og hva avhenger denne parameteren av?\n",
    "\n",
    "b) Implementer modellen som et Python-program. Plott utviklingen for $t \\in [0,60]$ timer. Bruk $k = 1.25$ per time. Hva slags populasjon kan denne modellen beskrive?\n",
    "\n",
    "c) En populasjon vil alltid nå en bæreevne $B$ etter en viss tid. En modell som tar hensyn til dette, kan se slik ut:\n",
    "\n",
    "$$ P_{t+\\Delta t} = P_t + k\\cdot P_t\\left(1-\\frac{P_t}{B}\\right)$$\n",
    "\n",
    "Forklar hva leddene i modellen betyr. Hva skjer med endringen ettersom $P_t$ øker eller minker?\n",
    "\n",
    "d) Implementer modellen med en valgfri bæreevne. Beskriv det du ser."
   ]
  },
  {
   "cell_type": "markdown",
   "metadata": {},
   "source": [
    "### Del 2 – Kontinuerlige modeller\n",
    "\n",
    "Populasjonsmodeller kan også beskrive populasjonsendringen for *enhver* tid. Slike modeller formuleres som oftest som *differensiallikninger*. En differensiallikning er en likning som inneholder den deriverte av en funksjon, $f'(x)$. I de fleste praktiske situasjoner beskriver slike likninger sammenhengen mellom endringen, $f'(t)$, og tilstanden, $f(t)$, til et system ved tida $t$. Siden vi nå bruker den deriverte istedenfor gjennomsnittlig vekst på diskrete tidspunkter, går vi fra en *diskret* modell til en *kontinuerlig* modell med et tidssteg som i utgangspunktet er så lite som mulig:\n",
    "\n",
    "$$P'(t) = k\\cdot P(t)$$\n",
    " \n",
    "Vi har altså en differensiallikning som beskriver endringen i systemet $P'(t)$, men ingen informasjon om selve systemet, altså antall individer, $P(t)$. Vi ønsker med andre ord å finne antall individer ved enhver tid gitt en eller annen startbetingelse (antall individer ved t = 0). Det er det samme som å si at vi ønsker å finne funksjonsverdien $f(t + dt)$ for hvert tidssteg $dt$.\n",
    "\n",
    "I teorien er ingen modeller kontinuerlige på en datamaskin, men vi gjør modellene \"mindre diskrete\" ved å velge tidssteg som er små.\n",
    "\n",
    "a) Forklar for hverandre hva modellen ovenfor sier oss, og hva de ulike faktorene betyr.\n",
    "\n",
    "b) Forklar hva en differensiallikning er. Hvorfor er modellen ovenfor en differensiallikning? Hva er forskjellen på en differensiallikning og en differenslikning?\n",
    "\n",
    "### En metode for løsing av differensiallikninger\n",
    "Nå vi skal løse en differensiallikning, har vi en initalbetingelse $y_0$ og et uttrykk for den deriverte $y'$. Vi ønsker derfor å finne $y_1$ og alle andre funksjonsverider.\n",
    "\n",
    "Du kjenner faktisk allerede til et uttrykk som inneholder en funksjon og dens deriverte, nemlig definisjonen av den deriverte! Vi bruker den numeriske definisjonen der vi tilnærmer grenseverdiene med en _dx_ ($\\Delta x$) som er så liten som mulig:\n",
    "\n",
    "$$f'(x) \\approx \\frac{f(x+dx) - f(x)}{dx}$$\n",
    "\n",
    "Til å begynne med kjenner vi $f(x)$ ($v(t)$), altså $f(x_0)$. Dette er initialbetingelsen, for eksempel startfarten $v(t_0)$. Vi kjenner også et uttrykk for den deriverte av farten (akselerasjonen) gjennom Newtons 2. lov. I tillegg bestemmer vi selv tidssteget, _dx_ (_dt_), men husk at det verken bør være for lite eller for stort. Den eneste ukjente i likningen ovenfor er altså $f(x+dx)$, og det er jo nettopp dette vi prøver å finne. Med litt enkel algebra får vi omformet uttrykket slik at det blir et uttrykk for $f(x+dx)$. Vi ganger først med $dx$ på begge sider:\n",
    "\n",
    "$$f'(x)\\cdot dx \\approx f(x+dx) - f(x)$$\n",
    "\n",
    "Deretter får vi $f(x+dx)$ aleine på høyre side og ender opp med følgende likning:\n",
    "\n",
    "$$f(x+dx) \\approx f(x) + f'(x)\\cdot dx$$\n",
    "\n",
    "Dette kalles _Eulers metode_. Den  brukes til å løse differensiallikninger, det vil si å integrere den deriverte slik at vi finner funksjonsverdiene. Siden vi ofte har med funksjoner av *tid* å gjøre, kaller vi gjerne _dx_ for _dt_.\n",
    "\n",
    "c) Implementer modellen ovenfor og bruk Eulers metode til å simulere utviklingen av populasjonen. Du kan ta utgangspunkt i programmet nedenfor eller lage et helt nytt et. Eksperimenter med ulike verdier av $k$. Er denne $k$-en den samme som i den diskrete modellen du implementerte i oppgave b)?\n",
    "\n",
    "<iframe src=\"https://trinket.io/embed/python3/870d731ab7\" width=\"100%\" height=\"356\" frameborder=\"0\" marginwidth=\"0\" marginheight=\"0\" allowfullscreen></iframe>\n",
    "\n",
    "d) Lag en differensiallikning som beskriver utviklingen av populasjonen gitt en bæreevne. Forklar hva de ulike leddene og faktorene betyr.\n",
    "\n",
    "e) Implementer modellen med bæreevne og beregn utviklingen med Eulers metode. Beskriv utviklingen med ord.\n",
    "\n",
    "f) Fyll inn koden nedenfor slik at programmet simulerer populasjonsdynamikken mellom hare og gaupe, gitt følgende modeller:\n",
    "\n",
    "$$H'(t) = aH(t)\\left(1-\\frac{H(t)}{B}\\right) - cH(t)G(t)$$\n",
    "\n",
    "$$G'(t) = dH(t)G(t) - eG(t)$$\n",
    "\n",
    "<iframe src=\"https://trinket.io/embed/python3/c3ceffaa92\" width=\"100%\" height=\"356\" frameborder=\"0\" marginwidth=\"0\" marginheight=\"0\" allowfullscreen></iframe>\n",
    "\n",
    "g) Hva kan de ulike parameterne/koeffisientene bety? Hva er de avhengig av? Hva er betydningen til hvert ledd i modellen ovenfor?\n",
    "\n",
    "h) [Følgende datasett](https://www.uio.no/studier/emner/matnat/ifi/IN-KJM1900/h20/datafiler/hare_gaupe_data.csv) beskriver (antakeligvis – datasettet er ikke verifisert!) et økosystem med gauper og harer i Canada fra 1845–1935. Prøv å lage en modell som beskriver denne dynamikken så godt som mulig. NB: Det er ikke lett å tilpasse alle parameterne manuelt slik at du får en god tilpasning til dataene, men prøv så godt du kan!\n",
    "\n",
    "i) Hvorfor kan slike modeller som du har jobbet med nå, være nyttige i bevaringsbiologi?"
   ]
  },
  {
   "cell_type": "markdown",
   "metadata": {},
   "source": [
    "### Rapport\n",
    "Skriv en rapport i Jupyter notebook der du redegjør gradvis for de ulike modellene dine. Lag også en konklusjon."
   ]
  },
  {
   "cell_type": "code",
   "execution_count": null,
   "metadata": {},
   "outputs": [],
   "source": []
  }
 ],
 "metadata": {
  "kernelspec": {
   "display_name": "Python 3",
   "language": "python",
   "name": "python3"
  },
  "language_info": {
   "codemirror_mode": {
    "name": "ipython",
    "version": 3
   },
   "file_extension": ".py",
   "mimetype": "text/x-python",
   "name": "python",
   "nbconvert_exporter": "python",
   "pygments_lexer": "ipython3",
   "version": "3.8.3"
  }
 },
 "nbformat": 4,
 "nbformat_minor": 4
}
