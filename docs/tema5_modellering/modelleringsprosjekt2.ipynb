{
 "cells": [
  {
   "cell_type": "markdown",
   "metadata": {},
   "source": [
    "# Modelleringsoppgave II"
   ]
  },
  {
   "cell_type": "markdown",
   "metadata": {},
   "source": [
    "I dette prosjektet skal dere modellere en naturvitenskapelig sammenheng ved å bruke differensiallikninger. Prosjektet skal presenteres på en ryddig måte med teori, programkode og drøfting i Jupyter Notebook. Dere vil bli vurdert etter følgende kriterier:\n",
    "\n",
    "- Koden virker og er lagt opp på en god måte.\n",
    "- Koden er strukturert og oversiktlig.\n",
    "- Det kommer fram at dere kjenner godt til grunnleggende programmering.\n",
    "- Det kommer fram at dere forstår det realfaglige innholdet. \n",
    "- Modellene som er brukt, er differensiallikninger.\n",
    "- Rapporten er ryddig og oversiktlig. Rapporten skal ikke være inndelt etter _oppgaver_, men ha en klar struktur:\n",
    "    1. Introduksjon: Hva dreier prosjektet seg om. Hva skal du vise/gjøre?\n",
    "    2. Hvilke metoder bruker du? Utled metodene.\n",
    "    3. Beskrivelse og resultater: Gjør rede for framgangsmåte og programmer. IKKE drøft resultatene!\n",
    "    4. Drøfting: Drøft de ulike modellene. Begrensninger, forutsetninger, antakelser, konsekvenser. Hva betyr endring av de ulike parametrene?\n",
    "    5. Konklusjon: Hva har du gjort, og hvordan? Kort oppsummering.\n",
    "- Alle figurer og grafer er oversiktlige med figurtekst, aksetitler o.l.\n",
    "- Alle resultater er drøfta og redegjort for.\n",
    "\n",
    "## Oppgaver\n",
    "Velg én av oppgavene nedenfor, eller foreslå en problemstilling for læreren. Problemstillingen må bli godkjent før dere går i gang med prosjektet.\n",
    "\n",
    "### Oppgave 1: Zombie-apokalypse\n",
    "\n",
    "Denne oppgava tar utgangspunkt i å modellere og simulere en menneskepopulasjon under en zombie-apokalypse. Gjør rede for begrensninger for modellene dine, og drøft hva de forteller oss om populasjonen.\n",
    "\n",
    "#### Utgangspunkt\n",
    "\n",
    "Vi befinner oss i en postapokalyptisk situasjon der verden har blitt utsatt for et virus som gjør mennesker om til zombier. Viruset smitter kun via blod, f.eks. ved bitt eller kloring fra zombier. Vi skal studere en avsideliggende landsby, Alexandria, som ligger i nærheten av Washington D.C., og som etter et zombie-utbrudd har blitt et tilfluktssted for 500 mennesker. De har tilgang til en del mat og våpen, og de har en mur rundt hele landsbyen som holder zombiene unna. Men de må også ut for å finne nye ressurser og andre mennesker som trenger hjelp, så de er aldri helt trygge.\n",
    "\n",
    "#### Oppgave\n",
    "\n",
    "Modellen din kan inneholde mange ulike faktorer, og du står fritt til å legge til flere, dersom du begrunner det. Legg til én og én faktor, og test modellen etter hver gang. Kommenter populasjonsutviklinga etter hver nye faktor er lagt til. Her er et forslag til framgangsmåte:\n",
    "\n",
    "1. Lag først et program der menneskene er trygge mot zombier, og der nye mennesker kan komme til ved fødsel og (mer sannsynlig) innvandring. Lag gjerne ett ledd i likninga som inkluderer begge disse faktorene.\n",
    "\n",
    "2. Legg inn en ressursbegrensning (bæreevne) for populasjonen. Hvilke faktorer påvirker denne?\n",
    "\n",
    "3. Menneskene kan også dø av sykdom, skade og alderdom (naturlig død). Legg dette inn i modellen, og tenk på hvor sannsynlig dette er (hvor god er tilgangen på medisiner, lege o.l.?).\n",
    "\n",
    "4. Nå skal du legge inn en zombiepopulasjon som lever i nærheten av Alexandria. Du kan selv bestemme hvor mange zombier som finnes og hvor sannsynlig det er at mennesker blir drept av en zombie. Zombiene fungerer som rovdyr, slik at menneskene ikke blir til zombier i denne modellen.\n",
    "\n",
    "5. Nå kan du legge inn muligheten for at mennesker blir til zombier hvis de blir bitt, men ikke revet i fillebiter. Det vil si at noen mennesker vil bli smitta, mens andre vil bli drept av zombiene. De som blir smitta, blir til zombier, og dermed øker zombiepopulasjonen.\n",
    "\n",
    "6. Alexandria kan slå tilbake mot zombiene. Legg inn en faktor som bidrar til at menneskene kan ta livet av zombier.\n",
    "\n",
    "7. I nærheten av Alexandria finner vi landsbyene Hilltop og Kingdom. Fra disse kan det komme forsterkninger til Alexandria ved behov. Inkluder dette i modellen din.\n",
    "\n",
    "\n",
    "### Oppgave 2: Solsystemet\n",
    "I denne oppgava skal du bruke Newtons gravitasjonslov til å simulere solsystemet. Oppgava passer best for de som har fysikk 2 eller eventuelt fysikk 1, men kan gjøres av alle!\n",
    "\n",
    "\\begin{figure}[H]\n",
    "    \\centering\n",
    "    \\includegraphics[scale=0.2]{solsystem.jpg}\n",
    "    \\caption{Solsystemet slik det nesten er...}\n",
    "    \\label{fig:my_label}\n",
    "\\end{figure}\n",
    "\n",
    "\\noindent {\\Large \\textbf{Oppgave 4: Newtons lover}} \\\\\n",
    "Her skal du utforske friksjon og luftmotstand nærmere. Gjør oppgave 8.20 og 8.23 i boka. Ikke svar på hver deloppgave hver for seg, men lag en enhetlig rapport.\n",
    "\n",
    "\\begin{figure}[H]\n",
    "    \\centering\n",
    "    \\includegraphics[scale=0.5]{friksjon.jpg}\n",
    "    \\caption{Friksjon kan være utfordrende.}\n",
    "    \\label{fig:my_label}\n",
    "\\end{figure}\n",
    "\n",
    "\\end{document}"
   ]
  }
 ],
 "metadata": {
  "kernelspec": {
   "display_name": "Python 3 (ipykernel)",
   "language": "python",
   "name": "python3"
  },
  "language_info": {
   "codemirror_mode": {
    "name": "ipython",
    "version": 3
   },
   "file_extension": ".py",
   "mimetype": "text/x-python",
   "name": "python",
   "nbconvert_exporter": "python",
   "pygments_lexer": "ipython3",
   "version": "3.8.5"
  }
 },
 "nbformat": 4,
 "nbformat_minor": 4
}
