{
 "cells": [
  {
   "cell_type": "code",
   "execution_count": 1,
   "metadata": {},
   "outputs": [],
   "source": [
    "from pylab import *"
   ]
  },
  {
   "cell_type": "markdown",
   "metadata": {},
   "source": [
    "# Strålingsbalansen på jorda"
   ]
  },
  {
   "cell_type": "markdown",
   "metadata": {},
   "source": [
    "Det som hovedsakelig varmer opp planeten vår, er sollys. Solen sender ut energi i form av elektromagnetisk stråling som treffer jordkloden. All elektromagnetisk stråling som treffer toppen av atmosfæren, har blitt målt til ca 1361 kW/m$^2$ Hvor mye energi som treffer toppen av atmosfæren er nesten konstant, og har bare variert med 0.2 prosent på 400 år. Strålingen blir kalt for _solkonstanten_."
   ]
  },
  {
   "cell_type": "markdown",
   "metadata": {},
   "source": [
    "![sunlight_angle.png](https://www.uio.no/studier/emner/matnat/ifi/IN-KJM1900/h20/datafiler/sunlight_angle.png)"
   ]
  },
  {
   "cell_type": "markdown",
   "metadata": {},
   "source": [
    "![solar_insolation_planet_sphere_disk_600x320.png](https://www.uio.no/studier/emner/matnat/ifi/IN-KJM1900/h20/datafiler/solar_insolation_planet_sphere_disk_600x320.png)"
   ]
  },
  {
   "cell_type": "markdown",
   "metadata": {},
   "source": [
    "### Energi som treffer planeten\n",
    "\n",
    "$$ E_{inn} = K_s \\cdot \\pi R{_E}^2$$"
   ]
  },
  {
   "cell_type": "code",
   "execution_count": 2,
   "metadata": {},
   "outputs": [
    {
     "name": "stdout",
     "output_type": "stream",
     "text": [
      "Planeten blir truffet av 1.735e+17 W stråling\n"
     ]
    }
   ],
   "source": [
    "Ks  = 1361             #[watt per kvadratmeter] Solinnstråling\n",
    "radius_jorda = 6371000 #[m] Jorda\n",
    "\n",
    "e_inn = Ks * pi * radius_jorda**2\n",
    "\n",
    "print(f\"Planeten blir truffet av {e_inn:.3e} W stråling\")"
   ]
  },
  {
   "cell_type": "markdown",
   "metadata": {},
   "source": [
    "### Energi inn i systemet\n",
    "\n",
    "$$E_{absorbert} = K_s \\cdot (1 - albedo) \\cdot \\pi R{_E}^2$$"
   ]
  },
  {
   "cell_type": "code",
   "execution_count": 4,
   "metadata": {},
   "outputs": [
    {
     "name": "stdout",
     "output_type": "stream",
     "text": [
      "Planeten absorberer 1.215e+17 W stråling\n"
     ]
    }
   ],
   "source": [
    "albedo = 0.30\n",
    "e_absorbert = Ks * (1-albedo) * pi * radius_jorda**2\n",
    "print (f\"Planeten absorberer {e_absorbert:.3e} W stråling\")"
   ]
  },
  {
   "cell_type": "markdown",
   "metadata": {},
   "source": [
    "### Energi ut av systemet\n",
    "\n",
    "Stefan-Boltzmann loven: Hvor mye energi som blir sendt ut fra overfalten til et legeme per flatenhet og tidsenhet i form av varmestråling. \n",
    "\n",
    "$$\\phi=\\sigma T^4$$\n",
    "\n",
    "$\\sigma$ er Stefan-Boltzmann constant. $\\sigma = 5.670373 \\cdot 10^{-8} W / (m^2K^4)$\n",
    "\n",
    "$$E_{emittert} = \\sigma T^4 \\cdot 4\\pi R{_E}^2$$\n"
   ]
  },
  {
   "cell_type": "code",
   "execution_count": 5,
   "metadata": {},
   "outputs": [],
   "source": [
    "sigma = 5.670373e-8"
   ]
  },
  {
   "cell_type": "markdown",
   "metadata": {},
   "source": [
    "### Energi inn = Energi ut\n",
    "\n",
    "\n",
    "På grunn av energiprinsippet, loven om at energi er konstant, må energi inn på planeten være det samme som energi ut.\n",
    "\n",
    "$$ E_{absorbert}= E_{emittert}$$\n",
    "\n",
    "$$ K_s \\cdot (1 - albedo) \\cdot \\pi R{_E}^2 = \\sigma T^4 \\cdot 4\\pi R{_E}^2$$\n",
    "\n",
    "$$T = \\sqrt[4]{\\frac{K_s\\cdot(1-albedo)}{4\\sigma}}$$\n"
   ]
  },
  {
   "cell_type": "code",
   "execution_count": 6,
   "metadata": {},
   "outputs": [
    {
     "name": "stdout",
     "output_type": "stream",
     "text": [
      "Beregningen av gjennomsnittstemperaturen gir en temperatur på: -18.57 celsius\n"
     ]
    }
   ],
   "source": [
    "temperatur_kelvin = ((Ks*(1-albedo))/(4*sigma))**(1/4)\n",
    "temperatur_celsius = temperatur_kelvin - 273.15\n",
    "print (f\"Beregningen av gjennomsnittstemperaturen gir en temperatur på: {temperatur_celsius:.2f} celsius\")"
   ]
  },
  {
   "cell_type": "markdown",
   "metadata": {},
   "source": [
    "# Støtte til modelleringsoppgave 2 (temperaturmodellering)"
   ]
  },
  {
   "cell_type": "code",
   "execution_count": 1,
   "metadata": {},
   "outputs": [],
   "source": [
    "\"\"\"Konstanter\"\"\"\n",
    "#Stefan-Boltzman Konstant\n",
    "sigma=(5.67e-8) #[W m^2 K^4]\n",
    "#Temperatur Sola\n",
    "temperatur_sol = 5778 #[Kelvin]\n",
    "diameter_sol = 1391016e3 #[m]\n",
    "distanse_sol_jord = 149600000e3 #[m]\n",
    "radius_jord = 6371e3 #[m]\n",
    "albedo = 0.3"
   ]
  },
  {
   "cell_type": "markdown",
   "metadata": {},
   "source": [
    "## Oppgave 1)\n",
    "Formelen for å kalkulere mengden energi som treffer toppen av atmosfæren ($S_0$) er: \n",
    "\n",
    "$$S_0 = \\large\\frac{{radius_{sun}}^2}{{distanse_{jord\\space sol}}^2} \\cdot stråling\\space sol$$ "
   ]
  },
  {
   "cell_type": "code",
   "execution_count": 2,
   "metadata": {},
   "outputs": [
    {
     "name": "stdout",
     "output_type": "stream",
     "text": [
      "1365.948361181013\n"
     ]
    }
   ],
   "source": [
    "stråling_sol = sigma*(temperatur_sol**4)\n",
    "s0 = ((diameter_sol/2)**2)/(distanse_sol_jord**2)*stråling_sol\n",
    "print (s0)"
   ]
  },
  {
   "cell_type": "markdown",
   "metadata": {},
   "source": [
    "## Oppgave 2)\n",
    "Bruk energiprinsippet og Stefan-Boltzmanns lov til å lage et utrykk for gjennomsnittlig temperatur på jorden. Noe av innstrålingen fra solen vil bli reflektert, og målet for refleksjonen til en flate kalles albedo. Legg til denne refleksjonsfaktoren for jordkloden og kalkuler temperaturen på jorden. Anta at\n",
    "temperaturen på planeten er konstant, og at planeten er en flat sirkel."
   ]
  },
  {
   "cell_type": "markdown",
   "metadata": {},
   "source": [
    "![solar_insolation_planet_sphere_disk_600x320.png](https://www.uio.no/studier/emner/matnat/ifi/IN-KJM1900/h20/datafiler/solar_insolation_planet_sphere_disk_600x320.png)"
   ]
  },
  {
   "cell_type": "markdown",
   "metadata": {},
   "source": [
    "### Utrykket for temperatur man skal komme frem til:\n",
    "$$T = \\sqrt[4]{\\frac{K_s\\cdot(1-albedo)}{4\\sigma}}$$\n",
    "\n",
    "Prøv å vis hvordan man får dette utrykket."
   ]
  },
  {
   "cell_type": "code",
   "execution_count": 4,
   "metadata": {},
   "outputs": [
    {
     "data": {
      "text/plain": [
       "-18.336567683297915"
      ]
     },
     "execution_count": 4,
     "metadata": {},
     "output_type": "execute_result"
    }
   ],
   "source": [
    "temperatur = ((s0*(1-albedo))/(4*sigma))**(1/4)\n",
    "temperatur - 273.15"
   ]
  },
  {
   "cell_type": "markdown",
   "metadata": {},
   "source": [
    "## Oppgave 3) \n",
    "\n",
    "Når vi skal legge til atmosfæren i modellen gjør vi ganske mange forenklinger. Vi antar tre ting (og ingen av antagelsene er faktisk sanne!): \n",
    "\n",
    "1) Atmosfæren har en konstant temperatur - dvs. at atmosfæren er en stor blokk hvor hele blokken har den samme temperaturen.<br>\n",
    "2) Atmosfæren er fullstendig gjennomsiktig for stråling fra solen - dvs at all stråling fra solen treffer jordoverflaten. <br>\n",
    "3) Atmosfæren tar imot all stråling fra jorden."
   ]
  },
  {
   "cell_type": "markdown",
   "metadata": {},
   "source": [
    "![Atmosf%C3%A6re.png](https://www.uio.no/studier/emner/matnat/ifi/IN-KJM1900/h20/datafiler/atmosferestraling.png)"
   ]
  },
  {
   "cell_type": "markdown",
   "metadata": {},
   "source": [
    "Figuren over viser situasjonen med antagelsene: <br>\n",
    "(1) viser solinnstårlingen som treffer jordkloden. <br>\n",
    "(3) viser utsrålingen fra jordkloden som treffer atmosfæren. <br>\n",
    "(2) viser situasjonen til atmosfæren. Atmosfæren vil sende ut stråling til verdensrommet, men også stråling tilbake til jorden. Energien atmosfæren sender ut kan da kalkuleres ved å bruke stefan-boltzmans lov. \n",
    "\n",
    "Prøv å legg inn atmosfæren som et ledd i din kalkulering og se hvordan det påvirker temperaturen.\n",
    "\n",
    "#### Løsning ved bruk av figuren over.\n",
    "$Energi_{inn} = Energi_{ut}$ er fortsatt det som gjelder, men denne gangen blir det to ligninger. Etter systemet nevnt i oppgave 3(a) blir likningene:\n",
    "\n",
    "$$\\space s_0\\cdot(1-albedo) = \\sigma T_{a}^4 $$\n",
    "$$\\space s_0\\cdot(1-albedo) + \\sigma T_{a}^4 = \\sigma T_{s}^4$$\n",
    "\n",
    "Sett likning 1 inn i 2 for å få en løsning for $T_{s}$\n",
    "\n",
    "Prøv å vis på figuren hvilke piler disse to likningene representerer. Prøv å forklar til deg selv hva som er gjort her for å forstå likningsystemet. \n",
    "\n",
    "Kommentar: Resultatet her vil være veldig høyt. I denne situasjonen vil energien til atmosfæren være det jorden sender ut. Vi har jo kalkulert at jorden blir truffet med 1365 watt/m^2, men denne energien vil bare være når solen står på sitt høyeste vertikalt rett ned på jorden. På grunn av rotasjonen til jorden, med natt og dagsykluser, og at jorden egentlig er en kule vil ikke dette være den faktiske gjennomsnittelige innstrålingen som treffer jorden. En forenkling for å finne gjennomsnitt på innstrålingen over hele jordkloden når man tenker at deler ikke får like mye sollys hele tiden vil da være: $S_{0}$/4 = 1365/4 watt/$m^2$. Dette nummeret er veldig nærme den observerte gjennomsnittelige energien som treffer jorden. Sett inn $S_{0}/4$ inn for $S_{0}$ og sjekk hva som skjer med $T_{s}$."
   ]
  },
  {
   "cell_type": "code",
   "execution_count": null,
   "metadata": {},
   "outputs": [],
   "source": []
  }
 ],
 "metadata": {
  "celltoolbar": "Edit Metadata",
  "kernelspec": {
   "display_name": "Python 3",
   "language": "python",
   "name": "python3"
  },
  "language_info": {
   "codemirror_mode": {
    "name": "ipython",
    "version": 3
   },
   "file_extension": ".py",
   "mimetype": "text/x-python",
   "name": "python",
   "nbconvert_exporter": "python",
   "pygments_lexer": "ipython3",
   "version": "3.8.5"
  }
 },
 "nbformat": 4,
 "nbformat_minor": 5
}
