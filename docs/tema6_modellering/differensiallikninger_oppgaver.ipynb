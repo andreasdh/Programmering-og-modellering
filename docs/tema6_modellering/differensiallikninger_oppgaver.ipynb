{
 "cells": [
  {
   "cell_type": "markdown",
   "metadata": {},
   "source": [
    "# Differensiallikninger (oppgaver)\n",
    "\n",
    "## Differensiallikninger\n",
    "Vi har sett på modeller som beskriver endringer ved bestemte tidssteg, for eksempel i smittemodellen vår:\n",
    "\n",
    "$$I_{n+1}=I_n+aI_nS_n$$\n",
    "\n",
    "som er det samme som å skrive:\n",
    "\n",
    "$$\\Delta I = aI_nS_n$$\n",
    "\n",
    "Dette er eksempler på _differenslikninger_, der vi finner en tallfølge, som for eksempel beskriver antall smittede i en populasjon. Men hva hvis vi gjør tida mellom endringene så liten som mulig? Da får vi ikke en differenslikning, men en _differensiallikning_.\n",
    "\n",
    "En differensiallikning er en likning som inneholder den deriverte (altså den momentane endringen) av en funksjon, for eksempel:\n",
    "\n",
    "$$y' = 1$$\n",
    "$$y' = y$$\n",
    "$$y' - 2x = -1$$\n",
    "\n",
    "Vi har dermed uttrykk for en momentan endring. Likningene ovenfor er løsbare, men de fleste differensiallikninger er ikke det. Derfor er numeriske metoder for løsing av difflikninger svært viktige å kunne.\n",
    "\n",
    "## Eksempler\n",
    "Det viser seg at vi faktisk ofte kjenner til _endringen_ (f'(x)) i et system framfor _tilstanden_ (f(x)). Eksempler på dette er:\n",
    "\n",
    "- Newtons 2. lov: $\\Sigma F = ma  \\Leftrightarrow v' = \\frac{\\Sigma F}{m}$. \n",
    "- Populasjonsdynamikk: $B'(t) = k\\cdot B(t)$ og $B'(t) = a\\cdot B(t)\\left(1-\\frac{B(t)}{b} \\right)$.\n",
    "- Smittemodeller: $I'(t) = aI(t)S(t)$.\n",
    "\n",
    "```{admonition} Underveisoppgave: Differensiallikninger\n",
    ":class: tip\n",
    "Forklar hva en differensiallikning er og hvorfor Newtons 2. lov og modeller for populasjonsvekst og smitte kan formuleres som differensiallikninger.\n",
    "```\n",
    "\n",
    "## Eulers metode for å løse differensiallikninger\n",
    "\n",
    "Eulers metode er en enkel metode som brukes til å løse differensiallikninger. Det vil si at vi finner en funksjon dersom vi har gitt et uttrykk for den deriverte av funksjonen.\n",
    "\n",
    "Siden vi går fra f'(x) til f(x), *integrerer* (antideriverer) vi differensiallikningen. Eulers metode går ut på å finne en verdi for $f(x + \\Delta x)$ gitt en startverdi $f(x_0)$ og et uttrykk for $f'(x)$:\n",
    "\n",
    "$$f(x+\\Delta x) \\approx f(x) + f'(x)\\cdot \\Delta x$$\n",
    "\n",
    "Dette er en iterativ algoritme. Vi starter derfor med $f(x_0)$ og finner de påfølgende funksjonsverdiene slik:\n",
    "\n",
    "$$f(x_1) \\approx f(x_0) + f'(x_0)\\cdot \\Delta x$$\n",
    "$$f(x_2) \\approx f(x_1) + f'(x_1)\\cdot \\Delta x$$\n",
    "$$f(x_3) \\approx f(x_2) + f'(x_2)\\cdot \\Delta x$$\n",
    "$$...$$\n",
    "\n",
    "```{admonition} Underveisoppgave: Eulers metode\n",
    ":class: tip\n",
    "Utled Eulers metode fra den numeriske tilnærmingen til den deriverte (Newtons kvotient/framoverdifferansen).\n",
    "```\n",
    "\n",
    "## Et program som løser differensiallikninger\n",
    "\n",
    "Siden vi skal løse differensiallikningene på en datamaskin, må vi jobbe med *funksjonsverdier*, ikke funksjonsuttrykk. Vi setter derfor opp noen startbetingelser som definerer intervallet vi skal integrere over."
   ]
  },
  {
   "cell_type": "code",
   "execution_count": 1,
   "metadata": {},
   "outputs": [],
   "source": [
    "x_start = 0                   # Startverdi\n",
    "x_slutt = 5                   # Sluttverdi\n",
    "dx = 1E-5                     # Steglengde mellom x-verdiene\n",
    "N = int((x_slutt-x_start)/dx) # Antall intervaller\n",
    "y0 = 1                        # Initialbetingelse"
   ]
  },
  {
   "cell_type": "markdown",
   "metadata": {},
   "source": [
    "```{admonition} Underveisoppgave: Startverdier\n",
    ":class: tip\n",
    "Forklar hva de ulike størrelsene i programmet ovenfor betyr. Skriv ned de størrelsene du ikke forstår.\n",
    "```\n",
    "\n",
    "Så trenger vi å definere funksjonen. La oss ta en enkel funksjon: $f'(x) = 1$. Definer funksjonen i vinduet nedenfor som en Python-funksjon. For å sjekke at du har gjort riktig, skriv ut et funksjonskall. Dette bør skrive ut 1 uansett argumentverdier i funksjonen. Teknisk sett trenger ikke funksjonen noen parametere, men vi pleier å definere både _x_ og _y_ som parametre i en funksjon som representerer en difflikning.\n",
    "\n",
    "<iframe src=\"https://trinket.io/embed/python3/250482d61f\" width=\"100%\" height=\"600\" frameborder=\"0\" marginwidth=\"0\" marginheight=\"0\" allowfullscreen></iframe>\n",
    "\n",
    "Nå kan vi legge til noen tomme arrayer som vi skal fylle med verdier:"
   ]
  },
  {
   "cell_type": "code",
   "execution_count": 5,
   "metadata": {},
   "outputs": [],
   "source": [
    "from pylab import *\n",
    "\n",
    "x = zeros(N+1)\n",
    "y = zeros(N+1)"
   ]
  },
  {
   "cell_type": "markdown",
   "metadata": {},
   "source": [
    "```{admonition} Underveisoppgave: Arrayer\n",
    ":class: tip\n",
    "Legg inn arrayene i programmet. Prøv å forklare hvorfor vi lager N+1 verdier, og ikke N, ved å tegne opp et intervall fra 0 til 5 med steglengde (dx) 1. Hvor mange intervaller har vi, og hvor mange verdier har vi?\n",
    "```\n",
    "\n",
    "<iframe src=\"https://trinket.io/embed/python3/250482d61f\" width=\"100%\" height=\"600\" frameborder=\"0\" marginwidth=\"0\" marginheight=\"0\" allowfullscreen></iframe>\n",
    "\n",
    "Nå kan vi løse differensiallikningen med Eulers metode. En pseudokode for dette kan se slik ut:"
   ]
  },
  {
   "cell_type": "code",
   "execution_count": null,
   "metadata": {},
   "outputs": [],
   "source": [
    "gjenta N ganger:\n",
    "    y_{n+1} = y_n + yderivert(y_n, x_n)*dx\n",
    "    x_{n+1} = x_n + dx"
   ]
  },
  {
   "cell_type": "markdown",
   "metadata": {},
   "source": [
    "Bruk Eulers metode til å løse differensiallikningen og plot _y_ som funksjon av _x_:\n",
    "\n",
    "<iframe src=\"https://trinket.io/embed/python3/250482d61f\" width=\"100%\" height=\"600\" frameborder=\"0\" marginwidth=\"0\" marginheight=\"0\" allowfullscreen></iframe>"
   ]
  },
  {
   "cell_type": "markdown",
   "metadata": {},
   "source": [
    "### Oppgaver\n",
    "Bruk funksjonen $y' = y + x$ når du løser oppgavene nedenfor.\n",
    "\n",
    "a) Lag programmet ovenfor uten funksjoner. Hvor må differensiallikningen være i programmet nå?\n",
    "\n",
    "b) Lag programmet ovenfor med lister istedenfor arrayer. Hva syns du er enklest?\n",
    "\n",
    "c) Plott løsninger for fem ulike initialbetingelser i samme plott. Hva sier dette oss om løsningen til en differensiallikning?\n",
    "\n",
    "<iframe src=\"https://trinket.io/embed/python3/250482d61f\" width=\"100%\" height=\"600\" frameborder=\"0\" marginwidth=\"0\" marginheight=\"0\" allowfullscreen></iframe>"
   ]
  }
 ],
 "metadata": {
  "kernelspec": {
   "display_name": "Python 3",
   "language": "python",
   "name": "python3"
  },
  "language_info": {
   "codemirror_mode": {
    "name": "ipython",
    "version": 3
   },
   "file_extension": ".py",
   "mimetype": "text/x-python",
   "name": "python",
   "nbconvert_exporter": "python",
   "pygments_lexer": "ipython3",
   "version": "3.8.5"
  }
 },
 "nbformat": 4,
 "nbformat_minor": 5
}
