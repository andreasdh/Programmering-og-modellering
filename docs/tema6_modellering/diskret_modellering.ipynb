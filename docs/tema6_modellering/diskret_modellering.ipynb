{
 "cells": [
  {
   "cell_type": "markdown",
   "metadata": {},
   "source": [
    "# Differenslikninger (teori)\n",
    "Her får du en kort innføring i differenslikninger. Slike likninger kan brukes til diskret modellering, det vil si at vi bruker modeller som benytter seg av verdier ved diskrete tidssteg istedenfor å tilnærme dette med kontinuerlige funksjoner. Kapitlet fungerer også som en repetisjon av de mest grunnleggende programmeringsteknikkene.\n",
    "\n",
    "```{admonition} Læringsutbytte\n",
    "Etter å ha arbeidet med denne delen av emnet, skal du kunne:\n",
    "1. Forklare hva differenslikninger er og hva vi kan bruke dem til.\n",
    "2. Bruke løkker til å tilnærme problemer på en iterativ måte.\n",
    "3. Bruke differenslikninger og programmering til å utforske tallmønstre i følger og finne rekkesummer.\n",
    "```\n"
   ]
  },
  {
   "cell_type": "code",
   "execution_count": 1,
   "metadata": {
    "tags": [
     "remove-input"
    ]
   },
   "outputs": [
    {
     "data": {
      "text/html": [
       "\n",
       "        <iframe\n",
       "            width=\"800\"\n",
       "            height=\"600\"\n",
       "            src=\"https://www.youtube.com/embed/u6wgr0GRoLM? autoplay=0&rel=0\"\n",
       "            frameborder=\"0\"\n",
       "            allowfullscreen\n",
       "        ></iframe>\n",
       "        "
      ],
      "text/plain": [
       "<IPython.lib.display.IFrame at 0x1f7bd3281f0>"
      ]
     },
     "execution_count": 1,
     "metadata": {},
     "output_type": "execute_result"
    }
   ],
   "source": [
    "from IPython.display import IFrame\n",
    "IFrame(\"https://www.youtube.com/embed/u6wgr0GRoLM? autoplay=0&rel=0\", width=800, height=600)"
   ]
  },
  {
   "cell_type": "markdown",
   "metadata": {},
   "source": [
    "Når du har sett videoen, kan du gjøre følgende oppgave for å sjekke om du forstår innholdet:\n",
    "\n",
    "```{admonition} Underveisoppgave\n",
    ":class: tip\n",
    "Bivirkninger av medisinen kan oppstå dersom vi får over 175 mg medisin. Ta utgangspunkt i medisinprogrammet i videoen og modifiser dette slik at det finner ut hvor lenge vi kan gå på medisinen dersom vi bruker 100 mg hver dag. Finn også ut hvor mye medisin vi kan ta hver dag uten at vi får bivirkninger i blodet.\n",
    "```\n",
    "\n",
    "<iframe src=\"https://trinket.io/embed/python3/605aad9897\" width=\"100%\" height=\"356\" frameborder=\"0\" marginwidth=\"0\" marginheight=\"0\" allowfullscreen></iframe>\n"
   ]
  }
 ],
 "metadata": {
  "celltoolbar": "Edit Metadata",
  "kernelspec": {
   "display_name": "Python 3",
   "language": "python",
   "name": "python3"
  },
  "language_info": {
   "codemirror_mode": {
    "name": "ipython",
    "version": 3
   },
   "file_extension": ".py",
   "mimetype": "text/x-python",
   "name": "python",
   "nbconvert_exporter": "python",
   "pygments_lexer": "ipython3",
   "version": "3.8.5"
  }
 },
 "nbformat": 4,
 "nbformat_minor": 4
}
