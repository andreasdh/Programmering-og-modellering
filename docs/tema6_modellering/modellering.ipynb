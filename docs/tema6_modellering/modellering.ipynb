{
 "cells": [
  {
   "cell_type": "markdown",
   "metadata": {},
   "source": [
    "# Datafiler\n",
    "\n",
    "[bands.txt](https://www.uio.no/studier/emner/matnat/ifi/IN-KJM1900/h20/datafiler/bands.txt)\n",
    "\n",
    "[dec.txt](https://www.uio.no/studier/emner/matnat/ifi/IN-KJM1900/h20/datafiler/dec.txt)\n",
    "\n",
    "[sept.txt](https://www.uio.no/studier/emner/matnat/ifi/IN-KJM1900/h20/datafiler/sept.txt)\n",
    "\n",
    "[titrering.txt](https://www.uio.no/studier/emner/matnat/ifi/IN-KJM1900/h20/datafiler/titrering.txt)\n",
    "\n",
    "[titreringsdata.txt](https://www.uio.no/studier/emner/matnat/ifi/IN-KJM1900/h20/datafiler/titreringsdata.txt)\n",
    "\n",
    "[vin.csv](https://www.uio.no/studier/emner/matnat/ifi/IN-KJM1900/h20/datafiler/vin.csv)\n",
    "\n",
    "[kjemisk.png](https://www.uio.no/studier/emner/matnat/ifi/IN-KJM1900/h20/datafiler/kjemisk.png)"
   ]
  }
 ],
 "metadata": {
  "kernelspec": {
   "display_name": "Python 3",
   "language": "python",
   "name": "python3"
  },
  "language_info": {
   "codemirror_mode": {
    "name": "ipython",
    "version": 3
   },
   "file_extension": ".py",
   "mimetype": "text/x-python",
   "name": "python",
   "nbconvert_exporter": "python",
   "pygments_lexer": "ipython3",
   "version": "3.8.3"
  }
 },
 "nbformat": 4,
 "nbformat_minor": 4
}
