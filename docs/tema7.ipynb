{
 "cells": [
  {
   "cell_type": "markdown",
   "metadata": {},
   "source": [
    "# Tema 7: Algoritmer"
   ]
  },
  {
   "cell_type": "code",
   "execution_count": 11,
   "metadata": {},
   "outputs": [
    {
     "name": "stdout",
     "output_type": "stream",
     "text": [
      "1\n",
      "7\n",
      "1\n",
      "6\n",
      "6\n",
      "1\n",
      "3\n",
      "3\n",
      "7\n",
      "6\n"
     ]
    }
   ],
   "source": [
    "from pylab import *\n",
    "\n",
    "N = 10\n",
    "for i in range(N):\n",
    "    kast = randint(1,8)\n",
    "    print(kast)"
   ]
  },
  {
   "cell_type": "code",
   "execution_count": 12,
   "metadata": {},
   "outputs": [
    {
     "name": "stdout",
     "output_type": "stream",
     "text": [
      "1.5059584318309436\n"
     ]
    }
   ],
   "source": [
    "tall = uniform(-1,3)\n",
    "print(tall)"
   ]
  },
  {
   "cell_type": "code",
   "execution_count": 5,
   "metadata": {},
   "outputs": [
    {
     "data": {
      "image/png": "[encoded data removed]",
      "text/plain": [
       "<Figure size 432x288 with 1 Axes>"
      ]
     },
     "metadata": {
      "needs_background": "light"
     },
     "output_type": "display_data"
    }
   ],
   "source": [
    "from pylab import *\n",
    "\n",
    "antall_seksere = 0\n",
    "N = 10000\n",
    "antall_kast = []\n",
    "relfrek_seks = []\n",
    "\n",
    "for i in range(1,N+1):\n",
    "    kast = randint(1,7)\n",
    "    if kast == 6:\n",
    "        antall_seksere += 1\n",
    "    relativ_frekvens = antall_seksere/i\n",
    "    antall_kast.append(i)\n",
    "    relfrek_seks.append(relativ_frekvens)\n",
    "    \n",
    "plot(antall_kast, relfrek_seks)\n",
    "show()"
   ]
  },
  {
   "cell_type": "code",
   "execution_count": 27,
   "metadata": {},
   "outputs": [
    {
     "data": {
      "text/plain": [
       "0.166646"
      ]
     },
     "execution_count": 27,
     "metadata": {},
     "output_type": "execute_result"
    }
   ],
   "source": [
    "relfrek_seks[-1]"
   ]
  },
  {
   "cell_type": "code",
   "execution_count": 33,
   "metadata": {},
   "outputs": [
    {
     "name": "stdout",
     "output_type": "stream",
     "text": [
      "3.144408\n",
      "0.002815346410206754\n"
     ]
    }
   ],
   "source": [
    "from pylab import *\n",
    "\n",
    "M = 0    # Antall prikker innafor sirkelen\n",
    "N = 1000000 # Antall prikker totalt\n",
    "\n",
    "for i in range(N):\n",
    "    x = uniform(-1,1)\n",
    "    y = uniform(-1,1)\n",
    "    if x**2 + y**2 <= 1:\n",
    "        M += 1\n",
    "\n",
    "A_kvadrat = 4\n",
    "A_sirkel = A_kvadrat*M/N\n",
    "\n",
    "print(A_sirkel)\n",
    "print(abs(A_sirkel-pi))"
   ]
  },
  {
   "cell_type": "code",
   "execution_count": 10,
   "metadata": {},
   "outputs": [
    {
     "name": "stdout",
     "output_type": "stream",
     "text": [
      "3.1413156\n",
      "0.00027705358979313033\n"
     ]
    }
   ],
   "source": [
    "from pylab import *\n",
    "\n",
    "M = 0\n",
    "N = 10000000\n",
    "\n",
    "x = uniform(-1,1,N)\n",
    "y = uniform(-1,1,N)\n",
    "\n",
    "for i in range(len(x)):\n",
    "    if x[i]**2 + y[i]**2 <= 1:\n",
    "        M += 1\n",
    "\n",
    "A_kvadrat = 4\n",
    "A_sirkel = A_kvadrat*M/N\n",
    "print(A_sirkel)\n",
    "print(abs(A_sirkel-pi))"
   ]
  }
 ],
 "metadata": {
  "kernelspec": {
   "display_name": "Python 3",
   "language": "python",
   "name": "python3"
  },
  "language_info": {
   "codemirror_mode": {
    "name": "ipython",
    "version": 3
   },
   "file_extension": ".py",
   "mimetype": "text/x-python",
   "name": "python",
   "nbconvert_exporter": "python",
   "pygments_lexer": "ipython3",
   "version": "3.8.3"
  }
 },
 "nbformat": 4,
 "nbformat_minor": 4
}
