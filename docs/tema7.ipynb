{
 "cells": [
  {
   "cell_type": "markdown",
   "metadata": {},
   "source": [
    "# Tema 7: Algoritmer"
   ]
  },
  {
   "cell_type": "code",
   "execution_count": 6,
   "metadata": {},
   "outputs": [
    {
     "name": "stdout",
     "output_type": "stream",
     "text": [
      "Rota av 12 er ca. 3.4641016200294548\n",
      "Det skulle vært 3.4641016151377544\n",
      "Feilen er: 4.89170037809572e-09\n"
     ]
    }
   ],
   "source": [
    "from pylab import *\n",
    "\n",
    "a = 12\n",
    "x = 3.5\n",
    "N = 2\n",
    "\n",
    "for i in range(N):\n",
    "    x = 0.5*(x + a/x)\n",
    "    \n",
    "print(\"Rota av\", a, \"er ca.\", x)\n",
    "print(\"Det skulle vært\", sqrt(a))\n",
    "print(\"Feilen er:\", abs(x-sqrt(a)))"
   ]
  },
  {
   "cell_type": "code",
   "execution_count": null,
   "metadata": {},
   "outputs": [],
   "source": []
  }
 ],
 "metadata": {
  "kernelspec": {
   "display_name": "Python 3",
   "language": "python",
   "name": "python3"
  },
  "language_info": {
   "codemirror_mode": {
    "name": "ipython",
    "version": 3
   },
   "file_extension": ".py",
   "mimetype": "text/x-python",
   "name": "python",
   "nbconvert_exporter": "python",
   "pygments_lexer": "ipython3",
   "version": "3.8.3"
  }
 },
 "nbformat": 4,
 "nbformat_minor": 4
}
