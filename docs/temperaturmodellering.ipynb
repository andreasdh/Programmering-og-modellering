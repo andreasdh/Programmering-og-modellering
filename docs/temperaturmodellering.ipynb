{
 "cells": [
  {
   "cell_type": "code",
   "execution_count": 1,
   "id": "obvious-deficit",
   "metadata": {},
   "outputs": [],
   "source": [
    "from pylab import *"
   ]
  },
  {
   "cell_type": "markdown",
   "id": "elect-installation",
   "metadata": {},
   "source": [
    "# Strålingsbalansen på jorda"
   ]
  },
  {
   "cell_type": "markdown",
   "id": "different-cleanup",
   "metadata": {},
   "source": [
    "Det som hovedsakelig varmer opp planeten vår, er sollys. Solen sender ut energi i form av elektromagnetisk stråling som treffer jordkloden. All elektromagnetisk stråling som treffer toppen av atmosfæren, har blitt målt til ca 1361 kW/m$^2$ Hvor mye energi som treffer toppen av atmosfæren er nesten konstant, og har bare variert med 0.2 prosent på 400 år. Strålingen blir kalt for _solkonstanten_."
   ]
  },
  {
   "cell_type": "markdown",
   "id": "chinese-failing",
   "metadata": {},
   "source": [
    "![sunlight_angle.png](https://www.uio.no/studier/emner/matnat/ifi/IN-KJM1900/h20/datafiler/sunlight_angle.png)"
   ]
  },
  {
   "cell_type": "markdown",
   "id": "considered-connecticut",
   "metadata": {},
   "source": [
    "![solar_insolation_planet_sphere_disk_600x320.png](https://www.uio.no/studier/emner/matnat/ifi/IN-KJM1900/h20/datafiler/solar_insolation_planet_sphere_disk_600x320.png)"
   ]
  },
  {
   "cell_type": "markdown",
   "id": "insured-banking",
   "metadata": {},
   "source": [
    "### Energi som treffer planeten\n",
    "\n",
    "$$ E_{inn} = K_s \\cdot \\pi R{_E}^2$$"
   ]
  },
  {
   "cell_type": "code",
   "execution_count": 2,
   "id": "psychological-instruction",
   "metadata": {},
   "outputs": [
    {
     "name": "stdout",
     "output_type": "stream",
     "text": [
      "Planeten blir truffet av 1.735e+17 W stråling\n"
     ]
    }
   ],
   "source": [
    "Ks  = 1361             #[watt per kvadratmeter] Solinnstråling\n",
    "radius_jorda = 6371000 #[m] Jorda\n",
    "\n",
    "e_inn = Ks * pi * radius_jorda**2\n",
    "\n",
    "print(f\"Planeten blir truffet av {e_inn:.3e} W stråling\")"
   ]
  },
  {
   "cell_type": "markdown",
   "id": "awful-transformation",
   "metadata": {},
   "source": [
    "### Energi inn i systemet\n",
    "\n",
    "$$E_{absorbert} = K_s \\cdot (1 - albedo) \\cdot \\pi R{_E}^2$$"
   ]
  },
  {
   "cell_type": "code",
   "execution_count": 4,
   "id": "agricultural-victor",
   "metadata": {},
   "outputs": [
    {
     "name": "stdout",
     "output_type": "stream",
     "text": [
      "Planeten absorberer 1.215e+17 W stråling\n"
     ]
    }
   ],
   "source": [
    "albedo = 0.30\n",
    "e_absorbert = Ks * (1-albedo) * pi * radius_jorda**2\n",
    "print (f\"Planeten absorberer {e_absorbert:.3e} W stråling\")"
   ]
  },
  {
   "cell_type": "markdown",
   "id": "romance-pharmacology",
   "metadata": {},
   "source": [
    "### Energi ut av systemet\n",
    "\n",
    "Stefan-Boltzmann loven: Hvor mye energi som blir sendt ut fra overfalten til et legeme per flatenhet og tidsenhet i form av varmestråling. \n",
    "\n",
    "$$\\phi=\\sigma T^4$$\n",
    "\n",
    "$\\sigma$ er Stefan-Boltzmann constant. $\\sigma = 5.670373 \\cdot 10^{-8} W / (m^2K^4)$\n",
    "\n",
    "$$E_{emittert} = \\sigma T^4 \\cdot 4\\pi R{_E}^2$$\n"
   ]
  },
  {
   "cell_type": "code",
   "execution_count": 5,
   "id": "unknown-evening",
   "metadata": {},
   "outputs": [],
   "source": [
    "sigma = 5.670373e-8"
   ]
  },
  {
   "cell_type": "markdown",
   "id": "collected-creature",
   "metadata": {},
   "source": [
    "### Energi inn = Energi ut\n",
    "\n",
    "\n",
    "På grunn av energiprinsippet, loven om at energi er konstant, må energi inn på planeten være det samme som energi ut.\n",
    "\n",
    "$$ E_{absorbert}= E_{emittert}$$\n",
    "\n",
    "$$ K_s \\cdot (1 - albedo) \\cdot \\pi R{_E}^2 = \\sigma T^4 \\cdot 4\\pi R{_E}^2$$\n",
    "\n",
    "$$T = \\sqrt[4]{\\frac{K_s\\cdot(1-albedo)}{4\\sigma}}$$\n"
   ]
  },
  {
   "cell_type": "code",
   "execution_count": 6,
   "id": "binary-absolute",
   "metadata": {},
   "outputs": [
    {
     "name": "stdout",
     "output_type": "stream",
     "text": [
      "Beregningen av gjennomsnittstemperaturen gir en temperatur på: -18.57 celsius\n"
     ]
    }
   ],
   "source": [
    "temperatur_kelvin = ((Ks*(1-albedo))/(4*sigma))**(1/4)\n",
    "temperatur_celsius = temperatur_kelvin - 273.15\n",
    "print (f\"Beregningen av gjennomsnittstemperaturen gir en temperatur på: {temperatur_celsius:.2f} celsius\")"
   ]
  },
  {
   "cell_type": "code",
   "execution_count": null,
   "id": "single-package",
   "metadata": {},
   "outputs": [],
   "source": []
  }
 ],
 "metadata": {
  "kernelspec": {
   "display_name": "Python 3",
   "language": "python",
   "name": "python3"
  },
  "language_info": {
   "codemirror_mode": {
    "name": "ipython",
    "version": 3
   },
   "file_extension": ".py",
   "mimetype": "text/x-python",
   "name": "python",
   "nbconvert_exporter": "python",
   "pygments_lexer": "ipython3",
   "version": "3.8.8"
  }
 },
 "nbformat": 4,
 "nbformat_minor": 5
}
